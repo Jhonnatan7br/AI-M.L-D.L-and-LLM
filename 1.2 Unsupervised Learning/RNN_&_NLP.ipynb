{
  "cells": [
    {
      "cell_type": "markdown",
      "id": "a3fa2d25-42a7-43d4-b6b0-6b677e98ac58",
      "metadata": {
        "id": "a3fa2d25-42a7-43d4-b6b0-6b677e98ac58"
      },
      "source": [
        "# Exercise 08 RNN & LSTM - Assignment\n",
        "\n",
        "<span style=\"color:red\">**The submission deadline of this assignment is 23/04/2024 23:59.**</span>\n",
        "\n",
        "<span style=\"color:red\">**Do not submit the saved `.pth` file of the trained CNN, because the file size is too big.**</span>\n",
        "\n",
        "## Pedagogy\n",
        "\n",
        "This notebook contains both theoretical explanations and executable cells to execute your code.\n",
        "\n",
        "When you see the <span style=\"color:red\">**[TBC]**</span> (To Be Completed) sign, it means that you need to perform an action else besides executing the cells of code that already exist. These actions can be:\n",
        "- Complete the code with proper comments\n",
        "- Respond to a question\n",
        "- Write an analysis\n",
        "- etc.\n",
        "\n",
        "## Requirement\n",
        "\n",
        "In this assignment, you are required to build a text-classifier using LSTM.\n",
        "\n",
        "The problem to be solved is to predict the class of a product based on the product page (title and description) on the E-commerce platform:\n",
        "\n",
        "|Class|Example product page|\n",
        "|-|-|\n",
        "|Books|Inner Engineering: A Yogi's Guide to Joy About the Author Sadhguru Jaggi VasudevSADHGURU is a yogi, mystic, and visionary who established the Isha Foundation, a nonprofit dedicated to the cultivation of human potential...|\n",
        "|Clothing & Accessories|Amour Butterfly Design Sunglasses For Girls 6+ Years { SKU16 } Amour Butterfly Design Sunglasses to give full protection. Very light weight. Highly durable. Its safe for kids eyes and give full eye protection against harmful uv rays...|\n",
        "|Electronics|Bluetooth Dongle USB CSR 4.0 Adapter Receiver Transfer Wireless Adapter for PC Computer Laptop Supports Windows 10 8.1 8 7 Vista XP - Upgraded Version...|\n",
        "|Household|Paper Plane Design Framed Wall Hanging Motivational Office Decor Art Prints (8.7 X 8.7 inch) - Set of 4 Painting made up in synthetic frame with uv textured print which gives multi effects and attracts towards it. This is an special series of paintings which makes your wall very beautiful and gives a royal touch...|\n",
        "\n",
        "<span style=\"color:red\">**[TBC]**</span> Please complete the following tasks:\n",
        "- Build the data pipeline\n",
        "- Create a LSTM-based text classifier\n",
        "- Train the network, save and reload the best one\n",
        "- Test and evaluation\n",
        "- Make predictions on unseen text (defined by yourself)"
      ]
    },
    {
      "cell_type": "markdown",
      "id": "60963915-5eda-4f40-bdb7-9b08b0f89f8a",
      "metadata": {
        "id": "60963915-5eda-4f40-bdb7-9b08b0f89f8a"
      },
      "source": [
        "## Import libraries"
      ]
    },
    {
      "cell_type": "code",
      "execution_count": 1,
      "id": "049b81b1-8cf6-457e-a2f5-7a43e528d90c",
      "metadata": {
        "id": "049b81b1-8cf6-457e-a2f5-7a43e528d90c"
      },
      "outputs": [],
      "source": [
        "# import libraries\n",
        "import os\n",
        "import datetime\n",
        "import warnings\n",
        "\n",
        "import torch\n",
        "import numpy as np\n",
        "import pandas as pd\n",
        "import matplotlib.pyplot as plt\n",
        "\n",
        "from tqdm import tqdm\n",
        "\n",
        "from sklearn.metrics import classification_report\n",
        "\n",
        "from torch import nn\n",
        "import torch\n",
        "import torch.nn as nn\n",
        "\n",
        "from torch.utils.data import TensorDataset, DataLoader, Dataset\n",
        "from torch.utils.data.dataset import random_split\n",
        "\n",
        "from torchtext.data.utils import get_tokenizer # for tokenization\n",
        "from torchtext.vocab import build_vocab_from_iterator # for creating vocabulary\n"
      ]
    },
    {
      "cell_type": "code",
      "execution_count": 2,
      "id": "u3qV2_5_Z3og",
      "metadata": {
        "id": "u3qV2_5_Z3og"
      },
      "outputs": [],
      "source": [
        "# suppress all warnings\n",
        "warnings.filterwarnings(\"ignore\")"
      ]
    },
    {
      "cell_type": "markdown",
      "id": "eb3e537c-8db5-474f-8446-7db6e7968b63",
      "metadata": {
        "id": "eb3e537c-8db5-474f-8446-7db6e7968b63"
      },
      "source": [
        "## Task 1. Build the data pipeline\n",
        "\n",
        "You are required to use `ecommerce_dataset.csv` which can be downloaded from the Learn Platform.\n",
        "\n",
        "<span style=\"color:red\">**[TBC]**</span> You need to:\n",
        "- Load the dataset from the `ecommerce_dataset.csv` file\n",
        "- Tokenization\n",
        "- Create the vocabulary\n",
        "- Cut/Pad each news articles to the same sequence length\n",
        "- Create the tensor dataset and dataloader for the training, validation, and test set"
      ]
    },
    {
      "cell_type": "code",
      "execution_count": 3,
      "id": "71d10586-4c4b-4f5d-a8ec-b3e28aa67c95",
      "metadata": {
        "colab": {
          "base_uri": "https://localhost:8080/",
          "height": 423
        },
        "id": "71d10586-4c4b-4f5d-a8ec-b3e28aa67c95",
        "outputId": "e2a3a7d6-4a01-41d6-ef41-7efae4e6cd06"
      },
      "outputs": [
        {
          "output_type": "execute_result",
          "data": {
            "text/plain": [
              "                                                    text  label\n",
              "0      Paper Plane Design Framed Wall Hanging Motivat...      3\n",
              "1      SAF 'Floral' Framed Painting (Wood, 30 inch x ...      3\n",
              "2      SAF 'UV Textured Modern Art Print Framed' Pain...      3\n",
              "3      SAF Flower Print Framed Painting (Synthetic, 1...      3\n",
              "4      Incredible Gifts India Wooden Happy Birthday U...      3\n",
              "...                                                  ...    ...\n",
              "50419  Strontium MicroSD Class 10 8GB Memory Card (Bl...      2\n",
              "50420  CrossBeats Wave Waterproof Bluetooth Wireless ...      2\n",
              "50421  Karbonn Titanium Wind W4 (White) Karbonn Titan...      2\n",
              "50422  Samsung Guru FM Plus (SM-B110E/D, Black) Colou...      2\n",
              "50423                   Micromax Canvas Win W121 (White)      2\n",
              "\n",
              "[50424 rows x 2 columns]"
            ],
            "text/html": [
              "\n",
              "  <div id=\"df-3e510e12-bb43-40b2-abfc-b9f153d15bb3\" class=\"colab-df-container\">\n",
              "    <div>\n",
              "<style scoped>\n",
              "    .dataframe tbody tr th:only-of-type {\n",
              "        vertical-align: middle;\n",
              "    }\n",
              "\n",
              "    .dataframe tbody tr th {\n",
              "        vertical-align: top;\n",
              "    }\n",
              "\n",
              "    .dataframe thead th {\n",
              "        text-align: right;\n",
              "    }\n",
              "</style>\n",
              "<table border=\"1\" class=\"dataframe\">\n",
              "  <thead>\n",
              "    <tr style=\"text-align: right;\">\n",
              "      <th></th>\n",
              "      <th>text</th>\n",
              "      <th>label</th>\n",
              "    </tr>\n",
              "  </thead>\n",
              "  <tbody>\n",
              "    <tr>\n",
              "      <th>0</th>\n",
              "      <td>Paper Plane Design Framed Wall Hanging Motivat...</td>\n",
              "      <td>3</td>\n",
              "    </tr>\n",
              "    <tr>\n",
              "      <th>1</th>\n",
              "      <td>SAF 'Floral' Framed Painting (Wood, 30 inch x ...</td>\n",
              "      <td>3</td>\n",
              "    </tr>\n",
              "    <tr>\n",
              "      <th>2</th>\n",
              "      <td>SAF 'UV Textured Modern Art Print Framed' Pain...</td>\n",
              "      <td>3</td>\n",
              "    </tr>\n",
              "    <tr>\n",
              "      <th>3</th>\n",
              "      <td>SAF Flower Print Framed Painting (Synthetic, 1...</td>\n",
              "      <td>3</td>\n",
              "    </tr>\n",
              "    <tr>\n",
              "      <th>4</th>\n",
              "      <td>Incredible Gifts India Wooden Happy Birthday U...</td>\n",
              "      <td>3</td>\n",
              "    </tr>\n",
              "    <tr>\n",
              "      <th>...</th>\n",
              "      <td>...</td>\n",
              "      <td>...</td>\n",
              "    </tr>\n",
              "    <tr>\n",
              "      <th>50419</th>\n",
              "      <td>Strontium MicroSD Class 10 8GB Memory Card (Bl...</td>\n",
              "      <td>2</td>\n",
              "    </tr>\n",
              "    <tr>\n",
              "      <th>50420</th>\n",
              "      <td>CrossBeats Wave Waterproof Bluetooth Wireless ...</td>\n",
              "      <td>2</td>\n",
              "    </tr>\n",
              "    <tr>\n",
              "      <th>50421</th>\n",
              "      <td>Karbonn Titanium Wind W4 (White) Karbonn Titan...</td>\n",
              "      <td>2</td>\n",
              "    </tr>\n",
              "    <tr>\n",
              "      <th>50422</th>\n",
              "      <td>Samsung Guru FM Plus (SM-B110E/D, Black) Colou...</td>\n",
              "      <td>2</td>\n",
              "    </tr>\n",
              "    <tr>\n",
              "      <th>50423</th>\n",
              "      <td>Micromax Canvas Win W121 (White)</td>\n",
              "      <td>2</td>\n",
              "    </tr>\n",
              "  </tbody>\n",
              "</table>\n",
              "<p>50424 rows × 2 columns</p>\n",
              "</div>\n",
              "    <div class=\"colab-df-buttons\">\n",
              "\n",
              "  <div class=\"colab-df-container\">\n",
              "    <button class=\"colab-df-convert\" onclick=\"convertToInteractive('df-3e510e12-bb43-40b2-abfc-b9f153d15bb3')\"\n",
              "            title=\"Convert this dataframe to an interactive table.\"\n",
              "            style=\"display:none;\">\n",
              "\n",
              "  <svg xmlns=\"http://www.w3.org/2000/svg\" height=\"24px\" viewBox=\"0 -960 960 960\">\n",
              "    <path d=\"M120-120v-720h720v720H120Zm60-500h600v-160H180v160Zm220 220h160v-160H400v160Zm0 220h160v-160H400v160ZM180-400h160v-160H180v160Zm440 0h160v-160H620v160ZM180-180h160v-160H180v160Zm440 0h160v-160H620v160Z\"/>\n",
              "  </svg>\n",
              "    </button>\n",
              "\n",
              "  <style>\n",
              "    .colab-df-container {\n",
              "      display:flex;\n",
              "      gap: 12px;\n",
              "    }\n",
              "\n",
              "    .colab-df-convert {\n",
              "      background-color: #E8F0FE;\n",
              "      border: none;\n",
              "      border-radius: 50%;\n",
              "      cursor: pointer;\n",
              "      display: none;\n",
              "      fill: #1967D2;\n",
              "      height: 32px;\n",
              "      padding: 0 0 0 0;\n",
              "      width: 32px;\n",
              "    }\n",
              "\n",
              "    .colab-df-convert:hover {\n",
              "      background-color: #E2EBFA;\n",
              "      box-shadow: 0px 1px 2px rgba(60, 64, 67, 0.3), 0px 1px 3px 1px rgba(60, 64, 67, 0.15);\n",
              "      fill: #174EA6;\n",
              "    }\n",
              "\n",
              "    .colab-df-buttons div {\n",
              "      margin-bottom: 4px;\n",
              "    }\n",
              "\n",
              "    [theme=dark] .colab-df-convert {\n",
              "      background-color: #3B4455;\n",
              "      fill: #D2E3FC;\n",
              "    }\n",
              "\n",
              "    [theme=dark] .colab-df-convert:hover {\n",
              "      background-color: #434B5C;\n",
              "      box-shadow: 0px 1px 3px 1px rgba(0, 0, 0, 0.15);\n",
              "      filter: drop-shadow(0px 1px 2px rgba(0, 0, 0, 0.3));\n",
              "      fill: #FFFFFF;\n",
              "    }\n",
              "  </style>\n",
              "\n",
              "    <script>\n",
              "      const buttonEl =\n",
              "        document.querySelector('#df-3e510e12-bb43-40b2-abfc-b9f153d15bb3 button.colab-df-convert');\n",
              "      buttonEl.style.display =\n",
              "        google.colab.kernel.accessAllowed ? 'block' : 'none';\n",
              "\n",
              "      async function convertToInteractive(key) {\n",
              "        const element = document.querySelector('#df-3e510e12-bb43-40b2-abfc-b9f153d15bb3');\n",
              "        const dataTable =\n",
              "          await google.colab.kernel.invokeFunction('convertToInteractive',\n",
              "                                                    [key], {});\n",
              "        if (!dataTable) return;\n",
              "\n",
              "        const docLinkHtml = 'Like what you see? Visit the ' +\n",
              "          '<a target=\"_blank\" href=https://colab.research.google.com/notebooks/data_table.ipynb>data table notebook</a>'\n",
              "          + ' to learn more about interactive tables.';\n",
              "        element.innerHTML = '';\n",
              "        dataTable['output_type'] = 'display_data';\n",
              "        await google.colab.output.renderOutput(dataTable, element);\n",
              "        const docLink = document.createElement('div');\n",
              "        docLink.innerHTML = docLinkHtml;\n",
              "        element.appendChild(docLink);\n",
              "      }\n",
              "    </script>\n",
              "  </div>\n",
              "\n",
              "\n",
              "<div id=\"df-fbec5d73-80d8-415c-b8ef-076aa45cb6b9\">\n",
              "  <button class=\"colab-df-quickchart\" onclick=\"quickchart('df-fbec5d73-80d8-415c-b8ef-076aa45cb6b9')\"\n",
              "            title=\"Suggest charts\"\n",
              "            style=\"display:none;\">\n",
              "\n",
              "<svg xmlns=\"http://www.w3.org/2000/svg\" height=\"24px\"viewBox=\"0 0 24 24\"\n",
              "     width=\"24px\">\n",
              "    <g>\n",
              "        <path d=\"M19 3H5c-1.1 0-2 .9-2 2v14c0 1.1.9 2 2 2h14c1.1 0 2-.9 2-2V5c0-1.1-.9-2-2-2zM9 17H7v-7h2v7zm4 0h-2V7h2v10zm4 0h-2v-4h2v4z\"/>\n",
              "    </g>\n",
              "</svg>\n",
              "  </button>\n",
              "\n",
              "<style>\n",
              "  .colab-df-quickchart {\n",
              "      --bg-color: #E8F0FE;\n",
              "      --fill-color: #1967D2;\n",
              "      --hover-bg-color: #E2EBFA;\n",
              "      --hover-fill-color: #174EA6;\n",
              "      --disabled-fill-color: #AAA;\n",
              "      --disabled-bg-color: #DDD;\n",
              "  }\n",
              "\n",
              "  [theme=dark] .colab-df-quickchart {\n",
              "      --bg-color: #3B4455;\n",
              "      --fill-color: #D2E3FC;\n",
              "      --hover-bg-color: #434B5C;\n",
              "      --hover-fill-color: #FFFFFF;\n",
              "      --disabled-bg-color: #3B4455;\n",
              "      --disabled-fill-color: #666;\n",
              "  }\n",
              "\n",
              "  .colab-df-quickchart {\n",
              "    background-color: var(--bg-color);\n",
              "    border: none;\n",
              "    border-radius: 50%;\n",
              "    cursor: pointer;\n",
              "    display: none;\n",
              "    fill: var(--fill-color);\n",
              "    height: 32px;\n",
              "    padding: 0;\n",
              "    width: 32px;\n",
              "  }\n",
              "\n",
              "  .colab-df-quickchart:hover {\n",
              "    background-color: var(--hover-bg-color);\n",
              "    box-shadow: 0 1px 2px rgba(60, 64, 67, 0.3), 0 1px 3px 1px rgba(60, 64, 67, 0.15);\n",
              "    fill: var(--button-hover-fill-color);\n",
              "  }\n",
              "\n",
              "  .colab-df-quickchart-complete:disabled,\n",
              "  .colab-df-quickchart-complete:disabled:hover {\n",
              "    background-color: var(--disabled-bg-color);\n",
              "    fill: var(--disabled-fill-color);\n",
              "    box-shadow: none;\n",
              "  }\n",
              "\n",
              "  .colab-df-spinner {\n",
              "    border: 2px solid var(--fill-color);\n",
              "    border-color: transparent;\n",
              "    border-bottom-color: var(--fill-color);\n",
              "    animation:\n",
              "      spin 1s steps(1) infinite;\n",
              "  }\n",
              "\n",
              "  @keyframes spin {\n",
              "    0% {\n",
              "      border-color: transparent;\n",
              "      border-bottom-color: var(--fill-color);\n",
              "      border-left-color: var(--fill-color);\n",
              "    }\n",
              "    20% {\n",
              "      border-color: transparent;\n",
              "      border-left-color: var(--fill-color);\n",
              "      border-top-color: var(--fill-color);\n",
              "    }\n",
              "    30% {\n",
              "      border-color: transparent;\n",
              "      border-left-color: var(--fill-color);\n",
              "      border-top-color: var(--fill-color);\n",
              "      border-right-color: var(--fill-color);\n",
              "    }\n",
              "    40% {\n",
              "      border-color: transparent;\n",
              "      border-right-color: var(--fill-color);\n",
              "      border-top-color: var(--fill-color);\n",
              "    }\n",
              "    60% {\n",
              "      border-color: transparent;\n",
              "      border-right-color: var(--fill-color);\n",
              "    }\n",
              "    80% {\n",
              "      border-color: transparent;\n",
              "      border-right-color: var(--fill-color);\n",
              "      border-bottom-color: var(--fill-color);\n",
              "    }\n",
              "    90% {\n",
              "      border-color: transparent;\n",
              "      border-bottom-color: var(--fill-color);\n",
              "    }\n",
              "  }\n",
              "</style>\n",
              "\n",
              "  <script>\n",
              "    async function quickchart(key) {\n",
              "      const quickchartButtonEl =\n",
              "        document.querySelector('#' + key + ' button');\n",
              "      quickchartButtonEl.disabled = true;  // To prevent multiple clicks.\n",
              "      quickchartButtonEl.classList.add('colab-df-spinner');\n",
              "      try {\n",
              "        const charts = await google.colab.kernel.invokeFunction(\n",
              "            'suggestCharts', [key], {});\n",
              "      } catch (error) {\n",
              "        console.error('Error during call to suggestCharts:', error);\n",
              "      }\n",
              "      quickchartButtonEl.classList.remove('colab-df-spinner');\n",
              "      quickchartButtonEl.classList.add('colab-df-quickchart-complete');\n",
              "    }\n",
              "    (() => {\n",
              "      let quickchartButtonEl =\n",
              "        document.querySelector('#df-fbec5d73-80d8-415c-b8ef-076aa45cb6b9 button');\n",
              "      quickchartButtonEl.style.display =\n",
              "        google.colab.kernel.accessAllowed ? 'block' : 'none';\n",
              "    })();\n",
              "  </script>\n",
              "</div>\n",
              "    </div>\n",
              "  </div>\n"
            ],
            "application/vnd.google.colaboratory.intrinsic+json": {
              "type": "dataframe",
              "variable_name": "ecomerce_data",
              "summary": "{\n  \"name\": \"ecomerce_data\",\n  \"rows\": 50424,\n  \"fields\": [\n    {\n      \"column\": \"text\",\n      \"properties\": {\n        \"dtype\": \"string\",\n        \"num_unique_values\": 27802,\n        \"samples\": [\n          \"Canon EOS 1500D Digital SLR Camera (Black) with EF S18-55 is II Lens/Camera Case Style name:EF S18-55   All camera users, even beginners, will be able to capture amazing images and movies with this DSLR camera, which is equipped with a 24.1-megapixel APS-C-size CMOS sensor and an optical viewfinder for an authentic DSLR shooting experience. Capturing sharp images is easy thanks to the fast, accurate AF and the large grip that provides a firm, steady hold on the camera. Built-in Wi-Fi / NFC connectivity enables the seamless upload of photos and videos to social media.\",\n          \"NIRVA Electric Automatic Yogurt Maker 1L Electronic Stainless Steel Mini Portable Yogurt Making Machine Yogurt Maker (Pink) Color Name:Pink   Add natural yogurt or culture to pre-boiled milk then get creative with flavors and ingredients. Fill yogurt with your favorite fruit or go for something a little naughtier such as chocolate chips \\u2013 the options are endless! to make yogurts just how you like them. Yogurt Maker automatically cools and ferments ingredients to create 100% natural healthy yogurt with no coloring's, preservatives or artificial flavors. Specification: Material: Plastic, 304 Stainless Steel Voltage: 220V/50Hz(please note if it fits your country standard) Power: 15W Frequency: 50Hz Capacity: 1L(approx) Feature: Make fresh and healthy yogurt in your own home quickly and easily, with the flip of a switch. 360\\u00b0stereo fermentation guarantee the taste of yogurt smooth and fine, mellow and fresh. Made from food grade quality materials, safe and harmless, way to use and eat yogurt. Auto control. You can just put the material inside, close the lid and power on to make the machine work. You can just put the material inside, close the lid and power on to make the machine work. Wih the help of it, you can make fresh yogurt at home by yourself quickly and easily.How To Use Step 1) Pour Fresh Milk into the stainless steel Container, Step 2) Add 2-3 table spoon of fresh plain Yogurt or 1 gram of yeast, Step 3) Switch on the maker and leave it for 8-9 hours, Step 4) After 8-9 hours, Your Yogurt is ready\",\n          \"SHOPTOSHOP Plastic Lint Cum Fuzz Remover for All Woolenss (Multicolour) Lint remover,remove the fuzz instantly without damaging clothes. It is made of plastic.\"\n        ],\n        \"semantic_type\": \"\",\n        \"description\": \"\"\n      }\n    },\n    {\n      \"column\": \"label\",\n      \"properties\": {\n        \"dtype\": \"number\",\n        \"std\": 1,\n        \"min\": 0,\n        \"max\": 3,\n        \"num_unique_values\": 4,\n        \"samples\": [\n          0,\n          2,\n          3\n        ],\n        \"semantic_type\": \"\",\n        \"description\": \"\"\n      }\n    }\n  ]\n}"
            }
          },
          "metadata": {},
          "execution_count": 3
        }
      ],
      "source": [
        "# Importing Data\n",
        "\n",
        "ecomerce_data = 'https://raw.githubusercontent.com/Jhonnatan7br/AI-M.L-D.L-and-LLM/main/2.%20Deep_Learning%20-%20Guides%20-%20Tianyuan%20ZHANG%20ML%20Course/data/RNN%20sets/ecommerce_dataset.csv'\n",
        "ecomerce_data = pd.read_csv(ecomerce_data,  sep=\",\")\n",
        "\n",
        "ecomerce_data"
      ]
    },
    {
      "cell_type": "code",
      "execution_count": null,
      "id": "IAPNH2-oz_z6",
      "metadata": {
        "id": "IAPNH2-oz_z6"
      },
      "outputs": [],
      "source": [
        "###"
      ]
    },
    {
      "cell_type": "code",
      "execution_count": 4,
      "id": "NeKeH4TNx_1B",
      "metadata": {
        "id": "NeKeH4TNx_1B"
      },
      "outputs": [],
      "source": [
        "# get the tokenizer\n",
        "tokenizer = get_tokenizer('basic_english')\n",
        "\n",
        "# define an intertor function to perform tokenization\n",
        "def yield_tokens(df, tokenizer):\n",
        "    for i in range(len(df)):\n",
        "        yield tokenizer(df['text'].values[i])\n",
        "\n",
        "# create the vocabulary\n",
        "vocab = build_vocab_from_iterator(yield_tokens(ecomerce_data, tokenizer), specials = ['<unk>'])\n",
        "vocab.set_default_index(vocab['<unk>'])\n",
        "\n",
        "# Map classes to numerical labels\n",
        "class_to_label = {\n",
        "    'Books': 0,\n",
        "    'Clothing & Accessories': 1,\n",
        "    'Electronics': 2,\n",
        "    'Household': 3\n",
        "}"
      ]
    },
    {
      "cell_type": "code",
      "execution_count": 5,
      "id": "8JJQyFpvyN0h",
      "metadata": {
        "colab": {
          "base_uri": "https://localhost:8080/"
        },
        "id": "8JJQyFpvyN0h",
        "outputId": "6e0dc57b-c17b-446d-f90c-5dd7cc9e90cb"
      },
      "outputs": [
        {
          "output_type": "stream",
          "name": "stdout",
          "text": [
            "The number of unique tokens in the vocabulary: 110481\n"
          ]
        }
      ],
      "source": [
        "# print the number of unique tokens in the vocabulary\n",
        "print('The number of unique tokens in the vocabulary:', len(vocab))"
      ]
    },
    {
      "cell_type": "code",
      "execution_count": 6,
      "id": "ZWdkXhi_yRoh",
      "metadata": {
        "colab": {
          "base_uri": "https://localhost:8080/"
        },
        "id": "ZWdkXhi_yRoh",
        "outputId": "21135e5a-5274-43de-8303-59ba3fa0a447"
      },
      "outputs": [
        {
          "output_type": "stream",
          "name": "stdout",
          "text": [
            "The shape of input: (50424, 20)\n",
            "The shape of label: (50424,)\n"
          ]
        }
      ],
      "source": [
        "# cut/pad all news articles to the same sequence length\n",
        "seq_length = 20 # number of tokens in the sequence for each news articles\n",
        "X = []\n",
        "for i in range(len(ecomerce_data)):\n",
        "    text = ecomerce_data['text'].values[i]\n",
        "    text = vocab(tokenizer(text))\n",
        "    if len(text) < seq_length:\n",
        "        text = text + [0] * (seq_length - len(text)) # pad the sequence with 0\n",
        "    else:\n",
        "        text = text[:seq_length] # cut the sequence to the pre-defined length\n",
        "    X.append(text)\n",
        "X = np.array(X)\n",
        "print('The shape of input:', X.shape)\n",
        "y = ecomerce_data['label'].values\n",
        "print('The shape of label:', y.shape)"
      ]
    },
    {
      "cell_type": "code",
      "execution_count": 7,
      "id": "_e21J6JqyhGm",
      "metadata": {
        "id": "_e21J6JqyhGm"
      },
      "outputs": [],
      "source": [
        "# create the tensor dataset\n",
        "ecomerce_data = TensorDataset(\n",
        "    torch.tensor(X, dtype = torch.int64),\n",
        "    torch.tensor(y, dtype = torch.int64)\n",
        ")"
      ]
    },
    {
      "cell_type": "code",
      "execution_count": 8,
      "id": "ZEUtEJKASbw0",
      "metadata": {
        "id": "ZEUtEJKASbw0"
      },
      "outputs": [],
      "source": [
        "# split the dataset into the training, validation, and test set\n",
        "total_count = len(ecomerce_data)\n",
        "train_count = int(0.7 * total_count)\n",
        "val_count = int(0.2 * total_count)\n",
        "test_count = total_count - (train_count + val_count)\n",
        "\n",
        "train_ds, val_ds, test_ds = random_split(ecomerce_data, [train_count, val_count,test_count])"
      ]
    },
    {
      "cell_type": "code",
      "execution_count": null,
      "id": "hV2b9CBbzNk_",
      "metadata": {
        "colab": {
          "base_uri": "https://localhost:8080/",
          "height": 36
        },
        "id": "hV2b9CBbzNk_",
        "outputId": "091e59e0-eeae-414e-9100-e65c572be587"
      },
      "outputs": [
        {
          "output_type": "execute_result",
          "data": {
            "text/plain": [
              "'train_val_ds, test_ds = random_split(ag_news_ds, [0.7, 0.3])\\ntrain_ds, val_ds = random_split(train_val_ds, [0.8, 0.2])'"
            ],
            "application/vnd.google.colaboratory.intrinsic+json": {
              "type": "string"
            }
          },
          "metadata": {},
          "execution_count": 11
        }
      ],
      "source": [
        "# split the dataset into the training, validation, and test set\n",
        "\"\"\"train_val_ds, test_ds = random_split(ag_news_ds, [0.7, 0.3])\n",
        "train_ds, val_ds = random_split(train_val_ds, [0.8, 0.2])\"\"\""
      ]
    },
    {
      "cell_type": "code",
      "execution_count": 9,
      "id": "O4KQfwgwyzFS",
      "metadata": {
        "id": "O4KQfwgwyzFS"
      },
      "outputs": [],
      "source": [
        "# create the training, validation, and test data loaders\n",
        "batch_size = 512 # usually set to 2 to the nth power\n",
        "train_dl = DataLoader(train_ds, batch_size = batch_size, shuffle = True)\n",
        "val_dl = DataLoader(val_ds, batch_size = batch_size, shuffle = False)\n",
        "test_dl = DataLoader(test_ds, batch_size = batch_size, shuffle = False)"
      ]
    },
    {
      "cell_type": "code",
      "execution_count": 11,
      "id": "ctbyQWdVdcy_",
      "metadata": {
        "colab": {
          "base_uri": "https://localhost:8080/"
        },
        "id": "ctbyQWdVdcy_",
        "outputId": "790386d6-4023-4675-9238-932edb1ec2c1"
      },
      "outputs": [
        {
          "output_type": "stream",
          "name": "stdout",
          "text": [
            "torch.Size([512, 20])\n",
            "torch.Size([512])\n"
          ]
        }
      ],
      "source": [
        "# get one batch and print its shape\n",
        "for batch in train_dl:\n",
        "    print(batch[0].shape)\n",
        "    print(batch[1].shape)\n",
        "    break"
      ]
    },
    {
      "cell_type": "code",
      "execution_count": 12,
      "id": "UskR-h0c5cFS",
      "metadata": {
        "colab": {
          "base_uri": "https://localhost:8080/"
        },
        "id": "UskR-h0c5cFS",
        "outputId": "0a06cb1f-c352-4e78-c367-e8c6ac30c226"
      },
      "outputs": [
        {
          "output_type": "stream",
          "name": "stdout",
          "text": [
            "torch.Size([512, 20])\n",
            "torch.Size([512])\n"
          ]
        }
      ],
      "source": [
        "# get one batch and print its shape\n",
        "for batch in val_dl:\n",
        "    print(batch[0].shape)\n",
        "    print(batch[1].shape)\n",
        "    break"
      ]
    },
    {
      "cell_type": "markdown",
      "id": "b1d8cfb7-7892-4e14-9332-082cca585e6b",
      "metadata": {
        "id": "b1d8cfb7-7892-4e14-9332-082cca585e6b"
      },
      "source": [
        "## Task 2. Create a text-classifier using LSTM.\n",
        "\n",
        "<span style=\"color:red\">**[TBC]**</span> You need to:\n",
        "- Define a custom class to specify the structure and the forward method of the network\n",
        "    - You are required to use `nn.LSTM()` layer in the network\n",
        "- Specify the device used for computation\n",
        "- Create an instance of the network and move it to the corresponding device"
      ]
    },
    {
      "cell_type": "code",
      "execution_count": 13,
      "id": "08ad5dfa-45d0-4d34-8b9b-dd56b622c053",
      "metadata": {
        "id": "08ad5dfa-45d0-4d34-8b9b-dd56b622c053"
      },
      "outputs": [],
      "source": [
        "class LSTMClassifier(nn.Module):\n",
        "    def __init__(self, num_embeddings, embedding_dim, hidden_size, num_class, num_layers=1, bidirectional=False, dropout=0.02):\n",
        "        super(LSTMClassifier, self).__init__()\n",
        "\n",
        "        self.embedding = nn.Embedding(num_embeddings, embedding_dim)\n",
        "        self.lstm = nn.LSTM(embedding_dim, hidden_size, num_layers=num_layers, bidirectional=bidirectional, dropout=dropout, batch_first=True)\n",
        "        self.fc = nn.Linear(hidden_size * 2 if bidirectional else hidden_size, num_class)\n",
        "        self.dropout = nn.Dropout(dropout)\n",
        "\n",
        "    def forward(self, text):\n",
        "        embedded = self.dropout(self.embedding(text))\n",
        "        lstm_output, (hidden, cell) = self.lstm(embedded)\n",
        "        if self.lstm.bidirectional:\n",
        "            hidden = self.dropout(torch.cat((hidden[-2,:,:], hidden[-1,:,:]), dim=1))\n",
        "        else:\n",
        "            hidden = self.dropout(hidden[-1,:,:])\n",
        "        output = self.fc(hidden)\n",
        "        return output\n"
      ]
    },
    {
      "cell_type": "code",
      "execution_count": 14,
      "id": "BzvJr6kQgBbj",
      "metadata": {
        "colab": {
          "base_uri": "https://localhost:8080/"
        },
        "id": "BzvJr6kQgBbj",
        "outputId": "ecd9e112-410c-4ae4-9a43-3f64b959904a"
      },
      "outputs": [
        {
          "output_type": "stream",
          "name": "stdout",
          "text": [
            "Using cpu device\n"
          ]
        }
      ],
      "source": [
        "# get cpu, gpu or mps device for computation\n",
        "device = (\n",
        "    \"cuda\"\n",
        "    if torch.cuda.is_available()\n",
        "    else \"mps\"\n",
        "    if torch.backends.mps.is_available()\n",
        "    else \"cpu\"\n",
        ")\n",
        "print(f\"Using {device} device\")"
      ]
    },
    {
      "cell_type": "code",
      "execution_count": 16,
      "id": "zDJIo4BOgMAY",
      "metadata": {
        "id": "zDJIo4BOgMAY"
      },
      "outputs": [],
      "source": [
        "# Create the neural network\n",
        "# Create an instance of the network and move it to the corresponding device\n",
        "vocab_size = len(vocab)\n",
        "embedding_dim = 64  # Adjust as per your choice\n",
        "hidden_size = 32  # Adjust as per your choice\n",
        "num_class = len(class_to_label)  # Number of classes\n",
        "num_layers = 2  # Number of LSTM layers\n",
        "bidirectional = True  # Whether to use bidirectional LSTM\n",
        "dropout = 0.2  # Dropout probability\n",
        "\n",
        "model = LSTMClassifier(vocab_size, embedding_dim, hidden_size, num_class, num_layers, bidirectional, dropout).to(device)"
      ]
    },
    {
      "cell_type": "markdown",
      "id": "fcb057a4-8a3c-4c50-802b-c1987342d458",
      "metadata": {
        "id": "fcb057a4-8a3c-4c50-802b-c1987342d458"
      },
      "source": [
        "## Task 3. Train the network, save and reload the best one\n",
        "\n",
        "<span style=\"color:red\">**[TBC]**</span> You need to:\n",
        "- Define a `train()` function\n",
        "    - <span style=\"color:red\">**Do not submit the saved file as it will be too big.**</span>\n",
        "- Train the network\n",
        "- Reload the best model after training\n",
        "- Plot the loss history of the training process"
      ]
    },
    {
      "cell_type": "code",
      "source": [
        "from datetime import datetime\n",
        "\n",
        "def train(model, train_dl, val_dl, optimizer, criterion, num_epochs=10, device='cpu', save_path='best_model.pt', early_stopping_patience=10, lr_scheduler=None):\n",
        "    train_losses = []\n",
        "    val_losses = []\n",
        "    min_val_loss = float('inf')\n",
        "    patience_counter = 0\n",
        "    saved_path = save_path\n",
        "\n",
        "    for epoch in range(num_epochs):\n",
        "        start_time = datetime.now()\n",
        "        model.train()\n",
        "        train_loss = 0.0\n",
        "        for batch in train_dl:\n",
        "            optimizer.zero_grad()\n",
        "            inputs = batch[0].to(device)  # Accessing input data\n",
        "            labels = batch[1].to(device)  # Accessing labels\n",
        "            outputs = model(inputs)\n",
        "            loss = criterion(outputs, labels)\n",
        "            loss.backward()\n",
        "            optimizer.step()\n",
        "            train_loss += loss.item() * inputs.size(0)\n",
        "        train_epoch_loss = train_loss / len(train_dl.dataset)\n",
        "        train_losses.append(train_epoch_loss)\n",
        "\n",
        "        model.eval()\n",
        "        val_loss = 0.0\n",
        "        with torch.no_grad():\n",
        "            for batch in val_dl:\n",
        "                inputs = batch[0].to(device)  # Accessing input data\n",
        "                labels = batch[1].to(device)  # Accessing labels\n",
        "                outputs = model(inputs)\n",
        "                loss = criterion(outputs, labels)\n",
        "                val_loss += loss.item() * inputs.size(0)\n",
        "            val_epoch_loss = val_loss / len(val_dl.dataset)\n",
        "            val_losses.append(val_epoch_loss)\n",
        "\n",
        "            end_time = datetime.now()\n",
        "            time_consumed = str(end_time - start_time).split('.')[0]\n",
        "            print(f\"Epoch {epoch + 1}: train loss = {train_epoch_loss:>5f}, val loss = {val_epoch_loss:>5f}, time consumed = {time_consumed}\")\n",
        "\n",
        "            current_lr = optimizer.param_groups[0]['lr']\n",
        "            if lr_scheduler is not None:\n",
        "                lr_scheduler.step(val_epoch_loss)\n",
        "                if current_lr != optimizer.param_groups[0]['lr']:\n",
        "                    print(f'Learning rate reduced after epoch {epoch+1}')\n",
        "\n",
        "            if val_epoch_loss < min_val_loss:\n",
        "                min_val_loss, patience_counter = val_epoch_loss, 0\n",
        "                if os.path.exists(saved_path):\n",
        "                    os.remove(saved_path)\n",
        "                time_str = end_time.strftime(\"%Y-%m-%d_%H-%M-%S\")\n",
        "                saved_path = f'epoch_{epoch+1}_val_loss_{val_epoch_loss:>4f}_{time_str}.pth'\n",
        "                torch.save(model.state_dict(), saved_path)\n",
        "                print(f'Model saved after epoch {epoch+1}')\n",
        "            else:\n",
        "                patience_counter += 1\n",
        "                if patience_counter >= early_stopping_patience:\n",
        "                    print('Early stopping!')\n",
        "                    break\n",
        "\n",
        "    return train_losses, val_losses\n"
      ],
      "metadata": {
        "id": "qltFrhtx7oHV"
      },
      "id": "qltFrhtx7oHV",
      "execution_count": 17,
      "outputs": []
    },
    {
      "cell_type": "code",
      "execution_count": null,
      "id": "QBEdGnd2p6Af",
      "metadata": {
        "id": "QBEdGnd2p6Af"
      },
      "outputs": [],
      "source": [
        "\"\"\"\n",
        "# Define training hyperparameters\n",
        "loss_fn = nn.CrossEntropyLoss()\n",
        "learning_rate = 1e-1\n",
        "weight_decay = 1e-5\n",
        "optimizer = torch.optim.SGD(\n",
        "    model.parameters(),\n",
        "    lr=learning_rate,\n",
        "    weight_decay=weight_decay\n",
        ")\n",
        "epochs = 1000\n",
        "early_stopping_patience = 10\n",
        "lr_scheduler = torch.optim.lr_scheduler.ReduceLROnPlateau(\n",
        "    optimizer,\n",
        "    mode='min',\n",
        "    factor=0.1,\n",
        "    patience=5\n",
        ")\n",
        "\n",
        "# Train the Network\n",
        "train_losses, val_losses = train(model, train_dl, val_dl, optimizer, loss_fn, num_epochs=epochs, device=device, early_stopping_patience=early_stopping_patience, lr_scheduler=lr_scheduler)\n",
        "\"\"\""
      ]
    },
    {
      "cell_type": "code",
      "source": [
        "import torch\n",
        "import torch.nn as nn\n",
        "\n",
        "# Define training hyperparameters\n",
        "loss_fn = nn.CrossEntropyLoss()\n",
        "learning_rate = 0.0000001  # Adjusted initial learning rate\n",
        "weight_decay = 1e-10  # Reduced weight decay\n",
        "optimizer = torch.optim.Adam(  # Changed optimizer to Adam\n",
        "    model.parameters(),\n",
        "    lr=learning_rate,\n",
        "    weight_decay=weight_decay\n",
        ")\n",
        "epochs = 50\n",
        "early_stopping_patience = 2  # Reduced patience for early stopping\n",
        "lr_scheduler = torch.optim.lr_scheduler.ReduceLROnPlateau(\n",
        "    optimizer,\n",
        "    mode='min',\n",
        "    factor=0.1,\n",
        "    patience=3  # Adjusted patience for LR scheduler\n",
        ")\n",
        "\n",
        "# Train the Network\n",
        "train_losses, val_losses = train(model, train_dl, val_dl, optimizer, loss_fn, num_epochs=epochs, device=device, early_stopping_patience=early_stopping_patience, lr_scheduler=lr_scheduler)\n",
        "\n"
      ],
      "metadata": {
        "colab": {
          "base_uri": "https://localhost:8080/"
        },
        "id": "6l3trc_fteHl",
        "outputId": "90b97ff8-f6ff-487c-97c7-3fcc95588676"
      },
      "id": "6l3trc_fteHl",
      "execution_count": 19,
      "outputs": [
        {
          "output_type": "stream",
          "name": "stdout",
          "text": [
            "Epoch 1: train loss = 1.369756, val loss = 1.369096, time consumed = 0:00:22\n",
            "Model saved after epoch 1\n",
            "Epoch 2: train loss = 1.369690, val loss = 1.369062, time consumed = 0:00:22\n",
            "Model saved after epoch 2\n",
            "Epoch 3: train loss = 1.369831, val loss = 1.369028, time consumed = 0:00:22\n",
            "Model saved after epoch 3\n",
            "Epoch 4: train loss = 1.369644, val loss = 1.368995, time consumed = 0:00:21\n",
            "Model saved after epoch 4\n",
            "Epoch 5: train loss = 1.369685, val loss = 1.368961, time consumed = 0:00:25\n",
            "Learning rate reduced after epoch 5\n",
            "Model saved after epoch 5\n",
            "Epoch 6: train loss = 1.369837, val loss = 1.368957, time consumed = 0:00:21\n",
            "Model saved after epoch 6\n",
            "Epoch 7: train loss = 1.369631, val loss = 1.368954, time consumed = 0:00:20\n",
            "Model saved after epoch 7\n",
            "Epoch 8: train loss = 1.369780, val loss = 1.368951, time consumed = 0:00:22\n",
            "Model saved after epoch 8\n",
            "Epoch 9: train loss = 1.369669, val loss = 1.368947, time consumed = 0:00:21\n",
            "Model saved after epoch 9\n",
            "Epoch 10: train loss = 1.369856, val loss = 1.368944, time consumed = 0:00:21\n",
            "Model saved after epoch 10\n",
            "Epoch 11: train loss = 1.369353, val loss = 1.368940, time consumed = 0:00:20\n",
            "Model saved after epoch 11\n",
            "Epoch 12: train loss = 1.369865, val loss = 1.368937, time consumed = 0:00:20\n",
            "Model saved after epoch 12\n",
            "Epoch 13: train loss = 1.369600, val loss = 1.368933, time consumed = 0:00:21\n",
            "Model saved after epoch 13\n",
            "Epoch 14: train loss = 1.369758, val loss = 1.368930, time consumed = 0:00:21\n",
            "Model saved after epoch 14\n",
            "Epoch 15: train loss = 1.369737, val loss = 1.368927, time consumed = 0:00:20\n",
            "Model saved after epoch 15\n",
            "Epoch 16: train loss = 1.369394, val loss = 1.368923, time consumed = 0:00:21\n",
            "Model saved after epoch 16\n",
            "Epoch 17: train loss = 1.369730, val loss = 1.368920, time consumed = 0:00:21\n",
            "Model saved after epoch 17\n",
            "Epoch 18: train loss = 1.369588, val loss = 1.368916, time consumed = 0:00:20\n",
            "Model saved after epoch 18\n",
            "Epoch 19: train loss = 1.369477, val loss = 1.368913, time consumed = 0:00:20\n",
            "Model saved after epoch 19\n",
            "Epoch 20: train loss = 1.369655, val loss = 1.368910, time consumed = 0:00:21\n",
            "Model saved after epoch 20\n",
            "Epoch 21: train loss = 1.369580, val loss = 1.368906, time consumed = 0:00:29\n",
            "Model saved after epoch 21\n",
            "Epoch 22: train loss = 1.369757, val loss = 1.368903, time consumed = 0:00:22\n",
            "Model saved after epoch 22\n",
            "Epoch 23: train loss = 1.369609, val loss = 1.368899, time consumed = 0:00:22\n",
            "Model saved after epoch 23\n",
            "Epoch 24: train loss = 1.369727, val loss = 1.368896, time consumed = 0:00:22\n",
            "Model saved after epoch 24\n",
            "Epoch 25: train loss = 1.369655, val loss = 1.368893, time consumed = 0:00:20\n",
            "Model saved after epoch 25\n",
            "Epoch 26: train loss = 1.369623, val loss = 1.368889, time consumed = 0:00:21\n",
            "Model saved after epoch 26\n",
            "Epoch 27: train loss = 1.369746, val loss = 1.368886, time consumed = 0:00:20\n",
            "Model saved after epoch 27\n",
            "Epoch 28: train loss = 1.369399, val loss = 1.368882, time consumed = 0:00:21\n",
            "Model saved after epoch 28\n",
            "Epoch 29: train loss = 1.369867, val loss = 1.368879, time consumed = 0:00:20\n",
            "Model saved after epoch 29\n",
            "Epoch 30: train loss = 1.369365, val loss = 1.368875, time consumed = 0:00:21\n",
            "Model saved after epoch 30\n",
            "Epoch 31: train loss = 1.369782, val loss = 1.368872, time consumed = 0:00:21\n",
            "Model saved after epoch 31\n",
            "Epoch 32: train loss = 1.369511, val loss = 1.368869, time consumed = 0:00:21\n",
            "Model saved after epoch 32\n",
            "Epoch 33: train loss = 1.369677, val loss = 1.368865, time consumed = 0:00:20\n",
            "Model saved after epoch 33\n",
            "Epoch 34: train loss = 1.369409, val loss = 1.368862, time consumed = 0:00:20\n",
            "Model saved after epoch 34\n",
            "Epoch 35: train loss = 1.369687, val loss = 1.368858, time consumed = 0:00:21\n",
            "Model saved after epoch 35\n",
            "Epoch 36: train loss = 1.369735, val loss = 1.368855, time consumed = 0:00:20\n",
            "Model saved after epoch 36\n",
            "Epoch 37: train loss = 1.369954, val loss = 1.368852, time consumed = 0:00:21\n",
            "Model saved after epoch 37\n",
            "Epoch 38: train loss = 1.369730, val loss = 1.368848, time consumed = 0:00:21\n",
            "Model saved after epoch 38\n",
            "Epoch 39: train loss = 1.369388, val loss = 1.368845, time consumed = 0:00:21\n",
            "Model saved after epoch 39\n",
            "Epoch 40: train loss = 1.369637, val loss = 1.368841, time consumed = 0:00:21\n",
            "Model saved after epoch 40\n",
            "Epoch 41: train loss = 1.369555, val loss = 1.368838, time consumed = 0:00:20\n",
            "Model saved after epoch 41\n",
            "Epoch 42: train loss = 1.369396, val loss = 1.368834, time consumed = 0:00:21\n",
            "Model saved after epoch 42\n",
            "Epoch 43: train loss = 1.369466, val loss = 1.368831, time consumed = 0:00:20\n",
            "Model saved after epoch 43\n",
            "Epoch 44: train loss = 1.370006, val loss = 1.368828, time consumed = 0:00:21\n",
            "Model saved after epoch 44\n",
            "Epoch 45: train loss = 1.369597, val loss = 1.368824, time consumed = 0:00:21\n",
            "Model saved after epoch 45\n",
            "Epoch 46: train loss = 1.369588, val loss = 1.368821, time consumed = 0:00:21\n",
            "Model saved after epoch 46\n",
            "Epoch 47: train loss = 1.369320, val loss = 1.368817, time consumed = 0:00:20\n",
            "Model saved after epoch 47\n",
            "Epoch 48: train loss = 1.369642, val loss = 1.368814, time consumed = 0:00:21\n",
            "Model saved after epoch 48\n",
            "Epoch 49: train loss = 1.369296, val loss = 1.368811, time consumed = 0:00:21\n",
            "Model saved after epoch 49\n",
            "Epoch 50: train loss = 1.369373, val loss = 1.368807, time consumed = 0:00:21\n",
            "Model saved after epoch 50\n"
          ]
        }
      ]
    },
    {
      "cell_type": "code",
      "source": [
        "import os\n",
        "\n",
        "best_model_path = '/content/epoch_9_val_loss_1.369130_2024-04-19_09-40-15.pth'\n",
        "if os.path.exists(best_model_path):\n",
        "    best_model.load_state_dict(torch.load(best_model_path))\n",
        "    best_model.eval()\n",
        "    print(\"Best model loaded successfully.\")\n",
        "else:\n",
        "    print(f\"Error: '{best_model_path}' not found.\")\n"
      ],
      "metadata": {
        "colab": {
          "base_uri": "https://localhost:8080/"
        },
        "id": "36o4bxI50gRj",
        "outputId": "e1ebbe0b-8357-4696-c52b-6b79f5f0d748"
      },
      "id": "36o4bxI50gRj",
      "execution_count": 62,
      "outputs": [
        {
          "output_type": "stream",
          "name": "stdout",
          "text": [
            "Best model loaded successfully.\n"
          ]
        }
      ]
    },
    {
      "cell_type": "code",
      "execution_count": 31,
      "id": "iu-LNl4PkdYv",
      "metadata": {
        "colab": {
          "base_uri": "https://localhost:8080/"
        },
        "id": "iu-LNl4PkdYv",
        "outputId": "9f851e10-ac59-4d88-8092-2b59c9cfab35"
      },
      "outputs": [
        {
          "output_type": "execute_result",
          "data": {
            "text/plain": [
              "LSTMClassifier(\n",
              "  (embedding): Embedding(110481, 64)\n",
              "  (lstm): LSTM(64, 32, num_layers=2, batch_first=True, dropout=0.2, bidirectional=True)\n",
              "  (fc): Linear(in_features=64, out_features=4, bias=True)\n",
              "  (dropout): Dropout(p=0.2, inplace=False)\n",
              ")"
            ]
          },
          "metadata": {},
          "execution_count": 31
        }
      ],
      "source": [
        "\n",
        "# Reload the best model after training\n",
        "best_model = LSTMClassifier(vocab_size, embedding_dim, hidden_size, num_class, num_layers, bidirectional, dropout).to(device)\n",
        "best_model.load_state_dict(torch.load(best_model_path))\n",
        "best_model.eval()\n"
      ]
    },
    {
      "cell_type": "code",
      "execution_count": 64,
      "id": "EtM1S5S5kgBl",
      "metadata": {
        "id": "EtM1S5S5kgBl",
        "colab": {
          "base_uri": "https://localhost:8080/",
          "height": 449
        },
        "outputId": "382330ea-4354-44c2-d827-574eb1a5d057"
      },
      "outputs": [
        {
          "output_type": "display_data",
          "data": {
            "text/plain": [
              "<Figure size 640x480 with 1 Axes>"
            ],
            "image/png": "[encoded data removed]"
          },
          "metadata": {}
        }
      ],
      "source": [
        "# Plot the loss history\n",
        "plt.plot(train_losses, label='Train Loss')\n",
        "plt.plot(val_losses, label='Validation Loss')\n",
        "plt.xlabel('Epoch')\n",
        "plt.ylabel('Loss')\n",
        "plt.legend()\n",
        "plt.show()\n",
        "\n",
        "# NOTE: With more epochs the model will improve its performance"
      ]
    },
    {
      "cell_type": "markdown",
      "id": "4d6cba60-fdb2-4439-bcda-cb4d4fd76c39",
      "metadata": {
        "id": "4d6cba60-fdb2-4439-bcda-cb4d4fd76c39"
      },
      "source": [
        "## Task 4. Test and evaluation\n",
        "\n",
        "<span style=\"color:red\">**[TBC]**</span> You need to:\n",
        "- Define the `test()` function\n",
        "    - Output logits, probabilities and predictions\n",
        "    - Output the loss value on the test set\n",
        "- Make predictions on the test dataset\n",
        "- Evaluate the performance\n",
        "    - Use `sklearn.metrics.classification_report()`"
      ]
    },
    {
      "cell_type": "code",
      "execution_count": 33,
      "id": "50b7366a-1fa4-4367-ac20-7cc8844e33f9",
      "metadata": {
        "id": "50b7366a-1fa4-4367-ac20-7cc8844e33f9"
      },
      "outputs": [],
      "source": [
        "# Test Function to make predictions\n",
        "\n",
        "def test(dataloader, model, loss_fn):\n",
        "    logits, probs, preds = [], [], []\n",
        "    with torch.no_grad():\n",
        "        loss = 0.0\n",
        "        for (X, y) in dataloader:\n",
        "            X, y = X.to(device), y.to(device) # move data to GPU\n",
        "            batch_logits = model(X)\n",
        "            batch_loss = loss_fn(batch_logits, y)\n",
        "            loss += batch_loss.item()\n",
        "\n",
        "            batch_probs = torch.softmax(batch_logits, dim = -1)\n",
        "            _, batch_preds = torch.max(batch_logits, 1)\n",
        "\n",
        "            logits.append(batch_logits.cpu().numpy())\n",
        "            probs.append(batch_probs.cpu().numpy())\n",
        "            preds.append(batch_preds.cpu().numpy())\n",
        "        loss /= len(dataloader)\n",
        "        print(f\"test loss = {loss}\")\n",
        "    return np.concatenate(logits), np.concatenate(probs), np.concatenate(preds), loss"
      ]
    },
    {
      "cell_type": "markdown",
      "id": "6055ec40-ed58-4f63-85b5-e2e86592fdc3",
      "metadata": {
        "id": "6055ec40-ed58-4f63-85b5-e2e86592fdc3"
      },
      "source": [
        "## Task 5. Make predictions on unseen text\n",
        "\n",
        "<span style=\"color:red\">**[TBC]**</span> You need to:\n",
        "- Specify an unseen product page by yourself\n",
        "    - Use a real product page on the ecommerce platform as Amazon\n",
        "    - Or make up a fake one yourself\n",
        "- Define a `predict()` function for making predictions\n",
        "- Use the `predict()` function to classify the product page into one of the pre-defined classes"
      ]
    },
    {
      "cell_type": "code",
      "source": [
        "import torch\n",
        "\n",
        "def predict(model, dataloader, class_to_label, device='cpu'):\n",
        "    model.eval()\n",
        "    predictions = []\n",
        "\n",
        "    with torch.no_grad():\n",
        "        for inputs in dataloader:\n",
        "            input_ids = inputs[0].to(device)\n",
        "            outputs = model(input_ids)\n",
        "            _, preds = torch.max(outputs, 1)\n",
        "            predictions.extend(preds.cpu().numpy())\n",
        "\n",
        "    predicted_labels = [label for pred in predictions for label, idx in class_to_label.items() if idx == pred]\n",
        "    return predicted_labels"
      ],
      "metadata": {
        "id": "poQRcTKZ45QE"
      },
      "id": "poQRcTKZ45QE",
      "execution_count": 60,
      "outputs": []
    },
    {
      "cell_type": "code",
      "source": [
        "import torch\n",
        "from torch.utils.data import DataLoader\n",
        "from torchvision.transforms import ToTensor\n",
        "from transformers import BertTokenizer\n",
        "\n",
        "# Define the tokenizer\n",
        "tokenizer = BertTokenizer.from_pretrained('bert-base-uncased')\n",
        "\n",
        "# Define the made-up product page text\n",
        "product_page_text = \"\"\"\n",
        "**Product Name**: CleanSweep Robot Vacuum\n",
        "\n",
        "**Description**:\n",
        "The CleanSweep Robot Vacuum is your reliable partner in keeping your home clean and tidy effortlessly. With its cutting-edge technology and efficient design, it takes the hassle out of vacuuming, allowing you to spend more time doing what you love. Experience the convenience of automated cleaning with the CleanSweep Robot Vacuum.\n",
        "\n",
        "**Features**:\n",
        "- Smart navigation: Utilizes advanced sensors to map out your home and navigate around obstacles with ease.\n",
        "- Powerful suction: Equipped with a high-performance motor and brushes to efficiently capture dust, dirt, and debris from all floor types.\n",
        "- Wi-Fi connectivity: Control and schedule cleaning sessions from anywhere using your smartphone or smart home device.\n",
        "- Multi-surface cleaning: Easily transitions between hardwood floors, carpets, and rugs for thorough cleaning.\n",
        "- Self-charging: Automatically returns to its charging dock when the battery is low, ensuring it's always ready for the next cleaning cycle.\n",
        "- Edge cleaning: Specialized brushes clean along walls and edges, reaching into corners and tight spaces for a comprehensive clean.\n",
        "- Virtual barriers: Set up virtual walls or no-go zones to restrict areas where the robot should not clean.\n",
        "- Low-profile design: Sleek and slim design allows the robot vacuum to clean under furniture and hard-to-reach areas with ease.\n",
        "\n",
        "**Specifications**:\n",
        "- Cleaning modes: Auto, spot clean, edge clean\n",
        "- Battery capacity: 2600mAh lithium-ion battery\n",
        "- Dustbin capacity: 500ml\n",
        "- Connectivity: Wi-Fi 802.11 b/g/n\n",
        "- Sensors: Anti-collision sensors, drop sensors, cliff detection sensors\n",
        "- Compatibility: Compatible with iOS 10.0 and above, Android 5.0 and above\n",
        "- Dimensions: 330mm diameter, 76mm height\n",
        "- Weight: 3.5 kg\n",
        "\"\"\"\n",
        "\n",
        "\n",
        "# Tokenize the product page text\n",
        "tokenized_text = tokenizer(product_page_text, padding=True, truncation=True, return_tensors='pt')\n",
        "\n",
        "# Create a DataLoader for the tokenized text\n",
        "test_product_dl = DataLoader([tokenized_text], batch_size=1)\n",
        "\n",
        "# Extract input tensors from the tokenized text\n",
        "input_ids = tokenized_text['input_ids']\n",
        "attention_mask = tokenized_text['attention_mask']\n",
        "\n",
        "# Create a DataLoader for the input tensors\n",
        "test_product_dl = DataLoader([(input_ids)], batch_size=1)\n",
        "\n",
        "# Call the predict function\n",
        "predicted_labels = predict(model, test_product_dl, class_to_label)\n",
        "\n",
        "# Print the predicted labels\n",
        "print(\"Predicted Category:\", predicted_labels[0])\n"
      ],
      "metadata": {
        "colab": {
          "base_uri": "https://localhost:8080/"
        },
        "id": "xx9LuzQk3UbE",
        "outputId": "0ae0ec33-76d9-4b27-9e6c-5c620fe4f475"
      },
      "id": "xx9LuzQk3UbE",
      "execution_count": 67,
      "outputs": [
        {
          "output_type": "stream",
          "name": "stdout",
          "text": [
            "Predicted Category: Household\n"
          ]
        }
      ]
    }
  ],
  "metadata": {
    "colab": {
      "provenance": []
    },
    "kernelspec": {
      "display_name": "Python 3 (ipykernel)",
      "language": "python",
      "name": "python3"
    },
    "language_info": {
      "codemirror_mode": {
        "name": "ipython",
        "version": 3
      },
      "file_extension": ".py",
      "mimetype": "text/x-python",
      "name": "python",
      "nbconvert_exporter": "python",
      "pygments_lexer": "ipython3",
      "version": "3.11.8"
    }
  },
  "nbformat": 4,
  "nbformat_minor": 5
}