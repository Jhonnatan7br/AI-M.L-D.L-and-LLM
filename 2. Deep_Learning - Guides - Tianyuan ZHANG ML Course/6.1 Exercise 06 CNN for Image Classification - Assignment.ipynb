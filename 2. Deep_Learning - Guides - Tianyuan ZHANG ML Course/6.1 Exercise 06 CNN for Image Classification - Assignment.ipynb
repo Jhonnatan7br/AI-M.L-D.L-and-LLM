{
 "cells": [
  {
   "cell_type": "markdown",
   "id": "ab0a4a0f-a930-4933-b183-2ab1a7af475a",
   "metadata": {},
   "source": [
    "# Exercise 06 CNN for Image Classification - Assignment\n",
    "\n",
    "<span style=\"color:red\">**The submission deadline of this assignment is 15/04/2024 23:59. In addition to the executed Jupyter Notebook, please also submit the saved `.pth` file of the trained CNN on Learn.**</span>\n",
    "\n",
    "## Pedagogy\n",
    "\n",
    "This notebook contains both theoretical explanations and executable cells to execute your code.\n",
    "\n",
    "When you see the <span style=\"color:red\">**[TBC]**</span> (To Be Completed) sign, it means that you need to perform an action else besides executing the cells of code that already exist. These actions can be:\n",
    "- Complete the code with proper comments\n",
    "- Respond to a question\n",
    "- Write an analysis\n",
    "- etc.\n",
    "\n",
    "## Requirement\n",
    "\n",
    "In this assignment, you are required to build a multi-class image classification model using CNN.\n",
    "\n",
    "The problem to be solved is to classify RGB images into one of the 10 pre-defined classes:\n",
    "\n",
    "![](https://production-media.paperswithcode.com/datasets/4fdf2b82-2bc3-4f97-ba51-400322b228b1.png)\n",
    "\n",
    "<span style=\"color:red\">**[TBC]**</span> Please complete the following tasks:\n",
    "- Build the data pipeline\n",
    "- Create a CNN-based image classifier\n",
    "- Train the network, save and reload the best one\n",
    "- Test and evaluation"
   ]
  },
  {
   "cell_type": "markdown",
   "id": "e160814a-c20e-4985-a43d-9d590aaf7b76",
   "metadata": {},
   "source": [
    "### Import libraries"
   ]
  },
  {
   "cell_type": "code",
   "execution_count": 40,
   "id": "a7256ea5-29a5-47d5-a5d9-499751e7eebb",
   "metadata": {},
   "outputs": [],
   "source": [
    "# [TBC] complete your code here with proper comments\n",
    "import torch\n",
    "from torchvision import datasets, transforms\n",
    "from torch.utils.data import DataLoader, random_split\n",
    "\n",
    "import torch.nn as nn\n",
    "import torch.nn.functional as F\n",
    "import torch.optim as optim\n",
    "import matplotlib.pyplot as plt\n",
    "\n",
    "from sklearn.metrics import classification_report"
   ]
  },
  {
   "cell_type": "markdown",
   "id": "8b8ef19f-67f0-430e-b661-ddf8287edd4c",
   "metadata": {},
   "source": [
    "## Task 1. Build the data pipeline\n",
    "\n",
    "You are required to use the PyTorch built-in CIFAR10 dataset, consists of 60,000 $32\\times32$ RGB images in 10 classes, with 6,000 images per class. You can find more information about this dataset from the [PyTorch documentation](https://www.tensorflow.org/datasets/catalog/cifar10) and the [original source](https://www.cs.toronto.edu/~kriz/cifar.html).\n",
    "\n",
    "<span style=\"color:red\">**[TBC]**</span> You need to:\n",
    "- Use `torchvision.datasets.CIFAR10()` to load the CIFAR10 dataset\n",
    "- Divide the dataset into the training, valiation, and test set\n",
    "- Create `DataLoader` instance to wrap the dataset as iterable objects\n",
    "    - Decide a proper batch size considering\n",
    "        - The available memory of your computer\n",
    "        - The desired number of batches in each epoch"
   ]
  },
  {
   "cell_type": "code",
   "execution_count": 22,
   "id": "6862c5b0-22ce-4836-90bc-dbb071868422",
   "metadata": {},
   "outputs": [
    {
     "name": "stdout",
     "output_type": "stream",
     "text": [
      "Files already downloaded and verified\n",
      "Files already downloaded and verified\n"
     ]
    }
   ],
   "source": [
    "# [TBC] complete your code here with proper comments\n",
    "# Load the CIFAR10 Dataset\n",
    "transform = transforms.Compose([\n",
    "    transforms.ToTensor(),\n",
    "    transforms.Normalize((0.5, 0.5, 0.5), (0.5, 0.5, 0.5))  # Normalizing the dataset\n",
    "])\n",
    "\n",
    "# Load the full dataset\n",
    "dataset = datasets.CIFAR10(root='./data', train=True, download=True, transform=transform)\n",
    "test_dataset = datasets.CIFAR10(root='./data', train=False, download=True, transform=transform)\n"
   ]
  },
  {
   "cell_type": "code",
   "execution_count": 23,
   "id": "762173f2",
   "metadata": {},
   "outputs": [],
   "source": [
    "# Split the Dataset\n",
    "\n",
    "train_size = int(0.9 * len(dataset))\n",
    "val_size = len(dataset) - train_size\n",
    "train_dataset, val_dataset = random_split(dataset, [train_size, val_size])\n"
   ]
  },
  {
   "cell_type": "code",
   "execution_count": 30,
   "id": "e555378b",
   "metadata": {},
   "outputs": [],
   "source": [
    "#  Create DataLoader Instances\n",
    "\n",
    "batch_size = 64  # Adjust based on your system capabilities\n",
    "\n",
    "train_loader = DataLoader(train_dataset, batch_size=batch_size, shuffle=True, num_workers=2)\n",
    "val_loader = DataLoader(val_dataset, batch_size=batch_size, shuffle=False, num_workers=2)\n",
    "test_loader = DataLoader(test_dataset, batch_size=batch_size, shuffle=False, num_workers=2)\n"
   ]
  },
  {
   "cell_type": "code",
   "execution_count": 31,
   "id": "a5727273",
   "metadata": {},
   "outputs": [
    {
     "name": "stdout",
     "output_type": "stream",
     "text": [
      "Training Set Size: 45000\n",
      "Validation Set Size: 5000\n",
      "Test Set Size: 10000\n"
     ]
    }
   ],
   "source": [
    "# Verify Everything is Correct\n",
    "\n",
    "print(f\"Training Set Size: {len(train_dataset)}\")\n",
    "print(f\"Validation Set Size: {len(val_dataset)}\")\n",
    "print(f\"Test Set Size: {len(test_dataset)}\")\n"
   ]
  },
  {
   "cell_type": "markdown",
   "id": "6ba6abf0-8b81-4b16-86c2-0d0f47e3c877",
   "metadata": {},
   "source": [
    "## Task 2. Create a CNN-based image classifier\n",
    "\n",
    "<span style=\"color:red\">**[TBC]**</span> You need to:\n",
    "- Define a custom class to specify the structure of the network\n",
    "    - You are required to use at least one convolutional layer in the network\n",
    "- Specify the device used for computation\n",
    "- Create an instance of the network and move it to the corresponding device"
   ]
  },
  {
   "cell_type": "code",
   "execution_count": 6,
   "id": "88f8917d-b918-411f-918d-3e8f026250ee",
   "metadata": {},
   "outputs": [],
   "source": [
    "# Define the CNN Model\n",
    "class SimpleCNN(nn.Module):\n",
    "    def __init__(self):\n",
    "        super(SimpleCNN, self).__init__()\n",
    "        # First convolutional layer taking 3 input channels (RGB), outputting 32 feature maps\n",
    "        self.conv1 = nn.Conv2d(3, 32, kernel_size=3, padding=1)\n",
    "        # Second convolutional layer\n",
    "        self.conv2 = nn.Conv2d(32, 64, kernel_size=3, padding=1)\n",
    "        # Third convolutional layer\n",
    "        self.conv3 = nn.Conv2d(64, 128, kernel_size=3, padding=1)\n",
    "        # Max pooling\n",
    "        self.pool = nn.MaxPool2d(2, 2)\n",
    "        # Fully connected layers\n",
    "        self.fc1 = nn.Linear(128 * 4 * 4, 512)\n",
    "        self.fc2 = nn.Linear(512, 128)\n",
    "        self.fc3 = nn.Linear(128, 10)  # Output 10 classes\n",
    "\n",
    "    def forward(self, x):\n",
    "        # Apply convolutions, activation function and pooling layers\n",
    "        x = self.pool(F.relu(self.conv1(x)))\n",
    "        x = self.pool(F.relu(self.conv2(x)))\n",
    "        x = self.pool(F.relu(self.conv3(x)))\n",
    "        # Flatten the tensor\n",
    "        x = x.view(-1, 128 * 4 * 4)\n",
    "        # Fully connected layers with ReLU activation for hidden layers\n",
    "        x = F.relu(self.fc1(x))\n",
    "        x = F.relu(self.fc2(x))\n",
    "        x = self.fc3(x)  # No activation, as this will be handled by the loss function\n",
    "        return x\n"
   ]
  },
  {
   "cell_type": "code",
   "execution_count": 7,
   "id": "7524868a",
   "metadata": {},
   "outputs": [],
   "source": [
    "# Specify the Device for Computation\n",
    "device = torch.device(\"cuda\" if torch.cuda.is_available() else \"cpu\")\n"
   ]
  },
  {
   "cell_type": "code",
   "execution_count": 8,
   "id": "045f0c8e",
   "metadata": {},
   "outputs": [],
   "source": [
    "# Create an Instance of the Network and Move It to the Device\n",
    "model = SimpleCNN().to(device)\n"
   ]
  },
  {
   "cell_type": "code",
   "execution_count": 9,
   "id": "0c04e488",
   "metadata": {},
   "outputs": [
    {
     "name": "stdout",
     "output_type": "stream",
     "text": [
      "SimpleCNN(\n",
      "  (conv1): Conv2d(3, 32, kernel_size=(3, 3), stride=(1, 1), padding=(1, 1))\n",
      "  (conv2): Conv2d(32, 64, kernel_size=(3, 3), stride=(1, 1), padding=(1, 1))\n",
      "  (conv3): Conv2d(64, 128, kernel_size=(3, 3), stride=(1, 1), padding=(1, 1))\n",
      "  (pool): MaxPool2d(kernel_size=2, stride=2, padding=0, dilation=1, ceil_mode=False)\n",
      "  (fc1): Linear(in_features=2048, out_features=512, bias=True)\n",
      "  (fc2): Linear(in_features=512, out_features=128, bias=True)\n",
      "  (fc3): Linear(in_features=128, out_features=10, bias=True)\n",
      ")\n"
     ]
    }
   ],
   "source": [
    "# Check the Model Structure\n",
    "print(model)\n"
   ]
  },
  {
   "cell_type": "markdown",
   "id": "d05054d5",
   "metadata": {},
   "source": [
    "## Task 3. Train the network, save and reload the best one\n",
    "\n",
    "<span style=\"color:red\">**[TBC]**</span> You need to:\n",
    "- Define a `train()` function\n",
    "    - Embed automatic model saving in the training process\n",
    "    - <span style=\"color:red\">**Don't forget to include the saved file in your submission.**</span>\n",
    "- Train the network\n",
    "    - Adjust the training hyper-parameters if necessary to get a good result\n",
    "- Reload the best model after training\n",
    "- Plot the loss history of the training process"
   ]
  },
  {
   "cell_type": "code",
   "execution_count": 35,
   "id": "763e8c04",
   "metadata": {},
   "outputs": [],
   "source": [
    "\n",
    "\n",
    "# Define the train() Function\n",
    "\n",
    "\n",
    "def train(model, train_loader, val_loader, num_epochs=25):\n",
    "    criterion = nn.CrossEntropyLoss()\n",
    "    optimizer = optim.Adam(model.parameters(), lr=0.001)\n",
    "\n",
    "    # For plotting\n",
    "    train_losses = []\n",
    "    val_losses = []\n",
    "\n",
    "    best_val_loss = float('inf')\n",
    "    best_model_path = 'best_CNN_IM.pth'\n",
    "\n",
    "    for epoch in range(num_epochs):\n",
    "        model.train()\n",
    "        running_loss = 0.0\n",
    "        for images, labels in train_loader:\n",
    "            images, labels = images.to(device), labels.to(device)\n",
    "\n",
    "            optimizer.zero_grad()\n",
    "            outputs = model(images)\n",
    "            loss = criterion(outputs, labels)\n",
    "            loss.backward()\n",
    "            optimizer.step()\n",
    "            running_loss += loss.item()\n",
    "\n",
    "        # Compute average loss\n",
    "        train_loss = running_loss / len(train_loader)\n",
    "        train_losses.append(train_loss)\n",
    "\n",
    "        # Validation phase\n",
    "        model.eval()\n",
    "        val_running_loss = 0.0\n",
    "        with torch.no_grad():\n",
    "            for images, labels in val_loader:\n",
    "                images, labels = images.to(device), labels.to(device)\n",
    "                outputs = model(images)\n",
    "                loss = criterion(outputs, labels)\n",
    "                val_running_loss += loss.item()\n",
    "\n",
    "        val_loss = val_running_loss / len(val_loader)\n",
    "        val_losses.append(val_loss)\n",
    "\n",
    "        # Save the best model\n",
    "        if val_loss < best_val_loss:\n",
    "            best_val_loss = val_loss\n",
    "            torch.save(model.state_dict(), best_model_path)\n",
    "\n",
    "        print(f'Epoch {epoch+1}, Train Loss: {train_loss:.4f}, Validation Loss: {val_loss:.4f}')\n",
    "\n",
    "    return train_losses, val_losses, best_model_path\n"
   ]
  },
  {
   "cell_type": "code",
   "execution_count": 36,
   "id": "9eb427c0",
   "metadata": {},
   "outputs": [
    {
     "name": "stdout",
     "output_type": "stream",
     "text": [
      "Epoch 1, Train Loss: 0.8495, Validation Loss: 0.8428\n",
      "Epoch 2, Train Loss: 0.6922, Validation Loss: 0.7914\n"
     ]
    }
   ],
   "source": [
    "# Train the model\n",
    "num_epochs = 2\n",
    "train_losses, val_losses, best_model_path = train(model, train_loader, val_loader, num_epochs)\n"
   ]
  },
  {
   "cell_type": "code",
   "execution_count": 37,
   "id": "74ff056b",
   "metadata": {},
   "outputs": [
    {
     "data": {
      "text/plain": [
       "<All keys matched successfully>"
      ]
     },
     "execution_count": 37,
     "metadata": {},
     "output_type": "execute_result"
    }
   ],
   "source": [
    "# Reload the Best Model\n",
    "\n",
    "best_model = SimpleCNN().to(device)\n",
    "best_model.load_state_dict(torch.load(best_model_path))\n"
   ]
  },
  {
   "cell_type": "code",
   "execution_count": 39,
   "id": "cac02ae0",
   "metadata": {},
   "outputs": [
    {
     "data": {
      "image/png": "[encoded data removed]",
      "text/plain": [
       "<Figure size 1000x500 with 1 Axes>"
      ]
     },
     "metadata": {},
     "output_type": "display_data"
    }
   ],
   "source": [
    "# Plot the Loss History with improvements\n",
    "plt.figure(figsize=(10, 5))  # Set a larger figure size for better clarity\n",
    "plt.plot(train_losses, label='Training Loss', color='blue', linewidth=2, linestyle='--')\n",
    "plt.plot(val_losses, label='Validation Loss', color='red', linewidth=2, linestyle='-')\n",
    "plt.xlabel('Epochs')\n",
    "plt.ylabel('Loss')\n",
    "plt.title('Training and Validation Loss Over Epochs')\n",
    "plt.legend()\n",
    "plt.grid(True)  # Add grid lines for better readability\n",
    "plt.tight_layout()  # Adjust the layout to make room for the legend\n",
    "plt.show()\n"
   ]
  },
  {
   "cell_type": "markdown",
   "id": "e88c63b8-44f4-4901-a7cd-f1332db8b815",
   "metadata": {},
   "source": [
    "## Task 4. Test and evaluation\n",
    "\n",
    "<span style=\"color:red\">**[TBC]**</span> You need to:\n",
    "- Define the `test()` function\n",
    "    - Output logits, probabilities and predictions\n",
    "    - Output the loss value on the test set\n",
    "- Make predictions on the test dataset\n",
    "- Evaluate the performance\n",
    "    - Use `sklearn.metrics.classification_report()`"
   ]
  },
  {
   "cell_type": "code",
   "execution_count": 41,
   "id": "5bb5f62c-bb39-4c33-b455-b6d1e6c5ae06",
   "metadata": {},
   "outputs": [],
   "source": [
    "# Define the test() Function\n",
    "def test(model, test_loader, criterion):\n",
    "    model.eval()  # Set the model to evaluation mode\n",
    "    total_loss = 0\n",
    "    all_logits = []\n",
    "    all_probs = []\n",
    "    all_preds = []\n",
    "    all_labels = []\n",
    "\n",
    "    with torch.no_grad():\n",
    "        for images, labels in test_loader:\n",
    "            images, labels = images.to(device), labels.to(device)\n",
    "            \n",
    "            # Forward pass\n",
    "            logits = model(images)\n",
    "            loss = criterion(logits, labels)\n",
    "            total_loss += loss.item()\n",
    "\n",
    "            # Calculate probabilities and predictions\n",
    "            probs = F.softmax(logits, dim=1)\n",
    "            preds = torch.argmax(probs, dim=1)\n",
    "\n",
    "            # Collect all necessary outputs for evaluation\n",
    "            all_logits.append(logits)\n",
    "            all_probs.append(probs)\n",
    "            all_preds.append(preds)\n",
    "            all_labels.append(labels)\n",
    "\n",
    "    # Convert lists to tensors\n",
    "    all_logits = torch.cat(all_logits)\n",
    "    all_probs = torch.cat(all_probs)\n",
    "    all_preds = torch.cat(all_preds)\n",
    "    all_labels = torch.cat(all_labels)\n",
    "\n",
    "    # Calculate average loss\n",
    "    average_loss = total_loss / len(test_loader)\n",
    "    \n",
    "    return all_logits, all_probs, all_preds, all_labels, average_loss\n",
    "\n",
    "# Criterion for loss calculation\n",
    "criterion = torch.nn.CrossEntropyLoss()"
   ]
  },
  {
   "cell_type": "code",
   "execution_count": 42,
   "id": "272b67ff",
   "metadata": {},
   "outputs": [
    {
     "name": "stdout",
     "output_type": "stream",
     "text": [
      "Test Loss: 0.7778\n"
     ]
    }
   ],
   "source": [
    "# Make Predictions on the Test Dataset\n",
    "\n",
    "# Assuming test_loader is already defined and model is loaded\n",
    "logits, probs, preds, labels, test_loss = test(best_model, test_loader, criterion)\n",
    "print(f\"Test Loss: {test_loss:.4f}\")\n"
   ]
  },
  {
   "cell_type": "code",
   "execution_count": 44,
   "id": "f2eec0ad",
   "metadata": {},
   "outputs": [],
   "source": [
    "# Define CIFAR-10 Class Names\n",
    "\n",
    "CIFAR10_CLASSES = [\n",
    "    \"airplane\", \"automobile\", \"bird\", \"cat\", \"deer\",\n",
    "    \"dog\", \"frog\", \"horse\", \"ship\", \"truck\"\n",
    "]\n"
   ]
  },
  {
   "cell_type": "code",
   "execution_count": 45,
   "id": "4981d723",
   "metadata": {},
   "outputs": [
    {
     "name": "stdout",
     "output_type": "stream",
     "text": [
      "              precision    recall  f1-score   support\n",
      "\n",
      "    airplane       0.74      0.76      0.75      1000\n",
      "  automobile       0.85      0.87      0.86      1000\n",
      "        bird       0.60      0.66      0.63      1000\n",
      "         cat       0.54      0.60      0.57      1000\n",
      "        deer       0.68      0.71      0.69      1000\n",
      "         dog       0.76      0.50      0.60      1000\n",
      "        frog       0.84      0.77      0.80      1000\n",
      "       horse       0.83      0.74      0.78      1000\n",
      "        ship       0.73      0.90      0.81      1000\n",
      "       truck       0.81      0.81      0.81      1000\n",
      "\n",
      "    accuracy                           0.73     10000\n",
      "   macro avg       0.74      0.73      0.73     10000\n",
      "weighted avg       0.74      0.73      0.73     10000\n",
      "\n"
     ]
    }
   ],
   "source": [
    "# Convert tensor to numpy for sklearn compatibility\n",
    "preds_np = preds.cpu().numpy()\n",
    "labels_np = labels.cpu().numpy()\n",
    "\n",
    "# Generate classification report\n",
    "report = classification_report(labels_np, preds_np, target_names=CIFAR10_CLASSES)  # CIFAR10_CLASSES is a list of class names\n",
    "print(report)"
   ]
  }
 ],
 "metadata": {
  "kernelspec": {
   "display_name": "Python 3 (ipykernel)",
   "language": "python",
   "name": "python3"
  },
  "language_info": {
   "codemirror_mode": {
    "name": "ipython",
    "version": 3
   },
   "file_extension": ".py",
   "mimetype": "text/x-python",
   "name": "python",
   "nbconvert_exporter": "python",
   "pygments_lexer": "ipython3",
   "version": "3.11.4"
  }
 },
 "nbformat": 4,
 "nbformat_minor": 5
}
