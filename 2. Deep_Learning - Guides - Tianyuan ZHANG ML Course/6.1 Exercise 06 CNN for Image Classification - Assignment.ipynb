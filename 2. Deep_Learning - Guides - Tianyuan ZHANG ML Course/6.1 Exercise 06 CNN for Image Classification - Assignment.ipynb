{
 "cells": [
  {
   "cell_type": "markdown",
   "id": "ab0a4a0f-a930-4933-b183-2ab1a7af475a",
   "metadata": {},
   "source": [
    "# Exercise 06 CNN for Image Classification - Assignment\n",
    "\n",
    "<span style=\"color:red\">**The submission deadline of this assignment is 15/04/2024 23:59. In addition to the executed Jupyter Notebook, please also submit the saved `.pth` file of the trained CNN on Learn.**</span>\n",
    "\n",
    "## Pedagogy\n",
    "\n",
    "This notebook contains both theoretical explanations and executable cells to execute your code.\n",
    "\n",
    "When you see the <span style=\"color:red\">**[TBC]**</span> (To Be Completed) sign, it means that you need to perform an action else besides executing the cells of code that already exist. These actions can be:\n",
    "- Complete the code with proper comments\n",
    "- Respond to a question\n",
    "- Write an analysis\n",
    "- etc.\n",
    "\n",
    "## Requirement\n",
    "\n",
    "In this assignment, you are required to build a multi-class image classification model using CNN.\n",
    "\n",
    "The problem to be solved is to classify RGB images into one of the 10 pre-defined classes:\n",
    "\n",
    "![](https://production-media.paperswithcode.com/datasets/4fdf2b82-2bc3-4f97-ba51-400322b228b1.png)\n",
    "\n",
    "<span style=\"color:red\">**[TBC]**</span> Please complete the following tasks:\n",
    "- Build the data pipeline\n",
    "- Create a CNN-based image classifier\n",
    "- Train the network, save and reload the best one\n",
    "- Test and evaluation"
   ]
  },
  {
   "cell_type": "markdown",
   "id": "e160814a-c20e-4985-a43d-9d590aaf7b76",
   "metadata": {},
   "source": [
    "### Import libraries"
   ]
  },
  {
   "cell_type": "code",
   "execution_count": null,
   "id": "a7256ea5-29a5-47d5-a5d9-499751e7eebb",
   "metadata": {},
   "outputs": [],
   "source": [
    "# [TBC] complete your code here with proper comments\n"
   ]
  },
  {
   "cell_type": "markdown",
   "id": "8b8ef19f-67f0-430e-b661-ddf8287edd4c",
   "metadata": {},
   "source": [
    "## Task 1. Build the data pipeline\n",
    "\n",
    "You are required to use the PyTorch built-in CIFAR10 dataset, consists of 60,000 $32\\times32$ RGB images in 10 classes, with 6,000 images per class. You can find more information about this dataset from the [PyTorch documentation](https://www.tensorflow.org/datasets/catalog/cifar10) and the [original source](https://www.cs.toronto.edu/~kriz/cifar.html).\n",
    "\n",
    "<span style=\"color:red\">**[TBC]**</span> You need to:\n",
    "- Use `torchvision.datasets.CIFAR10()` to load the CIFAR10 dataset\n",
    "- Divide the dataset into the training, valiation, and test set\n",
    "- Create `DataLoader` instance to wrap the dataset as iterable objects\n",
    "    - Decide a proper batch size considering\n",
    "        - The available memory of your computer\n",
    "        - The desired number of batches in each epoch"
   ]
  },
  {
   "cell_type": "code",
   "execution_count": null,
   "id": "6862c5b0-22ce-4836-90bc-dbb071868422",
   "metadata": {},
   "outputs": [],
   "source": [
    "# [TBC] complete your code here with proper comments\n"
   ]
  },
  {
   "cell_type": "markdown",
   "id": "6ba6abf0-8b81-4b16-86c2-0d0f47e3c877",
   "metadata": {},
   "source": [
    "## Task 2. Create a CNN-based image classifier\n",
    "\n",
    "<span style=\"color:red\">**[TBC]**</span> You need to:\n",
    "- Define a custom class to specify the structure of the network\n",
    "    - You are required to use at least one convolutional layer in the network\n",
    "- Specify the device used for computation\n",
    "- Create an instance of the network and move it to the corresponding device"
   ]
  },
  {
   "cell_type": "code",
   "execution_count": null,
   "id": "6051ada2-ebd5-4d7f-903a-fbd944590032",
   "metadata": {},
   "outputs": [],
   "source": [
    "# [TBC] complete your code here with proper comments\n"
   ]
  },
  {
   "cell_type": "markdown",
   "id": "e4136c1a-862a-4983-a864-36cd00cf2cd9",
   "metadata": {},
   "source": [
    "## Task 3. Train the network, save and reload the best one\n",
    "\n",
    "<span style=\"color:red\">**[TBC]**</span> You need to:\n",
    "- Define a `train()` function\n",
    "    - Embed automatic model saving in the training process\n",
    "    - <span style=\"color:red\">**Don't forget to include the saved file in your submission.**</span>\n",
    "- Train the network\n",
    "    - Adjust the training hyper-parameters if necessary to get a good result\n",
    "- Reload the best model after training\n",
    "- Plot the loss history of the training process"
   ]
  },
  {
   "cell_type": "code",
   "execution_count": null,
   "id": "88f8917d-b918-411f-918d-3e8f026250ee",
   "metadata": {},
   "outputs": [],
   "source": [
    "# [TBC] complete your code here with proper comments\n"
   ]
  },
  {
   "cell_type": "markdown",
   "id": "e88c63b8-44f4-4901-a7cd-f1332db8b815",
   "metadata": {},
   "source": [
    "## Task 4. Test and evaluation\n",
    "\n",
    "<span style=\"color:red\">**[TBC]**</span> You need to:\n",
    "- Define the `test()` function\n",
    "    - Output logits, probabilities and predictions\n",
    "    - Output the loss value on the test set\n",
    "- Make predictions on the test dataset\n",
    "- Evaluate the performance\n",
    "    - Use `sklearn.metrics.classification_report()`"
   ]
  },
  {
   "cell_type": "code",
   "execution_count": null,
   "id": "5bb5f62c-bb39-4c33-b455-b6d1e6c5ae06",
   "metadata": {},
   "outputs": [],
   "source": [
    "# [TBC] complete your code here with proper comments\n"
   ]
  }
 ],
 "metadata": {
  "kernelspec": {
   "display_name": "Python 3 (ipykernel)",
   "language": "python",
   "name": "python3"
  },
  "language_info": {
   "codemirror_mode": {
    "name": "ipython",
    "version": 3
   },
   "file_extension": ".py",
   "mimetype": "text/x-python",
   "name": "python",
   "nbconvert_exporter": "python",
   "pygments_lexer": "ipython3",
   "version": "3.11.8"
  }
 },
 "nbformat": 4,
 "nbformat_minor": 5
}
