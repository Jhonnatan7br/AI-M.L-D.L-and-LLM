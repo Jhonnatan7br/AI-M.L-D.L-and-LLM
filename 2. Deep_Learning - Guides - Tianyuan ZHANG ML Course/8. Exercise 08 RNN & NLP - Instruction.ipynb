{
 "cells": [
  {
   "cell_type": "markdown",
   "id": "f5a32f3d-940f-4513-b326-b9c224cb7818",
   "metadata": {},
   "source": [
    "# Exercise 08 RNN & NLP - Instruction\n",
    "\n",
    "## Pedagogy\n",
    "\n",
    "This notebook serves as an instruction for implementing RNNs using PyTorch for NLP purpose.\n",
    "\n",
    "Please use this notebook as a reference and guide to complete the assignment.\n",
    "\n",
    "## Import libraries\n",
    "\n",
    "In this notebook, we will use the following new libraries:\n",
    "- `torchtext` for data processing utilities and popular datasets for NLP.\n",
    "\n",
    "Please install the new libraries before using them."
   ]
  },
  {
   "cell_type": "code",
   "execution_count": 1,
   "id": "08c07320-484b-4ccb-8e69-bbf8d4dc9484",
   "metadata": {},
   "outputs": [
    {
     "name": "stdout",
     "output_type": "stream",
     "text": [
      "Channels:\n",
      " - pytorch\n",
      " - defaults\n",
      " - conda-forge\n",
      "Platform: osx-arm64\n",
      "Collecting package metadata (repodata.json): done\n",
      "Solving environment: done\n",
      "\n",
      "# All requested packages already installed.\n",
      "\n"
     ]
    }
   ],
   "source": [
    "!conda install pytorch::torchtext -y"
   ]
  },
  {
   "cell_type": "code",
   "execution_count": 2,
   "id": "aed9cb50-5e57-4535-9990-29f7d453bb62",
   "metadata": {},
   "outputs": [],
   "source": [
    "# import libraries\n",
    "import os\n",
    "import datetime\n",
    "import warnings\n",
    "\n",
    "import torch\n",
    "import numpy as np\n",
    "import pandas as pd\n",
    "import matplotlib.pyplot as plt\n",
    "\n",
    "from tqdm import tqdm\n",
    "\n",
    "from sklearn.metrics import classification_report\n",
    "\n",
    "from torch import nn\n",
    "\n",
    "from torch.utils.data import TensorDataset, DataLoader\n",
    "from torch.utils.data.dataset import random_split\n",
    "\n",
    "from torchtext.data.utils import get_tokenizer # for tokenization\n",
    "from torchtext.vocab import build_vocab_from_iterator # for creating vocabulary"
   ]
  },
  {
   "cell_type": "code",
   "execution_count": 3,
   "id": "1bad0086-f0bd-4aff-94dc-ce4c95b4a35c",
   "metadata": {},
   "outputs": [],
   "source": [
    "# suppress all warnings\n",
    "warnings.filterwarnings(\"ignore\")"
   ]
  },
  {
   "cell_type": "markdown",
   "id": "5be88a9a-b0fc-402a-9595-51fdab2b5d30",
   "metadata": {},
   "source": [
    "# Instruction\n",
    "\n",
    "In this notebook, we will build a text classification model using RNN, more specifically, LSTM.\n",
    "\n",
    "The problem to be solved is to classify different news into one of the 4 pre-defined classes:\n",
    "\n",
    "|Class|Example news|\n",
    "|-|-|\n",
    "|World|France marks the 'other D-Day' Two days of celebrations to honour the Allied veterans who liberated southern France near a climax...|\n",
    "|Sports|Galaxy, Crew Play to 0-0 Tie (AP) AP - Kevin Hartman made seven saves for Los Angeles, and Jon Busch had two saves for Columbus as the Galaxy and Crew played to a 0-0 tie Saturday night...|\n",
    "|Business|Wall St. Bears Claw Back Into the Black (Reuters) Reuters - Short-sellers, Wall Street's dwindling\\band of ultra-cynics, are seeing green again...|\n",
    "|Sci/Tech|Apple to open second Japanese retail store this month (MacCentral) MacCentral - Apple Computer Inc. will open its second Japanese retail store later this month in the western Japanese city of Osaka, it said Thursday...|\n",
    "\n",
    "## Step 1. Build the data pipeline\n",
    "\n",
    "We will use the [AG News Dataset](http://groups.di.unipi.it/~gulli/AG_corpus_of_news_articles.html) which is a collection of news articles. Each news article is classified into one of the 4 pre-defined classes: world, sports, business, and sci/tech.\n",
    "\n",
    "In this step, we need to:\n",
    "- Load the dataset from the `ag_news_dataset.csv` file\n",
    "- Tokenization\n",
    "- Create the vocabulary\n",
    "- Cut/Pad each news articles to the same sequence length\n",
    "- Create the tensor dataset and dataloader for the training, validation, and test set"
   ]
  },
  {
   "cell_type": "code",
   "execution_count": 4,
   "id": "ee417b85-ee72-4819-89cd-54e6b610db40",
   "metadata": {},
   "outputs": [
    {
     "data": {
      "text/html": [
       "<div>\n",
       "<style scoped>\n",
       "    .dataframe tbody tr th:only-of-type {\n",
       "        vertical-align: middle;\n",
       "    }\n",
       "\n",
       "    .dataframe tbody tr th {\n",
       "        vertical-align: top;\n",
       "    }\n",
       "\n",
       "    .dataframe thead th {\n",
       "        text-align: right;\n",
       "    }\n",
       "</style>\n",
       "<table border=\"1\" class=\"dataframe\">\n",
       "  <thead>\n",
       "    <tr style=\"text-align: right;\">\n",
       "      <th></th>\n",
       "      <th>text</th>\n",
       "      <th>label</th>\n",
       "    </tr>\n",
       "  </thead>\n",
       "  <tbody>\n",
       "    <tr>\n",
       "      <th>0</th>\n",
       "      <td>Wall St. Bears Claw Back Into the Black (Reute...</td>\n",
       "      <td>2</td>\n",
       "    </tr>\n",
       "    <tr>\n",
       "      <th>1</th>\n",
       "      <td>Carlyle Looks Toward Commercial Aerospace (Reu...</td>\n",
       "      <td>2</td>\n",
       "    </tr>\n",
       "    <tr>\n",
       "      <th>2</th>\n",
       "      <td>Oil and Economy Cloud Stocks' Outlook (Reuters...</td>\n",
       "      <td>2</td>\n",
       "    </tr>\n",
       "    <tr>\n",
       "      <th>3</th>\n",
       "      <td>Iraq Halts Oil Exports from Main Southern Pipe...</td>\n",
       "      <td>2</td>\n",
       "    </tr>\n",
       "    <tr>\n",
       "      <th>4</th>\n",
       "      <td>Oil prices soar to all-time record, posing new...</td>\n",
       "      <td>2</td>\n",
       "    </tr>\n",
       "    <tr>\n",
       "      <th>...</th>\n",
       "      <td>...</td>\n",
       "      <td>...</td>\n",
       "    </tr>\n",
       "    <tr>\n",
       "      <th>127595</th>\n",
       "      <td>Around the world Ukrainian presidential candid...</td>\n",
       "      <td>0</td>\n",
       "    </tr>\n",
       "    <tr>\n",
       "      <th>127596</th>\n",
       "      <td>Void is filled with Clement With the supply of...</td>\n",
       "      <td>1</td>\n",
       "    </tr>\n",
       "    <tr>\n",
       "      <th>127597</th>\n",
       "      <td>Martinez leaves bitter Like Roger Clemens did ...</td>\n",
       "      <td>1</td>\n",
       "    </tr>\n",
       "    <tr>\n",
       "      <th>127598</th>\n",
       "      <td>5 of arthritis patients in Singapore take Bext...</td>\n",
       "      <td>2</td>\n",
       "    </tr>\n",
       "    <tr>\n",
       "      <th>127599</th>\n",
       "      <td>EBay gets into rentals EBay plans to buy the a...</td>\n",
       "      <td>2</td>\n",
       "    </tr>\n",
       "  </tbody>\n",
       "</table>\n",
       "<p>127600 rows × 2 columns</p>\n",
       "</div>"
      ],
      "text/plain": [
       "                                                     text  label\n",
       "0       Wall St. Bears Claw Back Into the Black (Reute...      2\n",
       "1       Carlyle Looks Toward Commercial Aerospace (Reu...      2\n",
       "2       Oil and Economy Cloud Stocks' Outlook (Reuters...      2\n",
       "3       Iraq Halts Oil Exports from Main Southern Pipe...      2\n",
       "4       Oil prices soar to all-time record, posing new...      2\n",
       "...                                                   ...    ...\n",
       "127595  Around the world Ukrainian presidential candid...      0\n",
       "127596  Void is filled with Clement With the supply of...      1\n",
       "127597  Martinez leaves bitter Like Roger Clemens did ...      1\n",
       "127598  5 of arthritis patients in Singapore take Bext...      2\n",
       "127599  EBay gets into rentals EBay plans to buy the a...      2\n",
       "\n",
       "[127600 rows x 2 columns]"
      ]
     },
     "execution_count": 4,
     "metadata": {},
     "output_type": "execute_result"
    }
   ],
   "source": [
    "# load dataset\n",
    "ag_news_df = pd.read_csv('ag_news_dataset.csv')\n",
    "classes = ['World', 'Sports', 'Business', 'Sci/Tec']\n",
    "ag_news_df"
   ]
  },
  {
   "cell_type": "code",
   "execution_count": 5,
   "id": "db1bae9b-1ee2-471e-b578-6baf0f048c20",
   "metadata": {},
   "outputs": [],
   "source": [
    "# get the tokenizer\n",
    "tokenizer = get_tokenizer('basic_english')\n",
    "\n",
    "# define an intertor function to perform tokenization\n",
    "def yield_tokens(df, tokenizer):\n",
    "    for i in range(len(df)):\n",
    "        yield tokenizer(df['text'].values[i])\n",
    "\n",
    "# create the vocabulary\n",
    "vocab = build_vocab_from_iterator(yield_tokens(ag_news_df, tokenizer), specials = ['<unk>'])\n",
    "vocab.set_default_index(vocab['<unk>'])"
   ]
  },
  {
   "cell_type": "code",
   "execution_count": 6,
   "id": "0b0cb9e9-e16e-4b69-9056-8e60be4825fe",
   "metadata": {},
   "outputs": [
    {
     "name": "stdout",
     "output_type": "stream",
     "text": [
      "The number of unique tokens in the vocabulary: 98635\n"
     ]
    }
   ],
   "source": [
    "# print the number of unique tokens in the vocabulary\n",
    "print('The number of unique tokens in the vocabulary:', len(vocab))"
   ]
  },
  {
   "cell_type": "markdown",
   "id": "39a31cda-1ba7-4c74-a88d-dfccf240b007",
   "metadata": {},
   "source": [
    "When creating the vocabulary, we tokenize each news article as a sequence of tokens and add them to the vocabulary.\n",
    "\n",
    "We also add a special token `<unk>` in the vocabulary, which represents the unknown token.\n",
    "\n",
    "It's very common that there are unknown tokens in the unseen data, and we need to deal with these unknown tokens.\n",
    "\n",
    "By add `<unk>` in the vocabulary and `set_default_index(vocab['<unk>'])`, all the unknown tokens will be assigned to the default index."
   ]
  },
  {
   "cell_type": "code",
   "execution_count": 7,
   "id": "38476c2a-09e6-4e36-9e81-8555bb9710ee",
   "metadata": {},
   "outputs": [
    {
     "name": "stdout",
     "output_type": "stream",
     "text": [
      "The shape of input: (127600, 20)\n",
      "The shape of label: (127600,)\n"
     ]
    }
   ],
   "source": [
    "# cut/pad all news articles to the same sequence length\n",
    "seq_length = 20 # number of tokens in the sequence for each news articles\n",
    "X = []\n",
    "for i in range(len(ag_news_df)):\n",
    "    text = ag_news_df['text'].values[i]\n",
    "    text = vocab(tokenizer(text))\n",
    "    if len(text) < seq_length:\n",
    "        text = text + [0] * (seq_length - len(text)) # pad the sequence with 0\n",
    "    else:\n",
    "        text = text[:seq_length] # cut the sequence to the pre-defined length\n",
    "    X.append(text)\n",
    "X = np.array(X)\n",
    "print('The shape of input:', X.shape)\n",
    "y = ag_news_df['label'].values\n",
    "print('The shape of label:', y.shape)"
   ]
  },
  {
   "cell_type": "markdown",
   "id": "8f703236-c046-43c0-8faf-93c912b13543",
   "metadata": {},
   "source": [
    "We can see the shape of input `X` is `127600, 20`:\n",
    "- 127600 means there are 127600 sequences in the dataset, each sequence represent a news article.\n",
    "- 20 means the sequence length is 20, each sequence contains 20 tokens.\n",
    "\n",
    "The shape of label `y` is `127600`:\n",
    "- Each sequence has a corresponding label, representing the class of the news article."
   ]
  },
  {
   "cell_type": "code",
   "execution_count": 8,
   "id": "95360a21-8c51-4ee1-ac4c-59779327b12f",
   "metadata": {},
   "outputs": [],
   "source": [
    "# create the tensor dataset\n",
    "ag_news_ds = TensorDataset(\n",
    "    torch.tensor(X, dtype = torch.int64),\n",
    "    torch.tensor(y, dtype = torch.int64)\n",
    ")"
   ]
  },
  {
   "cell_type": "code",
   "execution_count": 9,
   "id": "1053a06e-6655-4ec0-bf09-26ff763f5439",
   "metadata": {},
   "outputs": [],
   "source": [
    "# split the dataset into the training, validation, and test set\n",
    "train_val_ds, test_ds = random_split(ag_news_ds, [0.7, 0.3])\n",
    "train_ds, val_ds = random_split(train_val_ds, [0.8, 0.2])"
   ]
  },
  {
   "cell_type": "code",
   "execution_count": 10,
   "id": "5f950e16-849f-4ec5-99e1-41079a65cf2f",
   "metadata": {},
   "outputs": [],
   "source": [
    "# create the training, validation, and test data loaders\n",
    "batch_size = 512 # usually set to 2 to the nth power\n",
    "train_dl = DataLoader(train_ds, batch_size = batch_size, shuffle = True)\n",
    "val_dl = DataLoader(val_ds, batch_size = batch_size, shuffle = False)\n",
    "test_dl = DataLoader(test_ds, batch_size = batch_size, shuffle = False)"
   ]
  },
  {
   "cell_type": "code",
   "execution_count": 11,
   "id": "3980eee7-f9ff-4cc7-b5b1-80270bc318c3",
   "metadata": {},
   "outputs": [
    {
     "name": "stdout",
     "output_type": "stream",
     "text": [
      "torch.Size([512, 20])\n",
      "torch.Size([512])\n"
     ]
    }
   ],
   "source": [
    "# get one batch and print its shape\n",
    "for batch in train_dl:\n",
    "    print(batch[0].shape)\n",
    "    print(batch[1].shape)\n",
    "    break"
   ]
  },
  {
   "attachments": {},
   "cell_type": "markdown",
   "id": "384251df-2620-42d2-a76f-964551471214",
   "metadata": {},
   "source": [
    "## Step 2. Create the LSTM-based text classifier\n",
    "\n",
    "For text classification task, the input is a sequence of tokens, the output is a class. So we need to use the many-to-one architecture of RNN, like the following picture shows:\n",
    "\n",
    "![](https://i.stack.imgur.com/F7qzk.jpg)\n",
    "\n",
    "In this step, we need to:\n",
    "- Define a custom class for the text classifier\n",
    "    - Specify the network structure\n",
    "        - The first layer is `nn.Embedding()`\n",
    "    - Specify the forward method\n",
    "        - There is recurrent process in the forward process\n",
    "        - We can't define a `nn.Sequential()` container anymore\n",
    "        - We need to specify the forward process step by step\n",
    "            1. Word embedding\n",
    "            2. Sequence processing with LSTM layer\n",
    "            3. Make prediction using the final hidden state\n",
    "- Specify the device used for computation (cpu, mps, or cuda)\n",
    "- Create an instance of the network and move it to GPU "
   ]
  },
  {
   "cell_type": "code",
   "execution_count": 12,
   "id": "2683da4e-b2d0-434c-a0f4-31006eafaa74",
   "metadata": {},
   "outputs": [],
   "source": [
    "# define a custom neural network class\n",
    "class LSTMClassifier(nn.Module):\n",
    "    def __init__(self, num_embeddings, embedding_dim, hidden_size, num_class):\n",
    "        super().__init__()\n",
    "        self.embedding = nn.Embedding(num_embeddings, embedding_dim)\n",
    "        self.lstm = nn.LSTM(embedding_dim, hidden_size, batch_first = True)\n",
    "        self.fc = nn.Linear(hidden_size, num_class)\n",
    "\n",
    "    def forward(self, x):\n",
    "        x = self.embedding(x)\n",
    "        out, (h, c) = self.lstm(x)\n",
    "        return self.fc(h[-1])"
   ]
  },
  {
   "cell_type": "markdown",
   "id": "ecd75f6b-e2c3-4727-954d-ac8a8c08494a",
   "metadata": {},
   "source": [
    "Here we can see, to create an instance of the network, we need the following parameters:\n",
    "- `num_embeddings` is the number of unique tokens to embed\n",
    "- `embedding_dim` is the number of embedded features to represent the tokens\n",
    "- `hidden_size` is the number of hidden features of LSTM\n",
    "- `num_class` is the number of classes in the dataset\n",
    "\n",
    "In the `forward()` method, we can see the forward process has three steps:\n",
    "- `x = self.embedding(x)` perform word embedding, generate a sequence of embedded tokens\n",
    "- `out, (h, c) = self.lstm(x)` use the LSTM layer to process the sequence of embedded tokens\n",
    "    - `out` is the sequence of all hidden state at each timestep\n",
    "    - `h` is the final hidden state\n",
    "    - `c` is the final cell state\n",
    "- `return self.fc(h[-1])` make prediction using the final hidden state and a fully connected layer\n",
    "    - The shape of `h` is (1, batch_size, hidden_size)\n",
    "    - `h[-1]` delete the first useless dimension, the shape of `h[-1]` is (batch_size, hidden_size)\n",
    "    - The returned values are logits since we have a multi-class classification problem"
   ]
  },
  {
   "cell_type": "code",
   "execution_count": 13,
   "id": "72edd831-b24c-4f74-b5df-97a053b5630b",
   "metadata": {},
   "outputs": [
    {
     "name": "stdout",
     "output_type": "stream",
     "text": [
      "Using mps device\n"
     ]
    }
   ],
   "source": [
    "# get cpu, gpu or mps device for computation\n",
    "device = (\n",
    "    \"cuda\"\n",
    "    if torch.cuda.is_available()\n",
    "    else \"mps\"\n",
    "    if torch.backends.mps.is_available()\n",
    "    else \"cpu\"\n",
    ")\n",
    "print(f\"Using {device} device\")"
   ]
  },
  {
   "cell_type": "code",
   "execution_count": 14,
   "id": "ebd7cd84-573c-468c-8aa4-62e74834b22c",
   "metadata": {},
   "outputs": [],
   "source": [
    "# create the neural network\n",
    "num_embeddings = len(vocab) # number of unique tokens in the vocabulary\n",
    "embedding_dim = 64\n",
    "hidden_size = 32\n",
    "num_class = 4\n",
    "model = LSTMClassifier(num_embeddings, embedding_dim, hidden_size, num_class).to(device)"
   ]
  },
  {
   "cell_type": "markdown",
   "id": "5b6dfec0-5576-4fe7-bd4d-927d507a1ed7",
   "metadata": {},
   "source": [
    "## Step 3. Train the network\n",
    "\n",
    "The code is the same as the previous sessions. We need to:\n",
    "- Define a `train()` function to perform the training process\n",
    "- Specify the training hyper-parameters\n",
    "- Implement the training process\n",
    "- Reload the best model saved during the training process\n",
    "- Visualize the loss history"
   ]
  },
  {
   "cell_type": "code",
   "execution_count": 15,
   "id": "a0cdd2fe-eb81-45f6-999c-4129e6e7182c",
   "metadata": {},
   "outputs": [],
   "source": [
    "# define the training function\n",
    "def train(train_dl, val_dl, model, loss_fn, optimizer, epochs, early_stopping_patience, lr_scheduler):\n",
    "    # initialization\n",
    "    min_val_loss, patience_counter = np.inf, 0\n",
    "    saved_path, start_time = '', datetime.datetime.now()\n",
    "    histories = {'train_batch': [], 'train_epoch': [], 'val_batch': [], 'val_epoch': []}\n",
    "\n",
    "    for epoch in range(epochs):\n",
    "        # train\n",
    "        model.train()\n",
    "        train_epoch_loss = 0.0\n",
    "        for X, y in tqdm(train_dl, desc = f'Training batch\\t'): # tqdm progress bar\n",
    "            X, y = X.to(device), y.to(device)\n",
    "            optimizer.zero_grad()\n",
    "            train_batch_loss = loss_fn(model(X), y)\n",
    "            train_batch_loss.backward()\n",
    "            optimizer.step()\n",
    "            train_epoch_loss += train_batch_loss.item()\n",
    "            histories['train_batch'].append(train_batch_loss.item())\n",
    "        train_epoch_loss /= len(train_dl)\n",
    "        histories['train_epoch'].append(train_epoch_loss)\n",
    "\n",
    "        # validation\n",
    "        model.eval()\n",
    "        val_epoch_loss = 0.0\n",
    "        with torch.no_grad():\n",
    "            for X, y in tqdm(val_dl, desc = f'Validation batch'): # tqdm progress bar\n",
    "                X, y = X.to(device), y.to(device)\n",
    "                val_batch_loss = loss_fn(model(X), y)\n",
    "                val_epoch_loss += val_batch_loss.item()\n",
    "                histories['val_batch'].append(val_batch_loss.item())\n",
    "            val_epoch_loss /= len(val_dl)\n",
    "            histories['val_epoch'].append(val_epoch_loss)\n",
    "\n",
    "        # print log\n",
    "        end_time = datetime.datetime.now()\n",
    "        time_consumed = str(end_time - start_time).split('.')[0]\n",
    "        print(f\"Epoch {epoch + 1}: train loss = {train_epoch_loss:>5f}, val loss = {val_epoch_loss:>5f}, time consumed = {time_consumed}\")\n",
    "\n",
    "        # learning rate decay\n",
    "        current_lr = optimizer.param_groups[0]['lr']\n",
    "        lr_scheduler.step(val_epoch_loss)\n",
    "        if current_lr != optimizer.param_groups[0]['lr']:\n",
    "            print(f'Learning rate reduced after epoch {epoch+1}')\n",
    "\n",
    "        # early stopping\n",
    "        if val_epoch_loss < min_val_loss:\n",
    "            min_val_loss, patience_counter = val_epoch_loss, 0\n",
    "            if os.path.exists(saved_path):\n",
    "                os.remove(saved_path)\n",
    "            time_str = end_time.strftime(\"%Y-%m-%d_%H-%M-%S\")\n",
    "            saved_path = f'epoch_{epoch+1}_val_loss_{val_epoch_loss:>4f}_{time_str}.pth'\n",
    "            torch.save(model.state_dict(), saved_path)\n",
    "            print(f'Model saved after epoch {epoch+1}')\n",
    "        else:\n",
    "            patience_counter += 1\n",
    "            if patience_counter >= early_stopping_patience:\n",
    "                print('Early stopping!')\n",
    "                break\n",
    "                \n",
    "    return histories, saved_path"
   ]
  },
  {
   "cell_type": "code",
   "execution_count": 16,
   "id": "caa9573c-6d04-44c1-90d6-e706b2cb2b87",
   "metadata": {},
   "outputs": [],
   "source": [
    "# define the training hyper-parameters\n",
    "loss_fn = nn.CrossEntropyLoss()\n",
    "learning_rate = 1e-1\n",
    "weight_decay = 1e-5\n",
    "optimizer = torch.optim.SGD(\n",
    "    model.parameters(),\n",
    "    lr = learning_rate,\n",
    "    weight_decay = weight_decay\n",
    ")\n",
    "epochs = 1000\n",
    "early_stopping_patience = 10\n",
    "lr_scheduler = torch.optim.lr_scheduler.ReduceLROnPlateau(\n",
    "    optimizer,\n",
    "    mode = 'min',\n",
    "    factor = 0.1,\n",
    "    patience = 5\n",
    ")"
   ]
  },
  {
   "cell_type": "code",
   "execution_count": 17,
   "id": "e804647d-a6c1-4461-8789-0976f266be92",
   "metadata": {
    "scrolled": true
   },
   "outputs": [
    {
     "name": "stderr",
     "output_type": "stream",
     "text": [
      "Training batch\t: 100%|███████████████████████| 140/140 [00:01<00:00, 110.50it/s]\n",
      "Validation batch: 100%|████████████████████████| 35/35 [00:00<00:00, 257.97it/s]\n"
     ]
    },
    {
     "name": "stdout",
     "output_type": "stream",
     "text": [
      "Epoch 1: train loss = 1.387115, val loss = 1.383173, time consumed = 0:00:01\n",
      "Model saved after epoch 1\n"
     ]
    },
    {
     "name": "stderr",
     "output_type": "stream",
     "text": [
      "Training batch\t: 100%|███████████████████████| 140/140 [00:01<00:00, 124.69it/s]\n",
      "Validation batch: 100%|████████████████████████| 35/35 [00:00<00:00, 190.50it/s]\n"
     ]
    },
    {
     "name": "stdout",
     "output_type": "stream",
     "text": [
      "Epoch 2: train loss = 1.380212, val loss = 1.377623, time consumed = 0:00:02\n",
      "Model saved after epoch 2\n"
     ]
    },
    {
     "name": "stderr",
     "output_type": "stream",
     "text": [
      "Training batch\t: 100%|███████████████████████| 140/140 [00:01<00:00, 116.15it/s]\n",
      "Validation batch: 100%|████████████████████████| 35/35 [00:00<00:00, 182.69it/s]\n"
     ]
    },
    {
     "name": "stdout",
     "output_type": "stream",
     "text": [
      "Epoch 3: train loss = 1.374114, val loss = 1.372230, time consumed = 0:00:04\n",
      "Model saved after epoch 3\n"
     ]
    },
    {
     "name": "stderr",
     "output_type": "stream",
     "text": [
      "Training batch\t: 100%|███████████████████████| 140/140 [00:01<00:00, 139.90it/s]\n",
      "Validation batch: 100%|████████████████████████| 35/35 [00:00<00:00, 186.98it/s]\n"
     ]
    },
    {
     "name": "stdout",
     "output_type": "stream",
     "text": [
      "Epoch 4: train loss = 1.367489, val loss = 1.365607, time consumed = 0:00:05\n",
      "Model saved after epoch 4\n"
     ]
    },
    {
     "name": "stderr",
     "output_type": "stream",
     "text": [
      "Training batch\t: 100%|███████████████████████| 140/140 [00:01<00:00, 117.83it/s]\n",
      "Validation batch: 100%|████████████████████████| 35/35 [00:00<00:00, 173.74it/s]\n"
     ]
    },
    {
     "name": "stdout",
     "output_type": "stream",
     "text": [
      "Epoch 5: train loss = 1.359766, val loss = 1.358232, time consumed = 0:00:06\n",
      "Model saved after epoch 5\n"
     ]
    },
    {
     "name": "stderr",
     "output_type": "stream",
     "text": [
      "Training batch\t: 100%|███████████████████████| 140/140 [00:01<00:00, 117.29it/s]\n",
      "Validation batch: 100%|████████████████████████| 35/35 [00:00<00:00, 462.05it/s]\n"
     ]
    },
    {
     "name": "stdout",
     "output_type": "stream",
     "text": [
      "Epoch 6: train loss = 1.350734, val loss = 1.348767, time consumed = 0:00:08\n",
      "Model saved after epoch 6\n"
     ]
    },
    {
     "name": "stderr",
     "output_type": "stream",
     "text": [
      "Training batch\t: 100%|███████████████████████| 140/140 [00:01<00:00, 138.03it/s]\n",
      "Validation batch: 100%|████████████████████████| 35/35 [00:00<00:00, 186.78it/s]\n"
     ]
    },
    {
     "name": "stdout",
     "output_type": "stream",
     "text": [
      "Epoch 7: train loss = 1.339135, val loss = 1.336400, time consumed = 0:00:09\n",
      "Model saved after epoch 7\n"
     ]
    },
    {
     "name": "stderr",
     "output_type": "stream",
     "text": [
      "Training batch\t: 100%|███████████████████████| 140/140 [00:01<00:00, 113.50it/s]\n",
      "Validation batch: 100%|████████████████████████| 35/35 [00:00<00:00, 181.91it/s]\n"
     ]
    },
    {
     "name": "stdout",
     "output_type": "stream",
     "text": [
      "Epoch 8: train loss = 1.323123, val loss = 1.317160, time consumed = 0:00:10\n",
      "Model saved after epoch 8\n"
     ]
    },
    {
     "name": "stderr",
     "output_type": "stream",
     "text": [
      "Training batch\t: 100%|███████████████████████| 140/140 [00:01<00:00, 139.19it/s]\n",
      "Validation batch: 100%|████████████████████████| 35/35 [00:00<00:00, 199.80it/s]\n"
     ]
    },
    {
     "name": "stdout",
     "output_type": "stream",
     "text": [
      "Epoch 9: train loss = 1.295145, val loss = 1.278055, time consumed = 0:00:12\n",
      "Model saved after epoch 9\n"
     ]
    },
    {
     "name": "stderr",
     "output_type": "stream",
     "text": [
      "Training batch\t: 100%|███████████████████████| 140/140 [00:01<00:00, 115.06it/s]\n",
      "Validation batch: 100%|████████████████████████| 35/35 [00:00<00:00, 180.19it/s]\n"
     ]
    },
    {
     "name": "stdout",
     "output_type": "stream",
     "text": [
      "Epoch 10: train loss = 1.240667, val loss = 1.205647, time consumed = 0:00:13\n",
      "Model saved after epoch 10\n"
     ]
    },
    {
     "name": "stderr",
     "output_type": "stream",
     "text": [
      "Training batch\t: 100%|███████████████████████| 140/140 [00:01<00:00, 118.94it/s]\n",
      "Validation batch: 100%|████████████████████████| 35/35 [00:00<00:00, 192.57it/s]\n"
     ]
    },
    {
     "name": "stdout",
     "output_type": "stream",
     "text": [
      "Epoch 11: train loss = 1.169727, val loss = 1.167184, time consumed = 0:00:15\n",
      "Model saved after epoch 11\n"
     ]
    },
    {
     "name": "stderr",
     "output_type": "stream",
     "text": [
      "Training batch\t: 100%|███████████████████████| 140/140 [00:01<00:00, 131.61it/s]\n",
      "Validation batch: 100%|████████████████████████| 35/35 [00:00<00:00, 169.06it/s]\n"
     ]
    },
    {
     "name": "stdout",
     "output_type": "stream",
     "text": [
      "Epoch 12: train loss = 1.101127, val loss = 1.051167, time consumed = 0:00:16\n",
      "Model saved after epoch 12\n"
     ]
    },
    {
     "name": "stderr",
     "output_type": "stream",
     "text": [
      "Training batch\t: 100%|███████████████████████| 140/140 [00:01<00:00, 115.30it/s]\n",
      "Validation batch: 100%|████████████████████████| 35/35 [00:00<00:00, 198.31it/s]\n"
     ]
    },
    {
     "name": "stdout",
     "output_type": "stream",
     "text": [
      "Epoch 13: train loss = 1.040393, val loss = 1.053106, time consumed = 0:00:17\n"
     ]
    },
    {
     "name": "stderr",
     "output_type": "stream",
     "text": [
      "Training batch\t: 100%|████████████████████████| 140/140 [00:01<00:00, 96.08it/s]\n",
      "Validation batch: 100%|████████████████████████| 35/35 [00:00<00:00, 433.85it/s]\n"
     ]
    },
    {
     "name": "stdout",
     "output_type": "stream",
     "text": [
      "Epoch 14: train loss = 0.979932, val loss = 1.015793, time consumed = 0:00:19\n",
      "Model saved after epoch 14\n"
     ]
    },
    {
     "name": "stderr",
     "output_type": "stream",
     "text": [
      "Training batch\t: 100%|███████████████████████| 140/140 [00:01<00:00, 121.45it/s]\n",
      "Validation batch: 100%|████████████████████████| 35/35 [00:00<00:00, 192.19it/s]\n"
     ]
    },
    {
     "name": "stdout",
     "output_type": "stream",
     "text": [
      "Epoch 15: train loss = 0.925878, val loss = 1.023536, time consumed = 0:00:20\n"
     ]
    },
    {
     "name": "stderr",
     "output_type": "stream",
     "text": [
      "Training batch\t: 100%|████████████████████████| 140/140 [00:01<00:00, 99.09it/s]\n",
      "Validation batch: 100%|████████████████████████| 35/35 [00:00<00:00, 175.46it/s]\n"
     ]
    },
    {
     "name": "stdout",
     "output_type": "stream",
     "text": [
      "Epoch 16: train loss = 0.888293, val loss = 0.896178, time consumed = 0:00:22\n",
      "Model saved after epoch 16\n"
     ]
    },
    {
     "name": "stderr",
     "output_type": "stream",
     "text": [
      "Training batch\t: 100%|███████████████████████| 140/140 [00:01<00:00, 112.94it/s]\n",
      "Validation batch: 100%|████████████████████████| 35/35 [00:00<00:00, 466.97it/s]\n"
     ]
    },
    {
     "name": "stdout",
     "output_type": "stream",
     "text": [
      "Epoch 17: train loss = 0.847278, val loss = 0.961688, time consumed = 0:00:23\n"
     ]
    },
    {
     "name": "stderr",
     "output_type": "stream",
     "text": [
      "Training batch\t: 100%|███████████████████████| 140/140 [00:01<00:00, 117.14it/s]\n",
      "Validation batch: 100%|████████████████████████| 35/35 [00:00<00:00, 203.10it/s]\n"
     ]
    },
    {
     "name": "stdout",
     "output_type": "stream",
     "text": [
      "Epoch 18: train loss = 0.809314, val loss = 0.795182, time consumed = 0:00:25\n",
      "Model saved after epoch 18\n"
     ]
    },
    {
     "name": "stderr",
     "output_type": "stream",
     "text": [
      "Training batch\t: 100%|███████████████████████| 140/140 [00:01<00:00, 113.16it/s]\n",
      "Validation batch: 100%|████████████████████████| 35/35 [00:00<00:00, 200.36it/s]\n"
     ]
    },
    {
     "name": "stdout",
     "output_type": "stream",
     "text": [
      "Epoch 19: train loss = 0.778591, val loss = 0.786185, time consumed = 0:00:26\n",
      "Model saved after epoch 19\n"
     ]
    },
    {
     "name": "stderr",
     "output_type": "stream",
     "text": [
      "Training batch\t: 100%|███████████████████████| 140/140 [00:01<00:00, 136.31it/s]\n",
      "Validation batch: 100%|████████████████████████| 35/35 [00:00<00:00, 263.41it/s]\n"
     ]
    },
    {
     "name": "stdout",
     "output_type": "stream",
     "text": [
      "Epoch 20: train loss = 0.754159, val loss = 0.796213, time consumed = 0:00:27\n"
     ]
    },
    {
     "name": "stderr",
     "output_type": "stream",
     "text": [
      "Training batch\t: 100%|███████████████████████| 140/140 [00:01<00:00, 100.97it/s]\n",
      "Validation batch: 100%|████████████████████████| 35/35 [00:00<00:00, 187.36it/s]\n"
     ]
    },
    {
     "name": "stdout",
     "output_type": "stream",
     "text": [
      "Epoch 21: train loss = 0.729242, val loss = 0.764008, time consumed = 0:00:29\n",
      "Model saved after epoch 21\n"
     ]
    },
    {
     "name": "stderr",
     "output_type": "stream",
     "text": [
      "Training batch\t: 100%|███████████████████████| 140/140 [00:01<00:00, 115.37it/s]\n",
      "Validation batch: 100%|████████████████████████| 35/35 [00:00<00:00, 132.58it/s]\n"
     ]
    },
    {
     "name": "stdout",
     "output_type": "stream",
     "text": [
      "Epoch 22: train loss = 0.712388, val loss = 0.738910, time consumed = 0:00:30\n",
      "Model saved after epoch 22\n"
     ]
    },
    {
     "name": "stderr",
     "output_type": "stream",
     "text": [
      "Training batch\t: 100%|███████████████████████| 140/140 [00:01<00:00, 125.49it/s]\n",
      "Validation batch: 100%|████████████████████████| 35/35 [00:00<00:00, 203.13it/s]\n"
     ]
    },
    {
     "name": "stdout",
     "output_type": "stream",
     "text": [
      "Epoch 23: train loss = 0.680762, val loss = 0.713206, time consumed = 0:00:32\n",
      "Model saved after epoch 23\n"
     ]
    },
    {
     "name": "stderr",
     "output_type": "stream",
     "text": [
      "Training batch\t: 100%|███████████████████████| 140/140 [00:01<00:00, 113.83it/s]\n",
      "Validation batch: 100%|████████████████████████| 35/35 [00:00<00:00, 188.36it/s]\n"
     ]
    },
    {
     "name": "stdout",
     "output_type": "stream",
     "text": [
      "Epoch 24: train loss = 0.669828, val loss = 0.709286, time consumed = 0:00:33\n",
      "Model saved after epoch 24\n"
     ]
    },
    {
     "name": "stderr",
     "output_type": "stream",
     "text": [
      "Training batch\t: 100%|███████████████████████| 140/140 [00:01<00:00, 119.21it/s]\n",
      "Validation batch: 100%|████████████████████████| 35/35 [00:00<00:00, 148.24it/s]\n"
     ]
    },
    {
     "name": "stdout",
     "output_type": "stream",
     "text": [
      "Epoch 25: train loss = 0.646565, val loss = 0.675724, time consumed = 0:00:35\n",
      "Model saved after epoch 25\n"
     ]
    },
    {
     "name": "stderr",
     "output_type": "stream",
     "text": [
      "Training batch\t: 100%|███████████████████████| 140/140 [00:01<00:00, 128.39it/s]\n",
      "Validation batch: 100%|████████████████████████| 35/35 [00:00<00:00, 185.26it/s]\n"
     ]
    },
    {
     "name": "stdout",
     "output_type": "stream",
     "text": [
      "Epoch 26: train loss = 0.635178, val loss = 0.679467, time consumed = 0:00:36\n"
     ]
    },
    {
     "name": "stderr",
     "output_type": "stream",
     "text": [
      "Training batch\t: 100%|████████████████████████| 140/140 [00:01<00:00, 96.86it/s]\n",
      "Validation batch: 100%|████████████████████████| 35/35 [00:00<00:00, 190.93it/s]\n"
     ]
    },
    {
     "name": "stdout",
     "output_type": "stream",
     "text": [
      "Epoch 27: train loss = 0.616754, val loss = 0.676282, time consumed = 0:00:38\n"
     ]
    },
    {
     "name": "stderr",
     "output_type": "stream",
     "text": [
      "Training batch\t: 100%|████████████████████████| 140/140 [00:01<00:00, 95.01it/s]\n",
      "Validation batch: 100%|████████████████████████| 35/35 [00:00<00:00, 439.75it/s]\n"
     ]
    },
    {
     "name": "stdout",
     "output_type": "stream",
     "text": [
      "Epoch 28: train loss = 0.605494, val loss = 0.658729, time consumed = 0:00:39\n",
      "Model saved after epoch 28\n"
     ]
    },
    {
     "name": "stderr",
     "output_type": "stream",
     "text": [
      "Training batch\t: 100%|███████████████████████| 140/140 [00:01<00:00, 126.12it/s]\n",
      "Validation batch: 100%|████████████████████████| 35/35 [00:00<00:00, 181.32it/s]\n"
     ]
    },
    {
     "name": "stdout",
     "output_type": "stream",
     "text": [
      "Epoch 29: train loss = 0.596838, val loss = 0.650204, time consumed = 0:00:41\n",
      "Model saved after epoch 29\n"
     ]
    },
    {
     "name": "stderr",
     "output_type": "stream",
     "text": [
      "Training batch\t: 100%|███████████████████████| 140/140 [00:01<00:00, 118.64it/s]\n",
      "Validation batch: 100%|████████████████████████| 35/35 [00:00<00:00, 201.77it/s]\n"
     ]
    },
    {
     "name": "stdout",
     "output_type": "stream",
     "text": [
      "Epoch 30: train loss = 0.580893, val loss = 0.631987, time consumed = 0:00:42\n",
      "Model saved after epoch 30\n"
     ]
    },
    {
     "name": "stderr",
     "output_type": "stream",
     "text": [
      "Training batch\t: 100%|███████████████████████| 140/140 [00:01<00:00, 131.74it/s]\n",
      "Validation batch: 100%|████████████████████████| 35/35 [00:00<00:00, 230.76it/s]\n"
     ]
    },
    {
     "name": "stdout",
     "output_type": "stream",
     "text": [
      "Epoch 31: train loss = 0.572151, val loss = 0.634396, time consumed = 0:00:43\n"
     ]
    },
    {
     "name": "stderr",
     "output_type": "stream",
     "text": [
      "Training batch\t: 100%|███████████████████████| 140/140 [00:01<00:00, 103.75it/s]\n",
      "Validation batch: 100%|████████████████████████| 35/35 [00:00<00:00, 180.79it/s]\n"
     ]
    },
    {
     "name": "stdout",
     "output_type": "stream",
     "text": [
      "Epoch 32: train loss = 0.566652, val loss = 0.625558, time consumed = 0:00:45\n",
      "Model saved after epoch 32\n"
     ]
    },
    {
     "name": "stderr",
     "output_type": "stream",
     "text": [
      "Training batch\t: 100%|███████████████████████| 140/140 [00:01<00:00, 115.77it/s]\n",
      "Validation batch: 100%|████████████████████████| 35/35 [00:00<00:00, 189.40it/s]\n"
     ]
    },
    {
     "name": "stdout",
     "output_type": "stream",
     "text": [
      "Epoch 33: train loss = 0.557056, val loss = 0.622917, time consumed = 0:00:46\n",
      "Model saved after epoch 33\n"
     ]
    },
    {
     "name": "stderr",
     "output_type": "stream",
     "text": [
      "Training batch\t: 100%|███████████████████████| 140/140 [00:00<00:00, 140.95it/s]\n",
      "Validation batch: 100%|████████████████████████| 35/35 [00:00<00:00, 185.61it/s]\n"
     ]
    },
    {
     "name": "stdout",
     "output_type": "stream",
     "text": [
      "Epoch 34: train loss = 0.546078, val loss = 0.676369, time consumed = 0:00:47\n"
     ]
    },
    {
     "name": "stderr",
     "output_type": "stream",
     "text": [
      "Training batch\t: 100%|████████████████████████| 140/140 [00:01<00:00, 96.04it/s]\n",
      "Validation batch: 100%|████████████████████████| 35/35 [00:00<00:00, 204.89it/s]\n"
     ]
    },
    {
     "name": "stdout",
     "output_type": "stream",
     "text": [
      "Epoch 35: train loss = 0.539775, val loss = 0.617450, time consumed = 0:00:49\n",
      "Model saved after epoch 35\n"
     ]
    },
    {
     "name": "stderr",
     "output_type": "stream",
     "text": [
      "Training batch\t: 100%|███████████████████████| 140/140 [00:01<00:00, 110.92it/s]\n",
      "Validation batch: 100%|████████████████████████| 35/35 [00:00<00:00, 497.03it/s]\n"
     ]
    },
    {
     "name": "stdout",
     "output_type": "stream",
     "text": [
      "Epoch 36: train loss = 0.534701, val loss = 0.611632, time consumed = 0:00:50\n",
      "Model saved after epoch 36\n"
     ]
    },
    {
     "name": "stderr",
     "output_type": "stream",
     "text": [
      "Training batch\t: 100%|███████████████████████| 140/140 [00:01<00:00, 125.10it/s]\n",
      "Validation batch: 100%|████████████████████████| 35/35 [00:00<00:00, 190.00it/s]\n"
     ]
    },
    {
     "name": "stdout",
     "output_type": "stream",
     "text": [
      "Epoch 37: train loss = 0.525860, val loss = 0.609661, time consumed = 0:00:52\n",
      "Model saved after epoch 37\n"
     ]
    },
    {
     "name": "stderr",
     "output_type": "stream",
     "text": [
      "Training batch\t: 100%|███████████████████████| 140/140 [00:01<00:00, 111.49it/s]\n",
      "Validation batch: 100%|████████████████████████| 35/35 [00:00<00:00, 195.63it/s]\n"
     ]
    },
    {
     "name": "stdout",
     "output_type": "stream",
     "text": [
      "Epoch 38: train loss = 0.521203, val loss = 0.622073, time consumed = 0:00:53\n"
     ]
    },
    {
     "name": "stderr",
     "output_type": "stream",
     "text": [
      "Training batch\t: 100%|███████████████████████| 140/140 [00:01<00:00, 110.82it/s]\n",
      "Validation batch: 100%|████████████████████████| 35/35 [00:00<00:00, 233.03it/s]\n"
     ]
    },
    {
     "name": "stdout",
     "output_type": "stream",
     "text": [
      "Epoch 39: train loss = 0.514987, val loss = 0.596837, time consumed = 0:00:55\n",
      "Model saved after epoch 39\n"
     ]
    },
    {
     "name": "stderr",
     "output_type": "stream",
     "text": [
      "Training batch\t: 100%|███████████████████████| 140/140 [00:01<00:00, 115.37it/s]\n",
      "Validation batch: 100%|████████████████████████| 35/35 [00:00<00:00, 187.50it/s]\n"
     ]
    },
    {
     "name": "stdout",
     "output_type": "stream",
     "text": [
      "Epoch 40: train loss = 0.510077, val loss = 0.596866, time consumed = 0:00:56\n"
     ]
    },
    {
     "name": "stderr",
     "output_type": "stream",
     "text": [
      "Training batch\t: 100%|████████████████████████| 140/140 [00:01<00:00, 97.00it/s]\n",
      "Validation batch: 100%|████████████████████████| 35/35 [00:00<00:00, 181.96it/s]\n"
     ]
    },
    {
     "name": "stdout",
     "output_type": "stream",
     "text": [
      "Epoch 41: train loss = 0.501832, val loss = 0.592870, time consumed = 0:00:58\n",
      "Model saved after epoch 41\n"
     ]
    },
    {
     "name": "stderr",
     "output_type": "stream",
     "text": [
      "Training batch\t: 100%|███████████████████████| 140/140 [00:01<00:00, 117.95it/s]\n",
      "Validation batch: 100%|████████████████████████| 35/35 [00:00<00:00, 202.23it/s]\n"
     ]
    },
    {
     "name": "stdout",
     "output_type": "stream",
     "text": [
      "Epoch 42: train loss = 0.496453, val loss = 0.596016, time consumed = 0:00:59\n"
     ]
    },
    {
     "name": "stderr",
     "output_type": "stream",
     "text": [
      "Training batch\t: 100%|████████████████████████| 140/140 [00:01<00:00, 99.71it/s]\n",
      "Validation batch: 100%|████████████████████████| 35/35 [00:00<00:00, 187.67it/s]\n"
     ]
    },
    {
     "name": "stdout",
     "output_type": "stream",
     "text": [
      "Epoch 43: train loss = 0.496813, val loss = 0.587103, time consumed = 0:01:01\n",
      "Model saved after epoch 43\n"
     ]
    },
    {
     "name": "stderr",
     "output_type": "stream",
     "text": [
      "Training batch\t: 100%|███████████████████████| 140/140 [00:01<00:00, 105.59it/s]\n",
      "Validation batch: 100%|████████████████████████| 35/35 [00:00<00:00, 166.25it/s]\n"
     ]
    },
    {
     "name": "stdout",
     "output_type": "stream",
     "text": [
      "Epoch 44: train loss = 0.489893, val loss = 0.591888, time consumed = 0:01:02\n"
     ]
    },
    {
     "name": "stderr",
     "output_type": "stream",
     "text": [
      "Training batch\t: 100%|███████████████████████| 140/140 [00:01<00:00, 128.29it/s]\n",
      "Validation batch: 100%|████████████████████████| 35/35 [00:00<00:00, 176.12it/s]\n"
     ]
    },
    {
     "name": "stdout",
     "output_type": "stream",
     "text": [
      "Epoch 45: train loss = 0.482506, val loss = 0.590215, time consumed = 0:01:04\n"
     ]
    },
    {
     "name": "stderr",
     "output_type": "stream",
     "text": [
      "Training batch\t: 100%|███████████████████████| 140/140 [00:01<00:00, 104.06it/s]\n",
      "Validation batch: 100%|████████████████████████| 35/35 [00:00<00:00, 202.77it/s]\n"
     ]
    },
    {
     "name": "stdout",
     "output_type": "stream",
     "text": [
      "Epoch 46: train loss = 0.480188, val loss = 0.656056, time consumed = 0:01:05\n"
     ]
    },
    {
     "name": "stderr",
     "output_type": "stream",
     "text": [
      "Training batch\t: 100%|███████████████████████| 140/140 [00:01<00:00, 108.18it/s]\n",
      "Validation batch: 100%|████████████████████████| 35/35 [00:00<00:00, 188.28it/s]\n"
     ]
    },
    {
     "name": "stdout",
     "output_type": "stream",
     "text": [
      "Epoch 47: train loss = 0.472890, val loss = 0.612793, time consumed = 0:01:07\n"
     ]
    },
    {
     "name": "stderr",
     "output_type": "stream",
     "text": [
      "Training batch\t: 100%|████████████████████████| 140/140 [00:01<00:00, 96.61it/s]\n",
      "Validation batch: 100%|████████████████████████| 35/35 [00:00<00:00, 185.26it/s]\n"
     ]
    },
    {
     "name": "stdout",
     "output_type": "stream",
     "text": [
      "Epoch 48: train loss = 0.470695, val loss = 0.587316, time consumed = 0:01:08\n"
     ]
    },
    {
     "name": "stderr",
     "output_type": "stream",
     "text": [
      "Training batch\t: 100%|████████████████████████| 140/140 [00:01<00:00, 96.53it/s]\n",
      "Validation batch: 100%|████████████████████████| 35/35 [00:00<00:00, 206.27it/s]\n"
     ]
    },
    {
     "name": "stdout",
     "output_type": "stream",
     "text": [
      "Epoch 49: train loss = 0.463869, val loss = 0.576426, time consumed = 0:01:10\n",
      "Model saved after epoch 49\n"
     ]
    },
    {
     "name": "stderr",
     "output_type": "stream",
     "text": [
      "Training batch\t: 100%|███████████████████████| 140/140 [00:01<00:00, 123.44it/s]\n",
      "Validation batch: 100%|████████████████████████| 35/35 [00:00<00:00, 182.16it/s]\n"
     ]
    },
    {
     "name": "stdout",
     "output_type": "stream",
     "text": [
      "Epoch 50: train loss = 0.462985, val loss = 0.580856, time consumed = 0:01:11\n"
     ]
    },
    {
     "name": "stderr",
     "output_type": "stream",
     "text": [
      "Training batch\t: 100%|████████████████████████| 140/140 [00:01<00:00, 98.50it/s]\n",
      "Validation batch: 100%|████████████████████████| 35/35 [00:00<00:00, 184.06it/s]\n"
     ]
    },
    {
     "name": "stdout",
     "output_type": "stream",
     "text": [
      "Epoch 51: train loss = 0.458673, val loss = 0.574023, time consumed = 0:01:13\n",
      "Model saved after epoch 51\n"
     ]
    },
    {
     "name": "stderr",
     "output_type": "stream",
     "text": [
      "Training batch\t: 100%|███████████████████████| 140/140 [00:01<00:00, 113.39it/s]\n",
      "Validation batch: 100%|████████████████████████| 35/35 [00:00<00:00, 177.25it/s]\n"
     ]
    },
    {
     "name": "stdout",
     "output_type": "stream",
     "text": [
      "Epoch 52: train loss = 0.453399, val loss = 0.598822, time consumed = 0:01:14\n"
     ]
    },
    {
     "name": "stderr",
     "output_type": "stream",
     "text": [
      "Training batch\t: 100%|███████████████████████| 140/140 [00:01<00:00, 113.07it/s]\n",
      "Validation batch: 100%|████████████████████████| 35/35 [00:00<00:00, 181.61it/s]\n"
     ]
    },
    {
     "name": "stdout",
     "output_type": "stream",
     "text": [
      "Epoch 53: train loss = 0.450457, val loss = 0.577080, time consumed = 0:01:16\n"
     ]
    },
    {
     "name": "stderr",
     "output_type": "stream",
     "text": [
      "Training batch\t: 100%|████████████████████████| 140/140 [00:01<00:00, 97.04it/s]\n",
      "Validation batch: 100%|████████████████████████| 35/35 [00:00<00:00, 193.40it/s]\n"
     ]
    },
    {
     "name": "stdout",
     "output_type": "stream",
     "text": [
      "Epoch 54: train loss = 0.448870, val loss = 0.581753, time consumed = 0:01:17\n"
     ]
    },
    {
     "name": "stderr",
     "output_type": "stream",
     "text": [
      "Training batch\t: 100%|████████████████████████| 140/140 [00:01<00:00, 96.92it/s]\n",
      "Validation batch: 100%|████████████████████████| 35/35 [00:00<00:00, 176.20it/s]\n"
     ]
    },
    {
     "name": "stdout",
     "output_type": "stream",
     "text": [
      "Epoch 55: train loss = 0.445354, val loss = 0.579692, time consumed = 0:01:19\n"
     ]
    },
    {
     "name": "stderr",
     "output_type": "stream",
     "text": [
      "Training batch\t: 100%|███████████████████████| 140/140 [00:01<00:00, 110.11it/s]\n",
      "Validation batch: 100%|████████████████████████| 35/35 [00:00<00:00, 185.81it/s]\n"
     ]
    },
    {
     "name": "stdout",
     "output_type": "stream",
     "text": [
      "Epoch 56: train loss = 0.438010, val loss = 0.570320, time consumed = 0:01:21\n",
      "Model saved after epoch 56\n"
     ]
    },
    {
     "name": "stderr",
     "output_type": "stream",
     "text": [
      "Training batch\t: 100%|███████████████████████| 140/140 [00:01<00:00, 114.85it/s]\n",
      "Validation batch: 100%|████████████████████████| 35/35 [00:00<00:00, 188.87it/s]\n"
     ]
    },
    {
     "name": "stdout",
     "output_type": "stream",
     "text": [
      "Epoch 57: train loss = 0.435922, val loss = 0.569311, time consumed = 0:01:22\n",
      "Model saved after epoch 57\n"
     ]
    },
    {
     "name": "stderr",
     "output_type": "stream",
     "text": [
      "Training batch\t: 100%|███████████████████████| 140/140 [00:01<00:00, 115.86it/s]\n",
      "Validation batch: 100%|████████████████████████| 35/35 [00:00<00:00, 182.57it/s]\n"
     ]
    },
    {
     "name": "stdout",
     "output_type": "stream",
     "text": [
      "Epoch 58: train loss = 0.434206, val loss = 0.583496, time consumed = 0:01:24\n"
     ]
    },
    {
     "name": "stderr",
     "output_type": "stream",
     "text": [
      "Training batch\t: 100%|███████████████████████| 140/140 [00:01<00:00, 106.80it/s]\n",
      "Validation batch: 100%|████████████████████████| 35/35 [00:00<00:00, 188.50it/s]\n"
     ]
    },
    {
     "name": "stdout",
     "output_type": "stream",
     "text": [
      "Epoch 59: train loss = 0.429804, val loss = 0.580662, time consumed = 0:01:25\n"
     ]
    },
    {
     "name": "stderr",
     "output_type": "stream",
     "text": [
      "Training batch\t: 100%|████████████████████████| 140/140 [00:01<00:00, 98.52it/s]\n",
      "Validation batch: 100%|████████████████████████| 35/35 [00:00<00:00, 209.31it/s]\n"
     ]
    },
    {
     "name": "stdout",
     "output_type": "stream",
     "text": [
      "Epoch 60: train loss = 0.425487, val loss = 0.566373, time consumed = 0:01:27\n",
      "Model saved after epoch 60\n"
     ]
    },
    {
     "name": "stderr",
     "output_type": "stream",
     "text": [
      "Training batch\t: 100%|███████████████████████| 140/140 [00:01<00:00, 126.08it/s]\n",
      "Validation batch: 100%|████████████████████████| 35/35 [00:00<00:00, 268.72it/s]\n"
     ]
    },
    {
     "name": "stdout",
     "output_type": "stream",
     "text": [
      "Epoch 61: train loss = 0.422140, val loss = 0.571322, time consumed = 0:01:28\n"
     ]
    },
    {
     "name": "stderr",
     "output_type": "stream",
     "text": [
      "Training batch\t: 100%|███████████████████████| 140/140 [00:01<00:00, 107.76it/s]\n",
      "Validation batch: 100%|████████████████████████| 35/35 [00:00<00:00, 185.56it/s]\n"
     ]
    },
    {
     "name": "stdout",
     "output_type": "stream",
     "text": [
      "Epoch 62: train loss = 0.422121, val loss = 0.563121, time consumed = 0:01:29\n",
      "Model saved after epoch 62\n"
     ]
    },
    {
     "name": "stderr",
     "output_type": "stream",
     "text": [
      "Training batch\t: 100%|███████████████████████| 140/140 [00:01<00:00, 116.61it/s]\n",
      "Validation batch: 100%|████████████████████████| 35/35 [00:00<00:00, 188.32it/s]\n"
     ]
    },
    {
     "name": "stdout",
     "output_type": "stream",
     "text": [
      "Epoch 63: train loss = 0.421110, val loss = 0.564578, time consumed = 0:01:31\n"
     ]
    },
    {
     "name": "stderr",
     "output_type": "stream",
     "text": [
      "Training batch\t: 100%|███████████████████████| 140/140 [00:01<00:00, 113.73it/s]\n",
      "Validation batch: 100%|████████████████████████| 35/35 [00:00<00:00, 181.02it/s]\n"
     ]
    },
    {
     "name": "stdout",
     "output_type": "stream",
     "text": [
      "Epoch 64: train loss = 0.413702, val loss = 0.594718, time consumed = 0:01:32\n"
     ]
    },
    {
     "name": "stderr",
     "output_type": "stream",
     "text": [
      "Training batch\t: 100%|████████████████████████| 140/140 [00:01<00:00, 95.87it/s]\n",
      "Validation batch: 100%|████████████████████████| 35/35 [00:00<00:00, 195.09it/s]\n"
     ]
    },
    {
     "name": "stdout",
     "output_type": "stream",
     "text": [
      "Epoch 65: train loss = 0.411969, val loss = 0.565648, time consumed = 0:01:34\n"
     ]
    },
    {
     "name": "stderr",
     "output_type": "stream",
     "text": [
      "Training batch\t: 100%|████████████████████████| 140/140 [00:01<00:00, 98.82it/s]\n",
      "Validation batch: 100%|████████████████████████| 35/35 [00:00<00:00, 172.11it/s]\n"
     ]
    },
    {
     "name": "stdout",
     "output_type": "stream",
     "text": [
      "Epoch 66: train loss = 0.408939, val loss = 0.567718, time consumed = 0:01:36\n"
     ]
    },
    {
     "name": "stderr",
     "output_type": "stream",
     "text": [
      "Training batch\t: 100%|███████████████████████| 140/140 [00:01<00:00, 126.86it/s]\n",
      "Validation batch: 100%|████████████████████████| 35/35 [00:00<00:00, 179.61it/s]\n"
     ]
    },
    {
     "name": "stdout",
     "output_type": "stream",
     "text": [
      "Epoch 67: train loss = 0.405144, val loss = 0.570264, time consumed = 0:01:37\n"
     ]
    },
    {
     "name": "stderr",
     "output_type": "stream",
     "text": [
      "Training batch\t: 100%|████████████████████████| 140/140 [00:01<00:00, 97.26it/s]\n",
      "Validation batch: 100%|████████████████████████| 35/35 [00:00<00:00, 179.63it/s]\n"
     ]
    },
    {
     "name": "stdout",
     "output_type": "stream",
     "text": [
      "Epoch 68: train loss = 0.404567, val loss = 0.563849, time consumed = 0:01:38\n",
      "Learning rate reduced after epoch 68\n"
     ]
    },
    {
     "name": "stderr",
     "output_type": "stream",
     "text": [
      "Training batch\t: 100%|███████████████████████| 140/140 [00:01<00:00, 127.84it/s]\n",
      "Validation batch: 100%|████████████████████████| 35/35 [00:00<00:00, 209.09it/s]\n"
     ]
    },
    {
     "name": "stdout",
     "output_type": "stream",
     "text": [
      "Epoch 69: train loss = 0.386386, val loss = 0.564052, time consumed = 0:01:40\n"
     ]
    },
    {
     "name": "stderr",
     "output_type": "stream",
     "text": [
      "Training batch\t: 100%|███████████████████████| 140/140 [00:01<00:00, 101.40it/s]\n",
      "Validation batch: 100%|████████████████████████| 35/35 [00:00<00:00, 186.64it/s]\n"
     ]
    },
    {
     "name": "stdout",
     "output_type": "stream",
     "text": [
      "Epoch 70: train loss = 0.385252, val loss = 0.564838, time consumed = 0:01:41\n"
     ]
    },
    {
     "name": "stderr",
     "output_type": "stream",
     "text": [
      "Training batch\t: 100%|████████████████████████| 140/140 [00:01<00:00, 96.75it/s]\n",
      "Validation batch: 100%|████████████████████████| 35/35 [00:00<00:00, 179.21it/s]\n"
     ]
    },
    {
     "name": "stdout",
     "output_type": "stream",
     "text": [
      "Epoch 71: train loss = 0.384244, val loss = 0.565454, time consumed = 0:01:43\n"
     ]
    },
    {
     "name": "stderr",
     "output_type": "stream",
     "text": [
      "Training batch\t: 100%|███████████████████████| 140/140 [00:01<00:00, 112.44it/s]\n",
      "Validation batch: 100%|████████████████████████| 35/35 [00:00<00:00, 189.44it/s]"
     ]
    },
    {
     "name": "stdout",
     "output_type": "stream",
     "text": [
      "Epoch 72: train loss = 0.383940, val loss = 0.565271, time consumed = 0:01:44\n",
      "Early stopping!\n"
     ]
    },
    {
     "name": "stderr",
     "output_type": "stream",
     "text": [
      "\n"
     ]
    },
    {
     "data": {
      "text/plain": [
       "<All keys matched successfully>"
      ]
     },
     "execution_count": 17,
     "metadata": {},
     "output_type": "execute_result"
    }
   ],
   "source": [
    "# train the neural network\n",
    "histories, saved_path = train(\n",
    "    train_dl,\n",
    "    val_dl,\n",
    "    model,\n",
    "    loss_fn,\n",
    "    optimizer,\n",
    "    epochs,\n",
    "    early_stopping_patience,\n",
    "    lr_scheduler\n",
    ")\n",
    "# reload the best model\n",
    "model.load_state_dict(torch.load(saved_path))"
   ]
  },
  {
   "cell_type": "code",
   "execution_count": 18,
   "id": "70f6559a-2baa-4983-9450-f68a5335cbfe",
   "metadata": {},
   "outputs": [
    {
     "data": {
      "image/png": "[encoded data removed]",
      "text/plain": [
       "<Figure size 640x480 with 1 Axes>"
      ]
     },
     "metadata": {},
     "output_type": "display_data"
    }
   ],
   "source": [
    "# plot the train vs. val loss history\n",
    "plt.figure()\n",
    "plt.plot(np.arange(len(histories['train_epoch'])), histories['train_epoch'], '-', label = 'train loss')\n",
    "plt.plot(np.arange(len(histories['val_epoch'])), histories['val_epoch'], '-', label = 'val loss')\n",
    "plt.title('train vs. validation loss history')\n",
    "plt.xlabel('epoch')\n",
    "plt.ylabel('loss')\n",
    "plt.legend()\n",
    "plt.show()"
   ]
  },
  {
   "cell_type": "markdown",
   "id": "64fc8ea1-ddff-4666-b20e-30fbf7c0e207",
   "metadata": {},
   "source": [
    "## Step 4. Test and evaluation\n",
    "\n",
    "The code is the same as the previous sessions. We need to:\n",
    "- Define a `test()` function to make predictions on the test set\n",
    "- Compute the classification report for evaluation"
   ]
  },
  {
   "cell_type": "code",
   "execution_count": 19,
   "id": "869ddf30-4d0f-49d7-a938-9e417fe2f444",
   "metadata": {},
   "outputs": [],
   "source": [
    "# define a function to make predictions on test dataset and evaluate the performance\n",
    "def test(dataloader, model, loss_fn):\n",
    "    logits, probs, preds = [], [], []\n",
    "    with torch.no_grad():\n",
    "        loss = 0.0\n",
    "        for (X, y) in dataloader:\n",
    "            X, y = X.to(device), y.to(device) # move data to GPU\n",
    "            batch_logits = model(X)\n",
    "            batch_loss = loss_fn(batch_logits, y)\n",
    "            loss += batch_loss.item()\n",
    "\n",
    "            batch_probs = torch.softmax(batch_logits, dim = -1)\n",
    "            _, batch_preds = torch.max(batch_logits, 1)\n",
    "\n",
    "            logits.append(batch_logits.cpu().numpy())\n",
    "            probs.append(batch_probs.cpu().numpy())\n",
    "            preds.append(batch_preds.cpu().numpy())\n",
    "        loss /= len(dataloader)\n",
    "        print(f\"test loss = {loss}\")\n",
    "    return np.concatenate(logits), np.concatenate(probs), np.concatenate(preds), loss"
   ]
  },
  {
   "cell_type": "code",
   "execution_count": 20,
   "id": "7046a1bf-2a17-430e-8780-11772302159b",
   "metadata": {},
   "outputs": [
    {
     "name": "stdout",
     "output_type": "stream",
     "text": [
      "test loss = 0.5631358750661214\n",
      "              precision    recall  f1-score   support\n",
      "\n",
      "       World       0.81      0.81      0.81      9499\n",
      "      Sports       0.86      0.87      0.86      9690\n",
      "    Business       0.77      0.75      0.76      9530\n",
      "     Sci/Tec       0.75      0.77      0.76      9561\n",
      "\n",
      "    accuracy                           0.80     38280\n",
      "   macro avg       0.80      0.80      0.80     38280\n",
      "weighted avg       0.80      0.80      0.80     38280\n",
      "\n"
     ]
    }
   ],
   "source": [
    "# make prediction on test set and evaluate the performance\n",
    "test_logits, test_prob, test_pred, test_loss = test(test_dl, model, loss_fn)\n",
    "\n",
    "# obtain test labels\n",
    "test_label = []\n",
    "for (_, y) in test_dl:\n",
    "    test_label.extend(y.cpu().numpy())\n",
    "    \n",
    "print(classification_report(test_label, test_pred, target_names = classes))"
   ]
  },
  {
   "cell_type": "markdown",
   "id": "deef4517-5cb7-4f8f-8aa5-6e29fa126cc6",
   "metadata": {},
   "source": [
    "## Step 5. Make predictions on unseen data\n",
    "\n",
    "To use the trained mode, we can feed some unseen news articles and let the network make predictions. To do that, we can:\n",
    "- Specify an unseen news article\n",
    "- Define a `predict()` function for making predictions\n",
    "    - Tokenize the unseen news article\n",
    "    - Cut/Pad the sequence of tokens to the pre-defined length\n",
    "    - Feed the sequence to the network and make prediction"
   ]
  },
  {
   "cell_type": "code",
   "execution_count": 21,
   "id": "1f26fefc-7c34-4136-9106-d864d22c2f1c",
   "metadata": {},
   "outputs": [
    {
     "name": "stdout",
     "output_type": "stream",
     "text": [
      "Most stellar magnetic fields — including the Sun’s — are produced by a dynamo that is generated in interior layers undergoing convection. Massive stars (8 or more solar masses) do not have convective interiors, so it has been unclear why about 7% have magnetic fields. Using ESO’s Very Large Telescope Interferometer, astronomers have observed a binary massive star called HD 148937 and found that one member of the system is magnetic and appears to be younger than its companion. They argue that the system originally contained three or more stars and then experienced a merger that produced the magnetic star and made it appear younger.\n"
     ]
    }
   ],
   "source": [
    "# specify an unseen news article\n",
    "unseen_news = 'Most stellar magnetic fields — including the Sun’s — are produced by a dynamo that is generated in interior layers undergoing convection. Massive stars (8 or more solar masses) do not have convective interiors, so it has been unclear why about 7% have magnetic fields. Using ESO’s Very Large Telescope Interferometer, astronomers have observed a binary massive star called HD 148937 and found that one member of the system is magnetic and appears to be younger than its companion. They argue that the system originally contained three or more stars and then experienced a merger that produced the magnetic star and made it appear younger.'\n",
    "print(unseen_news)"
   ]
  },
  {
   "cell_type": "code",
   "execution_count": 22,
   "id": "b97bac18-aab3-4298-8923-1682a8aa5913",
   "metadata": {},
   "outputs": [],
   "source": [
    "# define a predict function to make prediction on unseen text\n",
    "def predict(model, text):\n",
    "    X = vocab(tokenizer(text))\n",
    "    if len(X) < seq_length:\n",
    "        X = X + [0] * (seq_length - len(X))\n",
    "    else:\n",
    "        X = X[:seq_length]\n",
    "    X = np.array(X).reshape(1, -1) # add the batch dimension, batch_size = 1\n",
    "    X = torch.tensor(X, dtype = torch.int64)\n",
    "    logit = model(X.to(device))\n",
    "    _, pred = torch.max(logit, 1)\n",
    "    return pred.item()"
   ]
  },
  {
   "cell_type": "code",
   "execution_count": 23,
   "id": "2937df14-895c-4b8d-ba12-623e91669f35",
   "metadata": {},
   "outputs": [
    {
     "name": "stdout",
     "output_type": "stream",
     "text": [
      "The predicted calss is: Sci/Tec\n"
     ]
    }
   ],
   "source": [
    "print('The predicted calss is:', classes[predict(model, unseen_news)])"
   ]
  }
 ],
 "metadata": {
  "kernelspec": {
   "display_name": "Python 3 (ipykernel)",
   "language": "python",
   "name": "python3"
  },
  "language_info": {
   "codemirror_mode": {
    "name": "ipython",
    "version": 3
   },
   "file_extension": ".py",
   "mimetype": "text/x-python",
   "name": "python",
   "nbconvert_exporter": "python",
   "pygments_lexer": "ipython3",
   "version": "3.11.8"
  }
 },
 "nbformat": 4,
 "nbformat_minor": 5
}
