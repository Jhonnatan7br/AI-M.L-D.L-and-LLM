{
 "cells": [
  {
   "cell_type": "markdown",
   "id": "0d3b3e67",
   "metadata": {},
   "source": [
    "# Exercise 01 Recap ML & Ensemble Learning I - Solution"
   ]
  },
  {
   "cell_type": "markdown",
   "id": "a6c89362",
   "metadata": {},
   "source": [
    "## Pedagogy\n",
    "\n",
    "This notebook contains both theoretical explanations and executable cells to execute your code.\n",
    "\n",
    "When you see the <span style=\"color:red\">**[TBC]**</span> (To Be Completed) sign, it means that you need to perform an action else besides executing the cells of code that already exist. These actions can be:\n",
    "- Complete the code with proper comments\n",
    "- Respond to a question\n",
    "- Write an analysis\n",
    "- etc."
   ]
  },
  {
   "cell_type": "markdown",
   "id": "be1834a9",
   "metadata": {},
   "source": [
    "### Import libraries"
   ]
  },
  {
   "cell_type": "code",
   "execution_count": 1,
   "id": "7124e6c0",
   "metadata": {},
   "outputs": [],
   "source": [
    "# import all libraries used in this notebook here\n",
    "import warnings\n",
    "\n",
    "import numpy as np\n",
    "import pandas as pd\n",
    "import matplotlib.pyplot as plt\n",
    "\n",
    "from sklearn import datasets\n",
    "from sklearn.model_selection import train_test_split\n",
    "from sklearn.model_selection import GridSearchCV\n",
    "from sklearn.tree import DecisionTreeClassifier\n",
    "from sklearn.metrics import classification_report, mean_squared_error, r2_score\n",
    "from sklearn.ensemble import RandomForestRegressor, RandomForestClassifier\n",
    "from sklearn.preprocessing import LabelEncoder"
   ]
  },
  {
   "cell_type": "code",
   "execution_count": 2,
   "id": "0060e966",
   "metadata": {},
   "outputs": [],
   "source": [
    "# suppress all warnings\n",
    "warnings.filterwarnings(\"ignore\")"
   ]
  },
  {
   "cell_type": "markdown",
   "id": "7c923500",
   "metadata": {},
   "source": [
    "## Part 1. Recap of Classical ML\n",
    "\n",
    "In this part, we will implement the best practice of supervised learning to build a classification model using the decision tree algorithm.\n",
    "\n",
    "We will execute the following steps:\n",
    "- Load the dataset\n",
    "- Split the dataset into training and test set\n",
    "- Hyper-parameter tuning through cross-validation using the training dataset\n",
    "- Evaluation the best model with the best hyper-parameters using the test dataset\n",
    "- Inference with unseen data"
   ]
  },
  {
   "cell_type": "markdown",
   "id": "f9ba0dea",
   "metadata": {},
   "source": [
    "### 1.1. Load dataset\n",
    "\n",
    "We will use a toy dataset, the Iris plants dataset, provided by `scikit-learn` here.\n",
    "\n",
    "There are four feature variables and one target variables in this dataset, which are:\n",
    "- Feature\n",
    "    - Sepal length in cm\n",
    "    - Sepal width in cm\n",
    "    - Petal length in cm\n",
    "    - Petal width in cm\n",
    "- Target\n",
    "    - Class of iris\n",
    "        - Iris-Setosa\n",
    "        - Iris-Versicolour\n",
    "        - Iris-Virginica\n",
    "        \n",
    "There are 150 labeled examples in the dataset.\n",
    "\n",
    "Use `sklearn.datasets.load_iris()` to get this dataset."
   ]
  },
  {
   "cell_type": "code",
   "execution_count": 3,
   "id": "53bfce85",
   "metadata": {},
   "outputs": [],
   "source": [
    "# load dataset\n",
    "feature_df, target_df = datasets.load_iris(\n",
    "    return_X_y = True, # If True, returns (data.data, data.target) instead of a Bunch object.\n",
    "    as_frame = True # If True, the data is a pandas DataFrame including columns with appropriate dtypes (numeric).\n",
    ")"
   ]
  },
  {
   "cell_type": "code",
   "execution_count": 4,
   "id": "64994ecc",
   "metadata": {},
   "outputs": [
    {
     "data": {
      "text/html": [
       "<div>\n",
       "<style scoped>\n",
       "    .dataframe tbody tr th:only-of-type {\n",
       "        vertical-align: middle;\n",
       "    }\n",
       "\n",
       "    .dataframe tbody tr th {\n",
       "        vertical-align: top;\n",
       "    }\n",
       "\n",
       "    .dataframe thead th {\n",
       "        text-align: right;\n",
       "    }\n",
       "</style>\n",
       "<table border=\"1\" class=\"dataframe\">\n",
       "  <thead>\n",
       "    <tr style=\"text-align: right;\">\n",
       "      <th></th>\n",
       "      <th>sepal length (cm)</th>\n",
       "      <th>sepal width (cm)</th>\n",
       "      <th>petal length (cm)</th>\n",
       "      <th>petal width (cm)</th>\n",
       "    </tr>\n",
       "  </thead>\n",
       "  <tbody>\n",
       "    <tr>\n",
       "      <th>0</th>\n",
       "      <td>5.1</td>\n",
       "      <td>3.5</td>\n",
       "      <td>1.4</td>\n",
       "      <td>0.2</td>\n",
       "    </tr>\n",
       "    <tr>\n",
       "      <th>1</th>\n",
       "      <td>4.9</td>\n",
       "      <td>3.0</td>\n",
       "      <td>1.4</td>\n",
       "      <td>0.2</td>\n",
       "    </tr>\n",
       "    <tr>\n",
       "      <th>2</th>\n",
       "      <td>4.7</td>\n",
       "      <td>3.2</td>\n",
       "      <td>1.3</td>\n",
       "      <td>0.2</td>\n",
       "    </tr>\n",
       "    <tr>\n",
       "      <th>3</th>\n",
       "      <td>4.6</td>\n",
       "      <td>3.1</td>\n",
       "      <td>1.5</td>\n",
       "      <td>0.2</td>\n",
       "    </tr>\n",
       "    <tr>\n",
       "      <th>4</th>\n",
       "      <td>5.0</td>\n",
       "      <td>3.6</td>\n",
       "      <td>1.4</td>\n",
       "      <td>0.2</td>\n",
       "    </tr>\n",
       "  </tbody>\n",
       "</table>\n",
       "</div>"
      ],
      "text/plain": [
       "   sepal length (cm)  sepal width (cm)  petal length (cm)  petal width (cm)\n",
       "0                5.1               3.5                1.4               0.2\n",
       "1                4.9               3.0                1.4               0.2\n",
       "2                4.7               3.2                1.3               0.2\n",
       "3                4.6               3.1                1.5               0.2\n",
       "4                5.0               3.6                1.4               0.2"
      ]
     },
     "execution_count": 4,
     "metadata": {},
     "output_type": "execute_result"
    }
   ],
   "source": [
    "# display the first five rows of the features\n",
    "feature_df.head()"
   ]
  },
  {
   "cell_type": "code",
   "execution_count": 5,
   "id": "223788c4",
   "metadata": {},
   "outputs": [
    {
     "data": {
      "text/plain": [
       "array([0, 1, 2])"
      ]
     },
     "execution_count": 5,
     "metadata": {},
     "output_type": "execute_result"
    }
   ],
   "source": [
    "# display the unique values of the target variable\n",
    "target_df.unique()"
   ]
  },
  {
   "cell_type": "markdown",
   "id": "ca60f641",
   "metadata": {},
   "source": [
    "### 1.2. Train test split\n",
    "\n",
    "We will split the whole dataset into two parts: the training and test dataset.\n",
    "- 70% for training\n",
    "- 30% for test\n",
    "\n",
    "Use `sklearn.model_selection.train_test_split()` to do this."
   ]
  },
  {
   "cell_type": "code",
   "execution_count": 6,
   "id": "5302ebe0",
   "metadata": {},
   "outputs": [],
   "source": [
    "# train test split\n",
    "X_train, X_test, y_train, y_test = train_test_split(\n",
    "    feature_df.values, # call `.values` to convert the feature from pd.DataFrame to np.array\n",
    "    target_df.values, # ca;; `.values` to convert the target from pd.Series to np.array\n",
    "    train_size = 0.7, # 70% for training, 30% for test\n",
    "    random_state = 0 # controls the shuffling, set to zero for reproduciblillity\n",
    ")"
   ]
  },
  {
   "cell_type": "markdown",
   "id": "4cc38cf6",
   "metadata": {},
   "source": [
    "### 1.3. Hyper-parameter tuning through cross-validation\n",
    "\n",
    "We will perform hyper-parameter tuning through cross-validation using `sklearn.model_selection.GridSearchCV()` on the training dataset.\n",
    "- First, define the potential values of hyper-parameters for search\n",
    "- Call `sklearn.model_selection.GridSearchCv()` to perform an exhausive search\n",
    "    - Use weighted average of F1-Score as the evaluatoin metric\n",
    "    - Set the number of folds to 5 for the cross-validation"
   ]
  },
  {
   "cell_type": "code",
   "execution_count": 7,
   "id": "174d5d47",
   "metadata": {},
   "outputs": [],
   "source": [
    "# define the hyper-parameters to search\n",
    "param_dict = {\n",
    "    'criterion': ['gini', 'entropy', 'log_loss'],\n",
    "    'max_depth': [None, 5, 10],\n",
    "    'min_samples_split': [2, 3, 4],\n",
    "    'min_samples_leaf': [1, 2, 3],\n",
    "    'max_features': [None, 'sqrt', 'log2'],\n",
    "    'min_impurity_decrease': [0.0, 0.1, 0.2]\n",
    "}"
   ]
  },
  {
   "cell_type": "code",
   "execution_count": 8,
   "id": "9b404856",
   "metadata": {},
   "outputs": [
    {
     "name": "stdout",
     "output_type": "stream",
     "text": [
      "Fitting 5 folds for each of 729 candidates, totalling 3645 fits\n"
     ]
    },
    {
     "data": {
      "text/html": [
       "<style>#sk-container-id-1 {color: black;}#sk-container-id-1 pre{padding: 0;}#sk-container-id-1 div.sk-toggleable {background-color: white;}#sk-container-id-1 label.sk-toggleable__label {cursor: pointer;display: block;width: 100%;margin-bottom: 0;padding: 0.3em;box-sizing: border-box;text-align: center;}#sk-container-id-1 label.sk-toggleable__label-arrow:before {content: \"▸\";float: left;margin-right: 0.25em;color: #696969;}#sk-container-id-1 label.sk-toggleable__label-arrow:hover:before {color: black;}#sk-container-id-1 div.sk-estimator:hover label.sk-toggleable__label-arrow:before {color: black;}#sk-container-id-1 div.sk-toggleable__content {max-height: 0;max-width: 0;overflow: hidden;text-align: left;background-color: #f0f8ff;}#sk-container-id-1 div.sk-toggleable__content pre {margin: 0.2em;color: black;border-radius: 0.25em;background-color: #f0f8ff;}#sk-container-id-1 input.sk-toggleable__control:checked~div.sk-toggleable__content {max-height: 200px;max-width: 100%;overflow: auto;}#sk-container-id-1 input.sk-toggleable__control:checked~label.sk-toggleable__label-arrow:before {content: \"▾\";}#sk-container-id-1 div.sk-estimator input.sk-toggleable__control:checked~label.sk-toggleable__label {background-color: #d4ebff;}#sk-container-id-1 div.sk-label input.sk-toggleable__control:checked~label.sk-toggleable__label {background-color: #d4ebff;}#sk-container-id-1 input.sk-hidden--visually {border: 0;clip: rect(1px 1px 1px 1px);clip: rect(1px, 1px, 1px, 1px);height: 1px;margin: -1px;overflow: hidden;padding: 0;position: absolute;width: 1px;}#sk-container-id-1 div.sk-estimator {font-family: monospace;background-color: #f0f8ff;border: 1px dotted black;border-radius: 0.25em;box-sizing: border-box;margin-bottom: 0.5em;}#sk-container-id-1 div.sk-estimator:hover {background-color: #d4ebff;}#sk-container-id-1 div.sk-parallel-item::after {content: \"\";width: 100%;border-bottom: 1px solid gray;flex-grow: 1;}#sk-container-id-1 div.sk-label:hover label.sk-toggleable__label {background-color: #d4ebff;}#sk-container-id-1 div.sk-serial::before {content: \"\";position: absolute;border-left: 1px solid gray;box-sizing: border-box;top: 0;bottom: 0;left: 50%;z-index: 0;}#sk-container-id-1 div.sk-serial {display: flex;flex-direction: column;align-items: center;background-color: white;padding-right: 0.2em;padding-left: 0.2em;position: relative;}#sk-container-id-1 div.sk-item {position: relative;z-index: 1;}#sk-container-id-1 div.sk-parallel {display: flex;align-items: stretch;justify-content: center;background-color: white;position: relative;}#sk-container-id-1 div.sk-item::before, #sk-container-id-1 div.sk-parallel-item::before {content: \"\";position: absolute;border-left: 1px solid gray;box-sizing: border-box;top: 0;bottom: 0;left: 50%;z-index: -1;}#sk-container-id-1 div.sk-parallel-item {display: flex;flex-direction: column;z-index: 1;position: relative;background-color: white;}#sk-container-id-1 div.sk-parallel-item:first-child::after {align-self: flex-end;width: 50%;}#sk-container-id-1 div.sk-parallel-item:last-child::after {align-self: flex-start;width: 50%;}#sk-container-id-1 div.sk-parallel-item:only-child::after {width: 0;}#sk-container-id-1 div.sk-dashed-wrapped {border: 1px dashed gray;margin: 0 0.4em 0.5em 0.4em;box-sizing: border-box;padding-bottom: 0.4em;background-color: white;}#sk-container-id-1 div.sk-label label {font-family: monospace;font-weight: bold;display: inline-block;line-height: 1.2em;}#sk-container-id-1 div.sk-label-container {text-align: center;}#sk-container-id-1 div.sk-container {/* jupyter's `normalize.less` sets `[hidden] { display: none; }` but bootstrap.min.css set `[hidden] { display: none !important; }` so we also need the `!important` here to be able to override the default hidden behavior on the sphinx rendered scikit-learn.org. See: https://github.com/scikit-learn/scikit-learn/issues/21755 */display: inline-block !important;position: relative;}#sk-container-id-1 div.sk-text-repr-fallback {display: none;}</style><div id=\"sk-container-id-1\" class=\"sk-top-container\"><div class=\"sk-text-repr-fallback\"><pre>GridSearchCV(cv=5, estimator=DecisionTreeClassifier(), n_jobs=-1,\n",
       "             param_grid={&#x27;criterion&#x27;: [&#x27;gini&#x27;, &#x27;entropy&#x27;, &#x27;log_loss&#x27;],\n",
       "                         &#x27;max_depth&#x27;: [None, 5, 10],\n",
       "                         &#x27;max_features&#x27;: [None, &#x27;sqrt&#x27;, &#x27;log2&#x27;],\n",
       "                         &#x27;min_impurity_decrease&#x27;: [0.0, 0.1, 0.2],\n",
       "                         &#x27;min_samples_leaf&#x27;: [1, 2, 3],\n",
       "                         &#x27;min_samples_split&#x27;: [2, 3, 4]},\n",
       "             scoring=&#x27;f1_weighted&#x27;, verbose=1)</pre><b>In a Jupyter environment, please rerun this cell to show the HTML representation or trust the notebook. <br />On GitHub, the HTML representation is unable to render, please try loading this page with nbviewer.org.</b></div><div class=\"sk-container\" hidden><div class=\"sk-item sk-dashed-wrapped\"><div class=\"sk-label-container\"><div class=\"sk-label sk-toggleable\"><input class=\"sk-toggleable__control sk-hidden--visually\" id=\"sk-estimator-id-1\" type=\"checkbox\" ><label for=\"sk-estimator-id-1\" class=\"sk-toggleable__label sk-toggleable__label-arrow\">GridSearchCV</label><div class=\"sk-toggleable__content\"><pre>GridSearchCV(cv=5, estimator=DecisionTreeClassifier(), n_jobs=-1,\n",
       "             param_grid={&#x27;criterion&#x27;: [&#x27;gini&#x27;, &#x27;entropy&#x27;, &#x27;log_loss&#x27;],\n",
       "                         &#x27;max_depth&#x27;: [None, 5, 10],\n",
       "                         &#x27;max_features&#x27;: [None, &#x27;sqrt&#x27;, &#x27;log2&#x27;],\n",
       "                         &#x27;min_impurity_decrease&#x27;: [0.0, 0.1, 0.2],\n",
       "                         &#x27;min_samples_leaf&#x27;: [1, 2, 3],\n",
       "                         &#x27;min_samples_split&#x27;: [2, 3, 4]},\n",
       "             scoring=&#x27;f1_weighted&#x27;, verbose=1)</pre></div></div></div><div class=\"sk-parallel\"><div class=\"sk-parallel-item\"><div class=\"sk-item\"><div class=\"sk-label-container\"><div class=\"sk-label sk-toggleable\"><input class=\"sk-toggleable__control sk-hidden--visually\" id=\"sk-estimator-id-2\" type=\"checkbox\" ><label for=\"sk-estimator-id-2\" class=\"sk-toggleable__label sk-toggleable__label-arrow\">estimator: DecisionTreeClassifier</label><div class=\"sk-toggleable__content\"><pre>DecisionTreeClassifier()</pre></div></div></div><div class=\"sk-serial\"><div class=\"sk-item\"><div class=\"sk-estimator sk-toggleable\"><input class=\"sk-toggleable__control sk-hidden--visually\" id=\"sk-estimator-id-3\" type=\"checkbox\" ><label for=\"sk-estimator-id-3\" class=\"sk-toggleable__label sk-toggleable__label-arrow\">DecisionTreeClassifier</label><div class=\"sk-toggleable__content\"><pre>DecisionTreeClassifier()</pre></div></div></div></div></div></div></div></div></div></div>"
      ],
      "text/plain": [
       "GridSearchCV(cv=5, estimator=DecisionTreeClassifier(), n_jobs=-1,\n",
       "             param_grid={'criterion': ['gini', 'entropy', 'log_loss'],\n",
       "                         'max_depth': [None, 5, 10],\n",
       "                         'max_features': [None, 'sqrt', 'log2'],\n",
       "                         'min_impurity_decrease': [0.0, 0.1, 0.2],\n",
       "                         'min_samples_leaf': [1, 2, 3],\n",
       "                         'min_samples_split': [2, 3, 4]},\n",
       "             scoring='f1_weighted', verbose=1)"
      ]
     },
     "execution_count": 8,
     "metadata": {},
     "output_type": "execute_result"
    }
   ],
   "source": [
    "# hyper-parameter tuning through cross-validation\n",
    "grid_clf = GridSearchCV(\n",
    "    estimator = DecisionTreeClassifier(),\n",
    "    param_grid = param_dict,\n",
    "    scoring = 'f1_weighted',\n",
    "    refit = True,\n",
    "    cv = 5,\n",
    "    verbose = 1,\n",
    "    n_jobs = -1\n",
    ")\n",
    "grid_clf.fit(X_train, y_train)"
   ]
  },
  {
   "cell_type": "code",
   "execution_count": 9,
   "id": "456f37c8",
   "metadata": {},
   "outputs": [
    {
     "name": "stdout",
     "output_type": "stream",
     "text": [
      "Best hyper-parameters: {'criterion': 'gini', 'max_depth': None, 'max_features': 'sqrt', 'min_impurity_decrease': 0.0, 'min_samples_leaf': 3, 'min_samples_split': 2}\n",
      "Best score: 0.9711057150132781\n"
     ]
    }
   ],
   "source": [
    "# obtain the best hyper-parameters and the best score\n",
    "print('Best hyper-parameters:', grid_clf.best_params_)\n",
    "print('Best score:', grid_clf.best_score_)"
   ]
  },
  {
   "cell_type": "markdown",
   "id": "ad99e714",
   "metadata": {},
   "source": [
    "### 1.4. Evaluation using the test dataset\n",
    "\n",
    "After finding the best combination of hyper-parameter values, we can use the test dataset to evaluate the performance of the best model.\n",
    "\n",
    "If the parameter `refit` was set to `True`, the `GridSearchCV()` has already refitted the model using the best hyper-parameters on the whole training dataset. There is no need to manually refit the model."
   ]
  },
  {
   "cell_type": "code",
   "execution_count": 10,
   "id": "0111a826",
   "metadata": {},
   "outputs": [],
   "source": [
    "# predict categories for test dataset\n",
    "y_pred = grid_clf.predict(X_test)"
   ]
  },
  {
   "cell_type": "code",
   "execution_count": 11,
   "id": "f9dfac41",
   "metadata": {},
   "outputs": [
    {
     "name": "stdout",
     "output_type": "stream",
     "text": [
      "              precision    recall  f1-score   support\n",
      "\n",
      "           0       1.00      1.00      1.00        16\n",
      "           1       0.85      0.94      0.89        18\n",
      "           2       0.89      0.73      0.80        11\n",
      "\n",
      "    accuracy                           0.91        45\n",
      "   macro avg       0.91      0.89      0.90        45\n",
      "weighted avg       0.91      0.91      0.91        45\n",
      "\n"
     ]
    }
   ],
   "source": [
    "# obtain classification metrics using `classification_report`\n",
    "print(classification_report(y_test, y_pred))"
   ]
  },
  {
   "cell_type": "markdown",
   "id": "b282cddd",
   "metadata": {},
   "source": [
    "### 1.5. Inference with unseen data\n",
    "\n",
    "After evaluation, if we are satisfied with the performance of the model, we can then use the learned model to make predictions on unseen data, so called inference.\n",
    "- Predict the category directly\n",
    "- Predict the probability of belonging to a specific category"
   ]
  },
  {
   "cell_type": "code",
   "execution_count": 12,
   "id": "432b028a",
   "metadata": {},
   "outputs": [
    {
     "name": "stdout",
     "output_type": "stream",
     "text": [
      "The predicted category of the unseen data: [0]\n",
      "The predicted probabilities: [[1. 0. 0.]]\n"
     ]
    }
   ],
   "source": [
    "# inference with unseen data\n",
    "X_unseen = np.array([5.2, 3.1, 1.3, 0.2])\n",
    "print(\"The predicted category of the unseen data:\", grid_clf.predict(X_unseen.reshape(-1, 4)))\n",
    "print(\"The predicted probabilities:\", grid_clf.predict_proba(X_unseen.reshape(-1, 4)))"
   ]
  },
  {
   "cell_type": "markdown",
   "id": "e664abf8",
   "metadata": {},
   "source": [
    "## Part 2. The bagging method - Random forests"
   ]
  },
  {
   "cell_type": "markdown",
   "id": "5136da50",
   "metadata": {},
   "source": [
    "In this part, we will use the random forests algorith, a bagging method for ensemble learning, to build a classifier with the same dataset.\n",
    "\n",
    "Random forests is a meta model that fits a number of decision tree classifiers on various sub-samples of the dataset."
   ]
  },
  {
   "cell_type": "markdown",
   "id": "fba40606",
   "metadata": {},
   "source": [
    "### 2.1. Train the random forest using the training dataset\n",
    "\n",
    "To test whether random forest can improve prediction accuracy compared to a single decision tree model, we set the hyperparameters of each decision tree in the random forest to be the same as the decision tree model after hyperparameter optimization in the Part 1.\n",
    "\n",
    "The only difference is that, random forest will fit 10 decision trees using 10 different subsets of the training dataset"
   ]
  },
  {
   "cell_type": "code",
   "execution_count": 13,
   "id": "93d14a2b",
   "metadata": {},
   "outputs": [],
   "source": [
    "# create the random forest classifier\n",
    "clf = RandomForestClassifier(\n",
    "    n_estimators = 10, # set the number of decision trees to 10\n",
    "    criterion = grid_clf.best_params_['criterion'],\n",
    "    max_depth = grid_clf.best_params_['max_depth'],\n",
    "    max_features = grid_clf.best_params_['max_features'],\n",
    "    min_impurity_decrease = grid_clf.best_params_['min_impurity_decrease'],\n",
    "    min_samples_leaf = grid_clf.best_params_['min_samples_leaf'],\n",
    "    min_samples_split = grid_clf.best_params_['min_samples_split'],\n",
    "    n_jobs = -1, # -1 means using all available processors for parallelized computation\n",
    "    random_state = 0 # set random state to 0 for reproduciblity\n",
    ")"
   ]
  },
  {
   "cell_type": "code",
   "execution_count": 14,
   "id": "bf6f2ca7",
   "metadata": {},
   "outputs": [
    {
     "data": {
      "text/html": [
       "<style>#sk-container-id-2 {color: black;}#sk-container-id-2 pre{padding: 0;}#sk-container-id-2 div.sk-toggleable {background-color: white;}#sk-container-id-2 label.sk-toggleable__label {cursor: pointer;display: block;width: 100%;margin-bottom: 0;padding: 0.3em;box-sizing: border-box;text-align: center;}#sk-container-id-2 label.sk-toggleable__label-arrow:before {content: \"▸\";float: left;margin-right: 0.25em;color: #696969;}#sk-container-id-2 label.sk-toggleable__label-arrow:hover:before {color: black;}#sk-container-id-2 div.sk-estimator:hover label.sk-toggleable__label-arrow:before {color: black;}#sk-container-id-2 div.sk-toggleable__content {max-height: 0;max-width: 0;overflow: hidden;text-align: left;background-color: #f0f8ff;}#sk-container-id-2 div.sk-toggleable__content pre {margin: 0.2em;color: black;border-radius: 0.25em;background-color: #f0f8ff;}#sk-container-id-2 input.sk-toggleable__control:checked~div.sk-toggleable__content {max-height: 200px;max-width: 100%;overflow: auto;}#sk-container-id-2 input.sk-toggleable__control:checked~label.sk-toggleable__label-arrow:before {content: \"▾\";}#sk-container-id-2 div.sk-estimator input.sk-toggleable__control:checked~label.sk-toggleable__label {background-color: #d4ebff;}#sk-container-id-2 div.sk-label input.sk-toggleable__control:checked~label.sk-toggleable__label {background-color: #d4ebff;}#sk-container-id-2 input.sk-hidden--visually {border: 0;clip: rect(1px 1px 1px 1px);clip: rect(1px, 1px, 1px, 1px);height: 1px;margin: -1px;overflow: hidden;padding: 0;position: absolute;width: 1px;}#sk-container-id-2 div.sk-estimator {font-family: monospace;background-color: #f0f8ff;border: 1px dotted black;border-radius: 0.25em;box-sizing: border-box;margin-bottom: 0.5em;}#sk-container-id-2 div.sk-estimator:hover {background-color: #d4ebff;}#sk-container-id-2 div.sk-parallel-item::after {content: \"\";width: 100%;border-bottom: 1px solid gray;flex-grow: 1;}#sk-container-id-2 div.sk-label:hover label.sk-toggleable__label {background-color: #d4ebff;}#sk-container-id-2 div.sk-serial::before {content: \"\";position: absolute;border-left: 1px solid gray;box-sizing: border-box;top: 0;bottom: 0;left: 50%;z-index: 0;}#sk-container-id-2 div.sk-serial {display: flex;flex-direction: column;align-items: center;background-color: white;padding-right: 0.2em;padding-left: 0.2em;position: relative;}#sk-container-id-2 div.sk-item {position: relative;z-index: 1;}#sk-container-id-2 div.sk-parallel {display: flex;align-items: stretch;justify-content: center;background-color: white;position: relative;}#sk-container-id-2 div.sk-item::before, #sk-container-id-2 div.sk-parallel-item::before {content: \"\";position: absolute;border-left: 1px solid gray;box-sizing: border-box;top: 0;bottom: 0;left: 50%;z-index: -1;}#sk-container-id-2 div.sk-parallel-item {display: flex;flex-direction: column;z-index: 1;position: relative;background-color: white;}#sk-container-id-2 div.sk-parallel-item:first-child::after {align-self: flex-end;width: 50%;}#sk-container-id-2 div.sk-parallel-item:last-child::after {align-self: flex-start;width: 50%;}#sk-container-id-2 div.sk-parallel-item:only-child::after {width: 0;}#sk-container-id-2 div.sk-dashed-wrapped {border: 1px dashed gray;margin: 0 0.4em 0.5em 0.4em;box-sizing: border-box;padding-bottom: 0.4em;background-color: white;}#sk-container-id-2 div.sk-label label {font-family: monospace;font-weight: bold;display: inline-block;line-height: 1.2em;}#sk-container-id-2 div.sk-label-container {text-align: center;}#sk-container-id-2 div.sk-container {/* jupyter's `normalize.less` sets `[hidden] { display: none; }` but bootstrap.min.css set `[hidden] { display: none !important; }` so we also need the `!important` here to be able to override the default hidden behavior on the sphinx rendered scikit-learn.org. See: https://github.com/scikit-learn/scikit-learn/issues/21755 */display: inline-block !important;position: relative;}#sk-container-id-2 div.sk-text-repr-fallback {display: none;}</style><div id=\"sk-container-id-2\" class=\"sk-top-container\"><div class=\"sk-text-repr-fallback\"><pre>RandomForestClassifier(min_samples_leaf=3, n_estimators=10, n_jobs=-1,\n",
       "                       random_state=0)</pre><b>In a Jupyter environment, please rerun this cell to show the HTML representation or trust the notebook. <br />On GitHub, the HTML representation is unable to render, please try loading this page with nbviewer.org.</b></div><div class=\"sk-container\" hidden><div class=\"sk-item\"><div class=\"sk-estimator sk-toggleable\"><input class=\"sk-toggleable__control sk-hidden--visually\" id=\"sk-estimator-id-4\" type=\"checkbox\" checked><label for=\"sk-estimator-id-4\" class=\"sk-toggleable__label sk-toggleable__label-arrow\">RandomForestClassifier</label><div class=\"sk-toggleable__content\"><pre>RandomForestClassifier(min_samples_leaf=3, n_estimators=10, n_jobs=-1,\n",
       "                       random_state=0)</pre></div></div></div></div></div>"
      ],
      "text/plain": [
       "RandomForestClassifier(min_samples_leaf=3, n_estimators=10, n_jobs=-1,\n",
       "                       random_state=0)"
      ]
     },
     "execution_count": 14,
     "metadata": {},
     "output_type": "execute_result"
    }
   ],
   "source": [
    "# fit the model to the training dataset\n",
    "clf.fit(X_train, y_train)"
   ]
  },
  {
   "cell_type": "markdown",
   "id": "ab8194d6",
   "metadata": {},
   "source": [
    "### 2.2. Evaluate the random forest using the test dataset\n",
    "\n",
    "After training, we can using the test dataset to evaluate the performance of the random forest and compare it with the performance of the single decision tree classifier."
   ]
  },
  {
   "cell_type": "code",
   "execution_count": 15,
   "id": "62b30c15",
   "metadata": {},
   "outputs": [],
   "source": [
    "# predict categories for test dataset\n",
    "y_pred = clf.predict(X_test)"
   ]
  },
  {
   "cell_type": "code",
   "execution_count": 16,
   "id": "7b99ecae",
   "metadata": {},
   "outputs": [
    {
     "name": "stdout",
     "output_type": "stream",
     "text": [
      "              precision    recall  f1-score   support\n",
      "\n",
      "           0       1.00      1.00      1.00        16\n",
      "           1       0.94      0.94      0.94        18\n",
      "           2       0.91      0.91      0.91        11\n",
      "\n",
      "    accuracy                           0.96        45\n",
      "   macro avg       0.95      0.95      0.95        45\n",
      "weighted avg       0.96      0.96      0.96        45\n",
      "\n"
     ]
    }
   ],
   "source": [
    "# obtain classification metrics using `classification_report`\n",
    "print(classification_report(y_test, y_pred))"
   ]
  },
  {
   "cell_type": "markdown",
   "id": "df3d704a",
   "metadata": {},
   "source": [
    "Normally, the performance of random forest should be better than, at least not worse than, the single decision tree classifier."
   ]
  },
  {
   "cell_type": "markdown",
   "id": "68d55cbd",
   "metadata": {},
   "source": [
    "### 2.3. Obtain feature importances\n",
    "\n",
    "Ranomd forests provide the importances of different features for the model to make the correct predictions.\n",
    "\n",
    "We can call the attribute `feature_importances_` to get this information."
   ]
  },
  {
   "cell_type": "code",
   "execution_count": 17,
   "id": "9790b7ba",
   "metadata": {},
   "outputs": [
    {
     "data": {
      "text/plain": [
       "array([0.14456905, 0.01304502, 0.41175445, 0.43063147])"
      ]
     },
     "execution_count": 17,
     "metadata": {},
     "output_type": "execute_result"
    }
   ],
   "source": [
    "# obtain feature importances\n",
    "clf.feature_importances_"
   ]
  },
  {
   "cell_type": "code",
   "execution_count": 18,
   "id": "3ad7670d",
   "metadata": {},
   "outputs": [
    {
     "data": {
      "image/png": "[encoded data removed]",
      "text/plain": [
       "<Figure size 800x500 with 4 Axes>"
      ]
     },
     "metadata": {},
     "output_type": "display_data"
    }
   ],
   "source": [
    "# display the boxplots of the 4 features for the 3 different classes\n",
    "# merge the feature and target into one DataFrame\n",
    "df = feature_df\n",
    "df['class'] = target_df\n",
    "# create the figure\n",
    "df.boxplot(\n",
    "    column = ['sepal length (cm)', 'sepal width (cm)', 'petal length (cm)', 'petal width (cm)'],\n",
    "    by = 'class',\n",
    "    grid = False,\n",
    "    figsize = (8, 5),\n",
    "    layout = (1, 4)\n",
    ")\n",
    "plt.show()"
   ]
  },
  {
   "cell_type": "markdown",
   "id": "20b6b7ce",
   "metadata": {},
   "source": [
    "We can see that for different iris classes:\n",
    "- Petal length and width are distributed in different intervals, so the importances of these two features are higher.\n",
    "- The distribution intervals of sepal length overlap slightly, so the importance is low.\n",
    "- The distribution intervals of sepal width overlap strongly, so the importance is close to zero."
   ]
  },
  {
   "cell_type": "markdown",
   "id": "10c458e8",
   "metadata": {},
   "source": [
    "### 2.4. Inference with unseen data"
   ]
  },
  {
   "cell_type": "code",
   "execution_count": 19,
   "id": "c96d8763",
   "metadata": {},
   "outputs": [
    {
     "name": "stdout",
     "output_type": "stream",
     "text": [
      "The predicted category of the unseen data: [0]\n",
      "The predicted probabilities: [[1. 0. 0.]]\n"
     ]
    }
   ],
   "source": [
    "# predict the category and probabilities for the unseen data\n",
    "print(\"The predicted category of the unseen data:\", clf.predict(X_unseen.reshape(-1, 4)))\n",
    "print(\"The predicted probabilities:\", clf.predict_proba(X_unseen.reshape(-1, 4)))"
   ]
  },
  {
   "cell_type": "markdown",
   "id": "fab4d031",
   "metadata": {},
   "source": [
    "## Part 3. Hands-on exercise\n",
    "\n",
    "In this exercise, you are required to build a regression model using the random forests algorithm.\n",
    "\n",
    "The problem to be solved is predicting the price of flights.\n",
    "\n",
    "Please download the flight price dataset from Learn.\n",
    "\n",
    "<span style=\"color:red\">**[TBC]**</span> Please complete the following tasks:\n",
    "\n",
    "- Load and explore the dataset\n",
    "- Preprocess the dataset\n",
    "- Build and evaluate a regression model using random forests with default hyper-parameters\n",
    "- Hyper-parameter tuning through cross-validation for random forests"
   ]
  },
  {
   "cell_type": "markdown",
   "id": "f02f2a43",
   "metadata": {},
   "source": [
    "### Task 1. Load and explore the dataset\n",
    "\n",
    "Dataset contains information about flight booking options from the website Easemytrip for flight travel between India's top 6 metro cities.\n",
    "\n",
    "There are 300,261 datapoints and 11 features in the cleaned dataset.\n",
    "\n",
    "More details can be found in this [link](https://www.kaggle.com/datasets/shubhambathwal/flight-price-prediction?resource=download#).\n",
    "\n",
    "<span style=\"color:red\">**[TBC]**</span> Please complete the following tasks:\n",
    "\n",
    "- Load the dataset\n",
    "- Obtain the general information of the dataset\n",
    "- Obtain the number of unique values of each feature in the dataset"
   ]
  },
  {
   "cell_type": "code",
   "execution_count": 20,
   "id": "5ec022d1",
   "metadata": {},
   "outputs": [
    {
     "data": {
      "text/html": [
       "<div>\n",
       "<style scoped>\n",
       "    .dataframe tbody tr th:only-of-type {\n",
       "        vertical-align: middle;\n",
       "    }\n",
       "\n",
       "    .dataframe tbody tr th {\n",
       "        vertical-align: top;\n",
       "    }\n",
       "\n",
       "    .dataframe thead th {\n",
       "        text-align: right;\n",
       "    }\n",
       "</style>\n",
       "<table border=\"1\" class=\"dataframe\">\n",
       "  <thead>\n",
       "    <tr style=\"text-align: right;\">\n",
       "      <th></th>\n",
       "      <th>airline</th>\n",
       "      <th>flight</th>\n",
       "      <th>source_city</th>\n",
       "      <th>departure_time</th>\n",
       "      <th>stops</th>\n",
       "      <th>arrival_time</th>\n",
       "      <th>destination_city</th>\n",
       "      <th>class</th>\n",
       "      <th>duration</th>\n",
       "      <th>days_left</th>\n",
       "      <th>price</th>\n",
       "    </tr>\n",
       "  </thead>\n",
       "  <tbody>\n",
       "    <tr>\n",
       "      <th>0</th>\n",
       "      <td>SpiceJet</td>\n",
       "      <td>SG-8709</td>\n",
       "      <td>Delhi</td>\n",
       "      <td>Evening</td>\n",
       "      <td>zero</td>\n",
       "      <td>Night</td>\n",
       "      <td>Mumbai</td>\n",
       "      <td>Economy</td>\n",
       "      <td>2.17</td>\n",
       "      <td>1</td>\n",
       "      <td>5953</td>\n",
       "    </tr>\n",
       "    <tr>\n",
       "      <th>1</th>\n",
       "      <td>SpiceJet</td>\n",
       "      <td>SG-8157</td>\n",
       "      <td>Delhi</td>\n",
       "      <td>Early_Morning</td>\n",
       "      <td>zero</td>\n",
       "      <td>Morning</td>\n",
       "      <td>Mumbai</td>\n",
       "      <td>Economy</td>\n",
       "      <td>2.33</td>\n",
       "      <td>1</td>\n",
       "      <td>5953</td>\n",
       "    </tr>\n",
       "    <tr>\n",
       "      <th>2</th>\n",
       "      <td>AirAsia</td>\n",
       "      <td>I5-764</td>\n",
       "      <td>Delhi</td>\n",
       "      <td>Early_Morning</td>\n",
       "      <td>zero</td>\n",
       "      <td>Early_Morning</td>\n",
       "      <td>Mumbai</td>\n",
       "      <td>Economy</td>\n",
       "      <td>2.17</td>\n",
       "      <td>1</td>\n",
       "      <td>5956</td>\n",
       "    </tr>\n",
       "    <tr>\n",
       "      <th>3</th>\n",
       "      <td>Vistara</td>\n",
       "      <td>UK-995</td>\n",
       "      <td>Delhi</td>\n",
       "      <td>Morning</td>\n",
       "      <td>zero</td>\n",
       "      <td>Afternoon</td>\n",
       "      <td>Mumbai</td>\n",
       "      <td>Economy</td>\n",
       "      <td>2.25</td>\n",
       "      <td>1</td>\n",
       "      <td>5955</td>\n",
       "    </tr>\n",
       "    <tr>\n",
       "      <th>4</th>\n",
       "      <td>Vistara</td>\n",
       "      <td>UK-963</td>\n",
       "      <td>Delhi</td>\n",
       "      <td>Morning</td>\n",
       "      <td>zero</td>\n",
       "      <td>Morning</td>\n",
       "      <td>Mumbai</td>\n",
       "      <td>Economy</td>\n",
       "      <td>2.33</td>\n",
       "      <td>1</td>\n",
       "      <td>5955</td>\n",
       "    </tr>\n",
       "  </tbody>\n",
       "</table>\n",
       "</div>"
      ],
      "text/plain": [
       "    airline   flight source_city departure_time stops   arrival_time  \\\n",
       "0  SpiceJet  SG-8709       Delhi        Evening  zero          Night   \n",
       "1  SpiceJet  SG-8157       Delhi  Early_Morning  zero        Morning   \n",
       "2   AirAsia   I5-764       Delhi  Early_Morning  zero  Early_Morning   \n",
       "3   Vistara   UK-995       Delhi        Morning  zero      Afternoon   \n",
       "4   Vistara   UK-963       Delhi        Morning  zero        Morning   \n",
       "\n",
       "  destination_city    class  duration  days_left  price  \n",
       "0           Mumbai  Economy      2.17          1   5953  \n",
       "1           Mumbai  Economy      2.33          1   5953  \n",
       "2           Mumbai  Economy      2.17          1   5956  \n",
       "3           Mumbai  Economy      2.25          1   5955  \n",
       "4           Mumbai  Economy      2.33          1   5955  "
      ]
     },
     "execution_count": 20,
     "metadata": {},
     "output_type": "execute_result"
    }
   ],
   "source": [
    "# [TBC] complete your code here with proper comments\n",
    "# load the dataset\n",
    "# hint: pandas.read_csv()\n",
    "df = pd.read_csv('flight_price_dataset.csv', index_col = 0)\n",
    "df.head()"
   ]
  },
  {
   "cell_type": "code",
   "execution_count": 21,
   "id": "fb02b7e8",
   "metadata": {},
   "outputs": [
    {
     "name": "stdout",
     "output_type": "stream",
     "text": [
      "<class 'pandas.core.frame.DataFrame'>\n",
      "Index: 300153 entries, 0 to 300152\n",
      "Data columns (total 11 columns):\n",
      " #   Column            Non-Null Count   Dtype  \n",
      "---  ------            --------------   -----  \n",
      " 0   airline           300153 non-null  object \n",
      " 1   flight            300153 non-null  object \n",
      " 2   source_city       300153 non-null  object \n",
      " 3   departure_time    300153 non-null  object \n",
      " 4   stops             300153 non-null  object \n",
      " 5   arrival_time      300153 non-null  object \n",
      " 6   destination_city  300153 non-null  object \n",
      " 7   class             300153 non-null  object \n",
      " 8   duration          300153 non-null  float64\n",
      " 9   days_left         300153 non-null  int64  \n",
      " 10  price             300153 non-null  int64  \n",
      "dtypes: float64(1), int64(2), object(8)\n",
      "memory usage: 27.5+ MB\n"
     ]
    }
   ],
   "source": [
    "# [TBC] complete your code here with proper comments\n",
    "# obtain the general information of the dataset\n",
    "# hint: pandas.DataFrame.info()\n",
    "df.info()"
   ]
  },
  {
   "cell_type": "code",
   "execution_count": 22,
   "id": "1f2086f9",
   "metadata": {},
   "outputs": [
    {
     "data": {
      "text/plain": [
       "airline                 6\n",
       "flight               1561\n",
       "source_city             6\n",
       "departure_time          6\n",
       "stops                   3\n",
       "arrival_time            6\n",
       "destination_city        6\n",
       "class                   2\n",
       "duration              476\n",
       "days_left              49\n",
       "price               12157\n",
       "dtype: int64"
      ]
     },
     "execution_count": 22,
     "metadata": {},
     "output_type": "execute_result"
    }
   ],
   "source": [
    "# [TBC] complete your code here with proper comments\n",
    "# obtain the number of unique values of each feature in the dataset\n",
    "# hint: pandas.DataFrame.nunique()\n",
    "df.nunique()"
   ]
  },
  {
   "cell_type": "markdown",
   "id": "61d4b66d",
   "metadata": {},
   "source": [
    "### Task 2. Preprocess the dataset\n",
    "\n",
    "You may find some features in the dataset is categorical. Before training, you need to convert these categorical features into numerical variables.\n",
    "\n",
    "<span style=\"color:red\">**[TBC]**</span> Please complete the following tasks:\n",
    "\n",
    "- Encode categorical features\n",
    "- Train test split"
   ]
  },
  {
   "cell_type": "code",
   "execution_count": 23,
   "id": "9834bb52",
   "metadata": {},
   "outputs": [
    {
     "data": {
      "text/html": [
       "<div>\n",
       "<style scoped>\n",
       "    .dataframe tbody tr th:only-of-type {\n",
       "        vertical-align: middle;\n",
       "    }\n",
       "\n",
       "    .dataframe tbody tr th {\n",
       "        vertical-align: top;\n",
       "    }\n",
       "\n",
       "    .dataframe thead th {\n",
       "        text-align: right;\n",
       "    }\n",
       "</style>\n",
       "<table border=\"1\" class=\"dataframe\">\n",
       "  <thead>\n",
       "    <tr style=\"text-align: right;\">\n",
       "      <th></th>\n",
       "      <th>airline</th>\n",
       "      <th>flight</th>\n",
       "      <th>source_city</th>\n",
       "      <th>departure_time</th>\n",
       "      <th>stops</th>\n",
       "      <th>arrival_time</th>\n",
       "      <th>destination_city</th>\n",
       "      <th>class</th>\n",
       "      <th>duration</th>\n",
       "      <th>days_left</th>\n",
       "      <th>price</th>\n",
       "    </tr>\n",
       "  </thead>\n",
       "  <tbody>\n",
       "    <tr>\n",
       "      <th>0</th>\n",
       "      <td>4</td>\n",
       "      <td>1408</td>\n",
       "      <td>2</td>\n",
       "      <td>2</td>\n",
       "      <td>2</td>\n",
       "      <td>5</td>\n",
       "      <td>5</td>\n",
       "      <td>1</td>\n",
       "      <td>2.17</td>\n",
       "      <td>1</td>\n",
       "      <td>5953</td>\n",
       "    </tr>\n",
       "    <tr>\n",
       "      <th>1</th>\n",
       "      <td>4</td>\n",
       "      <td>1387</td>\n",
       "      <td>2</td>\n",
       "      <td>1</td>\n",
       "      <td>2</td>\n",
       "      <td>4</td>\n",
       "      <td>5</td>\n",
       "      <td>1</td>\n",
       "      <td>2.33</td>\n",
       "      <td>1</td>\n",
       "      <td>5953</td>\n",
       "    </tr>\n",
       "    <tr>\n",
       "      <th>2</th>\n",
       "      <td>0</td>\n",
       "      <td>1213</td>\n",
       "      <td>2</td>\n",
       "      <td>1</td>\n",
       "      <td>2</td>\n",
       "      <td>1</td>\n",
       "      <td>5</td>\n",
       "      <td>1</td>\n",
       "      <td>2.17</td>\n",
       "      <td>1</td>\n",
       "      <td>5956</td>\n",
       "    </tr>\n",
       "    <tr>\n",
       "      <th>3</th>\n",
       "      <td>5</td>\n",
       "      <td>1559</td>\n",
       "      <td>2</td>\n",
       "      <td>4</td>\n",
       "      <td>2</td>\n",
       "      <td>0</td>\n",
       "      <td>5</td>\n",
       "      <td>1</td>\n",
       "      <td>2.25</td>\n",
       "      <td>1</td>\n",
       "      <td>5955</td>\n",
       "    </tr>\n",
       "    <tr>\n",
       "      <th>4</th>\n",
       "      <td>5</td>\n",
       "      <td>1549</td>\n",
       "      <td>2</td>\n",
       "      <td>4</td>\n",
       "      <td>2</td>\n",
       "      <td>4</td>\n",
       "      <td>5</td>\n",
       "      <td>1</td>\n",
       "      <td>2.33</td>\n",
       "      <td>1</td>\n",
       "      <td>5955</td>\n",
       "    </tr>\n",
       "  </tbody>\n",
       "</table>\n",
       "</div>"
      ],
      "text/plain": [
       "   airline  flight  source_city  departure_time  stops  arrival_time  \\\n",
       "0        4    1408            2               2      2             5   \n",
       "1        4    1387            2               1      2             4   \n",
       "2        0    1213            2               1      2             1   \n",
       "3        5    1559            2               4      2             0   \n",
       "4        5    1549            2               4      2             4   \n",
       "\n",
       "   destination_city  class  duration  days_left  price  \n",
       "0                 5      1      2.17          1   5953  \n",
       "1                 5      1      2.33          1   5953  \n",
       "2                 5      1      2.17          1   5956  \n",
       "3                 5      1      2.25          1   5955  \n",
       "4                 5      1      2.33          1   5955  "
      ]
     },
     "execution_count": 23,
     "metadata": {},
     "output_type": "execute_result"
    }
   ],
   "source": [
    "# [TBC] complete your code here with proper comments\n",
    "# Encode categorical features\n",
    "# hint: sklearn.preprocessing.LabelEncoder()\n",
    "\n",
    "# List of categorical columns to encode\n",
    "categorical_cols = ['airline', 'flight', 'source_city', 'departure_time', 'stops', 'arrival_time', 'destination_city', 'class']\n",
    "\n",
    "# Dictionary to keep track of LabelEncoders for each column\n",
    "le_dict = {}\n",
    "\n",
    "# Loop through each categorical column, create a LabelEncoder, fit and transform the data\n",
    "df_encoded = df.copy()\n",
    "for col in categorical_cols:\n",
    "    le = LabelEncoder()\n",
    "    df_encoded[col] = le.fit_transform(df_encoded[col])\n",
    "    # Store the LabelEncoder in dictionary\n",
    "    le_dict[col] = le\n",
    "\n",
    "# display the first five rows of the encoded dataset\n",
    "df_encoded.head()"
   ]
  },
  {
   "cell_type": "code",
   "execution_count": 24,
   "id": "180f5ec2",
   "metadata": {},
   "outputs": [],
   "source": [
    "# [TBC] complete your code here with proper comments\n",
    "# Train test split\n",
    "# hint: sklearn.model_selection.train_test_split()\n",
    "# hint: first divide the encoded dataset into features and target, then perform train test split\n",
    "\n",
    "# extract feature\n",
    "feature_df = df_encoded.copy().drop(columns = ['price'])\n",
    "\n",
    "# extract target\n",
    "target_df = df_encoded.copy()['price']\n",
    "\n",
    "# train test split\n",
    "X_train, X_test, y_train, y_test = train_test_split(\n",
    "    feature_df.values, # call `.values` to convert the feature from pd.DataFrame to np.array\n",
    "    target_df.values, # call `.values` to convert the target from pd.Series to np.array\n",
    "    train_size = 0.7, # 70% for training, 30% for test\n",
    "    random_state = 0 # controls the shuffling, set to zero for reproduciblillity\n",
    ")"
   ]
  },
  {
   "cell_type": "markdown",
   "id": "b4aaa305",
   "metadata": {},
   "source": [
    "### Task 3. Build and evaluate a regression model using random forests with default hyper-parameters\n",
    "\n",
    "You need to train a regression model using random forests algorithms with default hyper-parameters and evaluate its performance.\n",
    "\n",
    "<span style=\"color:red\">**[TBC]**</span> Please complete the following tasks:\n",
    "\n",
    "- Train the regression model\n",
    "- Evaluate the performance on test dataset\n",
    "\n",
    "Warning: The difficulty with this task lies in the size of the data set. If your computer doesn't have enough memory to complete the task, you need to find workarounds.\n",
    "\n",
    "- You may reduce the size of training set, but be careful of the size of test set. A overly large test set may cause failure when you use the learned model to make predictions on it.\n",
    "- You may adjust the hyper-parameters of random forests to reduce the complexity of model, which will reduce the memory required. "
   ]
  },
  {
   "cell_type": "code",
   "execution_count": 25,
   "id": "25a3a562",
   "metadata": {},
   "outputs": [
    {
     "data": {
      "text/html": [
       "<style>#sk-container-id-3 {color: black;}#sk-container-id-3 pre{padding: 0;}#sk-container-id-3 div.sk-toggleable {background-color: white;}#sk-container-id-3 label.sk-toggleable__label {cursor: pointer;display: block;width: 100%;margin-bottom: 0;padding: 0.3em;box-sizing: border-box;text-align: center;}#sk-container-id-3 label.sk-toggleable__label-arrow:before {content: \"▸\";float: left;margin-right: 0.25em;color: #696969;}#sk-container-id-3 label.sk-toggleable__label-arrow:hover:before {color: black;}#sk-container-id-3 div.sk-estimator:hover label.sk-toggleable__label-arrow:before {color: black;}#sk-container-id-3 div.sk-toggleable__content {max-height: 0;max-width: 0;overflow: hidden;text-align: left;background-color: #f0f8ff;}#sk-container-id-3 div.sk-toggleable__content pre {margin: 0.2em;color: black;border-radius: 0.25em;background-color: #f0f8ff;}#sk-container-id-3 input.sk-toggleable__control:checked~div.sk-toggleable__content {max-height: 200px;max-width: 100%;overflow: auto;}#sk-container-id-3 input.sk-toggleable__control:checked~label.sk-toggleable__label-arrow:before {content: \"▾\";}#sk-container-id-3 div.sk-estimator input.sk-toggleable__control:checked~label.sk-toggleable__label {background-color: #d4ebff;}#sk-container-id-3 div.sk-label input.sk-toggleable__control:checked~label.sk-toggleable__label {background-color: #d4ebff;}#sk-container-id-3 input.sk-hidden--visually {border: 0;clip: rect(1px 1px 1px 1px);clip: rect(1px, 1px, 1px, 1px);height: 1px;margin: -1px;overflow: hidden;padding: 0;position: absolute;width: 1px;}#sk-container-id-3 div.sk-estimator {font-family: monospace;background-color: #f0f8ff;border: 1px dotted black;border-radius: 0.25em;box-sizing: border-box;margin-bottom: 0.5em;}#sk-container-id-3 div.sk-estimator:hover {background-color: #d4ebff;}#sk-container-id-3 div.sk-parallel-item::after {content: \"\";width: 100%;border-bottom: 1px solid gray;flex-grow: 1;}#sk-container-id-3 div.sk-label:hover label.sk-toggleable__label {background-color: #d4ebff;}#sk-container-id-3 div.sk-serial::before {content: \"\";position: absolute;border-left: 1px solid gray;box-sizing: border-box;top: 0;bottom: 0;left: 50%;z-index: 0;}#sk-container-id-3 div.sk-serial {display: flex;flex-direction: column;align-items: center;background-color: white;padding-right: 0.2em;padding-left: 0.2em;position: relative;}#sk-container-id-3 div.sk-item {position: relative;z-index: 1;}#sk-container-id-3 div.sk-parallel {display: flex;align-items: stretch;justify-content: center;background-color: white;position: relative;}#sk-container-id-3 div.sk-item::before, #sk-container-id-3 div.sk-parallel-item::before {content: \"\";position: absolute;border-left: 1px solid gray;box-sizing: border-box;top: 0;bottom: 0;left: 50%;z-index: -1;}#sk-container-id-3 div.sk-parallel-item {display: flex;flex-direction: column;z-index: 1;position: relative;background-color: white;}#sk-container-id-3 div.sk-parallel-item:first-child::after {align-self: flex-end;width: 50%;}#sk-container-id-3 div.sk-parallel-item:last-child::after {align-self: flex-start;width: 50%;}#sk-container-id-3 div.sk-parallel-item:only-child::after {width: 0;}#sk-container-id-3 div.sk-dashed-wrapped {border: 1px dashed gray;margin: 0 0.4em 0.5em 0.4em;box-sizing: border-box;padding-bottom: 0.4em;background-color: white;}#sk-container-id-3 div.sk-label label {font-family: monospace;font-weight: bold;display: inline-block;line-height: 1.2em;}#sk-container-id-3 div.sk-label-container {text-align: center;}#sk-container-id-3 div.sk-container {/* jupyter's `normalize.less` sets `[hidden] { display: none; }` but bootstrap.min.css set `[hidden] { display: none !important; }` so we also need the `!important` here to be able to override the default hidden behavior on the sphinx rendered scikit-learn.org. See: https://github.com/scikit-learn/scikit-learn/issues/21755 */display: inline-block !important;position: relative;}#sk-container-id-3 div.sk-text-repr-fallback {display: none;}</style><div id=\"sk-container-id-3\" class=\"sk-top-container\"><div class=\"sk-text-repr-fallback\"><pre>RandomForestRegressor()</pre><b>In a Jupyter environment, please rerun this cell to show the HTML representation or trust the notebook. <br />On GitHub, the HTML representation is unable to render, please try loading this page with nbviewer.org.</b></div><div class=\"sk-container\" hidden><div class=\"sk-item\"><div class=\"sk-estimator sk-toggleable\"><input class=\"sk-toggleable__control sk-hidden--visually\" id=\"sk-estimator-id-5\" type=\"checkbox\" checked><label for=\"sk-estimator-id-5\" class=\"sk-toggleable__label sk-toggleable__label-arrow\">RandomForestRegressor</label><div class=\"sk-toggleable__content\"><pre>RandomForestRegressor()</pre></div></div></div></div></div>"
      ],
      "text/plain": [
       "RandomForestRegressor()"
      ]
     },
     "execution_count": 25,
     "metadata": {},
     "output_type": "execute_result"
    }
   ],
   "source": [
    "# [TBC] complete your code here with proper comments\n",
    "# train the regression model\n",
    "# hint: sklearn.ensemble.RandomForestRegressor()\n",
    "regr = RandomForestRegressor()\n",
    "regr.fit(X_train, y_train)"
   ]
  },
  {
   "cell_type": "code",
   "execution_count": 26,
   "id": "df51b6ce-eb29-4c56-a166-e5fd81ea1fdc",
   "metadata": {},
   "outputs": [
    {
     "name": "stdout",
     "output_type": "stream",
     "text": [
      "RMSE test: 2341.779317561273\n",
      "R2 test: 0.9893609861362141\n"
     ]
    },
    {
     "data": {
      "image/png": "[encoded data removed]",
      "text/plain": [
       "<Figure size 640x480 with 1 Axes>"
      ]
     },
     "metadata": {},
     "output_type": "display_data"
    }
   ],
   "source": [
    "# [TBC] complete your code here with proper comments\n",
    "# evaluate the performance on test dataset\n",
    "# hint: you may use RMSE and r2 score\n",
    "# hint: you may also create a plot to visualize the predictions\n",
    "\n",
    "# make predictions on test dataset\n",
    "y_pred = regr.predict(X_test)\n",
    "\n",
    "# calculate RMSE and r2 score\n",
    "rmse_test = mean_squared_error(y_test, y_pred, squared = False)\n",
    "r2_test = r2_score(y_test, y_pred)\n",
    "\n",
    "# print RMSE and r2 score\n",
    "print(\"RMSE test:\", rmse_test)\n",
    "print(\"R2 test:\", r2_test)\n",
    "\n",
    "# visualization\n",
    "plt.figure()\n",
    "plt.plot(y_test, y_pred, '.')\n",
    "plt.show()"
   ]
  },
  {
   "cell_type": "markdown",
   "id": "0d644a27",
   "metadata": {},
   "source": [
    "### Task 4. Hyper-parameter tuning through cross-validation for random forests\n",
    "\n",
    "You need to perform hyper-parameter tuning through cross-validation for random forests.\n",
    "\n",
    "<span style=\"color:red\">**[TBC]**</span> Please complete the following tasks:\n",
    "\n",
    "- Hyper-parameter tuning through cross-validation\n",
    "- Evaluate the performance of the final model on test dataset\n",
    "- Get feature importances from the final model\n",
    "\n",
    "Warning: The difficulty with this task lies in the size of the data set. If your computer doesn't have enough memory to complete the task, you need to find workarounds."
   ]
  },
  {
   "cell_type": "code",
   "execution_count": 27,
   "id": "69f4bbf7",
   "metadata": {},
   "outputs": [
    {
     "name": "stdout",
     "output_type": "stream",
     "text": [
      "Fitting 3 folds for each of 12 candidates, totalling 36 fits\n",
      "Best hyper-parameters: {'max_samples': 0.75, 'n_estimators': 100}\n",
      "Best score: -2472.102163617859\n"
     ]
    }
   ],
   "source": [
    "# [TBC] complete your code here with proper comments\n",
    "# Hyper-parameter tuning through cross-validation\n",
    "# hint: sklearn.model_selection.GridSearchCV()\n",
    "\n",
    "# define the hyper-parameters to search\n",
    "param_dict = {\n",
    "    'n_estimators': [10, 50, 100],\n",
    "    'max_samples': [0.25, 0.5, 0.75, 1.0]\n",
    "}\n",
    "\n",
    "# hyper-parameter tuning through cross-validation\n",
    "grid_regr = GridSearchCV(\n",
    "    estimator = RandomForestRegressor(),\n",
    "    param_grid = param_dict,\n",
    "    scoring = 'neg_root_mean_squared_error',\n",
    "    refit = True,\n",
    "    cv = 3,\n",
    "    verbose = 1,\n",
    "    n_jobs = -1\n",
    ")\n",
    "grid_regr.fit(X_train, y_train)\n",
    "\n",
    "# obtain the best hyper-parameters and the best score\n",
    "print('Best hyper-parameters:', grid_regr.best_params_)\n",
    "print('Best score:', grid_regr.best_score_)"
   ]
  },
  {
   "cell_type": "code",
   "execution_count": 28,
   "id": "48ee4d5b",
   "metadata": {},
   "outputs": [
    {
     "name": "stdout",
     "output_type": "stream",
     "text": [
      "RMSE test: 2341.596316972262\n",
      "R2 test: 0.9893626488631124\n"
     ]
    },
    {
     "data": {
      "image/png": "[encoded data removed]",
      "text/plain": [
       "<Figure size 640x480 with 1 Axes>"
      ]
     },
     "metadata": {},
     "output_type": "display_data"
    }
   ],
   "source": [
    "# [TBC] complete your code here with proper comments\n",
    "# evaluate the performance of the final model on test dataset\n",
    "# hint: you may use RMSE and r2 score\n",
    "# hint: you may also create a plot to visualize the predictions\n",
    "\n",
    "# predict categories for test dataset\n",
    "y_pred = grid_regr.predict(X_test)\n",
    "\n",
    "# model performance on the testing dataset\n",
    "rmse_test = mean_squared_error(y_test, y_pred, squared = False)\n",
    "r2_test = r2_score(y_test, y_pred)\n",
    "\n",
    "# print RMSE and r2 score\n",
    "print(\"RMSE test:\", rmse_test)\n",
    "print(\"R2 test:\", r2_test)\n",
    "\n",
    "# visualization\n",
    "plt.figure()\n",
    "plt.plot(y_test, y_pred, '.')\n",
    "plt.show()"
   ]
  },
  {
   "cell_type": "code",
   "execution_count": 29,
   "id": "6c7c507b",
   "metadata": {},
   "outputs": [
    {
     "data": {
      "text/plain": [
       "array([0.00107953, 0.02901778, 0.00683258, 0.00255718, 0.00203006,\n",
       "       0.0029687 , 0.0100565 , 0.87936614, 0.04816476, 0.01792677])"
      ]
     },
     "execution_count": 29,
     "metadata": {},
     "output_type": "execute_result"
    }
   ],
   "source": [
    "# [TBC] complete your code here with proper comments\n",
    "# Get feature importances from the final model\n",
    "# hint: you may first obtain the best estimator from GridSearchCV\n",
    "# hint: then get feature importances from the best estimator\n",
    "grid_regr.best_estimator_.feature_importances_"
   ]
  }
 ],
 "metadata": {
  "kernelspec": {
   "display_name": "Python 3 (ipykernel)",
   "language": "python",
   "name": "python3"
  },
  "language_info": {
   "codemirror_mode": {
    "name": "ipython",
    "version": 3
   },
   "file_extension": ".py",
   "mimetype": "text/x-python",
   "name": "python",
   "nbconvert_exporter": "python",
   "pygments_lexer": "ipython3",
   "version": "3.11.8"
  }
 },
 "nbformat": 4,
 "nbformat_minor": 5
}
