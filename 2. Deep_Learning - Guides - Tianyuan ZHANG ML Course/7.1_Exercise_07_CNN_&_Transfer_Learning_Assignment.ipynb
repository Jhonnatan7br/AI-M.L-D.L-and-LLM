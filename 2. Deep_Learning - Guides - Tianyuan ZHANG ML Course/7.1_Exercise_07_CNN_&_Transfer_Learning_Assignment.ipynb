{
  "cells": [
    {
      "cell_type": "markdown",
      "id": "352629ed-db26-4cb3-a153-4ebbe4ca2f09",
      "metadata": {
        "id": "352629ed-db26-4cb3-a153-4ebbe4ca2f09"
      },
      "source": [
        "# Exercise 07 CNN & Transfer Learning - Assignment\n",
        "\n",
        "<span style=\"color:red\">**The submission deadline of this assignment is 15/04/2024 23:59.**</span>\n",
        "\n",
        "<span style=\"color:red\">**Do not submit the saved `.pth` file of the trained CNN, because the file size is too big.**</span>\n",
        "\n",
        "## Pedagogy\n",
        "\n",
        "This notebook contains both theoretical explanations and executable cells to execute your code.\n",
        "\n",
        "When you see the <span style=\"color:red\">**[TBC]**</span> (To Be Completed) sign, it means that you need to perform an action else besides executing the cells of code that already exist. These actions can be:\n",
        "- Complete the code with proper comments\n",
        "- Respond to a question\n",
        "- Write an analysis\n",
        "- etc.\n",
        "\n",
        "## Requirement\n",
        "\n",
        "In this assignment, you are required to build a multi-class image classifier with pre-trained Squeeze Net using transfer learning.\n",
        "\n",
        "The problem to be solved is to classify grayscale images into one of the 10 pre-defined classes:\n",
        "\n",
        "![](https://github.com/zalandoresearch/fashion-mnist/raw/master/doc/img/fashion-mnist-sprite.png)\n",
        "\n",
        "|Label|0|1|2|3|4|5|6|7|8|9|\n",
        "|-|-|-|-|-|-|-|-|-|-|-|\n",
        "|Class|T-shit/top|Trouser|Pullover|Dress|Coat|Sandal|Shirt|Sneaker|Bag|Ankle boot|\n",
        "\n",
        "<span style=\"color:red\">**[TBC]**</span> Please complete the following tasks:\n",
        "- Build the data pipeline\n",
        "- Load pre-trained model and re-build the classifier\n",
        "- Train the re-built classifier\n",
        "- Test and evaluation\n",
        "- (Optional) Fine-tuning entire CNN"
      ]
    },
    {
      "cell_type": "markdown",
      "id": "7625b810-2f04-4e3b-be95-1568b2670036",
      "metadata": {
        "id": "7625b810-2f04-4e3b-be95-1568b2670036"
      },
      "source": [
        "### Import libraries"
      ]
    },
    {
      "cell_type": "code",
      "execution_count": 2,
      "id": "1276980c-4420-4c4c-a506-172e3dfe1fe1",
      "metadata": {
        "id": "1276980c-4420-4c4c-a506-172e3dfe1fe1"
      },
      "outputs": [],
      "source": [
        "# [TBC] complete your code here with proper comments\n",
        "import torchvision.transforms as transforms\n",
        "from torchvision.datasets import FashionMNIST\n",
        "from torch.utils.data import random_split\n",
        "from torch.utils.data import DataLoader\n",
        "\n",
        "import torch\n",
        "import torchvision.models as models\n",
        "\n",
        "import torch.optim as optim\n",
        "import torch.nn as nn\n",
        "from tqdm import tqdm\n",
        "import matplotlib.pyplot as plt\n",
        "\n",
        "import torch\n",
        "import torch.nn.functional as F\n",
        "from sklearn.metrics import classification_report\n"
      ]
    },
    {
      "cell_type": "markdown",
      "id": "107590dd-f069-4880-8c42-733a17742dba",
      "metadata": {
        "id": "107590dd-f069-4880-8c42-733a17742dba"
      },
      "source": [
        "## Task 1. Build the data pipeline\n",
        "\n",
        "You are required to use the PyTorch built-in Fashion MNIST dataset, consists of 70,000 $28\\times28$ grayscale images in 10 classes, with 7,000 images per class. You can find more information about this dataset from the [PyTorch documentation](https://pytorch.org/vision/stable/generated/torchvision.datasets.FashionMNIST.html) and the [original source](https://github.com/zalandoresearch/fashion-mnist).\n",
        "\n",
        "To use the Fashion MNIST dataset and the pre-trained Squeeze Net, apart from the pre-processing transformations illustrated in the Instruction notebook, you also need to convert the grayscale image to the RGB image. To do this, you can add an additional transformation `transforms.Grayscale(num_output_channels=3)` to the sequence of transformations you defined.\n",
        "\n",
        "<span style=\"color:red\">**[TBC]**</span> You need to:\n",
        "- Define a sequence of transformations to pre-process the images\n",
        "- Use `torchvision.datasets.FashionMNIST()` to load the dataset\n",
        "- Divide the dataset into the training, valiation, and test set\n",
        "- Create `DataLoader` instance to wrap the dataset as iterable objects\n",
        "    - Decide a proper batch size considering\n",
        "        - The available memory of your computer\n",
        "        - The desired number of batches in each epoch"
      ]
    },
    {
      "cell_type": "code",
      "execution_count": 3,
      "id": "d0454d87-ed90-4268-9ec8-8f8a8cfe9854",
      "metadata": {
        "id": "d0454d87-ed90-4268-9ec8-8f8a8cfe9854"
      },
      "outputs": [],
      "source": [
        "# Build the Data Pipeline\n",
        "\n",
        "transform = transforms.Compose([\n",
        "    transforms.Grayscale(num_output_channels=3),\n",
        "    transforms.Resize((224, 224)),\n",
        "    transforms.ToTensor(),\n",
        "    transforms.Normalize(mean=[0.485, 0.456, 0.406], std=[0.229, 0.224, 0.225])\n",
        "])"
      ]
    },
    {
      "cell_type": "code",
      "execution_count": 4,
      "id": "84b0d84e",
      "metadata": {
        "colab": {
          "base_uri": "https://localhost:8080/"
        },
        "id": "84b0d84e",
        "outputId": "506759f2-c124-45ad-b1cb-9cf3e326f777"
      },
      "outputs": [
        {
          "output_type": "stream",
          "name": "stdout",
          "text": [
            "Downloading http://fashion-mnist.s3-website.eu-central-1.amazonaws.com/train-images-idx3-ubyte.gz\n",
            "Downloading http://fashion-mnist.s3-website.eu-central-1.amazonaws.com/train-images-idx3-ubyte.gz to ./data/FashionMNIST/raw/train-images-idx3-ubyte.gz\n"
          ]
        },
        {
          "output_type": "stream",
          "name": "stderr",
          "text": [
            "100%|██████████| 26421880/26421880 [00:02<00:00, 11717134.57it/s]\n"
          ]
        },
        {
          "output_type": "stream",
          "name": "stdout",
          "text": [
            "Extracting ./data/FashionMNIST/raw/train-images-idx3-ubyte.gz to ./data/FashionMNIST/raw\n",
            "\n",
            "Downloading http://fashion-mnist.s3-website.eu-central-1.amazonaws.com/train-labels-idx1-ubyte.gz\n",
            "Downloading http://fashion-mnist.s3-website.eu-central-1.amazonaws.com/train-labels-idx1-ubyte.gz to ./data/FashionMNIST/raw/train-labels-idx1-ubyte.gz\n"
          ]
        },
        {
          "output_type": "stream",
          "name": "stderr",
          "text": [
            "100%|██████████| 29515/29515 [00:00<00:00, 206417.00it/s]\n"
          ]
        },
        {
          "output_type": "stream",
          "name": "stdout",
          "text": [
            "Extracting ./data/FashionMNIST/raw/train-labels-idx1-ubyte.gz to ./data/FashionMNIST/raw\n",
            "\n",
            "Downloading http://fashion-mnist.s3-website.eu-central-1.amazonaws.com/t10k-images-idx3-ubyte.gz\n",
            "Downloading http://fashion-mnist.s3-website.eu-central-1.amazonaws.com/t10k-images-idx3-ubyte.gz to ./data/FashionMNIST/raw/t10k-images-idx3-ubyte.gz\n"
          ]
        },
        {
          "output_type": "stream",
          "name": "stderr",
          "text": [
            "100%|██████████| 4422102/4422102 [00:01<00:00, 3937816.64it/s]\n"
          ]
        },
        {
          "output_type": "stream",
          "name": "stdout",
          "text": [
            "Extracting ./data/FashionMNIST/raw/t10k-images-idx3-ubyte.gz to ./data/FashionMNIST/raw\n",
            "\n",
            "Downloading http://fashion-mnist.s3-website.eu-central-1.amazonaws.com/t10k-labels-idx1-ubyte.gz\n",
            "Downloading http://fashion-mnist.s3-website.eu-central-1.amazonaws.com/t10k-labels-idx1-ubyte.gz to ./data/FashionMNIST/raw/t10k-labels-idx1-ubyte.gz\n"
          ]
        },
        {
          "output_type": "stream",
          "name": "stderr",
          "text": [
            "100%|██████████| 5148/5148 [00:00<00:00, 15680665.93it/s]"
          ]
        },
        {
          "output_type": "stream",
          "name": "stdout",
          "text": [
            "Extracting ./data/FashionMNIST/raw/t10k-labels-idx1-ubyte.gz to ./data/FashionMNIST/raw\n",
            "\n"
          ]
        },
        {
          "output_type": "stream",
          "name": "stderr",
          "text": [
            "\n"
          ]
        }
      ],
      "source": [
        "# Load the Dataset\n",
        "# Loading the training dataset\n",
        "train_dataset = FashionMNIST(root='./data', train=True, download=True, transform=transform)\n",
        "\n",
        "# Loading the testing dataset\n",
        "test_dataset = FashionMNIST(root='./data', train=False, download=True, transform=transform)"
      ]
    },
    {
      "cell_type": "code",
      "execution_count": 5,
      "id": "82ad0293",
      "metadata": {
        "id": "82ad0293"
      },
      "outputs": [],
      "source": [
        "# Split the Dataset\n",
        "# Splitting the training dataset into training and validation\n",
        "train_size = int(0.8 * len(train_dataset))\n",
        "val_size = len(train_dataset) - train_size\n",
        "train_data, val_data = random_split(train_dataset, [train_size, val_size])\n"
      ]
    },
    {
      "cell_type": "code",
      "execution_count": 6,
      "id": "1fe97def",
      "metadata": {
        "id": "1fe97def"
      },
      "outputs": [],
      "source": [
        "# Create DataLoader Instances\n",
        "\n",
        "batch_size = 64  # Adjust based on your system's specifications\n",
        "\n",
        "train_loader = DataLoader(train_data, batch_size=batch_size, shuffle=True)\n",
        "val_loader = DataLoader(val_data, batch_size=batch_size, shuffle=False)\n",
        "test_loader = DataLoader(test_dataset, batch_size=batch_size, shuffle=False)"
      ]
    },
    {
      "cell_type": "markdown",
      "id": "c67a04f4-00db-465e-9630-9079c05a7a4f",
      "metadata": {
        "id": "c67a04f4-00db-465e-9630-9079c05a7a4f"
      },
      "source": [
        "## Task 2. Load Pre-trained model and Re-build the classifier\n",
        "\n",
        "<span style=\"color:red\">**[TBC]**</span> You need to:\n",
        "- Load the pre-trained Squeeze Net\n",
        "- Replace the `classifier` part\n",
        "- Freeze the `features` part\n",
        "- Set up GPU acceleration if it's possible"
      ]
    },
    {
      "cell_type": "code",
      "execution_count": 7,
      "id": "f963b3ef-974b-4978-bedc-c0c378b9e00e",
      "metadata": {
        "scrolled": true,
        "colab": {
          "base_uri": "https://localhost:8080/"
        },
        "id": "f963b3ef-974b-4978-bedc-c0c378b9e00e",
        "outputId": "dc390825-e32f-458b-b90c-dada20103054"
      },
      "outputs": [
        {
          "output_type": "stream",
          "name": "stderr",
          "text": [
            "/usr/local/lib/python3.10/dist-packages/torchvision/models/_utils.py:208: UserWarning: The parameter 'pretrained' is deprecated since 0.13 and may be removed in the future, please use 'weights' instead.\n",
            "  warnings.warn(\n",
            "/usr/local/lib/python3.10/dist-packages/torchvision/models/_utils.py:223: UserWarning: Arguments other than a weight enum or `None` for 'weights' are deprecated since 0.13 and may be removed in the future. The current behavior is equivalent to passing `weights=SqueezeNet1_1_Weights.IMAGENET1K_V1`. You can also use `weights=SqueezeNet1_1_Weights.DEFAULT` to get the most up-to-date weights.\n",
            "  warnings.warn(msg)\n",
            "Downloading: \"https://download.pytorch.org/models/squeezenet1_1-b8a52dc0.pth\" to /root/.cache/torch/hub/checkpoints/squeezenet1_1-b8a52dc0.pth\n",
            "100%|██████████| 4.73M/4.73M [00:00<00:00, 31.6MB/s]\n"
          ]
        }
      ],
      "source": [
        "# Load pre-trained SqueezeNet\n",
        "model = models.squeezenet1_1(pretrained=True)"
      ]
    },
    {
      "cell_type": "code",
      "execution_count": 8,
      "id": "82dad7bd",
      "metadata": {
        "id": "82dad7bd"
      },
      "outputs": [],
      "source": [
        "# Replace the Classifier\n",
        "\n",
        "# Number of classes in Fashion MNIST\n",
        "num_classes = 10\n",
        "\n",
        "# Replace the classifier - assume the model has classifier attribute which SqueezeNet has not\n",
        "# It's a bit tricky because SqueezeNet uses a different classifier concept\n",
        "model.classifier[1] = torch.nn.Conv2d(512, num_classes, kernel_size=(1,1), stride=(1,1))\n",
        "model.num_classes = num_classes"
      ]
    },
    {
      "cell_type": "code",
      "execution_count": 9,
      "id": "420c5f33",
      "metadata": {
        "id": "420c5f33"
      },
      "outputs": [],
      "source": [
        "# Freeze the Features Part\n",
        "\n",
        "for param in model.features.parameters():\n",
        "    param.requires_grad = False"
      ]
    },
    {
      "cell_type": "code",
      "execution_count": 10,
      "id": "0ca1a8a4",
      "metadata": {
        "colab": {
          "base_uri": "https://localhost:8080/"
        },
        "id": "0ca1a8a4",
        "outputId": "9ffc0a41-56d9-4d99-a8dc-438e5c90b4ef"
      },
      "outputs": [
        {
          "output_type": "stream",
          "name": "stdout",
          "text": [
            "Using cpu device.\n"
          ]
        }
      ],
      "source": [
        "# Check if GPU is available and set the device accordingly\n",
        "device = torch.device(\"cuda\" if torch.cuda.is_available() else \"cpu\")\n",
        "print(f\"Using {device} device.\")\n",
        "\n",
        "# Move the model to the chosen device\n",
        "model = model.to(device)"
      ]
    },
    {
      "cell_type": "markdown",
      "id": "7511e9db-363b-4294-8e77-08923752652b",
      "metadata": {
        "id": "7511e9db-363b-4294-8e77-08923752652b"
      },
      "source": [
        "## Task 3. Train the re-built classifier\n",
        "\n",
        "<span style=\"color:red\">**[TBC]**</span> You need to:\n",
        "\n",
        "- Define a `train()` function\n",
        "    - Embed automatic model saving in the training process\n",
        "    - <span style=\"color:red\">**Do not submit the saved file as it will be too big.**</span>\n",
        "- Specify the training hyper-parameters\n",
        "- Train the network\n",
        "- Reload the best model after training\n",
        "- Plot the loss history of the training probess"
      ]
    },
    {
      "cell_type": "code",
      "execution_count": 11,
      "id": "bb326330-4a75-499f-9add-e4087aa86ca5",
      "metadata": {
        "id": "bb326330-4a75-499f-9add-e4087aa86ca5"
      },
      "outputs": [],
      "source": [
        "# Define the train() Function\n",
        "def train(model, device, train_loader, val_loader, epochs, optimizer, criterion, save_path):\n",
        "    min_val_loss = float('inf')\n",
        "    train_losses = []\n",
        "    val_losses = []\n",
        "\n",
        "    for epoch in range(epochs):\n",
        "        model.train()\n",
        "        running_loss = 0.0\n",
        "\n",
        "        for inputs, labels in tqdm(train_loader, desc=f\"Epoch {epoch+1}/{epochs}\", unit=\"batch\"):\n",
        "            inputs, labels = inputs.to(device), labels.to(device)\n",
        "\n",
        "            optimizer.zero_grad()\n",
        "            outputs = model(inputs)\n",
        "            loss = criterion(outputs, labels)\n",
        "            loss.backward()\n",
        "            optimizer.step()\n",
        "\n",
        "            running_loss += loss.item() * inputs.size(0)\n",
        "\n",
        "        epoch_loss = running_loss / len(train_loader.dataset)\n",
        "        train_losses.append(epoch_loss)\n",
        "\n",
        "        val_loss = evaluate(model, device, val_loader, criterion)\n",
        "        val_losses.append(val_loss)\n",
        "\n",
        "        print(f\"Epoch {epoch+1}, Train Loss: {epoch_loss:.4f}, Val Loss: {val_loss:.4f}\")\n",
        "\n",
        "        # Save the model if the validation loss decreased\n",
        "        if val_loss < min_val_loss:\n",
        "            print(f\"Validation loss decreased ({min_val_loss:.4f} --> {val_loss:.4f}). Saving model...\")\n",
        "            torch.save(model.state_dict(), save_path)\n",
        "            min_val_loss = val_loss\n",
        "\n",
        "    return train_losses, val_losses\n",
        "\n",
        "def evaluate(model, device, dataloader, criterion):\n",
        "    model.eval()\n",
        "    total_loss = 0.0\n",
        "\n",
        "    with torch.no_grad():\n",
        "        for inputs, labels in dataloader:\n",
        "            inputs, labels = inputs.to(device), labels.to(device)\n",
        "            outputs = model(inputs)\n",
        "            loss = criterion(outputs, labels)\n",
        "            total_loss += loss.item() * inputs.size(0)\n",
        "\n",
        "    return total_loss / len(dataloader.dataset)"
      ]
    },
    {
      "cell_type": "code",
      "execution_count": 13,
      "id": "007698fc",
      "metadata": {
        "id": "007698fc"
      },
      "outputs": [],
      "source": [
        "# Specify the Training Hyper-parameters\n",
        "\n",
        "epochs = 1 # Limited to computing resources\n",
        "learning_rate = 0.001\n",
        "optimizer = optim.Adam(filter(lambda p: p.requires_grad, model.parameters()), lr=learning_rate)\n",
        "criterion = nn.CrossEntropyLoss()\n",
        "save_path = 'best_CNN.pth'\n"
      ]
    },
    {
      "cell_type": "code",
      "execution_count": 14,
      "id": "d0c86d34",
      "metadata": {
        "colab": {
          "base_uri": "https://localhost:8080/"
        },
        "id": "d0c86d34",
        "outputId": "f6da393f-90df-4b76-f911-4551c61e10d8"
      },
      "outputs": [
        {
          "output_type": "stream",
          "name": "stderr",
          "text": [
            "Epoch 1/1: 100%|██████████| 750/750 [41:47<00:00,  3.34s/batch]\n"
          ]
        },
        {
          "output_type": "stream",
          "name": "stdout",
          "text": [
            "Epoch 1, Train Loss: 0.4870, Val Loss: 0.3631\n",
            "Validation loss decreased (inf --> 0.3631). Saving model...\n"
          ]
        }
      ],
      "source": [
        "# Train the Network\n",
        "\n",
        "train_losses, val_losses = train(model, device, train_loader, val_loader, epochs, optimizer, criterion, save_path)\n"
      ]
    },
    {
      "cell_type": "code",
      "execution_count": 15,
      "id": "0c6553cd",
      "metadata": {
        "id": "0c6553cd"
      },
      "outputs": [],
      "source": [
        "# Reload the Best Model\n",
        "\n",
        "model.load_state_dict(torch.load(save_path))\n",
        "model = model.to(device)\n"
      ]
    },
    {
      "cell_type": "markdown",
      "id": "ec588df3-9dd5-44db-9ea3-8609cddcd234",
      "metadata": {
        "id": "ec588df3-9dd5-44db-9ea3-8609cddcd234"
      },
      "source": [
        "## Step 4. Test and evaluation\n",
        "\n",
        "<span style=\"color:red\">**[TBC]**</span> You need to:\n",
        "- Define the `test()` function\n",
        "    - Output logits, probabilities and predictions\n",
        "    - Output the loss value on the test set\n",
        "- Make predictions on the test dataset\n",
        "- Evaluate the performance\n",
        "    - Use `sklearn.metrics.classification_report()`"
      ]
    },
    {
      "cell_type": "code",
      "execution_count": 16,
      "id": "404c14b8-647e-4992-9eb8-070cd38933b0",
      "metadata": {
        "id": "404c14b8-647e-4992-9eb8-070cd38933b0"
      },
      "outputs": [],
      "source": [
        "\n",
        "# Define the test() Function\n",
        "\n",
        "\n",
        "def test(model, device, test_loader, criterion):\n",
        "    model.eval()\n",
        "    test_loss = 0\n",
        "    correct = 0\n",
        "    results = []\n",
        "\n",
        "    with torch.no_grad():\n",
        "        for data, target in test_loader:\n",
        "            data, target = data.to(device), target.to(device)\n",
        "            output = model(data)\n",
        "            test_loss += criterion(output, target).item()  # sum up batch loss\n",
        "            prob = F.softmax(output, dim=1)\n",
        "            pred = prob.argmax(dim=1, keepdim=True)  # get the index of the max probability\n",
        "            results.extend([(p.item(), t.item(), pr.item()) for p, t, pr in zip(pred, target, prob.max(dim=1).values)])\n",
        "\n",
        "    test_loss /= len(test_loader.dataset)\n",
        "    return test_loss, results\n"
      ]
    },
    {
      "cell_type": "code",
      "execution_count": 17,
      "id": "44d5d14c",
      "metadata": {
        "id": "44d5d14c",
        "outputId": "4937786c-ab59-44bb-9114-9f79cf021fe2",
        "colab": {
          "base_uri": "https://localhost:8080/"
        }
      },
      "outputs": [
        {
          "output_type": "stream",
          "name": "stdout",
          "text": [
            "Test set: Average loss: 0.0061\n"
          ]
        }
      ],
      "source": [
        "# Test for one class\n",
        "criterion = nn.CrossEntropyLoss()\n",
        "test_loss, results = test(model, device, test_loader, criterion)\n",
        "print(f'Test set: Average loss: {test_loss:.4f}')\n"
      ]
    },
    {
      "cell_type": "code",
      "execution_count": 18,
      "id": "f625ff92",
      "metadata": {
        "id": "f625ff92"
      },
      "outputs": [],
      "source": [
        "# Adjust the test() Function for Multiclass\n",
        "def test(model, device, test_loader, criterion):\n",
        "    model.eval()\n",
        "    test_loss = 0\n",
        "    correct = 0\n",
        "    results = []\n",
        "\n",
        "    with torch.no_grad():\n",
        "        for data, target in test_loader:\n",
        "            data, target = data.to(device), target.to(device)\n",
        "            output = model(data)\n",
        "            test_loss += criterion(output, target).item()  # sum up batch loss\n",
        "            prob = F.softmax(output, dim=1)\n",
        "            pred = prob.argmax(dim=1, keepdim=False)  # get the index of the max log-probability\n",
        "            results.extend([(pred[i].item(), target[i].item()) for i in range(target.size(0))])\n",
        "\n",
        "    test_loss /= len(test_loader.dataset)\n",
        "    return test_loss, results\n"
      ]
    },
    {
      "cell_type": "code",
      "execution_count": 19,
      "id": "e30b158d",
      "metadata": {
        "id": "e30b158d",
        "outputId": "ba2c9455-409b-4485-c86e-5aca04250b19",
        "colab": {
          "base_uri": "https://localhost:8080/"
        }
      },
      "outputs": [
        {
          "output_type": "stream",
          "name": "stdout",
          "text": [
            "Test set: Average loss: 0.0061\n"
          ]
        }
      ],
      "source": [
        "# Collect Predictions and True Labels\n",
        "test_loss, results = test(model, device, test_loader, criterion)\n",
        "y_true, y_pred = zip(*results)\n",
        "print(f'Test set: Average loss: {test_loss:.4f}')\n"
      ]
    },
    {
      "cell_type": "code",
      "execution_count": 20,
      "id": "37ac5a14",
      "metadata": {
        "id": "37ac5a14",
        "colab": {
          "base_uri": "https://localhost:8080/"
        },
        "outputId": "5fee3706-48f5-4882-c3a5-228431026b41"
      },
      "outputs": [
        {
          "output_type": "stream",
          "name": "stdout",
          "text": [
            "              precision    recall  f1-score   support\n",
            "\n",
            " T-shirt/top       0.91      0.71      0.80      1294\n",
            "     Trouser       0.96      0.99      0.98       971\n",
            "    Pullover       0.80      0.86      0.83       930\n",
            "       Dress       0.81      0.87      0.84       937\n",
            "        Coat       0.80      0.80      0.80      1005\n",
            "      Sandal       0.92      0.98      0.95       939\n",
            "       Shirt       0.59      0.66      0.62       901\n",
            "     Sneaker       0.99      0.88      0.93      1122\n",
            "         Bag       0.95      0.98      0.97       964\n",
            "  Ankle boot       0.91      0.98      0.94       937\n",
            "\n",
            "    accuracy                           0.86     10000\n",
            "   macro avg       0.86      0.87      0.86     10000\n",
            "weighted avg       0.87      0.86      0.86     10000\n",
            "\n"
          ]
        }
      ],
      "source": [
        "\n",
        "print(classification_report(y_true, y_pred, target_names=[\n",
        "    \"T-shirt/top\", \"Trouser\", \"Pullover\", \"Dress\", \"Coat\",\n",
        "    \"Sandal\", \"Shirt\", \"Sneaker\", \"Bag\", \"Ankle boot\"]))\n",
        "\n"
      ]
    },
    {
      "cell_type": "code",
      "source": [
        "from sklearn.metrics import confusion_matrix\n",
        "import seaborn as sns\n",
        "\n",
        "# Calculate confusion matrix\n",
        "conf_matrix = confusion_matrix(y_true, y_pred)\n",
        "\n",
        "# Plot confusion matrix\n",
        "plt.figure(figsize=(10, 8))\n",
        "sns.heatmap(conf_matrix, annot=True, fmt=\"d\", cmap=\"Blues\", cbar=False)\n",
        "plt.xlabel(\"Predicted labels\")\n",
        "plt.ylabel(\"True labels\")\n",
        "plt.title(\"Confusion Matrix\")\n",
        "plt.show()"
      ],
      "metadata": {
        "colab": {
          "base_uri": "https://localhost:8080/",
          "height": 718
        },
        "id": "qM9BnhaR_zOR",
        "outputId": "9d172fef-889d-4c75-ef45-5a9aa99d599d"
      },
      "id": "qM9BnhaR_zOR",
      "execution_count": 24,
      "outputs": [
        {
          "output_type": "display_data",
          "data": {
            "text/plain": [
              "<Figure size 1000x800 with 1 Axes>"
            ],
            "image/png": "[encoded data removed]"
          },
          "metadata": {}
        }
      ]
    },
    {
      "cell_type": "markdown",
      "id": "90aed7ba-fc9e-421b-b5a9-1fece5677f99",
      "metadata": {
        "id": "90aed7ba-fc9e-421b-b5a9-1fece5677f99"
      },
      "source": [
        "## Optional Task. Fine-tuning entire CNN\n",
        "\n",
        "This task is not mandatory. You need to:\n",
        "- Unfreeze the `feature extractor`\n",
        "- Fine-tune the entire netowrk (both the `feature extractor` and the `classifier`) with a relative small learning rate\n",
        "- Reload the best model after fine-tuning\n",
        "- Test and evaluation"
      ]
    },
    {
      "cell_type": "code",
      "execution_count": null,
      "id": "2c80ba03-203c-4d4e-9519-9b5366fb6902",
      "metadata": {
        "id": "2c80ba03-203c-4d4e-9519-9b5366fb6902",
        "colab": {
          "base_uri": "https://localhost:8080/"
        },
        "outputId": "561c2b05-72e8-4d30-b769-5d09e8d66f5b"
      },
      "outputs": [
        {
          "output_type": "stream",
          "name": "stderr",
          "text": [
            "Epoch 1/1:  33%|███▎      | 248/750 [24:18<48:35,  5.81s/batch]"
          ]
        }
      ],
      "source": [
        "# [TBC] complete your code here with proper comments\n",
        "\n",
        "# Unfreeze the Entire Network\n",
        "for param in model.parameters():\n",
        "    param.requires_grad = True\n",
        "\n",
        "# Define a smaller learning rate for fine-tuning\n",
        "fine_tune_learning_rate = 0.0001  # Adjust as needed\n",
        "\n",
        "# Define a new optimizer for fine-tuning the entire network\n",
        "fine_tune_optimizer = optim.Adam(model.parameters(), lr=fine_tune_learning_rate)\n",
        "\n",
        "# Train the Entire Network for fine-tuning\n",
        "fine_tune_epochs = 1  # Adjust as needed\n",
        "fine_tune_train_losses, fine_tune_val_losses = train(model, device, train_loader, val_loader, fine_tune_epochs, fine_tune_optimizer, criterion, save_path)\n",
        "\n",
        "# Reload the Best Fine-tuned Model\n",
        "model.load_state_dict(torch.load(save_path))\n",
        "model = model.to(device)\n",
        "\n",
        "# Test the Fine-tuned Model\n",
        "fine_tune_test_loss, fine_tune_results = test(model, device, test_loader, criterion)\n",
        "fine_tune_y_true, fine_tune_y_pred = zip(*fine_tune_results)\n",
        "print(f'Fine-tuned Test set: Average loss: {fine_tune_test_loss:.4f}')\n",
        "\n"
      ]
    }
  ],
  "metadata": {
    "kernelspec": {
      "display_name": "Python 3 (ipykernel)",
      "language": "python",
      "name": "python3"
    },
    "language_info": {
      "codemirror_mode": {
        "name": "ipython",
        "version": 3
      },
      "file_extension": ".py",
      "mimetype": "text/x-python",
      "name": "python",
      "nbconvert_exporter": "python",
      "pygments_lexer": "ipython3",
      "version": "3.11.4"
    },
    "colab": {
      "provenance": []
    }
  },
  "nbformat": 4,
  "nbformat_minor": 5
}