{
 "cells": [
  {
   "cell_type": "markdown",
   "id": "a82bfe22-1acd-47c3-8753-24d6d4ec907f",
   "metadata": {},
   "source": [
    "# Exercise 01.2 Intro to ML - Pandas Recap"
   ]
  },
  {
   "cell_type": "markdown",
   "id": "570a5067-7640-47b1-9191-5e46b3a24aa6",
   "metadata": {},
   "source": [
    "## Pedagogy\n",
    "\n",
    "This notebook contains both theoretical explanations and executable cells to execute your code.\n",
    "\n",
    "When you see the <span style=\"color:red\">**[TBC]**</span> (To Be Completed) sign, it means that you need to perform an action else besides executing the cells of code that already exist. These actions can be:\n",
    "- Complete the code with proper comments\n",
    "- Respond to a question\n",
    "- Write an analysis\n",
    "- etc."
   ]
  },
  {
   "cell_type": "markdown",
   "id": "54ebbd91-1c56-4b27-bdee-d50b17a918d6",
   "metadata": {},
   "source": [
    "## Part 1. Pandas ultra-quick tutorial\n",
    "\n",
    "This notebook introduces [**Series**](https://pandas.pydata.org/pandas-docs/stable/reference/api/pandas.Series.html) and [**DataFrame**](https://pandas.pydata.org/pandas-docs/stable/reference/api/pandas.DataFrame.html), which are the central data structures in Pandas. This notebook is not a comprehensive DataFrames tutorial. Rather, the purpose of this notebook is to let you review the knowledge about Pandas you learned in the Python Bootcamp course, and set up python, anaconda, jupyter notebook and other tools for subsequent courses.\n",
    "\n",
    "A `Series` is an one-dimensional array with axis labels.\n",
    "\n",
    "A `DataFrame` is similar to a spreadsheet:\n",
    "\n",
    "- A `DataFrame` stores data in cells.\n",
    "- A `DataFrame` has named columns (usually) and numbered rows."
   ]
  },
  {
   "cell_type": "markdown",
   "id": "c98f29a6-3810-44c2-aab6-d3c6d05b2591",
   "metadata": {},
   "source": [
    "### Import Pandas library\n",
    "\n",
    "Run the following code cell to import the Pandas library."
   ]
  },
  {
   "cell_type": "code",
   "execution_count": 1,
   "id": "d6ba9deb-ae72-4c10-86f7-8a84d38353c0",
   "metadata": {
    "tags": []
   },
   "outputs": [],
   "source": [
    "# import the Pandas library\n",
    "import pandas as pd"
   ]
  },
  {
   "cell_type": "markdown",
   "id": "28174b5b-a7e1-4ff2-a43a-53825a680782",
   "metadata": {},
   "source": [
    "### `Series`\n",
    "\n",
    "A `Series` is a one-dimensional array, containing homogeneous data (same type).\n",
    "\n",
    "We are going to manipulate a series of data (which we will construct below). This `Series` represents temperatures in Celsius."
   ]
  },
  {
   "cell_type": "code",
   "execution_count": 3,
   "id": "493b4e85-d151-42ad-9b81-e822c73b5d7e",
   "metadata": {
    "tags": []
   },
   "outputs": [
    {
     "name": "stdout",
     "output_type": "stream",
     "text": [
      "0     8.3\n",
      "1    10.5\n",
      "2     4.4\n",
      "3     2.9\n",
      "4     5.7\n",
      "5    11.1\n",
      "Name: Temperature, dtype: float64\n"
     ]
    }
   ],
   "source": [
    "# create a Series with temperature variables\n",
    "temperatures = pd.Series([8.3, 10.5, 4.4, 2.9, 5.7, 11.1], name = \"Temperature\")\n",
    "print(temperatures)"
   ]
  },
  {
   "cell_type": "markdown",
   "id": "ce0168ed-112e-43dd-afc2-b2144d57f6ec",
   "metadata": {},
   "source": [
    "You can see, the `Series` is considered as a column with indices of its rows. By default, indices start from 0 to denote the first row.\n",
    "\n",
    "To extract the row with index `i`, we use the notation `series[i]`.\n",
    "Example to retrieve the 3rd row:"
   ]
  },
  {
   "cell_type": "code",
   "execution_count": 4,
   "id": "60bbb800-448a-4351-821d-557004728839",
   "metadata": {
    "tags": []
   },
   "outputs": [
    {
     "name": "stdout",
     "output_type": "stream",
     "text": [
      "The 3rd row of the temperatures Series: 4.4\n"
     ]
    }
   ],
   "source": [
    "# extract the 3rd row of the Series\n",
    "print(\"The 3rd row of the temperatures Series:\", temperatures[2])"
   ]
  },
  {
   "cell_type": "markdown",
   "id": "b0830cab-8746-4b44-b991-61eb27b0bff3",
   "metadata": {},
   "source": [
    "To find out the size of the `Series`, we use the function `len()`:"
   ]
  },
  {
   "cell_type": "code",
   "execution_count": 5,
   "id": "6a84bda9-2dc1-4998-a2aa-439ec0f64809",
   "metadata": {
    "tags": []
   },
   "outputs": [
    {
     "name": "stdout",
     "output_type": "stream",
     "text": [
      "The size of the temperatures Series: 6\n"
     ]
    }
   ],
   "source": [
    "# get the size of the Series\n",
    "print(\"The size of the temperatures Series:\", len(temperatures))"
   ]
  },
  {
   "cell_type": "markdown",
   "id": "8a13ef6e-54ca-430a-a3c1-c0a56e169dd9",
   "metadata": {},
   "source": [
    "To calculate the average, maximum, and the minimum values of the `Series`, we use the function `mean()`, `max()`, `min()`:"
   ]
  },
  {
   "cell_type": "code",
   "execution_count": 6,
   "id": "18efff48-92f4-43d6-b908-382504d10906",
   "metadata": {
    "tags": []
   },
   "outputs": [
    {
     "name": "stdout",
     "output_type": "stream",
     "text": [
      "The average temperature: 7.1499999999999995\n",
      "The maximum temperature: 11.1\n",
      "The minimum temperature: 2.9\n"
     ]
    }
   ],
   "source": [
    "# calculate the average, maximum, and minimum temperature\n",
    "print(\"The average temperature:\", temperatures.mean())\n",
    "print(\"The maximum temperature:\", temperatures.max())\n",
    "print(\"The minimum temperature:\", temperatures.min())"
   ]
  },
  {
   "cell_type": "markdown",
   "id": "72879e54-ab7d-4f00-a404-849d27bed1b4",
   "metadata": {},
   "source": [
    "How to calculate the range of values in the `Series`?"
   ]
  },
  {
   "cell_type": "code",
   "execution_count": 7,
   "id": "840d17b4-da7b-4b26-ae15-a65c8851488b",
   "metadata": {
    "tags": []
   },
   "outputs": [
    {
     "name": "stdout",
     "output_type": "stream",
     "text": [
      "The range of values in the temperatures Series: 8.2\n"
     ]
    }
   ],
   "source": [
    "# calculate the range of temperature values\n",
    "print(\"The range of values in the temperatures Series:\", temperatures.max() - temperatures.min())"
   ]
  },
  {
   "cell_type": "markdown",
   "id": "fdd851a8-102c-4df6-9379-7afd5fe5a2d4",
   "metadata": {},
   "source": [
    "### `DataFrame`\n",
    "\n",
    "A `DataFrame` is a two-dimensional table, with labeled axes (columns and rows).\n",
    "\n",
    "Extracting a column from a `DataFrame` allows you to obtain a `Series`.\n",
    "\n",
    "Columns in a `DataFrame` can have different data types.\n",
    "\n",
    "We will manipulate a `DataFrame` that we are going to construct below. It contains pH data for several brands of mineral water. These brands and pH values are completely fictitious.\n",
    "\n",
    "The first column corresponds to the name of the brand. The second column corresponds to the measured pH value. We can see that the column names is specified at the header of each column."
   ]
  },
  {
   "cell_type": "code",
   "execution_count": 8,
   "id": "b0015f80",
   "metadata": {},
   "outputs": [
    {
     "data": {
      "text/html": [
       "<div>\n",
       "<style scoped>\n",
       "    .dataframe tbody tr th:only-of-type {\n",
       "        vertical-align: middle;\n",
       "    }\n",
       "\n",
       "    .dataframe tbody tr th {\n",
       "        vertical-align: top;\n",
       "    }\n",
       "\n",
       "    .dataframe thead th {\n",
       "        text-align: right;\n",
       "    }\n",
       "</style>\n",
       "<table border=\"1\" class=\"dataframe\">\n",
       "  <thead>\n",
       "    <tr style=\"text-align: right;\">\n",
       "      <th></th>\n",
       "      <th>brand</th>\n",
       "      <th>pH</th>\n",
       "    </tr>\n",
       "  </thead>\n",
       "  <tbody>\n",
       "    <tr>\n",
       "      <th>0</th>\n",
       "      <td>Crystal Quench</td>\n",
       "      <td>6.0</td>\n",
       "    </tr>\n",
       "    <tr>\n",
       "      <th>1</th>\n",
       "      <td>Aqua Essence</td>\n",
       "      <td>6.5</td>\n",
       "    </tr>\n",
       "    <tr>\n",
       "      <th>2</th>\n",
       "      <td>Purity Peak</td>\n",
       "      <td>6.8</td>\n",
       "    </tr>\n",
       "    <tr>\n",
       "      <th>3</th>\n",
       "      <td>Liquid Luster</td>\n",
       "      <td>7.1</td>\n",
       "    </tr>\n",
       "    <tr>\n",
       "      <th>4</th>\n",
       "      <td>Vital Springs</td>\n",
       "      <td>8.0</td>\n",
       "    </tr>\n",
       "    <tr>\n",
       "      <th>5</th>\n",
       "      <td>Mountain Mist</td>\n",
       "      <td>7.0</td>\n",
       "    </tr>\n",
       "    <tr>\n",
       "      <th>6</th>\n",
       "      <td>Pure Cascade</td>\n",
       "      <td>7.1</td>\n",
       "    </tr>\n",
       "    <tr>\n",
       "      <th>7</th>\n",
       "      <td>Nature Nectar</td>\n",
       "      <td>6.8</td>\n",
       "    </tr>\n",
       "    <tr>\n",
       "      <th>8</th>\n",
       "      <td>Zenith Water</td>\n",
       "      <td>7.1</td>\n",
       "    </tr>\n",
       "    <tr>\n",
       "      <th>9</th>\n",
       "      <td>Elemental Elixir</td>\n",
       "      <td>7.1</td>\n",
       "    </tr>\n",
       "  </tbody>\n",
       "</table>\n",
       "</div>"
      ],
      "text/plain": [
       "              brand   pH\n",
       "0    Crystal Quench  6.0\n",
       "1      Aqua Essence  6.5\n",
       "2       Purity Peak  6.8\n",
       "3     Liquid Luster  7.1\n",
       "4     Vital Springs  8.0\n",
       "5     Mountain Mist  7.0\n",
       "6      Pure Cascade  7.1\n",
       "7     Nature Nectar  6.8\n",
       "8      Zenith Water  7.1\n",
       "9  Elemental Elixir  7.1"
      ]
     },
     "execution_count": 8,
     "metadata": {},
     "output_type": "execute_result"
    }
   ],
   "source": [
    "# create the DataFrame with brand names and corresponding measured pH values\n",
    "df = pd.DataFrame({\n",
    "    \"brand\": ['Crystal Quench', 'Aqua Essence', 'Purity Peak', 'Liquid Luster', 'Vital Springs', 'Mountain Mist', 'Pure Cascade', 'Nature Nectar', 'Zenith Water', 'Elemental Elixir'],\n",
    "    \"pH\": [ 6.0,  6.5,  6.8,  7.1,  8.0,  7.0,  7.1,  6.8,  7.1,  7.1 ]\n",
    "})\n",
    "# print the DataFrame by simply calling the variable name\n",
    "df"
   ]
  },
  {
   "cell_type": "markdown",
   "id": "a572e053",
   "metadata": {},
   "source": [
    "If we want to access a particular column, we can call it via its column name."
   ]
  },
  {
   "cell_type": "code",
   "execution_count": 9,
   "id": "49a73413",
   "metadata": {},
   "outputs": [
    {
     "name": "stdout",
     "output_type": "stream",
     "text": [
      "The first column:\n",
      "0      Crystal Quench\n",
      "1        Aqua Essence\n",
      "2         Purity Peak\n",
      "3       Liquid Luster\n",
      "4       Vital Springs\n",
      "5       Mountain Mist\n",
      "6        Pure Cascade\n",
      "7       Nature Nectar\n",
      "8        Zenith Water\n",
      "9    Elemental Elixir\n",
      "Name: brand, dtype: object\n"
     ]
    }
   ],
   "source": [
    "# print the first column\n",
    "print('The first column:')\n",
    "print(df['brand'])"
   ]
  },
  {
   "cell_type": "markdown",
   "id": "9dcf1115",
   "metadata": {},
   "source": [
    "The obtained column is a `Series`. You can access a particular value by specifying the index of its row."
   ]
  },
  {
   "cell_type": "code",
   "execution_count": 10,
   "id": "86d9055a",
   "metadata": {},
   "outputs": [
    {
     "name": "stdout",
     "output_type": "stream",
     "text": [
      "The 4th row of the brand column: Liquid Luster\n"
     ]
    }
   ],
   "source": [
    "# print the 4th row of the brand column\n",
    "print('The 4th row of the brand column:', df['brand'][3])"
   ]
  },
  {
   "cell_type": "markdown",
   "id": "bda8d03d",
   "metadata": {},
   "source": [
    "### Descriptive statistics with Pandas\n",
    "\n",
    "Let's go further in using Pandas to extract metadata and statistics to describe our data.\n",
    "\n",
    "You can obtain the size, column names, and the number of rows of the `DataFrame` by executing the following code"
   ]
  },
  {
   "cell_type": "code",
   "execution_count": 11,
   "id": "afa41a7d",
   "metadata": {},
   "outputs": [
    {
     "name": "stdout",
     "output_type": "stream",
     "text": [
      "The size of the DataFrame: (10, 2)\n",
      "The column names of the DataFrame: Index(['brand', 'pH'], dtype='object')\n",
      "The number of rows of the DataFrame: 10\n"
     ]
    }
   ],
   "source": [
    "# Obtain the size, column names, and the number of rows of the DataFrame\n",
    "print('The size of the DataFrame:', df.shape)\n",
    "print('The column names of the DataFrame:', df.columns)\n",
    "print('The number of rows of the DataFrame:', len(df))"
   ]
  },
  {
   "cell_type": "markdown",
   "id": "480c1a68",
   "metadata": {},
   "source": [
    "Or you can simply get the general information of the `DataFrame` with `df.info()`."
   ]
  },
  {
   "cell_type": "code",
   "execution_count": 12,
   "id": "c0506aca",
   "metadata": {},
   "outputs": [
    {
     "name": "stdout",
     "output_type": "stream",
     "text": [
      "<class 'pandas.core.frame.DataFrame'>\n",
      "RangeIndex: 10 entries, 0 to 9\n",
      "Data columns (total 2 columns):\n",
      " #   Column  Non-Null Count  Dtype  \n",
      "---  ------  --------------  -----  \n",
      " 0   brand   10 non-null     object \n",
      " 1   pH      10 non-null     float64\n",
      "dtypes: float64(1), object(1)\n",
      "memory usage: 288.0+ bytes\n"
     ]
    }
   ],
   "source": [
    "# Obtain the general information of the DataFrame\n",
    "df.info()"
   ]
  },
  {
   "cell_type": "markdown",
   "id": "23b89bf1",
   "metadata": {},
   "source": [
    "You can calculate the mean, max, min, standard deviation, median, quantiles of the columns with quantitative values. By specifying `numeric_only = True`, the qualitative data will be ignored."
   ]
  },
  {
   "cell_type": "code",
   "execution_count": 13,
   "id": "401a1fbe",
   "metadata": {},
   "outputs": [
    {
     "name": "stdout",
     "output_type": "stream",
     "text": [
      "The mean value:\n",
      " pH    6.95\n",
      "dtype: float64 \n",
      "\n",
      "The max value:\n",
      " pH    8.0\n",
      "dtype: float64 \n",
      "\n",
      "The min value:\n",
      " pH    6.0\n",
      "dtype: float64 \n",
      "\n",
      "The standard deivation:\n",
      " pH    0.510446\n",
      "dtype: float64 \n",
      "\n",
      "The 25 quantile:\n",
      " pH    6.8\n",
      "Name: 0.25, dtype: float64 \n",
      "\n"
     ]
    }
   ],
   "source": [
    "# Calculate the mean value\n",
    "print('The mean value:\\n', df.mean(numeric_only = True), '\\n')\n",
    "\n",
    "# Calculate the max value\n",
    "print('The max value:\\n', df.max(numeric_only = True), '\\n')\n",
    "\n",
    "# Calculate the min value\n",
    "print('The min value:\\n', df.min(numeric_only = True), '\\n')\n",
    "\n",
    "# Calculate the standard deviation\n",
    "print('The standard deivation:\\n', df.std(numeric_only = True), '\\n')\n",
    "\n",
    "# Calculate the 25% quantile\n",
    "print('The 25 quantile:\\n', df.quantile(0.25, numeric_only = True), '\\n')"
   ]
  },
  {
   "cell_type": "markdown",
   "id": "9f706640",
   "metadata": {},
   "source": [
    "Or you can simply get the summary of the above statistics with `df.describe()`."
   ]
  },
  {
   "cell_type": "code",
   "execution_count": 14,
   "id": "89bc836b",
   "metadata": {},
   "outputs": [
    {
     "data": {
      "text/html": [
       "<div>\n",
       "<style scoped>\n",
       "    .dataframe tbody tr th:only-of-type {\n",
       "        vertical-align: middle;\n",
       "    }\n",
       "\n",
       "    .dataframe tbody tr th {\n",
       "        vertical-align: top;\n",
       "    }\n",
       "\n",
       "    .dataframe thead th {\n",
       "        text-align: right;\n",
       "    }\n",
       "</style>\n",
       "<table border=\"1\" class=\"dataframe\">\n",
       "  <thead>\n",
       "    <tr style=\"text-align: right;\">\n",
       "      <th></th>\n",
       "      <th>pH</th>\n",
       "    </tr>\n",
       "  </thead>\n",
       "  <tbody>\n",
       "    <tr>\n",
       "      <th>count</th>\n",
       "      <td>10.000000</td>\n",
       "    </tr>\n",
       "    <tr>\n",
       "      <th>mean</th>\n",
       "      <td>6.950000</td>\n",
       "    </tr>\n",
       "    <tr>\n",
       "      <th>std</th>\n",
       "      <td>0.510446</td>\n",
       "    </tr>\n",
       "    <tr>\n",
       "      <th>min</th>\n",
       "      <td>6.000000</td>\n",
       "    </tr>\n",
       "    <tr>\n",
       "      <th>25%</th>\n",
       "      <td>6.800000</td>\n",
       "    </tr>\n",
       "    <tr>\n",
       "      <th>50%</th>\n",
       "      <td>7.050000</td>\n",
       "    </tr>\n",
       "    <tr>\n",
       "      <th>75%</th>\n",
       "      <td>7.100000</td>\n",
       "    </tr>\n",
       "    <tr>\n",
       "      <th>max</th>\n",
       "      <td>8.000000</td>\n",
       "    </tr>\n",
       "  </tbody>\n",
       "</table>\n",
       "</div>"
      ],
      "text/plain": [
       "              pH\n",
       "count  10.000000\n",
       "mean    6.950000\n",
       "std     0.510446\n",
       "min     6.000000\n",
       "25%     6.800000\n",
       "50%     7.050000\n",
       "75%     7.100000\n",
       "max     8.000000"
      ]
     },
     "execution_count": 14,
     "metadata": {},
     "output_type": "execute_result"
    }
   ],
   "source": [
    "# obtain the summary of statistics of the DataFrame\n",
    "df.describe()"
   ]
  },
  {
   "cell_type": "markdown",
   "id": "b7fd5543",
   "metadata": {},
   "source": [
    "You can also search the `DataFrame` to find the index of a particular value.\n",
    "\n",
    "Here we want to obtain the index of the row with the highest / lowest pH value."
   ]
  },
  {
   "cell_type": "code",
   "execution_count": 15,
   "id": "d03740b4",
   "metadata": {},
   "outputs": [
    {
     "name": "stdout",
     "output_type": "stream",
     "text": [
      "The index of the row with the highest value: 4\n",
      "The index of the row with the lowest value: 0\n"
     ]
    }
   ],
   "source": [
    "# obtain the index of the row with the highest value\n",
    "print('The index of the row with the highest value:', df['pH'].idxmax())\n",
    "\n",
    "# obtain the index of the row with the lowest value\n",
    "print('The index of the row with the lowest value:', df['pH'].idxmin())"
   ]
  },
  {
   "cell_type": "markdown",
   "id": "15950c82",
   "metadata": {},
   "source": [
    "And you can also try to visualize your data in the `DataFrame`.\n",
    "\n",
    "Here we create a histogram for the pH column, the `bins` parameter defines the number of bins in the histogram.\n",
    "\n",
    "You can find more visualization functions using the [Matplotlib](https://matplotlib.org) library."
   ]
  },
  {
   "cell_type": "code",
   "execution_count": 16,
   "id": "7d06970f",
   "metadata": {},
   "outputs": [
    {
     "data": {
      "text/plain": [
       "<Axes: >"
      ]
     },
     "execution_count": 16,
     "metadata": {},
     "output_type": "execute_result"
    },
    {
     "data": {
      "image/png": "[encoded data removed]",
      "text/plain": [
       "<Figure size 640x480 with 1 Axes>"
      ]
     },
     "metadata": {},
     "output_type": "display_data"
    }
   ],
   "source": [
    "# visualize the pH data as a histogram\n",
    "df['pH'].hist(bins = 10)"
   ]
  },
  {
   "cell_type": "markdown",
   "id": "5c3fa0e9",
   "metadata": {},
   "source": [
    "## Part 2. Hands-on Exercises\n",
    "\n",
    "Your cousin who lives in Paris is expecting her first child and is desperately looking for “THE” name she will give to her baby. She is looking for a first name that is not too common.\n",
    "\n",
    "You want to help her and you suggest she do an analysis on the first names given to children born in Paris in recent years. And that's good, the City of Paris provides this information with free access on its [Open Data site](https://opendata.paris.fr/explore/dataset/liste_des_prenoms/). \n",
    "\n",
    "You will load this dataset as a `DataFrame` and complete the following tasks by manipulating the `DataFrame`.\n",
    "\n",
    "First, let's load the dataset via the .csv file you can find on the Learn platform. Use the function `pd.read_csv()` and be careful about the file path."
   ]
  },
  {
   "cell_type": "code",
   "execution_count": 18,
   "id": "0d9e1f39",
   "metadata": {},
   "outputs": [
    {
     "name": "stdout",
     "output_type": "stream",
     "text": [
      "<class 'pandas.core.frame.DataFrame'>\n",
      "RangeIndex: 24261 entries, 0 to 24260\n",
      "Data columns (total 4 columns):\n",
      " #   Column                 Non-Null Count  Dtype  \n",
      "---  ------                 --------------  -----  \n",
      " 0   Number of declaration  22994 non-null  float64\n",
      " 1   Gender                 24261 non-null  object \n",
      " 2   Year                   24261 non-null  int64  \n",
      " 3   First name             24261 non-null  object \n",
      "dtypes: float64(1), int64(1), object(2)\n",
      "memory usage: 758.3+ KB\n"
     ]
    }
   ],
   "source": [
    "# read the first names dataset from the .csv file\n",
    "df = pd.read_csv('first_name_dataset.csv')\n",
    "df.info()"
   ]
  },
  {
   "cell_type": "markdown",
   "id": "b154ca39",
   "metadata": {},
   "source": [
    "### Task1. Explore the dataset\n",
    "\n",
    "<span style=\"color:red\">**[TBC]**</span>: Before performing analysis on the dataset, use the functions mentioned above to explore the dataset. You are free to decide what kind of information you want to obtain about this dataset. The only goal is to get a better understanding about the dataset you are working with."
   ]
  },
  {
   "cell_type": "code",
   "execution_count": 20,
   "id": "5b937fc9",
   "metadata": {},
   "outputs": [
    {
     "name": "stdout",
     "output_type": "stream",
     "text": [
      "The mean value:\n",
      " Number of declaration      24.535618\n",
      "Year                     2013.074523\n",
      "dtype: float64 \n",
      "\n",
      "The max value:\n",
      " Number of declaration     398.0\n",
      "Year                     2022.0\n",
      "dtype: float64 \n",
      "\n",
      "The min value:\n",
      " Number of declaration       5.0\n",
      "Year                     2004.0\n",
      "dtype: float64 \n",
      "\n",
      "The standard deivation:\n",
      " Number of declaration    37.171789\n",
      "Year                      5.424249\n",
      "dtype: float64 \n",
      "\n",
      "The 25 quantile:\n",
      " Number of declaration       7.0\n",
      "Year                     2008.0\n",
      "Name: 0.25, dtype: float64 \n",
      "\n"
     ]
    }
   ],
   "source": [
    "# [TBC] complete your code here with proper comments\n",
    "df.describe()\n",
    "\n",
    "# Calculate the mean value\n",
    "print('The mean value:\\n', df.mean(numeric_only = True), '\\n')\n",
    "\n",
    "# Calculate the max value\n",
    "print('The max value:\\n', df.max(numeric_only = True), '\\n')\n",
    "\n",
    "# Calculate the min value\n",
    "print('The min value:\\n', df.min(numeric_only = True), '\\n')\n",
    "\n",
    "# Calculate the standard deviation\n",
    "print('The standard deivation:\\n', df.std(numeric_only = True), '\\n')\n",
    "\n",
    "# Calculate the 25% quantile\n",
    "print('The 25 quantile:\\n', df.quantile(0.25, numeric_only = True), '\\n')"
   ]
  },
  {
   "cell_type": "markdown",
   "id": "874d1b16",
   "metadata": {},
   "source": [
    "### Task 2. How many unique names does this dataset contain?\n",
    "\n",
    "<span style=\"color:red\">**[TBC]**</span>: Try to find out how many unique names for girls and boys this dataset contains?\n",
    "\n",
    "You may use the `unique()` method of `Series`, the documentation is [here](https://pandas.pydata.org/docs/reference/api/pandas.Series.unique.html#pandas.Series.unique). Or you can try to complete this task with other functions.\n",
    "\n",
    "The correct answer is: 1436 unique names for girls and 1335 unique names for boys."
   ]
  },
  {
   "cell_type": "code",
   "execution_count": 40,
   "id": "36ba68bc",
   "metadata": {},
   "outputs": [
    {
     "name": "stdout",
     "output_type": "stream",
     "text": [
      "Gender\n",
      "F    1436\n",
      "M    1335\n",
      "Name: First name, dtype: int64\n",
      "0         Yacine\n",
      "1        Youssef\n",
      "2        Abigail\n",
      "3        Achille\n",
      "4       Adélaïde\n",
      "          ...   \n",
      "2713        Mawa\n",
      "2714       Nahïl\n",
      "2715      Seyana\n",
      "2716       Lenzo\n",
      "2717       Bluma\n",
      "Length: 2718, dtype: object\n"
     ]
    }
   ],
   "source": [
    "# [TBC] complete your code here with proper comments\n",
    "\n",
    "#Names grouped by gender\n",
    "grouped_names = df.groupby('Gender')['First name'].nunique()\n",
    "print(grouped_names)\n",
    "\n",
    "# To know each name\n",
    "unique_first_names = pd.Series(df['First name'].unique())\n",
    "print(unique_first_names)\n",
    "\n",
    "\n"
   ]
  },
  {
   "cell_type": "markdown",
   "id": "0d0de340",
   "metadata": {},
   "source": [
    "### Task 3. What is the most common name?\n",
    "\n",
    "<span style=\"color:red\">**[TBC]**</span>: Try to find out the most common names for girls and boys from the year 2018.\n",
    "\n",
    "You may use the `groupby()` ([documentation](https://pandas.pydata.org/docs/reference/api/pandas.DataFrame.groupby.html#pandas.DataFrame.groupby)) method of `DataFrame` and the `idxmax()` method.\n",
    "\n",
    "The correct answer is:\n",
    "- For girls, Louise is the most common name, declared 874 times.\n",
    "- For boys, Gabriel is the most common name, declared 1378 times."
   ]
  },
  {
   "cell_type": "code",
   "execution_count": 65,
   "id": "8c59c45b",
   "metadata": {},
   "outputs": [
    {
     "name": "stdout",
     "output_type": "stream",
     "text": [
      "Gender  First name\n",
      "F       Adèle         19\n",
      "        Agathe        19\n",
      "        Agnès         19\n",
      "        Albane        19\n",
      "        Alexandra     19\n",
      "                      ..\n",
      "M       Zoumana        1\n",
      "        Éli            1\n",
      "        Éliot          1\n",
      "        Éliott         1\n",
      "        Ézéchiel       1\n",
      "Name: First name, Length: 2771, dtype: int64\n"
     ]
    },
    {
     "ename": "KeyError",
     "evalue": "'value_counts'",
     "output_type": "error",
     "traceback": [
      "\u001b[1;31m---------------------------------------------------------------------------\u001b[0m",
      "\u001b[1;31mKeyError\u001b[0m                                  Traceback (most recent call last)",
      "\u001b[1;32mc:\\Users\\Jhonnatan\\Downloads\\Machine Learning\\Exercise 01.2 Pandas Recap(1).ipynb Cell 41\u001b[0m line \u001b[0;36m6\n\u001b[0;32m      <a href='vscode-notebook-cell:/c%3A/Users/Jhonnatan/Downloads/Machine%20Learning/Exercise%2001.2%20Pandas%20Recap%281%29.ipynb#X55sZmlsZQ%3D%3D?line=3'>4</a>\u001b[0m grouped_names \u001b[39m=\u001b[39m df\u001b[39m.\u001b[39mgroupby(\u001b[39m'\u001b[39m\u001b[39mGender\u001b[39m\u001b[39m'\u001b[39m)[\u001b[39m'\u001b[39m\u001b[39mFirst name\u001b[39m\u001b[39m'\u001b[39m]\u001b[39m.\u001b[39mvalue_counts()\n\u001b[0;32m      <a href='vscode-notebook-cell:/c%3A/Users/Jhonnatan/Downloads/Machine%20Learning/Exercise%2001.2%20Pandas%20Recap%281%29.ipynb#X55sZmlsZQ%3D%3D?line=4'>5</a>\u001b[0m \u001b[39mprint\u001b[39m(grouped_names)\n\u001b[1;32m----> <a href='vscode-notebook-cell:/c%3A/Users/Jhonnatan/Downloads/Machine%20Learning/Exercise%2001.2%20Pandas%20Recap%281%29.ipynb#X55sZmlsZQ%3D%3D?line=5'>6</a>\u001b[0m most_common_names \u001b[39m=\u001b[39m grouped_names\u001b[39m.\u001b[39;49mgroupby(\u001b[39m'\u001b[39;49m\u001b[39mvalue_counts\u001b[39;49m\u001b[39m'\u001b[39;49m)\u001b[39m.\u001b[39midxmax()\n\u001b[0;32m      <a href='vscode-notebook-cell:/c%3A/Users/Jhonnatan/Downloads/Machine%20Learning/Exercise%2001.2%20Pandas%20Recap%281%29.ipynb#X55sZmlsZQ%3D%3D?line=6'>7</a>\u001b[0m \u001b[39mprint\u001b[39m(most_common_names)\n",
      "File \u001b[1;32mc:\\Users\\Jhonnatan\\anaconda3\\lib\\site-packages\\pandas\\core\\series.py:2076\u001b[0m, in \u001b[0;36mSeries.groupby\u001b[1;34m(self, by, axis, level, as_index, sort, group_keys, squeeze, observed, dropna)\u001b[0m\n\u001b[0;32m   2073\u001b[0m     \u001b[39mraise\u001b[39;00m \u001b[39mTypeError\u001b[39;00m(\u001b[39m\"\u001b[39m\u001b[39mYou have to supply one of \u001b[39m\u001b[39m'\u001b[39m\u001b[39mby\u001b[39m\u001b[39m'\u001b[39m\u001b[39m and \u001b[39m\u001b[39m'\u001b[39m\u001b[39mlevel\u001b[39m\u001b[39m'\u001b[39m\u001b[39m\"\u001b[39m)\n\u001b[0;32m   2074\u001b[0m axis \u001b[39m=\u001b[39m \u001b[39mself\u001b[39m\u001b[39m.\u001b[39m_get_axis_number(axis)\n\u001b[1;32m-> 2076\u001b[0m \u001b[39mreturn\u001b[39;00m SeriesGroupBy(\n\u001b[0;32m   2077\u001b[0m     obj\u001b[39m=\u001b[39;49m\u001b[39mself\u001b[39;49m,\n\u001b[0;32m   2078\u001b[0m     keys\u001b[39m=\u001b[39;49mby,\n\u001b[0;32m   2079\u001b[0m     axis\u001b[39m=\u001b[39;49maxis,\n\u001b[0;32m   2080\u001b[0m     level\u001b[39m=\u001b[39;49mlevel,\n\u001b[0;32m   2081\u001b[0m     as_index\u001b[39m=\u001b[39;49mas_index,\n\u001b[0;32m   2082\u001b[0m     sort\u001b[39m=\u001b[39;49msort,\n\u001b[0;32m   2083\u001b[0m     group_keys\u001b[39m=\u001b[39;49mgroup_keys,\n\u001b[0;32m   2084\u001b[0m     squeeze\u001b[39m=\u001b[39;49msqueeze,\n\u001b[0;32m   2085\u001b[0m     observed\u001b[39m=\u001b[39;49mobserved,\n\u001b[0;32m   2086\u001b[0m     dropna\u001b[39m=\u001b[39;49mdropna,\n\u001b[0;32m   2087\u001b[0m )\n",
      "File \u001b[1;32mc:\\Users\\Jhonnatan\\anaconda3\\lib\\site-packages\\pandas\\core\\groupby\\groupby.py:965\u001b[0m, in \u001b[0;36mGroupBy.__init__\u001b[1;34m(self, obj, keys, axis, level, grouper, exclusions, selection, as_index, sort, group_keys, squeeze, observed, mutated, dropna)\u001b[0m\n\u001b[0;32m    962\u001b[0m \u001b[39mif\u001b[39;00m grouper \u001b[39mis\u001b[39;00m \u001b[39mNone\u001b[39;00m:\n\u001b[0;32m    963\u001b[0m     \u001b[39mfrom\u001b[39;00m \u001b[39mpandas\u001b[39;00m\u001b[39m.\u001b[39;00m\u001b[39mcore\u001b[39;00m\u001b[39m.\u001b[39;00m\u001b[39mgroupby\u001b[39;00m\u001b[39m.\u001b[39;00m\u001b[39mgrouper\u001b[39;00m \u001b[39mimport\u001b[39;00m get_grouper\n\u001b[1;32m--> 965\u001b[0m     grouper, exclusions, obj \u001b[39m=\u001b[39m get_grouper(\n\u001b[0;32m    966\u001b[0m         obj,\n\u001b[0;32m    967\u001b[0m         keys,\n\u001b[0;32m    968\u001b[0m         axis\u001b[39m=\u001b[39;49maxis,\n\u001b[0;32m    969\u001b[0m         level\u001b[39m=\u001b[39;49mlevel,\n\u001b[0;32m    970\u001b[0m         sort\u001b[39m=\u001b[39;49msort,\n\u001b[0;32m    971\u001b[0m         observed\u001b[39m=\u001b[39;49mobserved,\n\u001b[0;32m    972\u001b[0m         mutated\u001b[39m=\u001b[39;49m\u001b[39mself\u001b[39;49m\u001b[39m.\u001b[39;49mmutated,\n\u001b[0;32m    973\u001b[0m         dropna\u001b[39m=\u001b[39;49m\u001b[39mself\u001b[39;49m\u001b[39m.\u001b[39;49mdropna,\n\u001b[0;32m    974\u001b[0m     )\n\u001b[0;32m    976\u001b[0m \u001b[39mself\u001b[39m\u001b[39m.\u001b[39mobj \u001b[39m=\u001b[39m obj\n\u001b[0;32m    977\u001b[0m \u001b[39mself\u001b[39m\u001b[39m.\u001b[39maxis \u001b[39m=\u001b[39m obj\u001b[39m.\u001b[39m_get_axis_number(axis)\n",
      "File \u001b[1;32mc:\\Users\\Jhonnatan\\anaconda3\\lib\\site-packages\\pandas\\core\\groupby\\grouper.py:888\u001b[0m, in \u001b[0;36mget_grouper\u001b[1;34m(obj, key, axis, level, sort, observed, mutated, validate, dropna)\u001b[0m\n\u001b[0;32m    886\u001b[0m         in_axis, level, gpr \u001b[39m=\u001b[39m \u001b[39mFalse\u001b[39;00m, gpr, \u001b[39mNone\u001b[39;00m\n\u001b[0;32m    887\u001b[0m     \u001b[39melse\u001b[39;00m:\n\u001b[1;32m--> 888\u001b[0m         \u001b[39mraise\u001b[39;00m \u001b[39mKeyError\u001b[39;00m(gpr)\n\u001b[0;32m    889\u001b[0m \u001b[39melif\u001b[39;00m \u001b[39misinstance\u001b[39m(gpr, Grouper) \u001b[39mand\u001b[39;00m gpr\u001b[39m.\u001b[39mkey \u001b[39mis\u001b[39;00m \u001b[39mnot\u001b[39;00m \u001b[39mNone\u001b[39;00m:\n\u001b[0;32m    890\u001b[0m     \u001b[39m# Add key to exclusions\u001b[39;00m\n\u001b[0;32m    891\u001b[0m     exclusions\u001b[39m.\u001b[39madd(gpr\u001b[39m.\u001b[39mkey)\n",
      "\u001b[1;31mKeyError\u001b[0m: 'value_counts'"
     ]
    }
   ],
   "source": [
    "# [TBC] complete your code here with proper comments\n",
    "#Names grouped by name\n",
    "#grouped_names = df.groupby('Gender')['First name'].value_counts().groupby(level=0).idxmax()\n",
    "grouped_names = df.groupby('Gender')['First name'].value_counts()\n",
    "print(grouped_names)\n",
    "most_common_names = grouped_names.groupby('Gender').idxmax()\n",
    "print(most_common_names)\n"
   ]
  }
 ],
 "metadata": {
  "kernelspec": {
   "display_name": "Python 3 (ipykernel)",
   "language": "python",
   "name": "python3"
  },
  "language_info": {
   "codemirror_mode": {
    "name": "ipython",
    "version": 3
   },
   "file_extension": ".py",
   "mimetype": "text/x-python",
   "name": "python",
   "nbconvert_exporter": "python",
   "pygments_lexer": "ipython3",
   "version": "3.10.9"
  }
 },
 "nbformat": 4,
 "nbformat_minor": 5
}
