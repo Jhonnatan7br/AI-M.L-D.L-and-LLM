{
 "cells": [
  {
   "cell_type": "markdown",
   "id": "5d97c5e5",
   "metadata": {},
   "source": [
    "# Exercise 04 Classification I"
   ]
  },
  {
   "cell_type": "markdown",
   "id": "88feebaa",
   "metadata": {},
   "source": [
    "## Pedagogy\n",
    "\n",
    "This notebook contains both theoretical explanations and executable cells to execute your code.\n",
    "\n",
    "When you see the <span style=\"color:red\">**[TBC]**</span> (To Be Completed) sign, it means that you need to perform an action else besides executing the cells of code that already exist. These actions can be:\n",
    "- Complete the code with proper comments\n",
    "- Respond to a question\n",
    "- Write an analysis\n",
    "- etc."
   ]
  },
  {
   "cell_type": "markdown",
   "id": "59e84152",
   "metadata": {},
   "source": [
    "### Import libraries"
   ]
  },
  {
   "cell_type": "code",
   "execution_count": 1,
   "id": "181ffbbb",
   "metadata": {},
   "outputs": [],
   "source": [
    "# import all libraries used in this notebook here\n",
    "import pandas as pd\n",
    "import numpy as np\n",
    "import matplotlib.pyplot as plt\n",
    "from sklearn import datasets\n",
    "from sklearn.model_selection import train_test_split\n",
    "from sklearn.linear_model import LogisticRegression\n",
    "from sklearn.metrics import confusion_matrix\n",
    "from sklearn.metrics import ConfusionMatrixDisplay\n",
    "from sklearn.metrics import accuracy_score\n",
    "from sklearn.metrics import precision_score\n",
    "from sklearn.metrics import recall_score\n",
    "from sklearn.metrics import f1_score\n",
    "from sklearn.metrics import classification_report\n",
    "from sklearn.metrics import roc_curve\n",
    "from sklearn.metrics import roc_auc_score\n"
   ]
  },
  {
   "cell_type": "markdown",
   "id": "b31f05f4",
   "metadata": {},
   "source": [
    "## Part 1. Logistic regression with a toy dataset"
   ]
  },
  {
   "cell_type": "markdown",
   "id": "2e0c284d",
   "metadata": {},
   "source": [
    "This part will buid a binary classifier using the logistic regression algorithm with a toy dataset.\n",
    "The aim of this part is to master how to implement logistic regression using `sklearn` and how to calculate various evaluation metrics."
   ]
  },
  {
   "cell_type": "markdown",
   "id": "fa7e2e4a",
   "metadata": {},
   "source": [
    "### Load dataset\n",
    "\n",
    "In this part, we will use a toy dataset provided by `sklearn`: the [Breast cancer wisconsin (diagnostic) dataset](https://scikit-learn.org/stable/datasets/toy_dataset.html#breast-cancer-dataset).\n",
    "\n",
    "he breast cancer dataset is a classic and very easy binary classification dataset. You can find the original source of this dataset [here](https://archive.ics.uci.edu/dataset/17/breast+cancer+wisconsin+diagnostic).\n",
    "\n",
    "There are 30 numeric features in the dataset that might be useful for diagnosing breast cancer. These features are computed from a digitized image of a fine needle aspirate (FNA) of a breast mass.  They describe characteristics of the cell nuclei present in the image.\n",
    "\n",
    "The features include:\n",
    "- radius\n",
    "- texture\n",
    "- perimeter\n",
    "- area\n",
    "- smoothness\n",
    "- compactness\n",
    "- concavity\n",
    "- concave points\n",
    "- symmetry\n",
    "- fractal dimension\n",
    "\n",
    "Each example is corresponding to a digitized image with multiple cell nucleus. The above features of each cell nuclei are summarized as a mean value, a worst value and a standard variation.\n",
    "\n",
    "There are two classes in this dataset: 1 (WDBC-Malignant) and 0 (WDBC-Benign).\n",
    "\n",
    "Load this dataset using `sklearn.datasets.load_breast_cancer`, you can find the documentation [here](https://scikit-learn.org/stable/modules/generated/sklearn.datasets.load_breast_cancer.html#sklearn.datasets.load_breast_cancer)."
   ]
  },
  {
   "cell_type": "code",
   "execution_count": 91,
   "id": "0be5dc2f",
   "metadata": {},
   "outputs": [],
   "source": [
    "# load dataset\n",
    "feature_df, target_df = datasets.load_breast_cancer(\n",
    "    return_X_y = True,\n",
    "    as_frame = True\n",
    ")"
   ]
  },
  {
   "cell_type": "code",
   "execution_count": 90,
   "id": "a86a8e17",
   "metadata": {},
   "outputs": [
    {
     "name": "stdout",
     "output_type": "stream",
     "text": [
      "<class 'pandas.core.frame.DataFrame'>\n",
      "RangeIndex: 20640 entries, 0 to 20639\n",
      "Data columns (total 8 columns):\n",
      " #   Column      Non-Null Count  Dtype  \n",
      "---  ------      --------------  -----  \n",
      " 0   MedInc      20640 non-null  float64\n",
      " 1   HouseAge    20640 non-null  float64\n",
      " 2   AveRooms    20640 non-null  float64\n",
      " 3   AveBedrms   20640 non-null  float64\n",
      " 4   Population  20640 non-null  float64\n",
      " 5   AveOccup    20640 non-null  float64\n",
      " 6   Latitude    20640 non-null  float64\n",
      " 7   Longitude   20640 non-null  float64\n",
      "dtypes: float64(8)\n",
      "memory usage: 1.3 MB\n"
     ]
    }
   ],
   "source": [
    "# get the basic information of the features\n",
    "feature_df.info()"
   ]
  },
  {
   "cell_type": "markdown",
   "id": "c428ddb5",
   "metadata": {},
   "source": [
    "There are too many features in the dataset, some of them are highly correlated with each other. For example, the mean value and worst value might be highly correlated.\n",
    "\n",
    "To simply the problem, we only keep the mean values as the input features and eliminate the worst values and standard deviations."
   ]
  },
  {
   "cell_type": "code",
   "execution_count": 4,
   "id": "3bc718db",
   "metadata": {},
   "outputs": [
    {
     "name": "stdout",
     "output_type": "stream",
     "text": [
      "<class 'pandas.core.frame.DataFrame'>\n",
      "RangeIndex: 569 entries, 0 to 568\n",
      "Data columns (total 10 columns):\n",
      " #   Column                  Non-Null Count  Dtype  \n",
      "---  ------                  --------------  -----  \n",
      " 0   mean radius             569 non-null    float64\n",
      " 1   mean texture            569 non-null    float64\n",
      " 2   mean perimeter          569 non-null    float64\n",
      " 3   mean area               569 non-null    float64\n",
      " 4   mean smoothness         569 non-null    float64\n",
      " 5   mean compactness        569 non-null    float64\n",
      " 6   mean concavity          569 non-null    float64\n",
      " 7   mean concave points     569 non-null    float64\n",
      " 8   mean symmetry           569 non-null    float64\n",
      " 9   mean fractal dimension  569 non-null    float64\n",
      "dtypes: float64(10)\n",
      "memory usage: 44.6 KB\n"
     ]
    }
   ],
   "source": [
    "# keep the last 10 columns as the input features\n",
    "feature_df = feature_df[feature_df.columns[:10]]\n",
    "feature_df.info()"
   ]
  },
  {
   "cell_type": "code",
   "execution_count": 92,
   "id": "22925cbd",
   "metadata": {},
   "outputs": [
    {
     "data": {
      "text/plain": [
       "0      0\n",
       "1      0\n",
       "2      0\n",
       "3      0\n",
       "4      0\n",
       "      ..\n",
       "564    0\n",
       "565    0\n",
       "566    0\n",
       "567    0\n",
       "568    1\n",
       "Name: target, Length: 569, dtype: int32"
      ]
     },
     "execution_count": 92,
     "metadata": {},
     "output_type": "execute_result"
    }
   ],
   "source": [
    "# print the target class\n",
    "target_df"
   ]
  },
  {
   "cell_type": "code",
   "execution_count": 93,
   "id": "4ef0ad10",
   "metadata": {},
   "outputs": [
    {
     "name": "stdout",
     "output_type": "stream",
     "text": [
      "Numver of negative class: 212\n",
      "Numver of positive class: 357\n"
     ]
    }
   ],
   "source": [
    "# check imbalanced classes\n",
    "print(\"Numver of negative class:\", sum(target_df == 0))\n",
    "print(\"Numver of positive class:\", sum(target_df == 1))"
   ]
  },
  {
   "cell_type": "markdown",
   "id": "2073546e",
   "metadata": {},
   "source": [
    "### Train test split"
   ]
  },
  {
   "cell_type": "code",
   "execution_count": 94,
   "id": "e447c823",
   "metadata": {},
   "outputs": [],
   "source": [
    "# train test split\n",
    "X_train, X_test, y_train, y_test = train_test_split(\n",
    "    feature_df.values,\n",
    "    target_df.values,\n",
    "    train_size = 0.7,\n",
    "    shuffle = True,\n",
    "    random_state = 0\n",
    ")"
   ]
  },
  {
   "cell_type": "markdown",
   "id": "3748fd70",
   "metadata": {},
   "source": [
    "### Train the model\n",
    "\n",
    "We will train a logistic regression model to perform binary classification.\n",
    "\n",
    "Use `sklearn.linear_regression.LogisticRegression` to implement logistic regression.\n",
    "\n",
    "Logistic regression model outputs the probability of an example belongs to a category. We need to specify a threshold to convert the predicted probabilities to discrete categories.\n",
    "\n",
    "`sklearn.linear_regression.LogisticRegression` set the default threshold to 0.5"
   ]
  },
  {
   "cell_type": "code",
   "execution_count": 95,
   "id": "cec07ca3",
   "metadata": {},
   "outputs": [
    {
     "name": "stderr",
     "output_type": "stream",
     "text": [
      "c:\\Users\\Jhonnatan\\anaconda3\\lib\\site-packages\\sklearn\\linear_model\\_logistic.py:458: ConvergenceWarning: lbfgs failed to converge (status=1):\n",
      "STOP: TOTAL NO. of ITERATIONS REACHED LIMIT.\n",
      "\n",
      "Increase the number of iterations (max_iter) or scale the data as shown in:\n",
      "    https://scikit-learn.org/stable/modules/preprocessing.html\n",
      "Please also refer to the documentation for alternative solver options:\n",
      "    https://scikit-learn.org/stable/modules/linear_model.html#logistic-regression\n",
      "  n_iter_i = _check_optimize_result(\n"
     ]
    },
    {
     "data": {
      "text/html": [
       "<style>#sk-container-id-7 {color: black;background-color: white;}#sk-container-id-7 pre{padding: 0;}#sk-container-id-7 div.sk-toggleable {background-color: white;}#sk-container-id-7 label.sk-toggleable__label {cursor: pointer;display: block;width: 100%;margin-bottom: 0;padding: 0.3em;box-sizing: border-box;text-align: center;}#sk-container-id-7 label.sk-toggleable__label-arrow:before {content: \"▸\";float: left;margin-right: 0.25em;color: #696969;}#sk-container-id-7 label.sk-toggleable__label-arrow:hover:before {color: black;}#sk-container-id-7 div.sk-estimator:hover label.sk-toggleable__label-arrow:before {color: black;}#sk-container-id-7 div.sk-toggleable__content {max-height: 0;max-width: 0;overflow: hidden;text-align: left;background-color: #f0f8ff;}#sk-container-id-7 div.sk-toggleable__content pre {margin: 0.2em;color: black;border-radius: 0.25em;background-color: #f0f8ff;}#sk-container-id-7 input.sk-toggleable__control:checked~div.sk-toggleable__content {max-height: 200px;max-width: 100%;overflow: auto;}#sk-container-id-7 input.sk-toggleable__control:checked~label.sk-toggleable__label-arrow:before {content: \"▾\";}#sk-container-id-7 div.sk-estimator input.sk-toggleable__control:checked~label.sk-toggleable__label {background-color: #d4ebff;}#sk-container-id-7 div.sk-label input.sk-toggleable__control:checked~label.sk-toggleable__label {background-color: #d4ebff;}#sk-container-id-7 input.sk-hidden--visually {border: 0;clip: rect(1px 1px 1px 1px);clip: rect(1px, 1px, 1px, 1px);height: 1px;margin: -1px;overflow: hidden;padding: 0;position: absolute;width: 1px;}#sk-container-id-7 div.sk-estimator {font-family: monospace;background-color: #f0f8ff;border: 1px dotted black;border-radius: 0.25em;box-sizing: border-box;margin-bottom: 0.5em;}#sk-container-id-7 div.sk-estimator:hover {background-color: #d4ebff;}#sk-container-id-7 div.sk-parallel-item::after {content: \"\";width: 100%;border-bottom: 1px solid gray;flex-grow: 1;}#sk-container-id-7 div.sk-label:hover label.sk-toggleable__label {background-color: #d4ebff;}#sk-container-id-7 div.sk-serial::before {content: \"\";position: absolute;border-left: 1px solid gray;box-sizing: border-box;top: 0;bottom: 0;left: 50%;z-index: 0;}#sk-container-id-7 div.sk-serial {display: flex;flex-direction: column;align-items: center;background-color: white;padding-right: 0.2em;padding-left: 0.2em;position: relative;}#sk-container-id-7 div.sk-item {position: relative;z-index: 1;}#sk-container-id-7 div.sk-parallel {display: flex;align-items: stretch;justify-content: center;background-color: white;position: relative;}#sk-container-id-7 div.sk-item::before, #sk-container-id-7 div.sk-parallel-item::before {content: \"\";position: absolute;border-left: 1px solid gray;box-sizing: border-box;top: 0;bottom: 0;left: 50%;z-index: -1;}#sk-container-id-7 div.sk-parallel-item {display: flex;flex-direction: column;z-index: 1;position: relative;background-color: white;}#sk-container-id-7 div.sk-parallel-item:first-child::after {align-self: flex-end;width: 50%;}#sk-container-id-7 div.sk-parallel-item:last-child::after {align-self: flex-start;width: 50%;}#sk-container-id-7 div.sk-parallel-item:only-child::after {width: 0;}#sk-container-id-7 div.sk-dashed-wrapped {border: 1px dashed gray;margin: 0 0.4em 0.5em 0.4em;box-sizing: border-box;padding-bottom: 0.4em;background-color: white;}#sk-container-id-7 div.sk-label label {font-family: monospace;font-weight: bold;display: inline-block;line-height: 1.2em;}#sk-container-id-7 div.sk-label-container {text-align: center;}#sk-container-id-7 div.sk-container {/* jupyter's `normalize.less` sets `[hidden] { display: none; }` but bootstrap.min.css set `[hidden] { display: none !important; }` so we also need the `!important` here to be able to override the default hidden behavior on the sphinx rendered scikit-learn.org. See: https://github.com/scikit-learn/scikit-learn/issues/21755 */display: inline-block !important;position: relative;}#sk-container-id-7 div.sk-text-repr-fallback {display: none;}</style><div id=\"sk-container-id-7\" class=\"sk-top-container\"><div class=\"sk-text-repr-fallback\"><pre>LogisticRegression()</pre><b>In a Jupyter environment, please rerun this cell to show the HTML representation or trust the notebook. <br />On GitHub, the HTML representation is unable to render, please try loading this page with nbviewer.org.</b></div><div class=\"sk-container\" hidden><div class=\"sk-item\"><div class=\"sk-estimator sk-toggleable\"><input class=\"sk-toggleable__control sk-hidden--visually\" id=\"sk-estimator-id-7\" type=\"checkbox\" checked><label for=\"sk-estimator-id-7\" class=\"sk-toggleable__label sk-toggleable__label-arrow\">LogisticRegression</label><div class=\"sk-toggleable__content\"><pre>LogisticRegression()</pre></div></div></div></div></div>"
      ],
      "text/plain": [
       "LogisticRegression()"
      ]
     },
     "execution_count": 95,
     "metadata": {},
     "output_type": "execute_result"
    }
   ],
   "source": [
    "# fit the model\n",
    "clf = LogisticRegression()\n",
    "clf.fit(X_train, y_train)"
   ]
  },
  {
   "cell_type": "markdown",
   "id": "cb382898",
   "metadata": {},
   "source": [
    "### Evaluate the model\n",
    "\n",
    "To evaluate the model performance on the testing dataset, we need to use the trained model to make predictions at first. There are two types of prediction can be made:\n",
    "- method `predict_proba()` output the predicted probability\n",
    "- method `predict()` output the predicted category by setting the threshold to 0.5"
   ]
  },
  {
   "cell_type": "code",
   "execution_count": 96,
   "id": "df34254d",
   "metadata": {},
   "outputs": [
    {
     "data": {
      "text/plain": [
       "array([[9.93930649e-01, 6.06935141e-03],\n",
       "       [2.98667934e-02, 9.70133207e-01],\n",
       "       [1.89993904e-03, 9.98100061e-01],\n",
       "       [2.36976806e-01, 7.63023194e-01],\n",
       "       [1.12225608e-04, 9.99887774e-01]])"
      ]
     },
     "execution_count": 96,
     "metadata": {},
     "output_type": "execute_result"
    }
   ],
   "source": [
    "# predict probability for the first five examples in the testing dataset\n",
    "clf.predict_proba(X_test[:5, :])"
   ]
  },
  {
   "cell_type": "markdown",
   "id": "80aaac57",
   "metadata": {},
   "source": [
    "The output is a 2D array.\n",
    "- The first column is the probability of being 0 (the negative class)\n",
    "- The second column is the probability of being 1 (the positive class)\n",
    "- The sum of each row is equal to 1"
   ]
  },
  {
   "cell_type": "code",
   "execution_count": 98,
   "id": "e9b15176",
   "metadata": {},
   "outputs": [
    {
     "data": {
      "text/plain": [
       "array([0, 1, 1, 1, 1])"
      ]
     },
     "execution_count": 98,
     "metadata": {},
     "output_type": "execute_result"
    }
   ],
   "source": [
    "# predict the category for the first five examples in the testing dataset\n",
    "clf.predict(X_test[:5, :])"
   ]
  },
  {
   "cell_type": "markdown",
   "id": "62b64765",
   "metadata": {},
   "source": [
    "The output is a 1D array consists of predicted categories.\n",
    "- 0 represent the negative class\n",
    "- 1 represent the positive class\n",
    "- The default threshold is 0.5"
   ]
  },
  {
   "cell_type": "code",
   "execution_count": 99,
   "id": "33c2425c",
   "metadata": {},
   "outputs": [],
   "source": [
    "# make predictions for the entire testing dataset\n",
    "y_pred_proba = clf.predict_proba(X_test)\n",
    "y_pred = clf.predict(X_test)"
   ]
  },
  {
   "cell_type": "markdown",
   "id": "4b5dd829",
   "metadata": {},
   "source": [
    "#### Confusion matrix\n",
    "\n",
    "Compute confusion matrix using `sklearn.metrics.confusion_matrix`.\n",
    "\n",
    "Visualization confusion matrix using `sklearn.metrics.ConfusionMatrixDisplay`."
   ]
  },
  {
   "cell_type": "code",
   "execution_count": 100,
   "id": "d8431c9d",
   "metadata": {},
   "outputs": [
    {
     "name": "stdout",
     "output_type": "stream",
     "text": [
      "[[ 61   2]\n",
      " [  5 103]]\n"
     ]
    }
   ],
   "source": [
    "# compute the confusion matrix\n",
    "cm = confusion_matrix(y_test, y_pred)\n",
    "print(cm)"
   ]
  },
  {
   "cell_type": "code",
   "execution_count": 101,
   "id": "b24fb2b5",
   "metadata": {},
   "outputs": [
    {
     "data": {
      "image/png": "[encoded data removed]",
      "text/plain": [
       "<Figure size 640x480 with 2 Axes>"
      ]
     },
     "metadata": {},
     "output_type": "display_data"
    }
   ],
   "source": [
    "# visualize the confusion matrix\n",
    "disp = ConfusionMatrixDisplay(\n",
    "    confusion_matrix = cm,\n",
    "    display_labels = ['WDBC-Benign', 'WDBC-Malignant']\n",
    ")\n",
    "disp.plot()\n",
    "plt.show()"
   ]
  },
  {
   "cell_type": "markdown",
   "id": "b849f904",
   "metadata": {},
   "source": [
    "#### Accuracy, precision, recall & F1-score\n",
    "\n",
    "We can calculate these metrics manually using the confusion matrix.\n",
    "\n",
    "Or we can `sklearn` to automatically perform the calculation:\n",
    "- `sklearn.metrics.accuracy_score`\n",
    "- `sklearn.metrics.precision_score`\n",
    "- `sklearn.metrics.recall_score`\n",
    "- `sklearn.metrics.f1_score`"
   ]
  },
  {
   "cell_type": "code",
   "execution_count": 102,
   "id": "681a5681",
   "metadata": {},
   "outputs": [
    {
     "name": "stdout",
     "output_type": "stream",
     "text": [
      "Accuracy:\t 0.9590643274853801\n",
      "Precision:\t 0.9809523809523809\n",
      "Recall:\t\t 0.9537037037037037\n",
      "F1-score:\t 0.9671361502347416\n"
     ]
    }
   ],
   "source": [
    "# calculate the metrics manually\n",
    "accuracy_test = (cm[0, 0] + cm[1, 1]) / cm.sum()\n",
    "precision_test = cm[1, 1] / (cm[1, 1] + cm[0, 1])\n",
    "recall_test = cm[1, 1] / (cm[1, 1] + cm[1, 0])\n",
    "f1_test = 2 * precision_test * recall_test / (precision_test + recall_test)\n",
    "\n",
    "# print the metrics\n",
    "print(\"Accuracy:\\t\", accuracy_test)\n",
    "print(\"Precision:\\t\", precision_test)\n",
    "print(\"Recall:\\t\\t\", recall_test)\n",
    "print(\"F1-score:\\t\", f1_test)"
   ]
  },
  {
   "cell_type": "code",
   "execution_count": 103,
   "id": "f26d4477",
   "metadata": {},
   "outputs": [
    {
     "name": "stdout",
     "output_type": "stream",
     "text": [
      "Accuracy:\t 0.9590643274853801\n",
      "Precision:\t 0.9809523809523809\n",
      "Recall:\t\t 0.9537037037037037\n",
      "F1-score:\t 0.9671361502347416\n"
     ]
    }
   ],
   "source": [
    "# calcualte the metrics by sklearn\n",
    "print(\"Accuracy:\\t\", accuracy_score(y_test, y_pred))\n",
    "print(\"Precision:\\t\", precision_score(y_test, y_pred))\n",
    "print(\"Recall:\\t\\t\", recall_score(y_test, y_pred))\n",
    "print(\"F1-score:\\t\", f1_score(y_test, y_pred))"
   ]
  },
  {
   "cell_type": "code",
   "execution_count": 104,
   "id": "22aed6e4",
   "metadata": {},
   "outputs": [
    {
     "name": "stdout",
     "output_type": "stream",
     "text": [
      "              precision    recall  f1-score   support\n",
      "\n",
      "           0       0.92      0.97      0.95        63\n",
      "           1       0.98      0.95      0.97       108\n",
      "\n",
      "    accuracy                           0.96       171\n",
      "   macro avg       0.95      0.96      0.96       171\n",
      "weighted avg       0.96      0.96      0.96       171\n",
      "\n"
     ]
    }
   ],
   "source": [
    "# get all metrics using `classification_report`\n",
    "print(classification_report(y_test, y_pred))"
   ]
  },
  {
   "cell_type": "markdown",
   "id": "782a7d8d",
   "metadata": {},
   "source": [
    "#### ROC curve & AUC\n",
    "\n",
    "Use `sklearn.metrics.roc_curve` to compute the ROC curve.\n",
    "\n",
    "Use `sklearn.metrics.roc_auc_score` to calculate the AUC metric."
   ]
  },
  {
   "cell_type": "code",
   "execution_count": 105,
   "id": "5e3d6835",
   "metadata": {},
   "outputs": [
    {
     "data": {
      "image/png": "[encoded data removed]",
      "text/plain": [
       "<Figure size 500x400 with 1 Axes>"
      ]
     },
     "metadata": {},
     "output_type": "display_data"
    }
   ],
   "source": [
    "# compute ROC curve\n",
    "fpr, tpr, thresholds = roc_curve(\n",
    "    y_test, # the true class\n",
    "    y_pred_proba[:, 1], # the second column, the probability of being positive\n",
    "    pos_label = 1 # the positive class is labeled as 1\n",
    ")\n",
    "\n",
    "# plot ROC curve\n",
    "plt.figure(figsize = [5, 4])\n",
    "plt.plot(fpr, tpr, '-')\n",
    "plt.xlabel('False Positive Rate')\n",
    "plt.ylabel('True Positive Rate')\n",
    "plt.show()"
   ]
  },
  {
   "cell_type": "code",
   "execution_count": 18,
   "id": "c6a2e9fa",
   "metadata": {},
   "outputs": [
    {
     "name": "stdout",
     "output_type": "stream",
     "text": [
      "AUC:\t 0.982363315696649\n"
     ]
    }
   ],
   "source": [
    "# calculate AUC\n",
    "auc_test = roc_auc_score(\n",
    "    y_test, # the true class\n",
    "    y_pred_proba[:, 1], # the second column, the probability of being positive\n",
    ")\n",
    "print(\"AUC:\\t\", auc_test)"
   ]
  },
  {
   "cell_type": "markdown",
   "id": "a6e9e12a",
   "metadata": {},
   "source": [
    "## Part 2. Hands-on exercise\n",
    "\n",
    "In this exercise, we will build a logistic regression model with the the [California Housing dataset](https://scikit-learn.org/stable/datasets/real_world.html#california-housing-dataset), the same one as Exercise 02 & 04.\n",
    "\n",
    "The goal of the logistic regression model is to perform a binary classification taks:\n",
    "- 0 represent 'Normal Price'\n",
    "- 1 represent 'Expensive Price'\n",
    "\n",
    "Since there is no such categorical columns in the dataset, we need to create the target labels according to the `MedHouseVal`, which used to be the target variable for regression problem.\n",
    "- `MedHouseVal` <= 2.5 $\\rightarrow$ 'Normal Price'\n",
    "- `MedHouseVal` > 2.5 $\\rightarrow$ 'Expensive Price'\n",
    "\n",
    "<span style=\"color:red\">**[TBC]**</span> Please complete the following tasks:\n",
    "- Load the California Housing Dataset\n",
    "- Create target labels\n",
    "- Split the dataset into the training and testing part\n",
    "- Train the logistic regression model\n",
    "- Evaluate the trained model with various metrics"
   ]
  },
  {
   "cell_type": "markdown",
   "id": "714e9a18",
   "metadata": {},
   "source": [
    "### Task 1. Load the California Housing Dataset\n",
    "\n",
    "<span style=\"color:red\">**[TBC]**</span> It can be downloaded/loaded using the `sklearn.datasets.fetch_california_housing()` function."
   ]
  },
  {
   "cell_type": "code",
   "execution_count": 2,
   "metadata": {},
   "outputs": [],
   "source": [
    "# import all libraries used in this notebook here\n",
    "import pandas as pd\n",
    "import numpy as np\n",
    "import matplotlib.pyplot as plt\n",
    "from sklearn import datasets\n",
    "from sklearn.model_selection import train_test_split\n",
    "from sklearn.linear_model import LogisticRegression\n",
    "from sklearn.metrics import confusion_matrix\n",
    "from sklearn.metrics import ConfusionMatrixDisplay\n",
    "from sklearn.metrics import accuracy_score\n",
    "from sklearn.metrics import precision_score\n",
    "from sklearn.metrics import recall_score\n",
    "from sklearn.metrics import f1_score\n",
    "from sklearn.metrics import classification_report\n",
    "from sklearn.metrics import roc_curve\n",
    "from sklearn.metrics import roc_auc_score"
   ]
  },
  {
   "cell_type": "code",
   "execution_count": 3,
   "id": "99acf043",
   "metadata": {},
   "outputs": [
    {
     "name": "stdout",
     "output_type": "stream",
     "text": [
      "<class 'pandas.core.frame.DataFrame'>\n",
      "RangeIndex: 20640 entries, 0 to 20639\n",
      "Data columns (total 8 columns):\n",
      " #   Column      Non-Null Count  Dtype  \n",
      "---  ------      --------------  -----  \n",
      " 0   MedInc      20640 non-null  float64\n",
      " 1   HouseAge    20640 non-null  float64\n",
      " 2   AveRooms    20640 non-null  float64\n",
      " 3   AveBedrms   20640 non-null  float64\n",
      " 4   Population  20640 non-null  float64\n",
      " 5   AveOccup    20640 non-null  float64\n",
      " 6   Latitude    20640 non-null  float64\n",
      " 7   Longitude   20640 non-null  float64\n",
      "dtypes: float64(8)\n",
      "memory usage: 1.3 MB\n"
     ]
    }
   ],
   "source": [
    "# [TBC] complete your code here with proper comments\n",
    "from sklearn.datasets import fetch_california_housing \n",
    "# Fetch the California housing dataset\n",
    "data_California = fetch_california_housing(as_frame=True)\n",
    "\n",
    "# load datasets\n",
    "feature_df, target_df = data_California.data, data_California.target\n",
    "\"\"\"\n",
    "feature_df, target_df = datasets.load_fetch_california_housing(\n",
    "    return_X_y = True,\n",
    "    as_frame = True\n",
    ")\n",
    "\"\"\"\n",
    "# get the basic information of the features\n",
    "feature_df.info()"
   ]
  },
  {
   "cell_type": "markdown",
   "id": "e5347f03",
   "metadata": {},
   "source": [
    "### Task 2. Create the target labels\n",
    "\n",
    "<span style=\"color:red\">**[TBC]**</span> Use `MedHouseVal` as the reference to create a pandas series as the new targel variable."
   ]
  },
  {
   "cell_type": "code",
   "execution_count": 5,
   "id": "49e1b8a8",
   "metadata": {},
   "outputs": [
    {
     "name": "stdout",
     "output_type": "stream",
     "text": [
      "<class 'pandas.core.frame.DataFrame'>\n",
      "RangeIndex: 20640 entries, 0 to 20639\n",
      "Data columns (total 8 columns):\n",
      " #   Column      Non-Null Count  Dtype  \n",
      "---  ------      --------------  -----  \n",
      " 0   MedInc      20640 non-null  float64\n",
      " 1   HouseAge    20640 non-null  float64\n",
      " 2   AveRooms    20640 non-null  float64\n",
      " 3   AveBedrms   20640 non-null  float64\n",
      " 4   Population  20640 non-null  float64\n",
      " 5   AveOccup    20640 non-null  float64\n",
      " 6   Latitude    20640 non-null  float64\n",
      " 7   Longitude   20640 non-null  float64\n",
      "dtypes: float64(8)\n",
      "memory usage: 1.3 MB\n",
      "Number of negative class: 14858\n",
      "Number of positive class: 5782\n"
     ]
    }
   ],
   "source": [
    "# [TBC] complete your code here with proper comments\n",
    "# keep the last 10 columns as the input features\n",
    "feature_df = feature_df[feature_df.columns[-10:]]\n",
    "feature_df.info()\n",
    "# print the target class\n",
    "target_df\n",
    "# create a pandas series with MedHouseVal as the reference\n",
    "# new_target = pd.Series(target_df['MedHouseVal'], name='new_target')\n",
    "\n",
    "# Since the target_df contains continuous values, you can create a binary classification target based on a threshold.\n",
    "\"\"\"\n",
    "# For example, using the median value as a threshold:\n",
    "threshold = target_df.median()\n",
    "\"\"\"\n",
    "# Create a binary classification target based on the specified threshold\n",
    "threshold = 2.5\n",
    "# new_target_df = (target_df > threshold).astype(int)  # Convert to 0 and 1\n",
    "binary_target_df = (target_df > threshold).astype(int)\n",
    "\n",
    "# Check imbalanced classes in the new binary target\n",
    "print(\"Number of negative class:\", sum(binary_target_df == 0))\n",
    "print(\"Number of positive class:\", sum(binary_target_df == 1))"
   ]
  },
  {
   "cell_type": "markdown",
   "id": "e5869897",
   "metadata": {},
   "source": [
    "### Task 3. Split the dataset into the training and testing part\n",
    "<span style=\"color:red\">**[TBC]**</span> Please split the whold dataset into two parts: the training and testing set. Please use 70% of the data as the training dataset, and the rest as the testing dataset."
   ]
  },
  {
   "cell_type": "code",
   "execution_count": 6,
   "id": "ec4680e9",
   "metadata": {},
   "outputs": [
    {
     "name": "stdout",
     "output_type": "stream",
     "text": [
      "Size of training dataset: 14447\n",
      "Size of testing dataset: 6193\n"
     ]
    }
   ],
   "source": [
    "# [TBC] complete your code here with proper comments\n",
    "# train test split\n",
    "X_train, X_test, y_train, y_test = train_test_split(\n",
    "    feature_df.values,\n",
    "    binary_target_df.values,\n",
    "    train_size = 0.7,\n",
    "    shuffle = True,\n",
    "    random_state = 0\n",
    ")\n",
    "#binary_target_df.values,\n",
    "#target_df.values,\n",
    "\n",
    "print(\"Size of training dataset:\", len(X_train))\n",
    "print(\"Size of testing dataset:\", len(X_test))"
   ]
  },
  {
   "cell_type": "markdown",
   "id": "e16e0f1d",
   "metadata": {},
   "source": [
    "### Task 4. Train the logistic regression model\n",
    "<span style=\"color:red\">**[TBC]**</span> Please use `sklearn.linear_regression.LogisticRegression` to implement logistic regression and train the binary classifier."
   ]
  },
  {
   "cell_type": "code",
   "execution_count": 7,
   "id": "50457d4e",
   "metadata": {},
   "outputs": [
    {
     "name": "stderr",
     "output_type": "stream",
     "text": [
      "c:\\Users\\Jhonnatan\\anaconda3\\lib\\site-packages\\sklearn\\linear_model\\_logistic.py:458: ConvergenceWarning: lbfgs failed to converge (status=1):\n",
      "STOP: TOTAL NO. of ITERATIONS REACHED LIMIT.\n",
      "\n",
      "Increase the number of iterations (max_iter) or scale the data as shown in:\n",
      "    https://scikit-learn.org/stable/modules/preprocessing.html\n",
      "Please also refer to the documentation for alternative solver options:\n",
      "    https://scikit-learn.org/stable/modules/linear_model.html#logistic-regression\n",
      "  n_iter_i = _check_optimize_result(\n"
     ]
    },
    {
     "data": {
      "text/html": [
       "<style>#sk-container-id-1 {color: black;background-color: white;}#sk-container-id-1 pre{padding: 0;}#sk-container-id-1 div.sk-toggleable {background-color: white;}#sk-container-id-1 label.sk-toggleable__label {cursor: pointer;display: block;width: 100%;margin-bottom: 0;padding: 0.3em;box-sizing: border-box;text-align: center;}#sk-container-id-1 label.sk-toggleable__label-arrow:before {content: \"▸\";float: left;margin-right: 0.25em;color: #696969;}#sk-container-id-1 label.sk-toggleable__label-arrow:hover:before {color: black;}#sk-container-id-1 div.sk-estimator:hover label.sk-toggleable__label-arrow:before {color: black;}#sk-container-id-1 div.sk-toggleable__content {max-height: 0;max-width: 0;overflow: hidden;text-align: left;background-color: #f0f8ff;}#sk-container-id-1 div.sk-toggleable__content pre {margin: 0.2em;color: black;border-radius: 0.25em;background-color: #f0f8ff;}#sk-container-id-1 input.sk-toggleable__control:checked~div.sk-toggleable__content {max-height: 200px;max-width: 100%;overflow: auto;}#sk-container-id-1 input.sk-toggleable__control:checked~label.sk-toggleable__label-arrow:before {content: \"▾\";}#sk-container-id-1 div.sk-estimator input.sk-toggleable__control:checked~label.sk-toggleable__label {background-color: #d4ebff;}#sk-container-id-1 div.sk-label input.sk-toggleable__control:checked~label.sk-toggleable__label {background-color: #d4ebff;}#sk-container-id-1 input.sk-hidden--visually {border: 0;clip: rect(1px 1px 1px 1px);clip: rect(1px, 1px, 1px, 1px);height: 1px;margin: -1px;overflow: hidden;padding: 0;position: absolute;width: 1px;}#sk-container-id-1 div.sk-estimator {font-family: monospace;background-color: #f0f8ff;border: 1px dotted black;border-radius: 0.25em;box-sizing: border-box;margin-bottom: 0.5em;}#sk-container-id-1 div.sk-estimator:hover {background-color: #d4ebff;}#sk-container-id-1 div.sk-parallel-item::after {content: \"\";width: 100%;border-bottom: 1px solid gray;flex-grow: 1;}#sk-container-id-1 div.sk-label:hover label.sk-toggleable__label {background-color: #d4ebff;}#sk-container-id-1 div.sk-serial::before {content: \"\";position: absolute;border-left: 1px solid gray;box-sizing: border-box;top: 0;bottom: 0;left: 50%;z-index: 0;}#sk-container-id-1 div.sk-serial {display: flex;flex-direction: column;align-items: center;background-color: white;padding-right: 0.2em;padding-left: 0.2em;position: relative;}#sk-container-id-1 div.sk-item {position: relative;z-index: 1;}#sk-container-id-1 div.sk-parallel {display: flex;align-items: stretch;justify-content: center;background-color: white;position: relative;}#sk-container-id-1 div.sk-item::before, #sk-container-id-1 div.sk-parallel-item::before {content: \"\";position: absolute;border-left: 1px solid gray;box-sizing: border-box;top: 0;bottom: 0;left: 50%;z-index: -1;}#sk-container-id-1 div.sk-parallel-item {display: flex;flex-direction: column;z-index: 1;position: relative;background-color: white;}#sk-container-id-1 div.sk-parallel-item:first-child::after {align-self: flex-end;width: 50%;}#sk-container-id-1 div.sk-parallel-item:last-child::after {align-self: flex-start;width: 50%;}#sk-container-id-1 div.sk-parallel-item:only-child::after {width: 0;}#sk-container-id-1 div.sk-dashed-wrapped {border: 1px dashed gray;margin: 0 0.4em 0.5em 0.4em;box-sizing: border-box;padding-bottom: 0.4em;background-color: white;}#sk-container-id-1 div.sk-label label {font-family: monospace;font-weight: bold;display: inline-block;line-height: 1.2em;}#sk-container-id-1 div.sk-label-container {text-align: center;}#sk-container-id-1 div.sk-container {/* jupyter's `normalize.less` sets `[hidden] { display: none; }` but bootstrap.min.css set `[hidden] { display: none !important; }` so we also need the `!important` here to be able to override the default hidden behavior on the sphinx rendered scikit-learn.org. See: https://github.com/scikit-learn/scikit-learn/issues/21755 */display: inline-block !important;position: relative;}#sk-container-id-1 div.sk-text-repr-fallback {display: none;}</style><div id=\"sk-container-id-1\" class=\"sk-top-container\"><div class=\"sk-text-repr-fallback\"><pre>LogisticRegression()</pre><b>In a Jupyter environment, please rerun this cell to show the HTML representation or trust the notebook. <br />On GitHub, the HTML representation is unable to render, please try loading this page with nbviewer.org.</b></div><div class=\"sk-container\" hidden><div class=\"sk-item\"><div class=\"sk-estimator sk-toggleable\"><input class=\"sk-toggleable__control sk-hidden--visually\" id=\"sk-estimator-id-1\" type=\"checkbox\" checked><label for=\"sk-estimator-id-1\" class=\"sk-toggleable__label sk-toggleable__label-arrow\">LogisticRegression</label><div class=\"sk-toggleable__content\"><pre>LogisticRegression()</pre></div></div></div></div></div>"
      ],
      "text/plain": [
       "LogisticRegression()"
      ]
     },
     "execution_count": 7,
     "metadata": {},
     "output_type": "execute_result"
    }
   ],
   "source": [
    "# [TBC] complete your code here with proper comments\n",
    "# fit the model\n",
    "\"\"\"\n",
    "clf = LogisticRegression()\n",
    "clf.fit(X_train, y_train)\n",
    "\"\"\"\n",
    "\n",
    "# Convert the continuous target into a binary classification problem\n",
    "# threshold = target_df.median()\n",
    "threshold = 2.5\n",
    "binary_target_df = (target_df > threshold).astype(int)\n",
    "# Initialize Logistic Regression model\n",
    "logistic_model = LogisticRegression()\n",
    "# Train the model\n",
    "logistic_model.fit(X_train, y_train)\n",
    "\n"
   ]
  },
  {
   "cell_type": "markdown",
   "id": "4ea1a451",
   "metadata": {},
   "source": [
    "### Task 5. Evaluate the trained model with various metrics\n",
    "\n",
    "<span style=\"color:red\">**[TBC]**</span> Please complete the following steps:\n",
    "- make predictions for the testing dataset\n",
    "- compute and visualize the confusion matrix\n",
    "- calculate accuracy, precision, recall, and F1-score\n",
    "- compute the ROC curve and AUC\n",
    "- analysis the performance of this classifier"
   ]
  },
  {
   "cell_type": "code",
   "execution_count": 8,
   "id": "b6cb82e3",
   "metadata": {},
   "outputs": [
    {
     "name": "stdout",
     "output_type": "stream",
     "text": [
      "[0 1 0 ... 0 0 0]\n",
      "[[0.85658156 0.14341844]\n",
      " [0.27806257 0.72193743]\n",
      " [0.72284767 0.27715233]\n",
      " ...\n",
      " [0.97932276 0.02067724]\n",
      " [0.56242806 0.43757194]\n",
      " [0.93858406 0.06141594]]\n",
      "[[0.85658156 0.14341844]\n",
      " [0.27806257 0.72193743]\n",
      " [0.72284767 0.27715233]\n",
      " [0.91851826 0.08148174]\n",
      " [0.37536871 0.62463129]]\n",
      "Accuracy:\t 0.8409494590666882\n",
      "Precision:\t 0.7888719512195121\n",
      "Recall:\t\t 0.5938037865748709\n",
      "F1-score:\t 0.6775777414075286\n",
      "Accuracy: 0.8409494590666882\n",
      "\n",
      "Classification Report:\n",
      "               precision    recall  f1-score   support\n",
      "\n",
      "           0       0.85      0.94      0.89      4450\n",
      "           1       0.79      0.59      0.68      1743\n",
      "\n",
      "    accuracy                           0.84      6193\n",
      "   macro avg       0.82      0.77      0.79      6193\n",
      "weighted avg       0.84      0.84      0.83      6193\n",
      "\n"
     ]
    }
   ],
   "source": [
    "# [TBC] complete your code here with proper comments\n",
    "# Predict on the test set\n",
    "y_pred = logistic_model.predict(X_test)\n",
    "print(y_pred)\n",
    "y_pred_proba = logistic_model.predict_proba(X_test)\n",
    "print(y_pred_proba)\n",
    "# Predict probability for the first five examples in the testing dataset\n",
    "y_pred_proba = logistic_model.predict_proba(X_test[:5, :])\n",
    "print(y_pred_proba)\n",
    "\n",
    "# Evaluate the model\n",
    "# calculate the metrics by sklearn\n",
    "print(\"Accuracy:\\t\", accuracy_score(y_test, y_pred))\n",
    "print(\"Precision:\\t\", precision_score(y_test, y_pred))\n",
    "print(\"Recall:\\t\\t\", recall_score(y_test, y_pred))\n",
    "print(\"F1-score:\\t\", f1_score(y_test, y_pred))\n",
    "\n",
    "print(\"Accuracy:\", accuracy_score(y_test, y_pred))\n",
    "print(\"\\nClassification Report:\\n\", classification_report(y_test, y_pred))"
   ]
  },
  {
   "cell_type": "code",
   "execution_count": 9,
   "metadata": {},
   "outputs": [
    {
     "name": "stdout",
     "output_type": "stream",
     "text": [
      "[[4173  277]\n",
      " [ 708 1035]]\n"
     ]
    },
    {
     "data": {
      "image/png": "[encoded data removed]",
      "text/plain": [
       "<Figure size 640x480 with 2 Axes>"
      ]
     },
     "metadata": {},
     "output_type": "display_data"
    }
   ],
   "source": [
    "plt.style.use('dark_background')\n",
    "# compute the confusion matrix\n",
    "cm = confusion_matrix(y_test, y_pred)\n",
    "print(cm)\n",
    "# visualize the confusion matrix\n",
    "disp = ConfusionMatrixDisplay(\n",
    "    confusion_matrix = cm,\n",
    "    display_labels = ['Normal Price', 'Expensive Price']\n",
    ")\n",
    "disp.plot(cmap='Oranges')\n",
    "plt.show()"
   ]
  },
  {
   "cell_type": "code",
   "execution_count": 10,
   "metadata": {},
   "outputs": [
    {
     "data": {
      "image/png": "[encoded data removed]",
      "text/plain": [
       "<Figure size 700x400 with 1 Axes>"
      ]
     },
     "metadata": {},
     "output_type": "display_data"
    },
    {
     "name": "stdout",
     "output_type": "stream",
     "text": [
      "AUC: 0.8829876165980133\n"
     ]
    }
   ],
   "source": [
    "from sklearn.metrics import roc_curve, auc\n",
    "# Predict probabilities on the test dataset\n",
    "y_pred_proba = logistic_model.predict_proba(X_test)[:, 1]  # Probabilities of the positive class\n",
    "\n",
    "# Compute the ROC curve\n",
    "fpr, tpr, thresholds = roc_curve(y_test, y_pred_proba)\n",
    "\n",
    "# Compute AUC\n",
    "roc_auc = auc(fpr, tpr)\n",
    "\n",
    "# Plotting the ROC curve\n",
    "plt.figure(figsize = [7, 4])\n",
    "plt.plot(fpr, tpr, color='darkorange', lw=2, label='ROC curve (area = %0.2f)' % roc_auc)\n",
    "plt.plot([0, 1], [0, 1], color='navy', lw=2, linestyle='--')\n",
    "plt.xlim([0.0, 1.0])\n",
    "plt.ylim([0.0, 1.05])\n",
    "plt.xlabel('False Positive Rate')\n",
    "plt.ylabel('True Positive Rate')\n",
    "plt.title('Receiver Operating Characteristic')\n",
    "plt.legend(loc=\"lower right\")\n",
    "plt.show()\n",
    "\n",
    "# Print AUC\n",
    "print(\"AUC:\", roc_auc)"
   ]
  },
  {
   "cell_type": "markdown",
   "id": "78aa5943",
   "metadata": {},
   "source": [
    "<span style=\"color:red\">**[TBC]**</span> Write your analysis here.\n"
   ]
  },
  {
   "cell_type": "markdown",
   "metadata": {},
   "source": [
    "#### Confusion Matrix\n",
    "The confusion matrix indicates that the model is relatively balanced in its ability to identify both classes, with a slight inclination towards false positives over false negatives.\n",
    "\n",
    "#### ROC Curve\n",
    "The ROC curve is a graphical plot that illustrates the diagnostic ability of a binary classifier system as its discrimination threshold is varied. The curve is created by plotting the true positive rate (TPR) against the false positive rate (FPR) at various threshold settings.\n",
    "\n",
    "The area under the curve (AUC) is 0.88, which is quite good. This suggests that the model has a high chance of correctly distinguishing between the 'Normal Price' and 'Expensive Price' classes.\n",
    "\n",
    "#### Performance Metrics\n",
    "- Accuracy: Approximately 84% of predictions are correct.\n",
    "- Precision: When the model predicts 'Expensive Price', it is correct about 78% of the time.\n",
    "- Recall: The model correctly identifies 59% of all 'Expensive Price' instances.\n",
    "- F1-score: The F1-score, which is a harmonic mean of precision and recall, is 67%, indicating a good balance between precision and recall.\n",
    "\n",
    "The model appears to perform consistently across both classes, as indicated by the balanced precision and recall scores for both 'Normal Price' and 'Expensive Price' predictions. This balance is also reflected in the similar F1-scores for both classes in the classification report."
   ]
  },
  {
   "cell_type": "markdown",
   "id": "be57713e",
   "metadata": {},
   "source": [
    "### Challenge. Build a multi-class classifier using Logistic Regression\n",
    "\n",
    "`sklearn.linear_model.LogisticRegression` can also be used to build a multi-class classifier.\n",
    "\n",
    "Instead of having binary class as the target, create the target labels as follows:\n",
    "- 0 represents 'Low Price', 'MedHouseVal' < 1\n",
    "- 1 represents 'Normal Price', 1 <= 'MedHouseVal' <= 2.5\n",
    "- 2 represents 'Expensive Price', 'MedHouseVal' > 2.5\n",
    "\n",
    "Read the [documentation](https://scikit-learn.org/stable/modules/generated/sklearn.linear_model.LogisticRegression.html) here and train a multi-class classifier following the one-vs-rest scheme.\n",
    "\n",
    "Compute the confusion matrix, accuracy, precision, recall, f1_score, ROC curve and AUC in the context of multi-class classification.\n",
    "\n",
    "If you get confused by the multi-class situation, read this [blog](https://www.v7labs.com/blog/confusion-matrix-guide) will help.\n",
    "\n",
    "<span style=\"color:red\">**[TBC]**</span> This challenge won't be evaluated and counted towards your grade. You may submit this assignment without solving this challenge. However, leaving this part blank is not allowed. Try to complete the code even if it doesn't meet the requirements."
   ]
  },
  {
   "cell_type": "code",
   "execution_count": 11,
   "id": "ff3929a5",
   "metadata": {},
   "outputs": [
    {
     "name": "stdout",
     "output_type": "stream",
     "text": [
      "Total target values labeled 20640\n",
      "Number of 'Low Price' class (0): 3596\n",
      "Number of 'Normal Price' class (1): 11262\n",
      "Number of 'Expensive Price' class (2): 5782\n"
     ]
    },
    {
     "name": "stderr",
     "output_type": "stream",
     "text": [
      "C:\\Users\\Jhonnatan\\AppData\\Local\\Temp\\ipykernel_2276\\57549361.py:10: FutureWarning: The default dtype for empty Series will be 'object' instead of 'float64' in a future version. Specify a dtype explicitly to silence this warning.\n",
      "  new_target = pd.Series(index=target_df.index) # Initialize with the same index\n"
     ]
    }
   ],
   "source": [
    "# [TBC] complete your code here with proper comments\n",
    "from sklearn.datasets import fetch_california_housing\n",
    "\n",
    "# Assuming feature_df is already defined and contains the last 10 features\n",
    "# Load the original California housing dataset's target values\n",
    "data_California = fetch_california_housing(as_frame=True)\n",
    "target_df = data_California.target\n",
    "\n",
    "# Create a multi-class target variable based on the value of MedHouseVal\n",
    "new_target = pd.Series(index=target_df.index) # Initialize with the same index\n",
    "new_target[target_df < 1] = 0\n",
    "new_target[(target_df >= 1) & (target_df <= 2.5)] = 1\n",
    "new_target[target_df > 2.5] = 2\n",
    "\n",
    "\n",
    "# Create the multi-class target variable based on the value of MedHouseVal\n",
    "target_df = pd.cut(target_df, bins=[-float(\"inf\"), 1, 2.5, float(\"inf\")], labels=[0, 1, 2])\n",
    "\n",
    "\n",
    "# Ensure the data type is integer for the new target\n",
    "new_target = new_target.astype(int)\n",
    "# count the number of values in a Pandas Series\n",
    "new_target_count = new_target.count()\n",
    "print(\"Total target values labeled\",new_target_count)\n",
    "\n",
    "# Check the balance of the newly created classes\n",
    "print(\"Number of 'Low Price' class (0):\", sum(new_target == 0))\n",
    "print(\"Number of 'Normal Price' class (1):\", sum(new_target == 1))\n",
    "print(\"Number of 'Expensive Price' class (2):\", sum(new_target == 2))"
   ]
  },
  {
   "cell_type": "markdown",
   "metadata": {},
   "source": [
    "# Spliting the Dataset on Training and Testing "
   ]
  },
  {
   "cell_type": "code",
   "execution_count": 12,
   "metadata": {},
   "outputs": [
    {
     "name": "stdout",
     "output_type": "stream",
     "text": [
      "Size of training dataset: 14447\n",
      "Size of testing dataset: 6193\n"
     ]
    }
   ],
   "source": [
    "# Select the last 10 columns as input features\n",
    "feature_df = feature_df[feature_df.columns[-10:]]\n",
    "\n",
    "# Split the dataset into training and testing sets\n",
    "X_train, X_test, y_train, y_test = train_test_split(\n",
    "    feature_df,\n",
    "    target_df,\n",
    "    train_size=0.7,\n",
    "    shuffle=True,\n",
    "    random_state=0\n",
    ")\n",
    "\n",
    "print(\"Size of training dataset:\", len(X_train))\n",
    "print(\"Size of testing dataset:\", len(X_test))"
   ]
  },
  {
   "cell_type": "markdown",
   "metadata": {},
   "source": [
    "# Multi-class classifier model"
   ]
  },
  {
   "cell_type": "markdown",
   "metadata": {},
   "source": [
    "### Train a multi-class classifier following the one-vs-rest scheme."
   ]
  },
  {
   "cell_type": "code",
   "execution_count": 13,
   "metadata": {},
   "outputs": [
    {
     "data": {
      "text/html": [
       "<style>#sk-container-id-2 {color: black;background-color: white;}#sk-container-id-2 pre{padding: 0;}#sk-container-id-2 div.sk-toggleable {background-color: white;}#sk-container-id-2 label.sk-toggleable__label {cursor: pointer;display: block;width: 100%;margin-bottom: 0;padding: 0.3em;box-sizing: border-box;text-align: center;}#sk-container-id-2 label.sk-toggleable__label-arrow:before {content: \"▸\";float: left;margin-right: 0.25em;color: #696969;}#sk-container-id-2 label.sk-toggleable__label-arrow:hover:before {color: black;}#sk-container-id-2 div.sk-estimator:hover label.sk-toggleable__label-arrow:before {color: black;}#sk-container-id-2 div.sk-toggleable__content {max-height: 0;max-width: 0;overflow: hidden;text-align: left;background-color: #f0f8ff;}#sk-container-id-2 div.sk-toggleable__content pre {margin: 0.2em;color: black;border-radius: 0.25em;background-color: #f0f8ff;}#sk-container-id-2 input.sk-toggleable__control:checked~div.sk-toggleable__content {max-height: 200px;max-width: 100%;overflow: auto;}#sk-container-id-2 input.sk-toggleable__control:checked~label.sk-toggleable__label-arrow:before {content: \"▾\";}#sk-container-id-2 div.sk-estimator input.sk-toggleable__control:checked~label.sk-toggleable__label {background-color: #d4ebff;}#sk-container-id-2 div.sk-label input.sk-toggleable__control:checked~label.sk-toggleable__label {background-color: #d4ebff;}#sk-container-id-2 input.sk-hidden--visually {border: 0;clip: rect(1px 1px 1px 1px);clip: rect(1px, 1px, 1px, 1px);height: 1px;margin: -1px;overflow: hidden;padding: 0;position: absolute;width: 1px;}#sk-container-id-2 div.sk-estimator {font-family: monospace;background-color: #f0f8ff;border: 1px dotted black;border-radius: 0.25em;box-sizing: border-box;margin-bottom: 0.5em;}#sk-container-id-2 div.sk-estimator:hover {background-color: #d4ebff;}#sk-container-id-2 div.sk-parallel-item::after {content: \"\";width: 100%;border-bottom: 1px solid gray;flex-grow: 1;}#sk-container-id-2 div.sk-label:hover label.sk-toggleable__label {background-color: #d4ebff;}#sk-container-id-2 div.sk-serial::before {content: \"\";position: absolute;border-left: 1px solid gray;box-sizing: border-box;top: 0;bottom: 0;left: 50%;z-index: 0;}#sk-container-id-2 div.sk-serial {display: flex;flex-direction: column;align-items: center;background-color: white;padding-right: 0.2em;padding-left: 0.2em;position: relative;}#sk-container-id-2 div.sk-item {position: relative;z-index: 1;}#sk-container-id-2 div.sk-parallel {display: flex;align-items: stretch;justify-content: center;background-color: white;position: relative;}#sk-container-id-2 div.sk-item::before, #sk-container-id-2 div.sk-parallel-item::before {content: \"\";position: absolute;border-left: 1px solid gray;box-sizing: border-box;top: 0;bottom: 0;left: 50%;z-index: -1;}#sk-container-id-2 div.sk-parallel-item {display: flex;flex-direction: column;z-index: 1;position: relative;background-color: white;}#sk-container-id-2 div.sk-parallel-item:first-child::after {align-self: flex-end;width: 50%;}#sk-container-id-2 div.sk-parallel-item:last-child::after {align-self: flex-start;width: 50%;}#sk-container-id-2 div.sk-parallel-item:only-child::after {width: 0;}#sk-container-id-2 div.sk-dashed-wrapped {border: 1px dashed gray;margin: 0 0.4em 0.5em 0.4em;box-sizing: border-box;padding-bottom: 0.4em;background-color: white;}#sk-container-id-2 div.sk-label label {font-family: monospace;font-weight: bold;display: inline-block;line-height: 1.2em;}#sk-container-id-2 div.sk-label-container {text-align: center;}#sk-container-id-2 div.sk-container {/* jupyter's `normalize.less` sets `[hidden] { display: none; }` but bootstrap.min.css set `[hidden] { display: none !important; }` so we also need the `!important` here to be able to override the default hidden behavior on the sphinx rendered scikit-learn.org. See: https://github.com/scikit-learn/scikit-learn/issues/21755 */display: inline-block !important;position: relative;}#sk-container-id-2 div.sk-text-repr-fallback {display: none;}</style><div id=\"sk-container-id-2\" class=\"sk-top-container\"><div class=\"sk-text-repr-fallback\"><pre>LogisticRegression(max_iter=1000, multi_class=&#x27;ovr&#x27;)</pre><b>In a Jupyter environment, please rerun this cell to show the HTML representation or trust the notebook. <br />On GitHub, the HTML representation is unable to render, please try loading this page with nbviewer.org.</b></div><div class=\"sk-container\" hidden><div class=\"sk-item\"><div class=\"sk-estimator sk-toggleable\"><input class=\"sk-toggleable__control sk-hidden--visually\" id=\"sk-estimator-id-2\" type=\"checkbox\" checked><label for=\"sk-estimator-id-2\" class=\"sk-toggleable__label sk-toggleable__label-arrow\">LogisticRegression</label><div class=\"sk-toggleable__content\"><pre>LogisticRegression(max_iter=1000, multi_class=&#x27;ovr&#x27;)</pre></div></div></div></div></div>"
      ],
      "text/plain": [
       "LogisticRegression(max_iter=1000, multi_class='ovr')"
      ]
     },
     "execution_count": 13,
     "metadata": {},
     "output_type": "execute_result"
    }
   ],
   "source": [
    "# Initialize Logistic Regression model with one-vs-rest scheme\n",
    "logistic_model_ovr = LogisticRegression(multi_class='ovr', max_iter=1000)\n",
    "# Train the model\n",
    "logistic_model_ovr.fit(X_train, y_train)\n",
    "\n",
    "# It is initialize the LogisticRegression model with multi_class='ovr' to use the one-vs-rest approach and set max_iter=1000 to ensure convergence."
   ]
  },
  {
   "cell_type": "code",
   "execution_count": 14,
   "metadata": {},
   "outputs": [
    {
     "name": "stdout",
     "output_type": "stream",
     "text": [
      "              precision    recall  f1-score   support\n",
      "\n",
      "           0       0.70      0.34      0.46      1098\n",
      "           1       0.68      0.86      0.76      3352\n",
      "           2       0.77      0.62      0.69      1743\n",
      "\n",
      "    accuracy                           0.70      6193\n",
      "   macro avg       0.72      0.61      0.64      6193\n",
      "weighted avg       0.71      0.70      0.69      6193\n",
      "\n"
     ]
    }
   ],
   "source": [
    "# Predict on the test set\n",
    "y_pred = logistic_model_ovr.predict(X_test)\n",
    "# Evaluate the model\n",
    "print(classification_report(y_test, y_pred))"
   ]
  },
  {
   "cell_type": "markdown",
   "metadata": {},
   "source": [
    "### Compute the confusion matrix, accuracy, precision, recall, f1_score, ROC curve and AUC in the context of multi-class classification."
   ]
  },
  {
   "cell_type": "code",
   "execution_count": 15,
   "metadata": {},
   "outputs": [],
   "source": [
    "from sklearn.metrics import confusion_matrix, accuracy_score\n",
    "from sklearn.metrics import precision_score, recall_score, f1_score\n",
    "from sklearn.metrics import roc_auc_score, roc_curve\n",
    "from sklearn.preprocessing import label_binarize\n",
    "import seaborn as sns"
   ]
  },
  {
   "cell_type": "code",
   "execution_count": 16,
   "metadata": {},
   "outputs": [
    {
     "name": "stdout",
     "output_type": "stream",
     "text": [
      "Confusion Matrix:\n",
      " [[ 376  714    8]\n",
      " [ 152 2885  315]\n",
      " [   7  653 1083]]\n",
      "Accuracy: 0.7014371064104634\n",
      "Precision: [0.70280374 0.67850423 0.77027027]\n",
      "Recall: [0.3424408  0.86068019 0.62134251]\n",
      "F1-Score: [0.46050214 0.75881115 0.68783741]\n"
     ]
    },
    {
     "data": {
      "image/png": "[encoded data removed]",
      "text/plain": [
       "<Figure size 1200x600 with 2 Axes>"
      ]
     },
     "metadata": {},
     "output_type": "display_data"
    }
   ],
   "source": [
    "\n",
    "# Confusion Matrix\n",
    "conf_matrix = confusion_matrix(y_test, y_pred)\n",
    "print(\"Confusion Matrix:\\n\", conf_matrix)\n",
    "\n",
    "# Accuracy\n",
    "accuracy = accuracy_score(y_test, y_pred)\n",
    "print(\"Accuracy:\", accuracy)\n",
    "\n",
    "# Precision, Recall, F1-Score (for each class and average)\n",
    "precision = precision_score(y_test, y_pred, average=None)\n",
    "recall = recall_score(y_test, y_pred, average=None)\n",
    "f1 = f1_score(y_test, y_pred, average=None)\n",
    "print(\"Precision:\", precision)\n",
    "print(\"Recall:\", recall)\n",
    "print(\"F1-Score:\", f1)\n",
    "\n",
    "# Create the matplotlib figure and axis objects\n",
    "fig, ax = plt.subplots(figsize=(12, 6))\n",
    "\n",
    "# Create a heatmap for the confusion matrix\n",
    "sns.heatmap(conf_matrix, annot=True, ax=ax, cmap='Blues', fmt='g')\n",
    "\n",
    "# Set labels for x and y axis, as well as title\n",
    "ax.set_xlabel('Predicted labels')\n",
    "ax.set_ylabel('True labels')\n",
    "ax.set_title('Confusion Matrix')\n",
    "ax.xaxis.set_ticklabels(['Low Price', 'Normal Price', 'Expensive Price'])\n",
    "ax.yaxis.set_ticklabels(['Low Price', 'Normal Price', 'Expensive Price'])\n",
    "\n",
    "# Show the plot\n",
    "plt.show()"
   ]
  },
  {
   "cell_type": "markdown",
   "metadata": {},
   "source": [
    "Each row of the matrix represents the instances in an actual class while each column represents the instances in a predicted class. The diagonal cells (from top left to bottom right) represent the number of correct predictions for each class. The off-diagonal cells show the misclassifications.​"
   ]
  },
  {
   "cell_type": "code",
   "execution_count": 17,
   "metadata": {},
   "outputs": [
    {
     "data": {
      "image/png": "[encoded data removed]",
      "text/plain": [
       "<Figure size 640x480 with 1 Axes>"
      ]
     },
     "metadata": {},
     "output_type": "display_data"
    },
    {
     "name": "stdout",
     "output_type": "stream",
     "text": [
      "Macro-average AUC: 0.8557840177865724\n"
     ]
    }
   ],
   "source": [
    "# Binarize the output for ROC curve\n",
    "y_test_bin = label_binarize(y_test, classes=[0, 1, 2])\n",
    "y_pred_proba = logistic_model_ovr.predict_proba(X_test)\n",
    "n_classes = y_pred_proba.shape[1]\n",
    "\n",
    "# Compute ROC curve and ROC area for each class\n",
    "fpr = dict()\n",
    "tpr = dict()\n",
    "roc_auc = dict()\n",
    "for i in range(n_classes):\n",
    "    fpr[i], tpr[i], _ = roc_curve(y_test_bin[:, i], y_pred_proba[:, i])\n",
    "    roc_auc[i] = auc(fpr[i], tpr[i])\n",
    "\n",
    "# Plot all ROC curves\n",
    "plt.figure()\n",
    "for i in range(n_classes):\n",
    "    plt.plot(fpr[i], tpr[i], label=f'ROC curve of class {i} (area = {roc_auc[i]:.2f})')\n",
    "\n",
    "plt.plot([0, 1], [0, 1], 'k--')\n",
    "plt.xlim([0.0, 1.0])\n",
    "plt.ylim([0.0, 1.05])\n",
    "plt.xlabel('False Positive Rate')\n",
    "plt.ylabel('True Positive Rate')\n",
    "plt.title('Receiver Operating Characteristic for multi-class')\n",
    "plt.legend(loc=\"lower right\")\n",
    "plt.show()\n",
    "\n",
    "# A macro-average: average the AUC of each class\n",
    "roc_auc[\"macro\"] = np.mean(list(roc_auc.values()))\n",
    "print(\"Macro-average AUC:\", roc_auc[\"macro\"])"
   ]
  }
 ],
 "metadata": {
  "kernelspec": {
   "display_name": "Python 3 (ipykernel)",
   "language": "python",
   "name": "python3"
  },
  "language_info": {
   "codemirror_mode": {
    "name": "ipython",
    "version": 3
   },
   "file_extension": ".py",
   "mimetype": "text/x-python",
   "name": "python",
   "nbconvert_exporter": "python",
   "pygments_lexer": "ipython3",
   "version": "3.10.9"
  }
 },
 "nbformat": 4,
 "nbformat_minor": 5
}
