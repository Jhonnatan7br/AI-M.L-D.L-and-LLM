{
 "cells": [
  {
   "cell_type": "markdown",
   "id": "2dad449f-d002-4689-9314-dccf9f6bd6f3",
   "metadata": {},
   "source": [
    "# Exercise 05 ANN for Classification - Assignment\n",
    "\n",
    "<span style=\"color:red\">**The submission deadline of this assignment is 09/04/2024 23:59. In addition to the executed Jupyter Notebook, please also submit the saved `.pth` file of the trained ANN on Learn.**</span>\n",
    "\n",
    "## Pedagogy\n",
    "\n",
    "This notebook contains both theoretical explanations and executable cells to execute your code.\n",
    "\n",
    "When you see the <span style=\"color:red\">**[TBC]**</span> (To Be Completed) sign, it means that you need to perform an action else besides executing the cells of code that already exist. These actions can be:\n",
    "- Complete the code with proper comments\n",
    "- Respond to a question\n",
    "- Write an analysis\n",
    "- etc.\n",
    "\n",
    "## Requirement\n",
    "\n",
    "In this assignment, you are required to build a multi-class classification model using ANN.\n",
    "\n",
    "The problem to be solved is to recognize the hand-written digits:\n",
    "\n",
    "![](https://jamesmccaffrey.files.wordpress.com/2020/10/uci_digits_0_to_9-1.jpg)\n",
    "\n",
    "<span style=\"color:red\">**[TBC]**</span> Please complete the following tasks:\n",
    "- Build the data pipeline\n",
    "- Create a multi-class classification ANN\n",
    "- Train the ANN\n",
    "- Save and load the trained model\n",
    "- Make predictions and evaluation"
   ]
  },
  {
   "cell_type": "markdown",
   "id": "9cfe761e-fa25-4762-aee3-e187640004fc",
   "metadata": {},
   "source": [
    "### Import libraries"
   ]
  },
  {
   "cell_type": "code",
   "execution_count": null,
   "id": "32d73e7f-af49-48de-98c9-cda26c459509",
   "metadata": {},
   "outputs": [],
   "source": [
    "# [TBC] complete your code here with proper comments\n"
   ]
  },
  {
   "cell_type": "markdown",
   "id": "78d4c8c4-e320-4f57-9441-88c44a20ab13",
   "metadata": {},
   "source": [
    "## Task 1. Build the data pipeline\n",
    "\n",
    "The hand-written digits dataset contains images of hand-written digits: 10 classes where each class refers to a digit. Find more details in this [link](https://scikit-learn.org/stable/datasets/toy_dataset.html#digits-dataset).\n",
    "- Each hand-written digit image contains $8\\times8$ pixels, which has already been converted to an 1D array with 64 features, each feature represent the value of a pixel.\n",
    "- If you want to display the image, you need to re-converted the 1D array back to the 2D array ($8\\times8$) with `reshape()` and display with `plt.imshow()`.\n",
    "\n",
    "<span style=\"color:red\">**[TBC]**</span> You need to:\n",
    "- Use `sklearn.datasets.load_digits()` to load the hand-written digits dataset\n",
    "- Pre-process the dataset\n",
    "    - Scale numerical features with [standard scaling](https://scikit-learn.org/stable/modules/generated/sklearn.preprocessing.StandardScaler.html)\n",
    "    - encode categorical label with [one-hot encoding](https://scikit-learn.org/stable/modules/generated/sklearn.preprocessing.OneHotEncoder.html)\n",
    "- Divide the dataset into the training, valiation, and test set\n",
    "- Create `TensorDataset` instances to store the dataset\n",
    "- Create `DataLoader` instance to wrap the dataset as iterable objects\n",
    "    - Decide a proper batch size considering\n",
    "        - The available memory of your computer\n",
    "        - The desired number of batches in each epoch"
   ]
  },
  {
   "cell_type": "code",
   "execution_count": null,
   "id": "ab9c3b02-fd31-451c-b57f-a75da789c622",
   "metadata": {},
   "outputs": [],
   "source": [
    "# [TBC] complete your code here with proper comments\n"
   ]
  },
  {
   "cell_type": "markdown",
   "id": "48652daf-a08b-46fc-9b18-c000c32101e0",
   "metadata": {},
   "source": [
    "## Task 2. Create a multi-class classification ANN\n",
    "\n",
    "<span style=\"color:red\">**[TBC]**</span> You need to:\n",
    "- Create a custom class to define the structure of the network\n",
    "    - Include batch normalization layers\n",
    "    - Include dropout layers\n",
    "- Create an instance of this class as the ANN"
   ]
  },
  {
   "cell_type": "code",
   "execution_count": null,
   "id": "b9caa92b-ba3b-4690-a8bb-69217ac76c41",
   "metadata": {},
   "outputs": [],
   "source": [
    "# [TBC] complete your code here with proper comments\n"
   ]
  },
  {
   "cell_type": "markdown",
   "id": "260c9423-6c3e-4119-953b-29f3ac1ba544",
   "metadata": {},
   "source": [
    "## Task 3. Train the ANN\n",
    "\n",
    "<span style=\"color:red\">**[TBC]**</span> You need to:\n",
    "- Define a `train()` function\n",
    "    - Implement L2 regularization\n",
    "    - Implement learning rate decay\n",
    "    - Implement early stopping\n",
    "- Train the ANN\n",
    "    - Adjust the training hyper-parameters if necessary to get a good result\n",
    "- Plot the loss history of the training process\n",
    "    - Batch & epoch loss on the train set\n",
    "    - Batch & epoch loss on the validation set\n",
    "    - Train & validation epoch loss"
   ]
  },
  {
   "cell_type": "code",
   "execution_count": null,
   "id": "b87ee319-4b89-4466-9501-c96818a71b18",
   "metadata": {},
   "outputs": [],
   "source": [
    "# [TBC] complete your code here with proper comments\n"
   ]
  },
  {
   "cell_type": "markdown",
   "id": "3b43b272-161f-425a-a0e5-1fc54ca61afa",
   "metadata": {},
   "source": [
    "## Task 4. Save and load the trained model\n",
    "\n",
    "<span style=\"color:red\">**[TBC]**</span> You need to:\n",
    "- Save the trained model\n",
    "    - <span style=\"color:red\">**Don't forget to include the saved file in your submission.**</span>\n",
    "- Re-create the neural network and load the saved model"
   ]
  },
  {
   "cell_type": "code",
   "execution_count": null,
   "id": "0b96684f-63d8-44c6-97e4-4d088007d2f4",
   "metadata": {},
   "outputs": [],
   "source": [
    "# [TBC] complete your code here with proper comments\n"
   ]
  },
  {
   "cell_type": "markdown",
   "id": "7a251479-268a-42d1-9ef8-da48b244ea3c",
   "metadata": {},
   "source": [
    "## Task 5. Make predictions and evaluation\n",
    "\n",
    "<span style=\"color:red\">**[TBC]**</span> You need to:\n",
    "- Define the `test()` function\n",
    "    - Output logits, probabilities and predictions\n",
    "    - Output the loss value on the test set\n",
    "- Make predictions on the test dataset\n",
    "- Evaluate the performance\n",
    "    - Use `sklearn.metrics.classification_report()`"
   ]
  },
  {
   "cell_type": "code",
   "execution_count": null,
   "id": "76d53895-576f-4321-adba-3e6fd919df0f",
   "metadata": {},
   "outputs": [],
   "source": [
    "# [TBC] complete your code here with proper comments\n"
   ]
  }
 ],
 "metadata": {
  "kernelspec": {
   "display_name": "Python 3 (ipykernel)",
   "language": "python",
   "name": "python3"
  },
  "language_info": {
   "codemirror_mode": {
    "name": "ipython",
    "version": 3
   },
   "file_extension": ".py",
   "mimetype": "text/x-python",
   "name": "python",
   "nbconvert_exporter": "python",
   "pygments_lexer": "ipython3",
   "version": "3.11.8"
  }
 },
 "nbformat": 4,
 "nbformat_minor": 5
}
