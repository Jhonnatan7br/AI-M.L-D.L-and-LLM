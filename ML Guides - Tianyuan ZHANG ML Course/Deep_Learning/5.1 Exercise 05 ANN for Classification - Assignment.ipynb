{
 "cells": [
  {
   "cell_type": "markdown",
   "id": "2dad449f-d002-4689-9314-dccf9f6bd6f3",
   "metadata": {},
   "source": [
    "# Exercise 05 ANN for Classification - Assignment\n",
    "\n",
    "<span style=\"color:red\">**The submission deadline of this assignment is 09/04/2024 23:59. In addition to the executed Jupyter Notebook, please also submit the saved `.pth` file of the trained ANN on Learn.**</span>\n",
    "\n",
    "## Pedagogy\n",
    "\n",
    "This notebook contains both theoretical explanations and executable cells to execute your code.\n",
    "\n",
    "When you see the <span style=\"color:red\">**[TBC]**</span> (To Be Completed) sign, it means that you need to perform an action else besides executing the cells of code that already exist. These actions can be:\n",
    "- Complete the code with proper comments\n",
    "- Respond to a question\n",
    "- Write an analysis\n",
    "- etc.\n",
    "\n",
    "## Requirement\n",
    "\n",
    "In this assignment, you are required to build a multi-class classification model using ANN.\n",
    "\n",
    "The problem to be solved is to recognize the hand-written digits:\n",
    "\n",
    "![](https://jamesmccaffrey.files.wordpress.com/2020/10/uci_digits_0_to_9-1.jpg)\n",
    "\n",
    "<span style=\"color:red\">**[TBC]**</span> Please complete the following tasks:\n",
    "- Build the data pipeline\n",
    "- Create a multi-class classification ANN\n",
    "- Train the ANN\n",
    "- Save and load the trained model\n",
    "- Make predictions and evaluation"
   ]
  },
  {
   "cell_type": "markdown",
   "id": "9cfe761e-fa25-4762-aee3-e187640004fc",
   "metadata": {},
   "source": [
    "### Import libraries"
   ]
  },
  {
   "cell_type": "code",
   "execution_count": 30,
   "id": "32d73e7f-af49-48de-98c9-cda26c459509",
   "metadata": {},
   "outputs": [],
   "source": [
    "# [TBC] complete your code here with proper comments\n",
    "from sklearn.datasets import load_digits\n",
    "from sklearn.model_selection import train_test_split\n",
    "from sklearn.preprocessing import StandardScaler, OneHotEncoder\n",
    "import torch\n",
    "from torch.utils.data import TensorDataset, DataLoader\n",
    "import scipy.sparse as sp\n",
    "\n",
    "import torch.nn as nn\n",
    "import torch.optim as optim\n",
    "from torch.optim.lr_scheduler import StepLR\n",
    "\n",
    "import numpy as np\n",
    "import pandas as pd\n",
    "import matplotlib.pyplot as plt"
   ]
  },
  {
   "cell_type": "markdown",
   "id": "78d4c8c4-e320-4f57-9441-88c44a20ab13",
   "metadata": {},
   "source": [
    "## Task 1. Build the data pipeline\n",
    "\n",
    "The hand-written digits dataset contains images of hand-written digits: 10 classes where each class refers to a digit. Find more details in this [link](https://scikit-learn.org/stable/datasets/toy_dataset.html#digits-dataset).\n",
    "- Each hand-written digit image contains $8\\times8$ pixels, which has already been converted to an 1D array with 64 features, each feature represent the value of a pixel.\n",
    "- If you want to display the image, you need to re-converted the 1D array back to the 2D array ($8\\times8$) with `reshape()` and display with `plt.imshow()`.\n",
    "\n",
    "<span style=\"color:red\">**[TBC]**</span> You need to:\n",
    "- Use `sklearn.datasets.load_digits()` to load the hand-written digits dataset\n",
    "- Pre-process the dataset\n",
    "    - Scale numerical features with [standard scaling](https://scikit-learn.org/stable/modules/generated/sklearn.preprocessing.StandardScaler.html)\n",
    "    - encode categorical label with [one-hot encoding](https://scikit-learn.org/stable/modules/generated/sklearn.preprocessing.OneHotEncoder.html)\n",
    "- Divide the dataset into the training, valiation, and test set\n",
    "- Create `TensorDataset` instances to store the dataset\n",
    "- Create `DataLoader` instance to wrap the dataset as iterable objects\n",
    "    - Decide a proper batch size considering\n",
    "        - The available memory of your computer\n",
    "        - The desired number of batches in each epoch"
   ]
  },
  {
   "cell_type": "code",
   "execution_count": 14,
   "id": "ab9c3b02-fd31-451c-b57f-a75da789c622",
   "metadata": {},
   "outputs": [],
   "source": [
    "# [TBC] complete your code here with proper comments\n",
    "# Step 1: Load the dataset\n",
    "digits = load_digits()\n",
    "X, y = digits.data, digits.target\n",
    "\n",
    "# Step 2: Scale the features\n",
    "scaler = StandardScaler()\n",
    "X_scaled = scaler.fit_transform(X)"
   ]
  },
  {
   "cell_type": "code",
   "execution_count": 15,
   "id": "604d8e94",
   "metadata": {},
   "outputs": [],
   "source": [
    "# Step 3: Encode the labels\n",
    "encoder = OneHotEncoder(sparse_output=False)\n",
    "y_one_hot = encoder.fit_transform(y.reshape(-1, 1))"
   ]
  },
  {
   "cell_type": "code",
   "execution_count": 16,
   "id": "5751b614",
   "metadata": {},
   "outputs": [],
   "source": [
    "# Step 4: Split the dataset\n",
    "X_train_val, X_test, y_train_val, y_test = train_test_split(X_scaled, y_one_hot, test_size=0.2, random_state=42)\n",
    "X_train, X_val, y_train, y_val = train_test_split(X_train_val, y_train_val, test_size=0.25, random_state=42)  # 0.25 x 0.8 = 0.2\n"
   ]
  },
  {
   "cell_type": "code",
   "execution_count": 17,
   "id": "0258e056",
   "metadata": {},
   "outputs": [],
   "source": [
    "# Step 5: Convert the numpy arrays to torch tensors\n",
    "X_train_tensor = torch.tensor(X_train, dtype=torch.float32)\n",
    "y_train_tensor = torch.tensor(y_train, dtype=torch.float32)\n",
    "X_val_tensor = torch.tensor(X_val, dtype=torch.float32)\n",
    "y_val_tensor = torch.tensor(y_val, dtype=torch.float32)\n",
    "X_test_tensor = torch.tensor(X_test, dtype=torch.float32)\n",
    "y_test_tensor = torch.tensor(y_test, dtype=torch.float32)\n"
   ]
  },
  {
   "cell_type": "code",
   "execution_count": 18,
   "id": "ce76da17",
   "metadata": {},
   "outputs": [],
   "source": [
    "# Step 6: Create TensorDataset instances\n",
    "train_dataset = TensorDataset(X_train_tensor, y_train_tensor)\n",
    "val_dataset = TensorDataset(X_val_tensor, y_val_tensor)\n",
    "test_dataset = TensorDataset(X_test_tensor, y_test_tensor)\n"
   ]
  },
  {
   "cell_type": "code",
   "execution_count": 19,
   "id": "76026327",
   "metadata": {},
   "outputs": [],
   "source": [
    "# Step 7: Create DataLoader instances\n",
    "batch_size = 64  # Adjust batch size as necessary\n",
    "train_loader = DataLoader(train_dataset, batch_size=batch_size, shuffle=True)\n",
    "val_loader = DataLoader(val_dataset, batch_size=batch_size, shuffle=False)\n",
    "test_loader = DataLoader(test_dataset, batch_size=batch_size, shuffle=False)"
   ]
  },
  {
   "cell_type": "markdown",
   "id": "48652daf-a08b-46fc-9b18-c000c32101e0",
   "metadata": {},
   "source": [
    "## Task 2. Create a multi-class classification ANN\n",
    "\n",
    "<span style=\"color:red\">**[TBC]**</span> You need to:\n",
    "- Create a custom class to define the structure of the network\n",
    "    - Include batch normalization layers\n",
    "    - Include dropout layers\n",
    "- Create an instance of this class as the ANN"
   ]
  },
  {
   "cell_type": "code",
   "execution_count": 22,
   "id": "b9caa92b-ba3b-4690-a8bb-69217ac76c41",
   "metadata": {},
   "outputs": [],
   "source": [
    "# [TBC] complete your code here with proper comments\n",
    "class MultiClassClassificationANN(nn.Module):\n",
    "    def __init__(self, input_size, hidden_size, output_size, dropout_rate=0.5):\n",
    "        super(MultiClassClassificationANN, self).__init__()\n",
    "\n",
    "        # Define the architecture of the network\n",
    "        self.layer1 = nn.Linear(input_size, hidden_size)  # Input layer to first hidden layer\n",
    "        self.batch_norm1 = nn.BatchNorm1d(hidden_size)    # Batch normalization for first hidden layer\n",
    "        self.dropout1 = nn.Dropout(dropout_rate)          # Dropout layer for first hidden layer\n",
    "\n",
    "        self.layer2 = nn.Linear(hidden_size, hidden_size) # First hidden layer to second hidden layer\n",
    "        self.batch_norm2 = nn.BatchNorm1d(hidden_size)    # Batch normalization for second hidden layer\n",
    "        self.dropout2 = nn.Dropout(dropout_rate)          # Dropout layer for second hidden layer\n",
    "\n",
    "        self.layer3 = nn.Linear(hidden_size, hidden_size) # Second hidden layer to third hidden layer\n",
    "        self.batch_norm3 = nn.BatchNorm1d(hidden_size)    # Batch normalization for third hidden layer\n",
    "        self.dropout3 = nn.Dropout(dropout_rate)          # Dropout layer for third hidden layer\n",
    "\n",
    "        self.output_layer = nn.Linear(hidden_size, output_size) # Last hidden layer to output layer\n",
    "\n",
    "        # Activation function\n",
    "        self.relu = nn.ReLU()\n",
    "\n",
    "    def forward(self, x):\n",
    "        # Forward pass through the network\n",
    "        x = self.relu(self.batch_norm1(self.layer1(x)))\n",
    "        x = self.dropout1(x)\n",
    "\n",
    "        x = self.relu(self.batch_norm2(self.layer2(x)))\n",
    "        x = self.dropout2(x)\n",
    "\n",
    "        x = self.relu(self.batch_norm3(self.layer3(x)))\n",
    "        x = self.dropout3(x)\n",
    "\n",
    "        x = self.output_layer(x)\n",
    "        return x"
   ]
  },
  {
   "cell_type": "code",
   "execution_count": 23,
   "id": "107478cf",
   "metadata": {},
   "outputs": [
    {
     "name": "stdout",
     "output_type": "stream",
     "text": [
      "MultiClassClassificationANN(\n",
      "  (layer1): Linear(in_features=64, out_features=128, bias=True)\n",
      "  (batch_norm1): BatchNorm1d(128, eps=1e-05, momentum=0.1, affine=True, track_running_stats=True)\n",
      "  (dropout1): Dropout(p=0.5, inplace=False)\n",
      "  (layer2): Linear(in_features=128, out_features=128, bias=True)\n",
      "  (batch_norm2): BatchNorm1d(128, eps=1e-05, momentum=0.1, affine=True, track_running_stats=True)\n",
      "  (dropout2): Dropout(p=0.5, inplace=False)\n",
      "  (layer3): Linear(in_features=128, out_features=128, bias=True)\n",
      "  (batch_norm3): BatchNorm1d(128, eps=1e-05, momentum=0.1, affine=True, track_running_stats=True)\n",
      "  (dropout3): Dropout(p=0.5, inplace=False)\n",
      "  (output_layer): Linear(in_features=128, out_features=10, bias=True)\n",
      "  (relu): ReLU()\n",
      ")\n"
     ]
    }
   ],
   "source": [
    "# Specify the dimensions and hyperparameters\n",
    "input_size = 64  # Each image has 64 features\n",
    "hidden_size = 128  # This is a hyperparameter and can be adjusted\n",
    "output_size = 10   # There are 10 classes for the digits 0-9\n",
    "dropout_rate = 0.5 # Dropout rate of 50%\n",
    "\n",
    "# Create an instance of the ANN\n",
    "model = MultiClassClassificationANN(input_size, hidden_size, output_size, dropout_rate)\n",
    "\n",
    "# Print the model's architecture\n",
    "print(model)"
   ]
  },
  {
   "cell_type": "markdown",
   "id": "260c9423-6c3e-4119-953b-29f3ac1ba544",
   "metadata": {},
   "source": [
    "## Task 3. Train the ANN\n",
    "\n",
    "<span style=\"color:red\">**[TBC]**</span> You need to:\n",
    "- Define a `train()` function\n",
    "    - Implement L2 regularization\n",
    "    - Implement learning rate decay\n",
    "    - Implement early stopping\n",
    "- Train the ANN\n",
    "    - Adjust the training hyper-parameters if necessary to get a good result\n",
    "- Plot the loss history of the training process\n",
    "    - Batch & epoch loss on the train set\n",
    "    - Batch & epoch loss on the validation set\n",
    "    - Train & validation epoch loss"
   ]
  },
  {
   "cell_type": "code",
   "execution_count": 25,
   "id": "b87ee319-4b89-4466-9501-c96818a71b18",
   "metadata": {},
   "outputs": [],
   "source": [
    "# [TBC] complete your code here with proper comments\n",
    "# Define the train function\n",
    "def train(model, train_loader, val_loader, epochs, optimizer, loss_function, scheduler, early_stopping_patience=10):\n",
    "    best_val_loss = float('inf')\n",
    "    early_stopping_counter = 0\n",
    "\n",
    "    # To track the loss as the model trains\n",
    "    train_losses = []\n",
    "    val_losses = []\n",
    "    avg_train_losses = []\n",
    "    avg_val_losses = []\n",
    "\n",
    "    model.train()  # Prepare model for training\n",
    "    for epoch in range(epochs):\n",
    "        model.train()  # Set model to training mode\n",
    "        total_train_loss = 0\n",
    "        for X_batch, y_batch in train_loader:\n",
    "            optimizer.zero_grad()  # Clear the gradients\n",
    "            y_pred = model(X_batch)  # Forward pass\n",
    "            loss = loss_function(y_pred, y_batch)  # Compute the loss\n",
    "            loss.backward()  # Backward pass\n",
    "            optimizer.step()  # Update parameters\n",
    "            total_train_loss += loss.item()\n",
    "            train_losses.append(loss.item())\n",
    "\n",
    "        scheduler.step()  # Step the scheduler\n",
    "\n",
    "        # Validation phase\n",
    "        model.eval()  # Set the model to evaluation mode\n",
    "        total_val_loss = 0\n",
    "        with torch.no_grad():\n",
    "            for X_batch, y_batch in val_loader:\n",
    "                y_pred = model(X_batch)\n",
    "                loss = loss_function(y_pred, y_batch)\n",
    "                total_val_loss += loss.item()\n",
    "                val_losses.append(loss.item())\n",
    "\n",
    "        # Calculate average loss over an epoch\n",
    "        avg_train_loss = total_train_loss / len(train_loader)\n",
    "        avg_val_loss = total_val_loss / len(val_loader)\n",
    "        avg_train_losses.append(avg_train_loss)\n",
    "        avg_val_losses.append(avg_val_loss)\n",
    "\n",
    "        # Early stopping\n",
    "        if avg_val_loss < best_val_loss:\n",
    "            best_val_loss = avg_val_loss\n",
    "            early_stopping_counter = 0\n",
    "        else:\n",
    "            early_stopping_counter += 1\n",
    "            if early_stopping_counter >= early_stopping_patience:\n",
    "                print('Early stopping!')\n",
    "                break\n",
    "\n",
    "        # Print epoch loss\n",
    "        print(f'Epoch {epoch+1}/{epochs} \\t Training Loss: {avg_train_loss:.4f} \\t Validation Loss: {avg_val_loss:.4f}')\n",
    "\n",
    "    return model, avg_train_losses, avg_val_losses\n"
   ]
  },
  {
   "cell_type": "code",
   "execution_count": 26,
   "id": "aa5a734a",
   "metadata": {},
   "outputs": [
    {
     "name": "stdout",
     "output_type": "stream",
     "text": [
      "Epoch 1/10 \t Training Loss: 2.2767 \t Validation Loss: 2.0863\n",
      "Epoch 2/10 \t Training Loss: 1.8843 \t Validation Loss: 1.6801\n",
      "Epoch 3/10 \t Training Loss: 1.6204 \t Validation Loss: 1.3191\n",
      "Epoch 4/10 \t Training Loss: 1.3773 \t Validation Loss: 1.0660\n",
      "Epoch 5/10 \t Training Loss: 1.1565 \t Validation Loss: 0.8964\n",
      "Epoch 6/10 \t Training Loss: 1.0656 \t Validation Loss: 0.7494\n",
      "Epoch 7/10 \t Training Loss: 0.9093 \t Validation Loss: 0.6319\n",
      "Epoch 8/10 \t Training Loss: 0.8647 \t Validation Loss: 0.5336\n",
      "Epoch 9/10 \t Training Loss: 0.7320 \t Validation Loss: 0.4754\n",
      "Epoch 10/10 \t Training Loss: 0.6932 \t Validation Loss: 0.4217\n"
     ]
    }
   ],
   "source": [
    "# Initialize the loss function, optimizer, and learning rate scheduler\n",
    "loss_function = nn.CrossEntropyLoss()\n",
    "optimizer = optim.Adam(model.parameters(), lr=0.001, weight_decay=1e-5)  # L2 regularization is added here as weight_decay\n",
    "scheduler = StepLR(optimizer, step_size=1, gamma=0.95)  # Decay LR by 0.95 every epoch\n",
    "\n",
    "# Train the model\n",
    "epochs = 10  # Number of epochs to train for\n",
    "model, train_loss_history, val_loss_history = train(model, train_loader, val_loader, epochs, optimizer, loss_function, scheduler)\n"
   ]
  },
  {
   "cell_type": "code",
   "execution_count": 31,
   "id": "49e537de",
   "metadata": {},
   "outputs": [
    {
     "data": {
      "image/png": "[encoded data removed]",
      "text/plain": [
       "<Figure size 1200x600 with 1 Axes>"
      ]
     },
     "metadata": {},
     "output_type": "display_data"
    }
   ],
   "source": [
    "\n",
    "# Plot the loss history\n",
    "plt.figure(figsize=(12, 6))\n",
    "plt.plot(train_loss_history, label='Training Loss')\n",
    "plt.plot(val_loss_history, label='Validation Loss')\n",
    "plt.xlabel('Epochs')\n",
    "plt.ylabel('Loss')\n",
    "plt.legend()\n",
    "plt.show()"
   ]
  },
  {
   "cell_type": "markdown",
   "id": "3b43b272-161f-425a-a0e5-1fc54ca61afa",
   "metadata": {},
   "source": [
    "## Task 4. Save and load the trained model\n",
    "\n",
    "<span style=\"color:red\">**[TBC]**</span> You need to:\n",
    "- Save the trained model\n",
    "    - <span style=\"color:red\">**Don't forget to include the saved file in your submission.**</span>\n",
    "- Re-create the neural network and load the saved model"
   ]
  },
  {
   "cell_type": "code",
   "execution_count": 32,
   "id": "0b96684f-63d8-44c6-97e4-4d088007d2f4",
   "metadata": {},
   "outputs": [
    {
     "name": "stdout",
     "output_type": "stream",
     "text": [
      "Saved PyTorch Model State to digit_classifier1.pth\n"
     ]
    }
   ],
   "source": [
    "# [TBC] complete your code here with proper comments\n",
    "# Save model state dictionary\n",
    "file_name = 'digit_classifier1.pth'\n",
    "torch.save(model.state_dict(), file_name)\n",
    "print('Saved PyTorch Model State to ' + file_name)"
   ]
  },
  {
   "cell_type": "markdown",
   "id": "7a251479-268a-42d1-9ef8-da48b244ea3c",
   "metadata": {},
   "source": [
    "## Task 5. Make predictions and evaluation\n",
    "\n",
    "<span style=\"color:red\">**[TBC]**</span> You need to:\n",
    "- Define the `test()` function\n",
    "    - Output logits, probabilities and predictions\n",
    "    - Output the loss value on the test set\n",
    "- Make predictions on the test dataset\n",
    "- Evaluate the performance\n",
    "    - Use `sklearn.metrics.classification_report()`"
   ]
  },
  {
   "cell_type": "code",
   "execution_count": null,
   "id": "76d53895-576f-4321-adba-3e6fd919df0f",
   "metadata": {},
   "outputs": [],
   "source": [
    "# [TBC] complete your code here with proper comments\n"
   ]
  }
 ],
 "metadata": {
  "kernelspec": {
   "display_name": "Python 3 (ipykernel)",
   "language": "python",
   "name": "python3"
  },
  "language_info": {
   "codemirror_mode": {
    "name": "ipython",
    "version": 3
   },
   "file_extension": ".py",
   "mimetype": "text/x-python",
   "name": "python",
   "nbconvert_exporter": "python",
   "pygments_lexer": "ipython3",
   "version": "3.11.4"
  }
 },
 "nbformat": 4,
 "nbformat_minor": 5
}
