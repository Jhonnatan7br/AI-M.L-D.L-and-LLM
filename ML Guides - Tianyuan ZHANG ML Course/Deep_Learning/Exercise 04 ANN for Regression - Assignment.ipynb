{
 "cells": [
  {
   "cell_type": "markdown",
   "id": "c3aac1f3-e0ab-4a46-9826-69ca6e338ecc",
   "metadata": {},
   "source": [
    "# Exercise 04 ANN for Regression - Assignment\n",
    "\n",
    "<span style=\"color:red\">**The submission deadline of this assignment is 09/04/2024 23:59. In addition to the executed Jupyter Notebook, please also submit the saved `.pth` file of the trained ANN on Learn.**</span>\n",
    "\n",
    "## Pedagogy\n",
    "\n",
    "This notebook contains both theoretical explanations and executable cells to execute your code.\n",
    "\n",
    "When you see the <span style=\"color:red\">**[TBC]**</span> (To Be Completed) sign, it means that you need to perform an action else besides executing the cells of code that already exist. These actions can be:\n",
    "- Complete the code with proper comments\n",
    "- Respond to a question\n",
    "- Write an analysis\n",
    "- etc.\n",
    "\n",
    "## Requirement\n",
    "\n",
    "In this assignment, you are required to build a regression model using ANN.\n",
    "\n",
    "The problem to be solved is predicting the price of houses in California.\n",
    "\n",
    "<span style=\"color:red\">**[TBC]**</span> Please complete the following tasks:\n",
    "- Build the data pipeline\n",
    "- Create a non-linear multi-layer ANN\n",
    "- Train the ANN\n",
    "- Save and load the trained model\n",
    "- Make predictions and evaluation"
   ]
  },
  {
   "cell_type": "markdown",
   "id": "0eb21d37-dff1-48e0-92c3-b58539252a7f",
   "metadata": {},
   "source": [
    "### Import libraries"
   ]
  },
  {
   "cell_type": "code",
   "execution_count": null,
   "id": "41ab7646-9697-4109-bb28-efdf1d59afe8",
   "metadata": {},
   "outputs": [],
   "source": [
    "# [TBC] complete your code here with proper comments\n",
    "# import the necessary libraries\n",
    "import warnings\n",
    "\n",
    "import torch\n",
    "import numpy as np\n",
    "import pandas as pd\n",
    "import matplotlib.pyplot as plt\n",
    "\n",
    "from sklearn import datasets\n",
    "from sklearn.metrics import mean_squared_error, r2_score\n",
    "from sklearn.preprocessing import MinMaxScaler\n",
    "from sklearn.model_selection import train_test_split\n",
    "\n",
    "from torch import nn\n",
    "from torch.utils.data import TensorDataset, DataLoader"
   ]
  },
  {
   "cell_type": "code",
   "execution_count": null,
   "id": "40739356-dc0f-4edd-842a-8e63d1d03f36",
   "metadata": {},
   "outputs": [],
   "source": [
    "# [TBC] complete your code here with proper comments\n",
    "# suppress all warnings\n",
    "warnings.filterwarnings(\"ignore\")"
   ]
  },
  {
   "cell_type": "markdown",
   "id": "bd77e66d-e6b7-49bd-808a-711d10ee463d",
   "metadata": {},
   "source": [
    "## Task 1. Build the data pipeline\n",
    "\n",
    "<span style=\"color:red\">**[TBC]**</span> You need to:\n",
    "- Use `sklearn.datasets.fetch_california_housing()` to load California Housing dataset\n",
    "- Pre-process the dataset\n",
    "    - Scale numerical features with [min-max scaling](https://scikit-learn.org/stable/modules/generated/sklearn.preprocessing.MinMaxScaler.html)\n",
    "- Divide the dataset into the training and test set\n",
    "- Create `TensorDataset` instances to store the dataset\n",
    "- Create `DataLoader` instance to wrap the dataset as iterable objects\n",
    "    - Decide a proper batch size considering\n",
    "        - The available memory of your computer\n",
    "        - The desired number of batches in each epoch"
   ]
  },
  {
   "cell_type": "code",
   "execution_count": null,
   "id": "299f1dff-757c-47be-8928-95aa30eac0d6",
   "metadata": {},
   "outputs": [],
   "source": [
    "# [TBC] complete your code here with proper comments\n"
   ]
  },
  {
   "cell_type": "markdown",
   "id": "29d54728-ac94-49f3-a93f-6df997efb9af",
   "metadata": {},
   "source": [
    "## Task 2. Create a non-linear multi-layer ANN\n",
    "\n",
    "<span style=\"color:red\">**[TBC]**</span> You need to:\n",
    "- Create a custom class to define the structure of the network\n",
    "- Create an instance of this class as the ANN"
   ]
  },
  {
   "cell_type": "code",
   "execution_count": null,
   "id": "b4e21472-93c4-4b52-abbb-31f6f584e592",
   "metadata": {},
   "outputs": [],
   "source": [
    "# [TBC] complete your code here with proper comments\n"
   ]
  },
  {
   "cell_type": "markdown",
   "id": "3099e79b-bfeb-4053-b12e-39973d3c483d",
   "metadata": {},
   "source": [
    "## Task 3. Train the ANN\n",
    "\n",
    "<span style=\"color:red\">**[TBC]**</span> You need to:\n",
    "- Define a `train()` function\n",
    "- Specify traing hyper-parameters:\n",
    "    - the loss function\n",
    "    - the optimizer\n",
    "    - the learning rate\n",
    "    - the number of epoches to train\n",
    "- Train the ANN\n",
    "    - Adjust the training hyper-parameters if necessary to get a good result\n",
    "- Plot the loss history of the training process"
   ]
  },
  {
   "cell_type": "code",
   "execution_count": null,
   "id": "53de4eb6-cfca-4da0-a68d-51dd991d63bd",
   "metadata": {},
   "outputs": [],
   "source": [
    "# [TBC] complete your code here with proper comments\n"
   ]
  },
  {
   "cell_type": "markdown",
   "id": "d71b1b2f-a2df-49ea-a44b-792b31a4642b",
   "metadata": {},
   "source": [
    "## Task 4. Save and load the trained model\n",
    "\n",
    "<span style=\"color:red\">**[TBC]**</span> You need to:\n",
    "- Save the trained model\n",
    "    - <span style=\"color:red\">**Don't forget to include the saved file in your submission.**</span>\n",
    "- Re-create the neural network and load the saved model"
   ]
  },
  {
   "cell_type": "code",
   "execution_count": null,
   "id": "d59b07da-22b6-4cdb-9278-6a1fbe20544f",
   "metadata": {},
   "outputs": [],
   "source": [
    "# [TBC] complete your code here with proper comments\n"
   ]
  },
  {
   "cell_type": "markdown",
   "id": "91827ed2-5354-46a5-b4e4-e50914a0dbf6",
   "metadata": {},
   "source": [
    "## Task 5. Make predictions and evaluation\n",
    "\n",
    "<span style=\"color:red\">**[TBC]**</span> You need to:\n",
    "- Define the `test()` function\n",
    "- Make predictions on the test dataset\n",
    "- Evaluate the performance\n",
    "    - Compute RMSE and print it\n",
    "    - Compute &R^2& score and print it\n",
    "- Plot the predictions vs. target values"
   ]
  },
  {
   "cell_type": "code",
   "execution_count": null,
   "id": "64485944-63a6-4414-aaf0-35428ef42d6f",
   "metadata": {},
   "outputs": [],
   "source": [
    "# [TBC] complete your code here with proper comments\n"
   ]
  }
 ],
 "metadata": {
  "kernelspec": {
   "display_name": "Python 3 (ipykernel)",
   "language": "python",
   "name": "python3"
  },
  "language_info": {
   "codemirror_mode": {
    "name": "ipython",
    "version": 3
   },
   "file_extension": ".py",
   "mimetype": "text/x-python",
   "name": "python",
   "nbconvert_exporter": "python",
   "pygments_lexer": "ipython3",
   "version": "3.11.8"
  }
 },
 "nbformat": 4,
 "nbformat_minor": 5
}
