{
 "cells": [
  {
   "cell_type": "markdown",
   "id": "c3aac1f3-e0ab-4a46-9826-69ca6e338ecc",
   "metadata": {},
   "source": [
    "# Exercise 04 ANN for Regression - Assignment\n",
    "\n",
    "<span style=\"color:red\">**The submission deadline of this assignment is 09/04/2024 23:59. In addition to the executed Jupyter Notebook, please also submit the saved `.pth` file of the trained ANN on Learn.**</span>\n",
    "\n",
    "## Pedagogy\n",
    "\n",
    "This notebook contains both theoretical explanations and executable cells to execute your code.\n",
    "\n",
    "When you see the <span style=\"color:red\">**[TBC]**</span> (To Be Completed) sign, it means that you need to perform an action else besides executing the cells of code that already exist. These actions can be:\n",
    "- Complete the code with proper comments\n",
    "- Respond to a question\n",
    "- Write an analysis\n",
    "- etc.\n",
    "\n",
    "## Requirement\n",
    "\n",
    "In this assignment, you are required to build a regression model using ANN.\n",
    "\n",
    "The problem to be solved is predicting the price of houses in California.\n",
    "\n",
    "<span style=\"color:red\">**[TBC]**</span> Please complete the following tasks:\n",
    "- Build the data pipeline\n",
    "- Create a non-linear multi-layer ANN\n",
    "- Train the ANN\n",
    "- Save and load the trained model\n",
    "- Make predictions and evaluation"
   ]
  },
  {
   "cell_type": "markdown",
   "id": "0eb21d37-dff1-48e0-92c3-b58539252a7f",
   "metadata": {},
   "source": [
    "### Import libraries"
   ]
  },
  {
   "cell_type": "code",
   "execution_count": 6,
   "id": "41ab7646-9697-4109-bb28-efdf1d59afe8",
   "metadata": {},
   "outputs": [],
   "source": [
    "# [TBC] complete your code here with proper comments\n",
    "# import the necessary libraries\n",
    "import warnings\n",
    "\n",
    "import torch\n",
    "import numpy as np\n",
    "import pandas as pd\n",
    "import matplotlib.pyplot as plt\n",
    "\n",
    "from sklearn import datasets\n",
    "from sklearn.metrics import mean_squared_error, r2_score\n",
    "from sklearn.preprocessing import MinMaxScaler\n",
    "from sklearn.model_selection import train_test_split\n",
    "from sklearn.datasets import fetch_california_housing\n",
    "from sklearn.model_selection import train_test_split\n",
    "from sklearn.preprocessing import MinMaxScaler\n",
    "\n",
    "from torch import nn\n",
    "from torch.utils.data import TensorDataset, DataLoader"
   ]
  },
  {
   "cell_type": "code",
   "execution_count": 4,
   "id": "40739356-dc0f-4edd-842a-8e63d1d03f36",
   "metadata": {},
   "outputs": [],
   "source": [
    "# [TBC] complete your code here with proper comments\n",
    "# suppress all warnings\n",
    "warnings.filterwarnings(\"ignore\")"
   ]
  },
  {
   "cell_type": "markdown",
   "id": "bd77e66d-e6b7-49bd-808a-711d10ee463d",
   "metadata": {},
   "source": [
    "## Task 1. Build the data pipeline\n",
    "\n",
    "<span style=\"color:red\">**[TBC]**</span> You need to:\n",
    "- Use `sklearn.datasets.fetch_california_housing()` to load California Housing dataset\n",
    "- Pre-process the dataset\n",
    "    - Scale numerical features with [min-max scaling](https://scikit-learn.org/stable/modules/generated/sklearn.preprocessing.MinMaxScaler.html)\n",
    "- Divide the dataset into the training and test set\n",
    "- Create `TensorDataset` instances to store the dataset\n",
    "- Create `DataLoader` instance to wrap the dataset as iterable objects\n",
    "    - Decide a proper batch size considering\n",
    "        - The available memory of your computer\n",
    "        - The desired number of batches in each epoch"
   ]
  },
  {
   "cell_type": "code",
   "execution_count": 11,
   "id": "299f1dff-757c-47be-8928-95aa30eac0d6",
   "metadata": {},
   "outputs": [
    {
     "name": "stdout",
     "output_type": "stream",
     "text": [
      "Data pipeline setup complete!\n",
      "torch.Size([64, 8])\n",
      "torch.Size([64])\n",
      "torch.Size([64, 8])\n",
      "torch.Size([64])\n"
     ]
    }
   ],
   "source": [
    "# [TBC] complete your code here with proper comments\n",
    "\n",
    "# Load the California Housing dataset\n",
    "data = fetch_california_housing()\n",
    "X, y = data.data, data.target\n",
    "\n",
    "# Pre-process the dataset with Min-Max scaling\n",
    "scaler = MinMaxScaler()\n",
    "X_scaled = scaler.fit_transform(X)\n",
    "\n",
    "# Divide the dataset into the training and test set\n",
    "X_train, X_test, y_train, y_test = train_test_split(X_scaled, y, test_size=0.2, random_state=42)\n",
    "\n",
    "# Convert to TensorDataset\n",
    "train_dataset = TensorDataset(torch.tensor(X_train, dtype=torch.float32), torch.tensor(y_train, dtype=torch.float32))\n",
    "test_dataset = TensorDataset(torch.tensor(X_test, dtype=torch.float32), torch.tensor(y_test, dtype=torch.float32))\n",
    "\n",
    "# Create DataLoader instances\n",
    "batch_size = 64  # Adjust based on system's specification \n",
    "train_loader = DataLoader(train_dataset, batch_size=batch_size, shuffle=True)\n",
    "test_loader = DataLoader(test_dataset, batch_size=batch_size, shuffle=False)\n",
    "\n",
    "print(\"Data pipeline setup complete!\")\n",
    "\n",
    "# get a minibatch from the data loader and print shape of feature and label\n",
    "for (X, y) in train_loader:\n",
    "    print(X.shape)\n",
    "    print(y.shape)\n",
    "    break\n",
    "\n",
    "for (X, y) in test_loader:\n",
    "    print(X.shape)\n",
    "    print(y.shape)\n",
    "    break\n"
   ]
  },
  {
   "cell_type": "markdown",
   "id": "29d54728-ac94-49f3-a93f-6df997efb9af",
   "metadata": {},
   "source": [
    "## Task 2. Create a non-linear multi-layer ANN\n",
    "\n",
    "<span style=\"color:red\">**[TBC]**</span> You need to:\n",
    "- Create a custom class to define the structure of the network\n",
    "- Create an instance of this class as the ANN"
   ]
  },
  {
   "cell_type": "code",
   "execution_count": 12,
   "id": "b4e21472-93c4-4b52-abbb-31f6f584e592",
   "metadata": {},
   "outputs": [
    {
     "name": "stdout",
     "output_type": "stream",
     "text": [
      "Model structure created:\n",
      "HousePriceNet(\n",
      "  (hidden_layers): ModuleList(\n",
      "    (0): Linear(in_features=8, out_features=128, bias=True)\n",
      "    (1): Linear(in_features=128, out_features=64, bias=True)\n",
      "  )\n",
      "  (output_layer): Linear(in_features=64, out_features=1, bias=True)\n",
      ")\n"
     ]
    }
   ],
   "source": [
    "# [TBC] complete your code here with proper comments\n",
    "import torch.nn as nn\n",
    "import torch.nn.functional as F\n",
    "\n",
    "# Step 1: Define the network structure\n",
    "class HousePriceNet(nn.Module):\n",
    "    def __init__(self, input_size, hidden_sizes, output_size):\n",
    "        super(HousePriceNet, self).__init__()\n",
    "        # Initialize the layers\n",
    "        self.hidden_layers = nn.ModuleList([nn.Linear(input_size, hidden_sizes[0])])\n",
    "        self.hidden_layers.extend([nn.Linear(hidden_sizes[i], hidden_sizes[i + 1]) for i in range(len(hidden_sizes) - 1)])\n",
    "        self.output_layer = nn.Linear(hidden_sizes[-1], output_size)\n",
    "\n",
    "    def forward(self, x):\n",
    "        # Forward pass through the hidden layers with ReLU activation\n",
    "        for layer in self.hidden_layers:\n",
    "            x = F.relu(layer(x))\n",
    "        # Output layer\n",
    "        x = self.output_layer(x)\n",
    "        return x\n",
    "\n",
    "# Step 2: Create an instance of the ANN\n",
    "input_size = X_train.shape[1]  # Number of features in the dataset\n",
    "hidden_sizes = [128, 64]  # Sizes of the hidden layers\n",
    "output_size = 1  # Output size (predicting one value)\n",
    "\n",
    "# Create the network instance\n",
    "model = HousePriceNet(input_size, hidden_sizes, output_size)\n",
    "\n",
    "print(\"Model structure created:\")\n",
    "print(model)\n"
   ]
  },
  {
   "cell_type": "markdown",
   "id": "3099e79b-bfeb-4053-b12e-39973d3c483d",
   "metadata": {},
   "source": [
    "## Task 3. Train the ANN\n",
    "\n",
    "<span style=\"color:red\">**[TBC]**</span> You need to:\n",
    "- Define a `train()` function\n",
    "- Specify traing hyper-parameters:\n",
    "    - the loss function\n",
    "    - the optimizer\n",
    "    - the learning rate\n",
    "    - the number of epoches to train\n",
    "- Train the ANN\n",
    "    - Adjust the training hyper-parameters if necessary to get a good result\n",
    "- Plot the loss history of the training process"
   ]
  },
  {
   "cell_type": "code",
   "execution_count": 20,
   "id": "53de4eb6-cfca-4da0-a68d-51dd991d63bd",
   "metadata": {},
   "outputs": [
    {
     "name": "stdout",
     "output_type": "stream",
     "text": [
      "Epoch 1/5, Loss: 0.3083425760269165\n"
     ]
    },
    {
     "data": {
      "image/png": "[encoded data removed]",
      "text/plain": [
       "<Figure size 640x480 with 1 Axes>"
      ]
     },
     "metadata": {},
     "output_type": "display_data"
    }
   ],
   "source": [
    "# [TBC] complete your code here with proper comments\n",
    "import torch.optim as optim\n",
    "import matplotlib.pyplot as plt\n",
    "\n",
    "def train(model, train_loader, loss_function, optimizer, num_epochs):\n",
    "    model.train()  # Set the model to training mode\n",
    "    loss_history = []\n",
    "\n",
    "    for epoch in range(num_epochs):\n",
    "        for inputs, targets in train_loader:\n",
    "            # Zero the gradients\n",
    "            optimizer.zero_grad()\n",
    "\n",
    "            # Forward pass\n",
    "            outputs = model(inputs)\n",
    "            loss = loss_function(outputs, targets.unsqueeze(1))  # Make sure the target shape matches output\n",
    "\n",
    "            # Backward pass and optimize\n",
    "            loss.backward()\n",
    "            optimizer.step()\n",
    "\n",
    "            loss_history.append(loss.item())\n",
    "        \n",
    "        if epoch % 10 == 0:\n",
    "            print(f'Epoch {epoch+1}/{num_epochs}, Loss: {loss.item()}')\n",
    "\n",
    "    return loss_history\n",
    "\n",
    "# Hyperparameters\n",
    "learning_rate = 0.2 # Lower due to capacity of personal computer\n",
    "num_epochs = 5 # Lower due to capacity of personal computer\n",
    "\n",
    "# Loss function and optimizer\n",
    "loss_function = nn.MSELoss()\n",
    "optimizer = optim.Adam(model.parameters(), lr=learning_rate)\n",
    "\n",
    "# Train the model\n",
    "loss_history = train(model, train_loader, loss_function, optimizer, num_epochs)\n",
    "\n",
    "# Plot the loss history\n",
    "plt.plot(loss_history)\n",
    "plt.title('Training Loss History')\n",
    "plt.xlabel('Iterations')\n",
    "plt.ylabel('Loss')\n",
    "plt.show()\n"
   ]
  },
  {
   "cell_type": "markdown",
   "id": "d71b1b2f-a2df-49ea-a44b-792b31a4642b",
   "metadata": {},
   "source": [
    "## Task 4. Save and load the trained model\n",
    "\n",
    "<span style=\"color:red\">**[TBC]**</span> You need to:\n",
    "- Save the trained model\n",
    "    - <span style=\"color:red\">**Don't forget to include the saved file in your submission.**</span>\n",
    "- Re-create the neural network and load the saved model"
   ]
  },
  {
   "cell_type": "code",
   "execution_count": 21,
   "id": "d59b07da-22b6-4cdb-9278-6a1fbe20544f",
   "metadata": {},
   "outputs": [
    {
     "name": "stdout",
     "output_type": "stream",
     "text": [
      "Model saved successfully!\n"
     ]
    }
   ],
   "source": [
    "# [TBC] complete your code here with proper comments\n",
    "# Step 1: Save the trained model\n",
    "# Look at file path\n",
    "\n",
    "model_save_path = r'C:\\Users\\Jhonnatan\\Documents\\GitHub\\ScikitLearn_Machine-Learning\\ML Guides - Tianyuan ZHANG ML Course\\Deep_Learning\\model.pth'\n",
    "torch.save(model.state_dict(), model_save_path)\n",
    "\n",
    "print(\"Model saved successfully!\")\n"
   ]
  },
  {
   "cell_type": "code",
   "execution_count": 22,
   "id": "b199f0c5",
   "metadata": {},
   "outputs": [
    {
     "name": "stdout",
     "output_type": "stream",
     "text": [
      "Model loaded successfully!\n"
     ]
    }
   ],
   "source": [
    "# Step 2: Re-create the neural network\n",
    "# Make sure the architecture is the same as the model you trained\n",
    "model_loaded = HousePriceNet(input_size, hidden_sizes, output_size)\n",
    "\n",
    "# Step 3: Load the saved model\n",
    "# When loading the model\n",
    "model_load_path = r'C:\\Users\\Jhonnatan\\Documents\\GitHub\\ScikitLearn_Machine-Learning\\ML Guides - Tianyuan ZHANG ML Course\\Deep_Learning\\model.pth'\n",
    "model_loaded.load_state_dict(torch.load(model_load_path))\n",
    "\n",
    "print(\"Model loaded successfully!\")"
   ]
  },
  {
   "cell_type": "code",
   "execution_count": 24,
   "id": "432326dc",
   "metadata": {},
   "outputs": [
    {
     "name": "stdout",
     "output_type": "stream",
     "text": [
      "Model file not found. Please check the file path.\n"
     ]
    }
   ],
   "source": [
    "# Provide a link to download the saved model file\n",
    "import os\n",
    "\n",
    "# Get the file path\n",
    "file_path = os.path.join('/mnt/data', 'model.pth')\n",
    "\n",
    "# Check if the file exists\n",
    "if os.path.isfile(file_path):\n",
    "    print(\"The saved model file path is: \" + file_path)\n",
    "else:\n",
    "    print(\"Model file not found. Please check the file path.\")\n",
    "\n"
   ]
  },
  {
   "cell_type": "markdown",
   "id": "91827ed2-5354-46a5-b4e4-e50914a0dbf6",
   "metadata": {},
   "source": [
    "## Task 5. Make predictions and evaluation\n",
    "\n",
    "<span style=\"color:red\">**[TBC]**</span> You need to:\n",
    "- Define the `test()` function\n",
    "- Make predictions on the test dataset\n",
    "- Evaluate the performance\n",
    "    - Compute RMSE and print it\n",
    "    - Compute &R^2& score and print it\n",
    "- Plot the predictions vs. target values"
   ]
  },
  {
   "cell_type": "code",
   "execution_count": null,
   "id": "64485944-63a6-4414-aaf0-35428ef42d6f",
   "metadata": {},
   "outputs": [],
   "source": [
    "# [TBC] complete your code here with proper comments\n"
   ]
  }
 ],
 "metadata": {
  "kernelspec": {
   "display_name": "Python 3 (ipykernel)",
   "language": "python",
   "name": "python3"
  },
  "language_info": {
   "codemirror_mode": {
    "name": "ipython",
    "version": 3
   },
   "file_extension": ".py",
   "mimetype": "text/x-python",
   "name": "python",
   "nbconvert_exporter": "python",
   "pygments_lexer": "ipython3",
   "version": "3.11.4"
  }
 },
 "nbformat": 4,
 "nbformat_minor": 5
}
