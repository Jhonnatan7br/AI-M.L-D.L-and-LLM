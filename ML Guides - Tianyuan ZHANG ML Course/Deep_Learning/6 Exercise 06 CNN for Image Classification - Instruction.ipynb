{
 "cells": [
  {
   "cell_type": "markdown",
   "id": "facfc699-7696-413e-87b7-5b82553ed659",
   "metadata": {},
   "source": [
    "# Exercise 06 CNN for Image Classification - Instruction\n",
    "\n",
    "## Pedagogy\n",
    "\n",
    "This notebook serves as an instruction for implementing CNNs using PyTorch to develop image classification models.\n",
    "\n",
    "Please use this notebook as a reference and guide to complete the assignment.\n",
    "\n",
    "### Import libraries\n",
    "\n",
    "In this notebook we will use several new libraries:\n",
    "- `os` for managing the saved file of the trained model\n",
    "- `datetime` for getting time and calculate time consumed by training\n",
    "- `trochvision.datasets` for obtaining PyTorch built-in datasets\n",
    "- `torchvision.transforms` for data preprocessing using PyTorch built-in transform functions\n",
    "- `torchvision.utils.data.random_split` for splitting datasets like `sklearn.model_selection.train_test_split`"
   ]
  },
  {
   "cell_type": "code",
   "execution_count": 1,
   "id": "25767e14-fe53-42cd-a0f9-13fb9a52c1a5",
   "metadata": {},
   "outputs": [],
   "source": [
    "# import libraries\n",
    "import os\n",
    "import datetime\n",
    "import warnings\n",
    "\n",
    "import torch\n",
    "import numpy as np\n",
    "import matplotlib.pyplot as plt\n",
    "\n",
    "from sklearn import datasets as sklearn_datasets\n",
    "from sklearn.metrics import classification_report\n",
    "from sklearn.preprocessing import MinMaxScaler\n",
    "from sklearn.model_selection import train_test_split\n",
    "\n",
    "from torch import nn\n",
    "from torchvision import datasets, transforms\n",
    "from torch.utils.data import TensorDataset, DataLoader, random_split"
   ]
  },
  {
   "cell_type": "code",
   "execution_count": 2,
   "id": "b31a859b-fe3a-440b-add8-36fc50290ba2",
   "metadata": {},
   "outputs": [],
   "source": [
    "# suppress all warnings\n",
    "warnings.filterwarnings(\"ignore\")"
   ]
  },
  {
   "cell_type": "markdown",
   "id": "ac0061e3-9e86-4d48-8f97-c114ae4b6416",
   "metadata": {},
   "source": [
    "## Part 1. Hand-written Digits Recognition with CNN\n",
    "\n",
    "In this part, we will build a multi-class image classifier using CNN.\n",
    "\n",
    "The problem to be solved is to recognize the hand-written digits:\n",
    "\n",
    "![](https://jamesmccaffrey.files.wordpress.com/2020/10/uci_digits_0_to_9-1.jpg)\n",
    "\n",
    "We will use the `sklearn` built-in hand-written digits dataset in this part.\n",
    "- Each hand-written digit image contains $8\\times8$ pixels with only one channel.\n",
    "- There are 10 classes, where each class refers to one digit.\n",
    "- There are about 180 samples per class, 1797 samples in total.\n",
    "\n",
    "We will first use this small dataset to illustrate how to implement a CNN. Then we will move to a large dataset (70,000 samples) in the next part.\n",
    "\n",
    "### Step 1. Build the data pipeline\n",
    "\n",
    "In this step, we need to:\n",
    "- Use `sklearn.datasets.load_digits()` to load the hand-written digits dataset\n",
    "- Pre-process the dataset\n",
    "    - Scale numerical features with `sklearn.preprocessing.MinMaxScaler`\n",
    "    - `torch.nn.CrossEntropyLoss` implements internal one-hot encoding, no need to encode categorical labels yourself\n",
    "- Divide the dataset into the training, valiation, and test set\n",
    "- Create `TensorDataset` instances to store the dataset\n",
    "- Create `DataLoader` instance to wrap the dataset as iterable objects\n",
    "    - Decide a proper batch size considering\n",
    "        - The available memory of your computer\n",
    "        - The desired number of batches in each epoch"
   ]
  },
  {
   "cell_type": "code",
   "execution_count": 3,
   "id": "0d9ec1e3-00ad-404d-a1bc-d1b6f5cdb039",
   "metadata": {},
   "outputs": [],
   "source": [
    "# load the dataset\n",
    "feature, label = sklearn_datasets.load_digits(\n",
    "    return_X_y = True,\n",
    "    as_frame = False, # get data as numpy array\n",
    ")"
   ]
  },
  {
   "cell_type": "code",
   "execution_count": 4,
   "id": "75c9f0a8-5457-4dd9-b645-a49b54ce0936",
   "metadata": {},
   "outputs": [],
   "source": [
    "# feature scaling\n",
    "scaler = MinMaxScaler()\n",
    "scaled_feature = scaler.fit_transform(feature)"
   ]
  },
  {
   "cell_type": "code",
   "execution_count": 5,
   "id": "68cad362-aecb-4ce1-a043-6e95b7619b2d",
   "metadata": {},
   "outputs": [],
   "source": [
    "# Split the dataset into train, validation, and test sets\n",
    "train_val_feature, test_feature, train_val_label, test_label = train_test_split(\n",
    "    scaled_feature, label, test_size = 0.2, random_state = 0\n",
    ")\n",
    "train_feature, val_feature, train_label, val_label = train_test_split(\n",
    "    train_val_feature, train_val_label, test_size = 0.25, random_state = 0\n",
    ")"
   ]
  },
  {
   "cell_type": "code",
   "execution_count": 6,
   "id": "6c3d76c6-029b-4302-b1e5-4c0d6e8b32c8",
   "metadata": {},
   "outputs": [],
   "source": [
    "# create the train, validatoin, and test dataset\n",
    "# specify the type of data stored in the tensors to avoid incompatiblity\n",
    "train_ds = TensorDataset(\n",
    "    torch.tensor(train_feature.reshape(-1, 1, 8, 8), dtype = torch.float32),\n",
    "    torch.tensor(train_label, dtype = torch.long)\n",
    ")\n",
    "val_ds = TensorDataset(\n",
    "    torch.tensor(val_feature.reshape(-1, 1, 8, 8), dtype = torch.float32),\n",
    "    torch.tensor(val_label, dtype = torch.long)\n",
    ")\n",
    "test_ds = TensorDataset(\n",
    "    torch.tensor(test_feature.reshape(-1, 1, 8, 8), dtype = torch.float32),\n",
    "    torch.tensor(test_label, dtype = torch.long)\n",
    ")"
   ]
  },
  {
   "cell_type": "code",
   "execution_count": 7,
   "id": "1d9c73a7-aa70-419b-adb1-47d47aef30aa",
   "metadata": {},
   "outputs": [],
   "source": [
    "# create the train and test data loaders\n",
    "batch_size = 256 # usually set to 2 to the nth power\n",
    "train_dl = DataLoader(train_ds, batch_size = batch_size, shuffle = True)\n",
    "val_dl = DataLoader(val_ds, batch_size = batch_size, shuffle = False)\n",
    "test_dl = DataLoader(test_ds, batch_size = batch_size, shuffle = False)"
   ]
  },
  {
   "cell_type": "code",
   "execution_count": 8,
   "id": "e409e93f-05df-4163-8850-597d4affa72c",
   "metadata": {},
   "outputs": [
    {
     "name": "stdout",
     "output_type": "stream",
     "text": [
      "Feature shape: torch.Size([256, 1, 8, 8])\n",
      "Label shape: torch.Size([256])\n"
     ]
    }
   ],
   "source": [
    "# display the dimensionality of a batch\n",
    "for (X, y) in val_dl:\n",
    "    print('Feature shape:', X.shape)\n",
    "    print('Label shape:', y.shape)\n",
    "    break"
   ]
  },
  {
   "cell_type": "markdown",
   "id": "cb87fb1d-479b-4ced-9c27-865069cb5306",
   "metadata": {},
   "source": [
    "We can see the shape (batch_size, channels, height, width) of a batch of features is:\n",
    "- batch_size = 256, there are 256 samples in one batch\n",
    "- channels = 1, there are only one channel (grascale image)\n",
    "- height = 8, width = 8, theere are $8\\times8$ pixels in one image\n",
    "\n",
    "The shape (batch_size) of a batch of labels is:\n",
    "- batch_size = 256, there are 256 samples in one batch"
   ]
  },
  {
   "cell_type": "code",
   "execution_count": 9,
   "id": "12bcde0d-01ad-46f5-9460-b4199487bca2",
   "metadata": {},
   "outputs": [
    {
     "name": "stdout",
     "output_type": "stream",
     "text": [
      "The label of this hand-written digit is: 6\n"
     ]
    },
    {
     "data": {
      "image/png": "[encoded data removed]",
      "text/plain": [
       "<Figure size 640x480 with 1 Axes>"
      ]
     },
     "metadata": {},
     "output_type": "display_data"
    }
   ],
   "source": [
    "# display an example\n",
    "plt.imshow(train_ds[0][0].numpy().reshape(8, 8), cmap = 'gray')\n",
    "print('The label of this hand-written digit is:', train_ds[0][1].item())"
   ]
  },
  {
   "cell_type": "markdown",
   "id": "9fd860ce-b663-4876-b543-02737c97d135",
   "metadata": {},
   "source": [
    "### Step 2. Create a CNN image classifier\n",
    "\n",
    "In this step, we will create a CNN image classifier. To do this, we need to:\n",
    "- Specify the network structure and the forward method by defining a custom class\n",
    "- Specify the device used for computation\n",
    "    - `cpu`\n",
    "    - `mps` for MacOS with Apple Silicon\n",
    "    - `cuda` for Windows/Linux with Nvidia GPU (support CUDA)\n",
    "- Invoke the custom class to create an instance of CNN"
   ]
  },
  {
   "cell_type": "code",
   "execution_count": 10,
   "id": "0e0bbfb6-a14d-48f6-ae53-0be0a2f82f4e",
   "metadata": {},
   "outputs": [],
   "source": [
    "# define a custom neural network class\n",
    "class ImageClassifier(nn.Module):\n",
    "    def __init__(self, in_channels, n_labels):\n",
    "        super().__init__()\n",
    "        self.net = nn.Sequential(\n",
    "            nn.LazyConv2d(out_channels = 3, kernel_size = 3, stride = 1, padding = 1),\n",
    "            nn.LazyBatchNorm2d(), nn.ReLU(), nn.MaxPool2d(kernel_size = 2),\n",
    "            nn.LazyConv2d(out_channels = 9, kernel_size = 3, stride = 1, padding = 1),\n",
    "            nn.LazyBatchNorm2d(), nn.ReLU(), nn.MaxPool2d(kernel_size = 2),\n",
    "            nn.LazyConv2d(out_channels = 27, kernel_size = 3, stride = 1, padding = 1),\n",
    "            nn.LazyBatchNorm2d(), nn.ReLU(), nn.MaxPool2d(kernel_size = 2),\n",
    "            nn.Flatten(),\n",
    "            nn.LazyLinear(1000), nn.LazyBatchNorm1d(), nn.ReLU(), nn.Dropout(p = 0.5),\n",
    "            nn.LazyLinear(100), nn.LazyBatchNorm1d(), nn.ReLU(), nn.Dropout(p = 0.5),\n",
    "            nn.LazyLinear(10)\n",
    "        )\n",
    "\n",
    "    def forward(self, x):\n",
    "        return self.net(x)"
   ]
  },
  {
   "cell_type": "markdown",
   "id": "da98315f-96f3-4149-944c-cabe10d7c009",
   "metadata": {},
   "source": [
    "We can see we defined a multi-layer CNN with 3 convolutional layers and 3 fully connected layers.\n",
    "- Use `nn.Lazy...` to avoid calculating the input size yourself:\n",
    "    - Use `nn.LazyConv2d` instead of `nn.Conv2d`\n",
    "    - Use `nn.LazyBatchNorm2d` instead of `nn.BatchNorm2d`\n",
    "    - Use `nn.LazyLinear` instead of `nn.Linear`\n",
    "- Batch normalization layer is positioned before the activation function layer\n",
    "- Pooling layer is positioned after the activation function layer\n",
    "- Use `nn.Flatten` to flatten the 2D feature map into 1D feature vector\n",
    "- Dropout layer is positioned after the activation function layer and only between fully connected layers\n",
    "    - You can also add `nn.Dropout2d` between convolutional layers, which will randomly drop out the entire channel of the input feature map"
   ]
  },
  {
   "cell_type": "code",
   "execution_count": 11,
   "id": "5049815b-1a10-4a7d-b6f5-f10955d52485",
   "metadata": {},
   "outputs": [
    {
     "name": "stdout",
     "output_type": "stream",
     "text": [
      "Using mps device\n"
     ]
    }
   ],
   "source": [
    "# get cpu, gpu or mps device for computation\n",
    "device = (\n",
    "    \"cuda\"\n",
    "    if torch.cuda.is_available()\n",
    "    else \"mps\"\n",
    "    if torch.backends.mps.is_available()\n",
    "    else \"cpu\"\n",
    ")\n",
    "print(f\"Using {device} device\")"
   ]
  },
  {
   "cell_type": "code",
   "execution_count": 12,
   "id": "6cee1477-3c6a-46ad-b7bb-b73b17c5fe08",
   "metadata": {},
   "outputs": [],
   "source": [
    "# create the neural network\n",
    "model = ImageClassifier(\n",
    "    in_channels = train_ds[0][0].shape[0],\n",
    "    n_labels = 10\n",
    ").to(device)"
   ]
  },
  {
   "cell_type": "markdown",
   "id": "063ddb86-a7d4-46ac-8502-959988ffff55",
   "metadata": {},
   "source": [
    "We invoke `.to(device)` after creating the CNN instance.\n",
    "\n",
    "The default device for newly created network is CPU.\n",
    "\n",
    "We use `.to(device)` to move the network from CPU to GPU if `mps` or `cuda` is available."
   ]
  },
  {
   "cell_type": "markdown",
   "id": "167a7b64-0d79-4a73-a64a-1e90b6bcd198",
   "metadata": {},
   "source": [
    "### Step 3. Train the network\n",
    "\n",
    "In this step, we will train the previously created CNN.\n",
    "We first define a `train()` function to perform the training process, which is slightly different from the previous session:\n",
    "- The code is optimized for readability\n",
    "    - The detailed comments after each line is removed\n",
    "    - Some operations are aggregated into one-line operation\n",
    "- Model saving operation is embedded into the training process\n",
    "    - Automatic saving when achieving a better validation loss\n",
    "    - Return `saved_path` when the training process is finished for reloading the best model\n",
    "- Count and pring the time consumed by training after each epoch\n",
    "- The data batch is also moved to GPU if it's available.\n",
    "\n",
    "After defining the `train()` function, we can continue to\n",
    "- Specify the training hyper-paramters\n",
    "- Implement the training process\n",
    "- Reload the best model saved during the training process\n",
    "- Visualize the loss history"
   ]
  },
  {
   "cell_type": "code",
   "execution_count": 13,
   "id": "fc478aa5-d890-4033-b825-5b697623679f",
   "metadata": {},
   "outputs": [],
   "source": [
    "# define the training function\n",
    "def train(train_dl, val_dl, model, loss_fn, optimizer, epochs, early_stopping_patience, lr_scheduler):\n",
    "    # initialization\n",
    "    min_val_loss, patience_counter = np.inf, 0\n",
    "    saved_path, start_time = '', datetime.datetime.now()\n",
    "    # aggregate loss histories into a dictionary\n",
    "    histories = {'train_batch': [], 'train_epoch': [], 'val_batch': [], 'val_epoch': []}\n",
    "\n",
    "    for epoch in range(epochs):\n",
    "        # train\n",
    "        model.train()\n",
    "        train_epoch_loss = 0.0\n",
    "        for X, y in train_dl:\n",
    "            X, y = X.to(device), y.to(device) # move data to GPU\n",
    "            optimizer.zero_grad()\n",
    "            train_batch_loss = loss_fn(model(X), y)\n",
    "            train_batch_loss.backward()\n",
    "            optimizer.step()\n",
    "            train_epoch_loss += train_batch_loss.item()\n",
    "            histories['train_batch'].append(train_batch_loss.item())\n",
    "        train_epoch_loss /= len(train_dl)\n",
    "        histories['train_epoch'].append(train_epoch_loss)\n",
    "\n",
    "        # validation\n",
    "        model.eval()\n",
    "        val_epoch_loss = 0.0\n",
    "        with torch.no_grad():\n",
    "            for X, y in val_dl:\n",
    "                X, y = X.to(device), y.to(device) # move data to GPU\n",
    "                val_batch_loss = loss_fn(model(X), y)\n",
    "                val_epoch_loss += val_batch_loss.item()\n",
    "                histories['val_batch'].append(val_batch_loss.item())\n",
    "            val_epoch_loss /= len(val_dl)\n",
    "            histories['val_epoch'].append(val_epoch_loss)\n",
    "\n",
    "        # print log\n",
    "        end_time = datetime.datetime.now()\n",
    "        time_consumed = str(end_time - start_time).split('.')[0]\n",
    "        print(f\"Epoch {epoch + 1}: train loss = {train_epoch_loss:>5f}, val loss = {val_epoch_loss:>5f}, time consumed = {time_consumed}\")\n",
    "\n",
    "        # learning rate decay\n",
    "        current_lr = optimizer.param_groups[0]['lr']\n",
    "        lr_scheduler.step(val_epoch_loss)\n",
    "        if current_lr != optimizer.param_groups[0]['lr']:\n",
    "            print(f'Learning rate reduced after epoch {epoch+1}')\n",
    "\n",
    "        # early stopping\n",
    "        if val_epoch_loss < min_val_loss:\n",
    "            min_val_loss, patience_counter = val_epoch_loss, 0\n",
    "            # save the current model as a new minimal validation loss is achieved\n",
    "            if os.path.exists(saved_path):\n",
    "                os.remove(saved_path)\n",
    "            time_str = end_time.strftime(\"%Y-%m-%d_%H-%M-%S\")\n",
    "            saved_path = f'epoch_{epoch+1}_val_loss_{val_epoch_loss:>4f}_{time_str}.pth'\n",
    "            torch.save(model.state_dict(), saved_path)\n",
    "            print(f'Model saved after epoch {epoch+1}')\n",
    "        else:\n",
    "            patience_counter += 1\n",
    "            if patience_counter >= early_stopping_patience:\n",
    "                print('Early stopping!')\n",
    "                break\n",
    "                \n",
    "    return histories, saved_path"
   ]
  },
  {
   "cell_type": "code",
   "execution_count": 14,
   "id": "32c765d6-6e93-4273-b57f-59d126ad3d7c",
   "metadata": {},
   "outputs": [],
   "source": [
    "# define the training hyper-parameters\n",
    "loss_fn = nn.CrossEntropyLoss()\n",
    "learning_rate = 1e-1\n",
    "weight_decay = 1e-5\n",
    "optimizer = torch.optim.SGD(\n",
    "    model.parameters(),\n",
    "    lr = learning_rate,\n",
    "    weight_decay = weight_decay\n",
    ")\n",
    "epochs = 1000\n",
    "early_stopping_patience = 20\n",
    "lr_scheduler = torch.optim.lr_scheduler.ReduceLROnPlateau(\n",
    "    optimizer,\n",
    "    mode = 'min',\n",
    "    factor = 0.1,\n",
    "    patience = 5\n",
    ")"
   ]
  },
  {
   "cell_type": "code",
   "execution_count": 15,
   "id": "0cbddb22-bad5-46f6-9a9c-d9a768f618ec",
   "metadata": {
    "scrolled": true
   },
   "outputs": [
    {
     "name": "stdout",
     "output_type": "stream",
     "text": [
      "Epoch 1: train loss = 2.049979, val loss = 2.297167, time consumed = 0:00:00\n",
      "Model saved after epoch 1\n",
      "Epoch 2: train loss = 1.418772, val loss = 2.302565, time consumed = 0:00:00\n",
      "Epoch 3: train loss = 1.033169, val loss = 2.226603, time consumed = 0:00:00\n",
      "Model saved after epoch 3\n",
      "Epoch 4: train loss = 0.821447, val loss = 2.133384, time consumed = 0:00:00\n",
      "Model saved after epoch 4\n",
      "Epoch 5: train loss = 0.666573, val loss = 1.727982, time consumed = 0:00:00\n",
      "Model saved after epoch 5\n",
      "Epoch 6: train loss = 0.568374, val loss = 1.169223, time consumed = 0:00:00\n",
      "Model saved after epoch 6\n",
      "Epoch 7: train loss = 0.481822, val loss = 0.658051, time consumed = 0:00:00\n",
      "Model saved after epoch 7\n",
      "Epoch 8: train loss = 0.435849, val loss = 0.605560, time consumed = 0:00:00\n",
      "Model saved after epoch 8\n",
      "Epoch 9: train loss = 0.382642, val loss = 0.471551, time consumed = 0:00:00\n",
      "Model saved after epoch 9\n",
      "Epoch 10: train loss = 0.339843, val loss = 0.397601, time consumed = 0:00:00\n",
      "Model saved after epoch 10\n",
      "Epoch 11: train loss = 0.310985, val loss = 0.707188, time consumed = 0:00:00\n",
      "Epoch 12: train loss = 0.317366, val loss = 0.590154, time consumed = 0:00:00\n",
      "Epoch 13: train loss = 0.259536, val loss = 0.243374, time consumed = 0:00:00\n",
      "Model saved after epoch 13\n",
      "Epoch 14: train loss = 0.231252, val loss = 0.210250, time consumed = 0:00:00\n",
      "Model saved after epoch 14\n",
      "Epoch 15: train loss = 0.199295, val loss = 0.231493, time consumed = 0:00:01\n",
      "Epoch 16: train loss = 0.192641, val loss = 0.278638, time consumed = 0:00:01\n",
      "Epoch 17: train loss = 0.191824, val loss = 0.460460, time consumed = 0:00:01\n",
      "Epoch 18: train loss = 0.217391, val loss = 0.424776, time consumed = 0:00:01\n",
      "Epoch 19: train loss = 0.201464, val loss = 0.176292, time consumed = 0:00:01\n",
      "Model saved after epoch 19\n",
      "Epoch 20: train loss = 0.184560, val loss = 0.275197, time consumed = 0:00:01\n",
      "Epoch 21: train loss = 0.145187, val loss = 0.131985, time consumed = 0:00:01\n",
      "Model saved after epoch 21\n",
      "Epoch 22: train loss = 0.134234, val loss = 0.212269, time consumed = 0:00:01\n",
      "Epoch 23: train loss = 0.132147, val loss = 0.185530, time consumed = 0:00:01\n",
      "Epoch 24: train loss = 0.118559, val loss = 0.135936, time consumed = 0:00:01\n",
      "Epoch 25: train loss = 0.112162, val loss = 0.501940, time consumed = 0:00:01\n",
      "Epoch 26: train loss = 0.125719, val loss = 0.180406, time consumed = 0:00:01\n",
      "Epoch 27: train loss = 0.139400, val loss = 0.444941, time consumed = 0:00:01\n",
      "Learning rate reduced after epoch 27\n",
      "Epoch 28: train loss = 0.157638, val loss = 0.151308, time consumed = 0:00:01\n",
      "Epoch 29: train loss = 0.128126, val loss = 0.121283, time consumed = 0:00:01\n",
      "Model saved after epoch 29\n",
      "Epoch 30: train loss = 0.113227, val loss = 0.122712, time consumed = 0:00:01\n",
      "Epoch 31: train loss = 0.107500, val loss = 0.114589, time consumed = 0:00:01\n",
      "Model saved after epoch 31\n",
      "Epoch 32: train loss = 0.109215, val loss = 0.112289, time consumed = 0:00:01\n",
      "Model saved after epoch 32\n",
      "Epoch 33: train loss = 0.100354, val loss = 0.106892, time consumed = 0:00:01\n",
      "Model saved after epoch 33\n",
      "Epoch 34: train loss = 0.094217, val loss = 0.107170, time consumed = 0:00:01\n",
      "Epoch 35: train loss = 0.100362, val loss = 0.103301, time consumed = 0:00:01\n",
      "Model saved after epoch 35\n",
      "Epoch 36: train loss = 0.095360, val loss = 0.098543, time consumed = 0:00:01\n",
      "Model saved after epoch 36\n",
      "Epoch 37: train loss = 0.093014, val loss = 0.098464, time consumed = 0:00:01\n",
      "Model saved after epoch 37\n",
      "Epoch 38: train loss = 0.096777, val loss = 0.096695, time consumed = 0:00:01\n",
      "Model saved after epoch 38\n",
      "Epoch 39: train loss = 0.099265, val loss = 0.104741, time consumed = 0:00:01\n",
      "Epoch 40: train loss = 0.085945, val loss = 0.102170, time consumed = 0:00:01\n",
      "Epoch 41: train loss = 0.100762, val loss = 0.098040, time consumed = 0:00:01\n",
      "Epoch 42: train loss = 0.095119, val loss = 0.097751, time consumed = 0:00:01\n",
      "Epoch 43: train loss = 0.089877, val loss = 0.095653, time consumed = 0:00:02\n",
      "Model saved after epoch 43\n",
      "Epoch 44: train loss = 0.079294, val loss = 0.095657, time consumed = 0:00:02\n",
      "Epoch 45: train loss = 0.083066, val loss = 0.100705, time consumed = 0:00:02\n",
      "Epoch 46: train loss = 0.076230, val loss = 0.100286, time consumed = 0:00:02\n",
      "Epoch 47: train loss = 0.099835, val loss = 0.101811, time consumed = 0:00:02\n",
      "Epoch 48: train loss = 0.090670, val loss = 0.098730, time consumed = 0:00:02\n",
      "Epoch 49: train loss = 0.093971, val loss = 0.098234, time consumed = 0:00:02\n",
      "Learning rate reduced after epoch 49\n",
      "Epoch 50: train loss = 0.081989, val loss = 0.097469, time consumed = 0:00:02\n",
      "Epoch 51: train loss = 0.082565, val loss = 0.099429, time consumed = 0:00:02\n",
      "Epoch 52: train loss = 0.077266, val loss = 0.098768, time consumed = 0:00:02\n",
      "Epoch 53: train loss = 0.072742, val loss = 0.097680, time consumed = 0:00:02\n",
      "Epoch 54: train loss = 0.070307, val loss = 0.097145, time consumed = 0:00:02\n",
      "Epoch 55: train loss = 0.082182, val loss = 0.098064, time consumed = 0:00:02\n",
      "Learning rate reduced after epoch 55\n",
      "Epoch 56: train loss = 0.069500, val loss = 0.096507, time consumed = 0:00:02\n",
      "Epoch 57: train loss = 0.093744, val loss = 0.096369, time consumed = 0:00:02\n",
      "Epoch 58: train loss = 0.080359, val loss = 0.097507, time consumed = 0:00:02\n",
      "Epoch 59: train loss = 0.093213, val loss = 0.096741, time consumed = 0:00:02\n",
      "Epoch 60: train loss = 0.078766, val loss = 0.097327, time consumed = 0:00:02\n",
      "Epoch 61: train loss = 0.077286, val loss = 0.097797, time consumed = 0:00:02\n",
      "Learning rate reduced after epoch 61\n",
      "Epoch 62: train loss = 0.090330, val loss = 0.096382, time consumed = 0:00:02\n",
      "Epoch 63: train loss = 0.083856, val loss = 0.095779, time consumed = 0:00:02\n",
      "Early stopping!\n"
     ]
    },
    {
     "data": {
      "text/plain": [
       "<All keys matched successfully>"
      ]
     },
     "execution_count": 15,
     "metadata": {},
     "output_type": "execute_result"
    }
   ],
   "source": [
    "# train the neural network\n",
    "histories, saved_path = train(\n",
    "    train_dl,\n",
    "    val_dl,\n",
    "    model,\n",
    "    loss_fn,\n",
    "    optimizer,\n",
    "    epochs,\n",
    "    early_stopping_patience,\n",
    "    lr_scheduler\n",
    ")\n",
    "# reload the best model\n",
    "model.load_state_dict(torch.load(saved_path))"
   ]
  },
  {
   "cell_type": "markdown",
   "id": "d299d5f1-9565-4507-be2a-06e9c408dc44",
   "metadata": {},
   "source": [
    "We can see we reload the best model saved during the training process.\n",
    "\n",
    "This is because training will continue for several epochs (according to the early stopping patience) after the last saving.\n",
    "\n",
    "The model after training is not the best model we saved during training. We need to reload the best one."
   ]
  },
  {
   "cell_type": "code",
   "execution_count": 16,
   "id": "28437db9-55de-4e0a-aa19-8d8deaab219c",
   "metadata": {},
   "outputs": [
    {
     "data": {
      "image/png": "[encoded data removed]",
      "text/plain": [
       "<Figure size 640x480 with 1 Axes>"
      ]
     },
     "metadata": {},
     "output_type": "display_data"
    }
   ],
   "source": [
    "# plot the train loss history\n",
    "plt.figure()\n",
    "batch = np.arange(len(histories['train_batch']))\n",
    "epoch = np.arange(len(histories['train_epoch']))\n",
    "batches_per_epoch = (int(len(train_ds) / batch_size + 1))\n",
    "plt.plot(batch, histories['train_batch'], '-', label = 'batch loss')\n",
    "plt.plot(epoch * batches_per_epoch, histories['train_epoch'], '-', label = 'epoch loss')\n",
    "plt.title('train loss history')\n",
    "plt.xlabel('batch')\n",
    "plt.ylabel('train loss')\n",
    "plt.legend()\n",
    "plt.show()"
   ]
  },
  {
   "cell_type": "code",
   "execution_count": 17,
   "id": "a1688620-62d9-4e8c-aa62-74edf6e1b357",
   "metadata": {},
   "outputs": [
    {
     "data": {
      "image/png": "[encoded data removed]",
      "text/plain": [
       "<Figure size 640x480 with 1 Axes>"
      ]
     },
     "metadata": {},
     "output_type": "display_data"
    }
   ],
   "source": [
    "# plot the train loss history\n",
    "plt.figure()\n",
    "batch = np.arange(len(histories['val_batch']))\n",
    "epoch = np.arange(len(histories['val_epoch']))\n",
    "batches_per_epoch = (int(len(val_ds) / batch_size + 1))\n",
    "plt.plot(batch, histories['val_batch'], '-', label = 'batch loss')\n",
    "plt.plot(epoch * batches_per_epoch, histories['val_epoch'], '-', label = 'epoch loss')\n",
    "plt.title('validation loss history')\n",
    "plt.xlabel('batch')\n",
    "plt.ylabel('validation loss')\n",
    "plt.legend()\n",
    "plt.show()"
   ]
  },
  {
   "cell_type": "code",
   "execution_count": 18,
   "id": "b97dba52-9777-40c6-9fb9-14a4c30fffcc",
   "metadata": {},
   "outputs": [
    {
     "data": {
      "image/png": "[encoded data removed]",
      "text/plain": [
       "<Figure size 640x480 with 1 Axes>"
      ]
     },
     "metadata": {},
     "output_type": "display_data"
    }
   ],
   "source": [
    "# plot the train vs. val loss history\n",
    "plt.figure()\n",
    "plt.plot(np.arange(len(histories['train_epoch'])), histories['train_epoch'], '-', label = 'train loss')\n",
    "plt.plot(np.arange(len(histories['val_epoch'])), histories['val_epoch'], '-', label = 'val loss')\n",
    "plt.title('train vs. validation loss history')\n",
    "plt.xlabel('epoch')\n",
    "plt.ylabel('loss')\n",
    "plt.legend()\n",
    "plt.show()"
   ]
  },
  {
   "cell_type": "markdown",
   "id": "383062d8-1006-44c7-bed9-999880041fa1",
   "metadata": {},
   "source": [
    "### Step 4. Test and evaluation\n",
    "\n",
    "In this step, we define a `test()` function to make predictions on the test set.\n",
    "Similarity to the `train()` function, the `test()` function is also slightly different from the previous session:\n",
    "- The code is optimized for readability\n",
    "- The data is moved to GPU if it's available"
   ]
  },
  {
   "cell_type": "code",
   "execution_count": 19,
   "id": "da1fb8a4-ebcf-47d8-aadf-29647885f895",
   "metadata": {},
   "outputs": [],
   "source": [
    "# define a function to make predictions on test dataset and evaluate the performance\n",
    "def test(dataloader, model, loss_fn):\n",
    "    logits, probs, preds = [], [], []\n",
    "    with torch.no_grad():\n",
    "        loss = 0.0\n",
    "        for (X, y) in dataloader:\n",
    "            X, y = X.to(device), y.to(device) # move data to GPU\n",
    "            batch_logits = model(X)\n",
    "            batch_loss = loss_fn(batch_logits, y)\n",
    "            loss += batch_loss.item()\n",
    "\n",
    "            batch_probs = torch.softmax(batch_logits, dim = -1)\n",
    "            _, batch_preds = torch.max(batch_logits, 1)\n",
    "\n",
    "            logits.append(batch_logits.cpu().numpy())\n",
    "            probs.append(batch_probs.cpu().numpy())\n",
    "            preds.append(batch_preds.cpu().numpy())\n",
    "        loss /= len(dataloader)\n",
    "        print(f\"test loss = {loss}\")\n",
    "    return np.concatenate(logits), np.concatenate(probs), np.concatenate(preds), loss"
   ]
  },
  {
   "cell_type": "code",
   "execution_count": 20,
   "id": "6b6701b5-5a76-474c-b56c-530859ce4fb7",
   "metadata": {},
   "outputs": [
    {
     "name": "stdout",
     "output_type": "stream",
     "text": [
      "test loss = 0.08823436126112938\n",
      "              precision    recall  f1-score   support\n",
      "\n",
      "           0       1.00      1.00      1.00        27\n",
      "           1       0.97      0.97      0.97        35\n",
      "           2       1.00      0.97      0.99        36\n",
      "           3       1.00      0.93      0.96        29\n",
      "           4       0.94      1.00      0.97        30\n",
      "           5       0.97      0.95      0.96        40\n",
      "           6       1.00      0.98      0.99        44\n",
      "           7       0.97      0.97      0.97        39\n",
      "           8       1.00      0.97      0.99        39\n",
      "           9       0.91      1.00      0.95        41\n",
      "\n",
      "    accuracy                           0.97       360\n",
      "   macro avg       0.98      0.98      0.98       360\n",
      "weighted avg       0.98      0.97      0.98       360\n",
      "\n"
     ]
    }
   ],
   "source": [
    "# make prediction on test set and evaluate the performance\n",
    "test_logits, test_prob, test_pred, test_loss = test(test_dl, model, loss_fn)\n",
    "print(classification_report(test_label, test_pred))"
   ]
  },
  {
   "cell_type": "code",
   "execution_count": 21,
   "id": "107a131d-61f0-4021-b104-e3429add0317",
   "metadata": {},
   "outputs": [
    {
     "name": "stdout",
     "output_type": "stream",
     "text": [
      "The recognized digit is: 2\n",
      "The predicted probability is: 0.99038434\n"
     ]
    },
    {
     "data": {
      "image/png": "[encoded data removed]",
      "text/plain": [
       "<Figure size 640x480 with 1 Axes>"
      ]
     },
     "metadata": {},
     "output_type": "display_data"
    }
   ],
   "source": [
    "# display an example\n",
    "plt.imshow(test_ds[0][0].numpy().reshape(8, 8), cmap = 'gray')\n",
    "print('The recognized digit is:', test_pred[0])\n",
    "print('The predicted probability is:', test_prob[0, test_pred[0]])"
   ]
  },
  {
   "cell_type": "markdown",
   "id": "c073edd4-6388-4eec-8a3f-facf04aa8bde",
   "metadata": {},
   "source": [
    "## Part 2. Try MNIST Dataset\n",
    "\n",
    "In the previous part, we used the `sklearn` built-in dataset, which is small.\n",
    "\n",
    "To release the potential of deep learning, we usually need a large dataset.\n",
    "\n",
    "Therefore, we will use the PyTroch build-in MNIST dataset (70,000 samples) to see how the size of the dataset will change the whole process.\n",
    "\n",
    "The main difference will the increasing training time.\n",
    "\n",
    "### Step 1. Build the data pipeline\n",
    "\n",
    "Instead of using `sklearn`, we use `trochvision.datasets.MNIST` to load the MNIST dataset and split it using `torchvision.utils.data.random_split`.\n",
    "\n",
    "The PyTorch built-in MNIST dataset is already preprocessed, no need to perform feature scaling yourself.\n",
    "\n",
    "The MNIST dataset is the same but a larger version of the dataset used in Part 1.\n",
    "\n",
    "The image is stored as a $8\\times8$ 2D array, no need to reshape.\n",
    "\n",
    "You can find the PyTroch documentation [here](https://pytorch.org/vision/stable/generated/torchvision.datasets.MNIST.html#torchvision.datasets.MNIST) and more details from the [original source](http://yann.lecun.com/exdb/mnist/)."
   ]
  },
  {
   "cell_type": "code",
   "execution_count": 22,
   "id": "a77ef378-36c0-407f-8d6c-bb339076918a",
   "metadata": {},
   "outputs": [],
   "source": [
    "# load MNIST dataset\n",
    "train_val_ds = datasets.MNIST(\n",
    "    root = 'data', # store in the data folder\n",
    "    train = True, # get the train part\n",
    "    download = True,\n",
    "    transform = transforms.ToTensor()\n",
    ")\n",
    "test_ds = datasets.MNIST(\n",
    "    root = 'data', # store in the data folder\n",
    "    train = False, # get the test part\n",
    "    download = True,\n",
    "    transform = transforms.ToTensor()\n",
    ")\n",
    "train_ds, val_ds = random_split(\n",
    "    train_val_ds,\n",
    "    [0.8, 0.2] # [train size, val size]\n",
    ")"
   ]
  },
  {
   "cell_type": "code",
   "execution_count": 23,
   "id": "11f1062a-02bc-4239-bd89-55ba3b8e325c",
   "metadata": {},
   "outputs": [],
   "source": [
    "# create the train and test data loaders\n",
    "batch_size = 8192 # usually set to 2 to the nth power\n",
    "train_dl = DataLoader(train_ds, batch_size = batch_size, shuffle = True)\n",
    "val_dl = DataLoader(val_ds, batch_size = batch_size, shuffle = False)\n",
    "test_dl = DataLoader(test_ds, batch_size = batch_size, shuffle = False)"
   ]
  },
  {
   "cell_type": "code",
   "execution_count": 24,
   "id": "90a0075b-1e58-4fe5-b3dc-6200baa06236",
   "metadata": {},
   "outputs": [
    {
     "name": "stdout",
     "output_type": "stream",
     "text": [
      "The label of this hand-written digit is: 0\n"
     ]
    },
    {
     "data": {
      "image/png": "[encoded data removed]",
      "text/plain": [
       "<Figure size 640x480 with 1 Axes>"
      ]
     },
     "metadata": {},
     "output_type": "display_data"
    }
   ],
   "source": [
    "# display an example\n",
    "plt.imshow(train_ds[0][0].numpy().reshape(28, 28), cmap = 'gray')\n",
    "print('The label of this hand-written digit is:', train_ds[0][1])"
   ]
  },
  {
   "cell_type": "markdown",
   "id": "a3ac5028-ef87-493a-b3e8-05c7554c3318",
   "metadata": {},
   "source": [
    "### Step 2. Create the network\n",
    "\n",
    "We can keep using the same network structure.\n",
    "\n",
    "Here we create a new CNN instance, named as `mnist_model`."
   ]
  },
  {
   "cell_type": "code",
   "execution_count": 25,
   "id": "8c0e65d9-de27-4435-a14b-acdebf0db4d8",
   "metadata": {},
   "outputs": [],
   "source": [
    "# create the neural network\n",
    "mnist_model = ImageClassifier(\n",
    "    in_channels = train_ds[0][0].shape[0],\n",
    "    n_labels = 10\n",
    ").to(device)"
   ]
  },
  {
   "cell_type": "markdown",
   "id": "d5dc2c8b-bcd9-4fe2-b4b0-0b2cf3d5d6c5",
   "metadata": {},
   "source": [
    "### Step 3. Train the network\n",
    "\n",
    "We can keep using the same `train()` function.\n",
    "\n",
    "We will use a new optimizer (`torch.optim.Adam`) instead of (`torch.optim.SGD`).\n",
    "- `Adam` is based on `SGD` but faster, it requires less epochs\n",
    "- You can find the documentation [here](https://pytorch.org/docs/stable/generated/torch.optim.Adam.html#torch.optim.Adam)\n",
    "- Sometimes you may find `Adam` failed to reduce the loss, then you can try to switch back to `SGD`\n",
    "\n",
    "Warning: If you find the training process is too slow on your computer, switch to Google Colab.\n",
    "- Change runtime type to T4 GPU for GPU acceleration"
   ]
  },
  {
   "cell_type": "code",
   "execution_count": 26,
   "id": "b157b8e7-8612-4d14-99f7-d5ccc4631819",
   "metadata": {},
   "outputs": [],
   "source": [
    "# define the training hyper-parameters\n",
    "loss_fn = nn.CrossEntropyLoss()\n",
    "learning_rate = 1e-1\n",
    "weight_decay = 1e-5\n",
    "optimizer = torch.optim.Adam(\n",
    "    mnist_model.parameters(),\n",
    "    lr = learning_rate,\n",
    "    weight_decay = weight_decay\n",
    ")\n",
    "epochs = 1000\n",
    "early_stopping_patience = 20\n",
    "lr_scheduler = torch.optim.lr_scheduler.ReduceLROnPlateau(\n",
    "    optimizer,\n",
    "    mode = 'min',\n",
    "    factor = 0.1,\n",
    "    patience = 10\n",
    ")"
   ]
  },
  {
   "cell_type": "code",
   "execution_count": 27,
   "id": "c3b597c5-39f3-42f8-8816-39a6e1e2bdae",
   "metadata": {
    "scrolled": true
   },
   "outputs": [
    {
     "name": "stdout",
     "output_type": "stream",
     "text": [
      "Epoch 1: train loss = 2.024390, val loss = 41.597233, time consumed = 0:00:01\n",
      "Model saved after epoch 1\n",
      "Epoch 2: train loss = 0.804261, val loss = 2.728898, time consumed = 0:00:03\n",
      "Model saved after epoch 2\n",
      "Epoch 3: train loss = 0.482717, val loss = 1.503506, time consumed = 0:00:04\n",
      "Model saved after epoch 3\n",
      "Epoch 4: train loss = 0.338311, val loss = 1.248887, time consumed = 0:00:06\n",
      "Model saved after epoch 4\n",
      "Epoch 5: train loss = 0.250724, val loss = 0.764961, time consumed = 0:00:07\n",
      "Model saved after epoch 5\n",
      "Epoch 6: train loss = 0.202012, val loss = 0.375367, time consumed = 0:00:08\n",
      "Model saved after epoch 6\n",
      "Epoch 7: train loss = 0.164185, val loss = 0.150809, time consumed = 0:00:10\n",
      "Model saved after epoch 7\n",
      "Epoch 8: train loss = 0.143371, val loss = 0.103400, time consumed = 0:00:11\n",
      "Model saved after epoch 8\n",
      "Epoch 9: train loss = 0.123698, val loss = 0.098175, time consumed = 0:00:13\n",
      "Model saved after epoch 9\n",
      "Epoch 10: train loss = 0.108253, val loss = 0.075962, time consumed = 0:00:14\n",
      "Model saved after epoch 10\n",
      "Epoch 11: train loss = 0.098712, val loss = 0.070954, time consumed = 0:00:15\n",
      "Model saved after epoch 11\n",
      "Epoch 12: train loss = 0.089649, val loss = 0.071523, time consumed = 0:00:17\n",
      "Epoch 13: train loss = 0.081439, val loss = 0.077367, time consumed = 0:00:18\n",
      "Epoch 14: train loss = 0.073337, val loss = 0.070746, time consumed = 0:00:20\n",
      "Model saved after epoch 14\n",
      "Epoch 15: train loss = 0.067911, val loss = 0.070778, time consumed = 0:00:21\n",
      "Epoch 16: train loss = 0.062556, val loss = 0.073961, time consumed = 0:00:22\n",
      "Epoch 17: train loss = 0.059034, val loss = 0.080940, time consumed = 0:00:24\n",
      "Epoch 18: train loss = 0.056133, val loss = 0.065383, time consumed = 0:00:25\n",
      "Model saved after epoch 18\n",
      "Epoch 19: train loss = 0.055500, val loss = 0.088978, time consumed = 0:00:27\n",
      "Epoch 20: train loss = 0.051909, val loss = 0.058502, time consumed = 0:00:28\n",
      "Model saved after epoch 20\n",
      "Epoch 21: train loss = 0.049585, val loss = 0.078544, time consumed = 0:00:29\n",
      "Epoch 22: train loss = 0.048384, val loss = 0.071525, time consumed = 0:00:31\n",
      "Epoch 23: train loss = 0.046280, val loss = 0.074725, time consumed = 0:00:32\n",
      "Epoch 24: train loss = 0.042645, val loss = 0.072259, time consumed = 0:00:34\n",
      "Epoch 25: train loss = 0.041866, val loss = 0.078280, time consumed = 0:00:35\n",
      "Epoch 26: train loss = 0.046270, val loss = 0.085621, time consumed = 0:00:36\n",
      "Epoch 27: train loss = 0.042247, val loss = 0.069578, time consumed = 0:00:38\n",
      "Epoch 28: train loss = 0.041641, val loss = 0.055633, time consumed = 0:00:39\n",
      "Model saved after epoch 28\n",
      "Epoch 29: train loss = 0.040924, val loss = 0.071889, time consumed = 0:00:41\n",
      "Epoch 30: train loss = 0.039580, val loss = 0.069454, time consumed = 0:00:42\n",
      "Epoch 31: train loss = 0.037353, val loss = 0.056417, time consumed = 0:00:44\n",
      "Epoch 32: train loss = 0.037951, val loss = 0.055907, time consumed = 0:00:45\n",
      "Epoch 33: train loss = 0.036651, val loss = 0.057092, time consumed = 0:00:46\n",
      "Epoch 34: train loss = 0.034619, val loss = 0.096375, time consumed = 0:00:48\n",
      "Epoch 35: train loss = 0.034482, val loss = 0.051426, time consumed = 0:00:49\n",
      "Model saved after epoch 35\n",
      "Epoch 36: train loss = 0.032672, val loss = 0.054524, time consumed = 0:00:51\n",
      "Epoch 37: train loss = 0.032256, val loss = 0.086250, time consumed = 0:00:52\n",
      "Epoch 38: train loss = 0.032271, val loss = 0.071270, time consumed = 0:00:53\n",
      "Epoch 39: train loss = 0.037401, val loss = 0.058656, time consumed = 0:00:55\n",
      "Epoch 40: train loss = 0.033679, val loss = 0.060875, time consumed = 0:00:56\n",
      "Epoch 41: train loss = 0.036916, val loss = 0.069093, time consumed = 0:00:58\n",
      "Epoch 42: train loss = 0.033310, val loss = 0.078105, time consumed = 0:00:59\n",
      "Epoch 43: train loss = 0.032577, val loss = 0.065125, time consumed = 0:01:00\n",
      "Epoch 44: train loss = 0.030450, val loss = 0.062025, time consumed = 0:01:02\n",
      "Epoch 45: train loss = 0.031701, val loss = 0.063158, time consumed = 0:01:03\n",
      "Epoch 46: train loss = 0.032744, val loss = 0.069689, time consumed = 0:01:05\n",
      "Learning rate reduced after epoch 46\n",
      "Epoch 47: train loss = 0.028398, val loss = 0.052794, time consumed = 0:01:06\n",
      "Epoch 48: train loss = 0.023469, val loss = 0.052600, time consumed = 0:01:07\n",
      "Epoch 49: train loss = 0.020781, val loss = 0.050740, time consumed = 0:01:09\n",
      "Model saved after epoch 49\n",
      "Epoch 50: train loss = 0.018339, val loss = 0.045803, time consumed = 0:01:10\n",
      "Model saved after epoch 50\n",
      "Epoch 51: train loss = 0.018006, val loss = 0.046095, time consumed = 0:01:12\n",
      "Epoch 52: train loss = 0.014862, val loss = 0.045216, time consumed = 0:01:13\n",
      "Model saved after epoch 52\n",
      "Epoch 53: train loss = 0.014376, val loss = 0.045358, time consumed = 0:01:14\n",
      "Epoch 54: train loss = 0.013437, val loss = 0.045816, time consumed = 0:01:16\n",
      "Epoch 55: train loss = 0.011226, val loss = 0.045615, time consumed = 0:01:17\n",
      "Epoch 56: train loss = 0.012420, val loss = 0.045902, time consumed = 0:01:19\n",
      "Epoch 57: train loss = 0.011013, val loss = 0.046257, time consumed = 0:01:20\n",
      "Epoch 58: train loss = 0.010080, val loss = 0.048030, time consumed = 0:01:21\n",
      "Epoch 59: train loss = 0.010653, val loss = 0.049036, time consumed = 0:01:23\n",
      "Epoch 60: train loss = 0.010061, val loss = 0.049105, time consumed = 0:01:24\n",
      "Epoch 61: train loss = 0.009773, val loss = 0.048738, time consumed = 0:01:26\n",
      "Epoch 62: train loss = 0.008983, val loss = 0.048476, time consumed = 0:01:27\n",
      "Epoch 63: train loss = 0.008109, val loss = 0.048109, time consumed = 0:01:28\n",
      "Learning rate reduced after epoch 63\n",
      "Epoch 64: train loss = 0.008410, val loss = 0.048725, time consumed = 0:01:30\n",
      "Epoch 65: train loss = 0.008512, val loss = 0.049129, time consumed = 0:01:31\n",
      "Epoch 66: train loss = 0.007817, val loss = 0.049475, time consumed = 0:01:33\n",
      "Epoch 67: train loss = 0.007366, val loss = 0.049708, time consumed = 0:01:34\n",
      "Epoch 68: train loss = 0.009009, val loss = 0.049749, time consumed = 0:01:36\n",
      "Epoch 69: train loss = 0.007242, val loss = 0.049779, time consumed = 0:01:37\n",
      "Epoch 70: train loss = 0.007646, val loss = 0.049808, time consumed = 0:01:38\n",
      "Epoch 71: train loss = 0.007751, val loss = 0.049899, time consumed = 0:01:40\n",
      "Epoch 72: train loss = 0.007660, val loss = 0.049954, time consumed = 0:01:41\n",
      "Early stopping!\n"
     ]
    },
    {
     "data": {
      "text/plain": [
       "<All keys matched successfully>"
      ]
     },
     "execution_count": 27,
     "metadata": {},
     "output_type": "execute_result"
    }
   ],
   "source": [
    "# train the neural network\n",
    "histories, saved_path = train(\n",
    "    train_dl,\n",
    "    val_dl,\n",
    "    mnist_model,\n",
    "    loss_fn,\n",
    "    optimizer,\n",
    "    epochs,\n",
    "    early_stopping_patience,\n",
    "    lr_scheduler\n",
    ")\n",
    "# reload the best model\n",
    "mnist_model.load_state_dict(torch.load(saved_path))"
   ]
  },
  {
   "cell_type": "code",
   "execution_count": 28,
   "id": "83bfd884-15ab-4093-bd73-f16ee371ff3d",
   "metadata": {},
   "outputs": [
    {
     "data": {
      "image/png": "[encoded data removed]",
      "text/plain": [
       "<Figure size 640x480 with 1 Axes>"
      ]
     },
     "metadata": {},
     "output_type": "display_data"
    }
   ],
   "source": [
    "# plot the train vs. val loss history\n",
    "plt.figure()\n",
    "plt.plot(np.arange(len(histories['train_epoch'])), histories['train_epoch'], '-', label = 'train loss')\n",
    "plt.plot(np.arange(len(histories['val_epoch'])), histories['val_epoch'], '-', label = 'val loss')\n",
    "plt.title('train vs. validation loss history')\n",
    "plt.xlabel('epoch')\n",
    "plt.ylabel('loss')\n",
    "plt.legend()\n",
    "plt.show()"
   ]
  },
  {
   "cell_type": "markdown",
   "id": "e91bd6a0-267d-4ceb-aea0-8469a76a50ff",
   "metadata": {},
   "source": [
    "### Step 4. Test and evaluation\n",
    "\n",
    "We can keep using the same `test()` function."
   ]
  },
  {
   "cell_type": "code",
   "execution_count": 29,
   "id": "661cd56b-9a45-4f25-9c4b-5762bb409641",
   "metadata": {},
   "outputs": [
    {
     "name": "stdout",
     "output_type": "stream",
     "text": [
      "test loss = 0.03479157481342554\n",
      "              precision    recall  f1-score   support\n",
      "\n",
      "           0       0.99      0.99      0.99       980\n",
      "           1       0.99      1.00      0.99      1135\n",
      "           2       0.99      0.99      0.99      1032\n",
      "           3       0.99      0.99      0.99      1010\n",
      "           4       0.99      0.99      0.99       982\n",
      "           5       0.98      0.99      0.99       892\n",
      "           6       0.99      0.98      0.99       958\n",
      "           7       0.99      0.99      0.99      1028\n",
      "           8       0.98      0.99      0.98       974\n",
      "           9       0.99      0.97      0.98      1009\n",
      "\n",
      "    accuracy                           0.99     10000\n",
      "   macro avg       0.99      0.99      0.99     10000\n",
      "weighted avg       0.99      0.99      0.99     10000\n",
      "\n"
     ]
    }
   ],
   "source": [
    "# make prediction on test set and evaluate the performance\n",
    "test_logits, test_prob, test_pred, test_loss = test(test_dl, mnist_model, loss_fn)\n",
    "\n",
    "# obtain test labels\n",
    "test_label = []\n",
    "for (_, y) in test_dl:\n",
    "    test_label.extend(y.cpu().numpy())\n",
    "\n",
    "# calculate classification report\n",
    "print(classification_report(test_label, test_pred))"
   ]
  },
  {
   "cell_type": "markdown",
   "id": "05b024e6-615a-4897-bb05-3661db770076",
   "metadata": {},
   "source": [
    "We can see the accuracy is further improved with the larger dataset.\n",
    "\n",
    "This is because the larger dataset is more representative than a smaller one.\n",
    "\n",
    "Sometimes you may have a CNN that behaves better on the smaller dataset. This may be because the CNN is not complex enough to fully capture the hidden patterns in the larger dataset, then you can try to increase the capacity of yout CNN."
   ]
  },
  {
   "cell_type": "code",
   "execution_count": 30,
   "id": "b8b5a677-123a-46c9-9581-7af1844dcc57",
   "metadata": {},
   "outputs": [
    {
     "name": "stdout",
     "output_type": "stream",
     "text": [
      "The recognized digit is: 7\n",
      "The predicted probability is: 1.0\n"
     ]
    },
    {
     "data": {
      "image/png": "[encoded data removed]",
      "text/plain": [
       "<Figure size 640x480 with 1 Axes>"
      ]
     },
     "metadata": {},
     "output_type": "display_data"
    }
   ],
   "source": [
    "# display an example\n",
    "plt.imshow(test_ds[0][0].numpy().reshape(28, 28), cmap = 'gray')\n",
    "print('The recognized digit is:', test_pred[0])\n",
    "print('The predicted probability is:', test_prob[0, test_pred[0]])"
   ]
  }
 ],
 "metadata": {
  "kernelspec": {
   "display_name": "Python 3 (ipykernel)",
   "language": "python",
   "name": "python3"
  },
  "language_info": {
   "codemirror_mode": {
    "name": "ipython",
    "version": 3
   },
   "file_extension": ".py",
   "mimetype": "text/x-python",
   "name": "python",
   "nbconvert_exporter": "python",
   "pygments_lexer": "ipython3",
   "version": "3.11.8"
  }
 },
 "nbformat": 4,
 "nbformat_minor": 5
}
